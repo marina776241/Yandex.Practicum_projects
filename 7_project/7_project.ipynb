{
 "cells": [
  {
   "cell_type": "markdown",
   "metadata": {
    "toc": true
   },
   "source": [
    "<h1>Содержание<span class=\"tocSkip\"></span></h1>\n",
    "<div class=\"toc\"><ul class=\"toc-item\"><li><ul class=\"toc-item\"><li><span><a href=\"#Описание-данных\" data-toc-modified-id=\"Описание-данных-0.1\"><span class=\"toc-item-num\">0.1&nbsp;&nbsp;</span>Описание данных</a></span></li></ul></li><li><span><a href=\"#Подготовка-данных\" data-toc-modified-id=\"Подготовка-данных-1\"><span class=\"toc-item-num\">1&nbsp;&nbsp;</span>Подготовка данных</a></span><ul class=\"toc-item\"><li><span><a href=\"#Вывод\" data-toc-modified-id=\"Вывод-1.1\"><span class=\"toc-item-num\">1.1&nbsp;&nbsp;</span>Вывод</a></span></li></ul></li><li><span><a href=\"#Исследование-задачи\" data-toc-modified-id=\"Исследование-задачи-2\"><span class=\"toc-item-num\">2&nbsp;&nbsp;</span>Исследование задачи</a></span><ul class=\"toc-item\"><li><span><a href=\"#Дерево-решений\" data-toc-modified-id=\"Дерево-решений-2.1\"><span class=\"toc-item-num\">2.1&nbsp;&nbsp;</span>Дерево решений</a></span></li><li><span><a href=\"#Случайный-лес\" data-toc-modified-id=\"Случайный-лес-2.2\"><span class=\"toc-item-num\">2.2&nbsp;&nbsp;</span>Случайный лес</a></span></li><li><span><a href=\"#Логистическая-регрессия\" data-toc-modified-id=\"Логистическая-регрессия-2.3\"><span class=\"toc-item-num\">2.3&nbsp;&nbsp;</span>Логистическая регрессия</a></span></li><li><span><a href=\"#Вывод\" data-toc-modified-id=\"Вывод-2.4\"><span class=\"toc-item-num\">2.4&nbsp;&nbsp;</span>Вывод</a></span></li></ul></li><li><span><a href=\"#Борьба-с-дисбалансом\" data-toc-modified-id=\"Борьба-с-дисбалансом-3\"><span class=\"toc-item-num\">3&nbsp;&nbsp;</span>Борьба с дисбалансом</a></span><ul class=\"toc-item\"><li><span><a href=\"#Изменение-веса-классов\" data-toc-modified-id=\"Изменение-веса-классов-3.1\"><span class=\"toc-item-num\">3.1&nbsp;&nbsp;</span>Изменение веса классов</a></span></li><li><span><a href=\"#Увеличение-выборки\" data-toc-modified-id=\"Увеличение-выборки-3.2\"><span class=\"toc-item-num\">3.2&nbsp;&nbsp;</span>Увеличение выборки</a></span></li><li><span><a href=\"#Изменение-порога\" data-toc-modified-id=\"Изменение-порога-3.3\"><span class=\"toc-item-num\">3.3&nbsp;&nbsp;</span>Изменение порога</a></span></li><li><span><a href=\"#Вывод\" data-toc-modified-id=\"Вывод-3.4\"><span class=\"toc-item-num\">3.4&nbsp;&nbsp;</span>Вывод</a></span></li></ul></li><li><span><a href=\"#Тестирование-модели\" data-toc-modified-id=\"Тестирование-модели-4\"><span class=\"toc-item-num\">4&nbsp;&nbsp;</span>Тестирование модели</a></span><ul class=\"toc-item\"><li><span><a href=\"#Вывод\" data-toc-modified-id=\"Вывод-4.1\"><span class=\"toc-item-num\">4.1&nbsp;&nbsp;</span>Вывод</a></span></li></ul></li><li><span><a href=\"#Вывод\" data-toc-modified-id=\"Вывод-5\"><span class=\"toc-item-num\">5&nbsp;&nbsp;</span>Вывод</a></span></li></ul></div>"
   ]
  },
  {
   "cell_type": "markdown",
   "metadata": {},
   "source": [
    "# Отток клиентов"
   ]
  },
  {
   "cell_type": "markdown",
   "metadata": {},
   "source": [
    "Из «Бета-Банка» стали уходить клиенты. Каждый месяц. Немного, но заметно. Банковские маркетологи посчитали: сохранять текущих клиентов дешевле, чем привлекать новых.\n",
    "\n",
    "Нужно спрогнозировать, уйдёт клиент из банка в ближайшее время или нет. Вам предоставлены исторические данные о поведении клиентов и расторжении договоров с банком. \n",
    "\n",
    "Постройте модель с предельно большим значением *F1*-меры. Чтобы сдать проект успешно, нужно довести метрику до 0.59. Проверьте *F1*-меру на тестовой выборке самостоятельно.\n",
    "\n",
    "Дополнительно измеряйте *AUC-ROC*, сравнивайте её значение с *F1*-мерой.\n",
    "\n",
    "Источник данных: [https://www.kaggle.com/barelydedicated/bank-customer-churn-modeling](https://www.kaggle.com/barelydedicated/bank-customer-churn-modeling)"
   ]
  },
  {
   "cell_type": "markdown",
   "metadata": {},
   "source": [
    "### Описание данных"
   ]
  },
  {
   "cell_type": "markdown",
   "metadata": {},
   "source": [
    "Признаки\n",
    "* RowNumber — индекс строки в данных\n",
    "* CustomerId — уникальный идентификатор клиента\n",
    "* Surname — фамилия\n",
    "* CreditScore — кредитный рейтинг\n",
    "* Geography — страна проживания\n",
    "* Gender — пол\n",
    "* Age — возраст\n",
    "* Tenure — сколько лет человек является клиентом банка\n",
    "* Balance — баланс на счёте\n",
    "* NumOfProducts — количество продуктов банка, используемых клиентом\n",
    "* HasCrCard — наличие кредитной карты\n",
    "* IsActiveMember — активность клиента\n",
    "* EstimatedSalary — предполагаемая зарплата\n",
    "\n",
    "Целевой признак\n",
    "* Exited — факт ухода клиента"
   ]
  },
  {
   "cell_type": "markdown",
   "metadata": {},
   "source": [
    "## Подготовка данных"
   ]
  },
  {
   "cell_type": "code",
   "execution_count": 1,
   "metadata": {},
   "outputs": [],
   "source": [
    "# импортируем необходимые библиотеки\n",
    "import pandas as pd\n",
    "import numpy as np\n",
    "import matplotlib.pyplot as plt\n",
    "from sklearn.model_selection import train_test_split\n",
    "from sklearn.tree import DecisionTreeClassifier\n",
    "from sklearn.ensemble import RandomForestClassifier\n",
    "from sklearn.linear_model import LogisticRegression\n",
    "from sklearn.dummy import DummyClassifier\n",
    "from sklearn.metrics import f1_score, precision_score, recall_score, accuracy_score, roc_auc_score, roc_curve\n",
    "from sklearn.utils import shuffle\n",
    "from sklearn.preprocessing import StandardScaler\n",
    "pd.options.mode.chained_assignment = None\n",
    "\n",
    "import warnings\n",
    "warnings.filterwarnings('ignore')"
   ]
  },
  {
   "cell_type": "code",
   "execution_count": 2,
   "metadata": {},
   "outputs": [],
   "source": [
    "#df = pd.read_csv('Churn.csv')\n",
    "df = pd.read_csv('/datasets/Churn.csv')"
   ]
  },
  {
   "cell_type": "code",
   "execution_count": 3,
   "metadata": {},
   "outputs": [],
   "source": [
    "# Сброс ограничений на количество выводимых рядов\n",
    "pd.set_option('display.max_rows', None)\n",
    "\n",
    "# Сброс ограничений на число столбцов\n",
    "pd.set_option('display.max_columns', None)\n",
    "\n",
    "# Сброс ограничений на количество символов в записи\n",
    "pd.set_option('display.max_colwidth', None) "
   ]
  },
  {
   "cell_type": "markdown",
   "metadata": {},
   "source": [
    "Изучим датасет:"
   ]
  },
  {
   "cell_type": "code",
   "execution_count": 4,
   "metadata": {},
   "outputs": [
    {
     "name": "stdout",
     "output_type": "stream",
     "text": [
      "<class 'pandas.core.frame.DataFrame'>\n",
      "RangeIndex: 10000 entries, 0 to 9999\n",
      "Data columns (total 14 columns):\n",
      "RowNumber          10000 non-null int64\n",
      "CustomerId         10000 non-null int64\n",
      "Surname            10000 non-null object\n",
      "CreditScore        10000 non-null int64\n",
      "Geography          10000 non-null object\n",
      "Gender             10000 non-null object\n",
      "Age                10000 non-null int64\n",
      "Tenure             9091 non-null float64\n",
      "Balance            10000 non-null float64\n",
      "NumOfProducts      10000 non-null int64\n",
      "HasCrCard          10000 non-null int64\n",
      "IsActiveMember     10000 non-null int64\n",
      "EstimatedSalary    10000 non-null float64\n",
      "Exited             10000 non-null int64\n",
      "dtypes: float64(3), int64(8), object(3)\n",
      "memory usage: 1.1+ MB\n"
     ]
    },
    {
     "data": {
      "text/plain": [
       "None"
      ]
     },
     "metadata": {},
     "output_type": "display_data"
    }
   ],
   "source": [
    "display(df.info())"
   ]
  },
  {
   "cell_type": "code",
   "execution_count": 5,
   "metadata": {},
   "outputs": [
    {
     "data": {
      "text/html": [
       "<div>\n",
       "<style scoped>\n",
       "    .dataframe tbody tr th:only-of-type {\n",
       "        vertical-align: middle;\n",
       "    }\n",
       "\n",
       "    .dataframe tbody tr th {\n",
       "        vertical-align: top;\n",
       "    }\n",
       "\n",
       "    .dataframe thead th {\n",
       "        text-align: right;\n",
       "    }\n",
       "</style>\n",
       "<table border=\"1\" class=\"dataframe\">\n",
       "  <thead>\n",
       "    <tr style=\"text-align: right;\">\n",
       "      <th></th>\n",
       "      <th>RowNumber</th>\n",
       "      <th>CustomerId</th>\n",
       "      <th>Surname</th>\n",
       "      <th>CreditScore</th>\n",
       "      <th>Geography</th>\n",
       "      <th>Gender</th>\n",
       "      <th>Age</th>\n",
       "      <th>Tenure</th>\n",
       "      <th>Balance</th>\n",
       "      <th>NumOfProducts</th>\n",
       "      <th>HasCrCard</th>\n",
       "      <th>IsActiveMember</th>\n",
       "      <th>EstimatedSalary</th>\n",
       "      <th>Exited</th>\n",
       "    </tr>\n",
       "  </thead>\n",
       "  <tbody>\n",
       "    <tr>\n",
       "      <td>0</td>\n",
       "      <td>1</td>\n",
       "      <td>15634602</td>\n",
       "      <td>Hargrave</td>\n",
       "      <td>619</td>\n",
       "      <td>France</td>\n",
       "      <td>Female</td>\n",
       "      <td>42</td>\n",
       "      <td>2.0</td>\n",
       "      <td>0.00</td>\n",
       "      <td>1</td>\n",
       "      <td>1</td>\n",
       "      <td>1</td>\n",
       "      <td>101348.88</td>\n",
       "      <td>1</td>\n",
       "    </tr>\n",
       "    <tr>\n",
       "      <td>1</td>\n",
       "      <td>2</td>\n",
       "      <td>15647311</td>\n",
       "      <td>Hill</td>\n",
       "      <td>608</td>\n",
       "      <td>Spain</td>\n",
       "      <td>Female</td>\n",
       "      <td>41</td>\n",
       "      <td>1.0</td>\n",
       "      <td>83807.86</td>\n",
       "      <td>1</td>\n",
       "      <td>0</td>\n",
       "      <td>1</td>\n",
       "      <td>112542.58</td>\n",
       "      <td>0</td>\n",
       "    </tr>\n",
       "    <tr>\n",
       "      <td>2</td>\n",
       "      <td>3</td>\n",
       "      <td>15619304</td>\n",
       "      <td>Onio</td>\n",
       "      <td>502</td>\n",
       "      <td>France</td>\n",
       "      <td>Female</td>\n",
       "      <td>42</td>\n",
       "      <td>8.0</td>\n",
       "      <td>159660.80</td>\n",
       "      <td>3</td>\n",
       "      <td>1</td>\n",
       "      <td>0</td>\n",
       "      <td>113931.57</td>\n",
       "      <td>1</td>\n",
       "    </tr>\n",
       "    <tr>\n",
       "      <td>3</td>\n",
       "      <td>4</td>\n",
       "      <td>15701354</td>\n",
       "      <td>Boni</td>\n",
       "      <td>699</td>\n",
       "      <td>France</td>\n",
       "      <td>Female</td>\n",
       "      <td>39</td>\n",
       "      <td>1.0</td>\n",
       "      <td>0.00</td>\n",
       "      <td>2</td>\n",
       "      <td>0</td>\n",
       "      <td>0</td>\n",
       "      <td>93826.63</td>\n",
       "      <td>0</td>\n",
       "    </tr>\n",
       "    <tr>\n",
       "      <td>4</td>\n",
       "      <td>5</td>\n",
       "      <td>15737888</td>\n",
       "      <td>Mitchell</td>\n",
       "      <td>850</td>\n",
       "      <td>Spain</td>\n",
       "      <td>Female</td>\n",
       "      <td>43</td>\n",
       "      <td>2.0</td>\n",
       "      <td>125510.82</td>\n",
       "      <td>1</td>\n",
       "      <td>1</td>\n",
       "      <td>1</td>\n",
       "      <td>79084.10</td>\n",
       "      <td>0</td>\n",
       "    </tr>\n",
       "    <tr>\n",
       "      <td>5</td>\n",
       "      <td>6</td>\n",
       "      <td>15574012</td>\n",
       "      <td>Chu</td>\n",
       "      <td>645</td>\n",
       "      <td>Spain</td>\n",
       "      <td>Male</td>\n",
       "      <td>44</td>\n",
       "      <td>8.0</td>\n",
       "      <td>113755.78</td>\n",
       "      <td>2</td>\n",
       "      <td>1</td>\n",
       "      <td>0</td>\n",
       "      <td>149756.71</td>\n",
       "      <td>1</td>\n",
       "    </tr>\n",
       "    <tr>\n",
       "      <td>6</td>\n",
       "      <td>7</td>\n",
       "      <td>15592531</td>\n",
       "      <td>Bartlett</td>\n",
       "      <td>822</td>\n",
       "      <td>France</td>\n",
       "      <td>Male</td>\n",
       "      <td>50</td>\n",
       "      <td>7.0</td>\n",
       "      <td>0.00</td>\n",
       "      <td>2</td>\n",
       "      <td>1</td>\n",
       "      <td>1</td>\n",
       "      <td>10062.80</td>\n",
       "      <td>0</td>\n",
       "    </tr>\n",
       "    <tr>\n",
       "      <td>7</td>\n",
       "      <td>8</td>\n",
       "      <td>15656148</td>\n",
       "      <td>Obinna</td>\n",
       "      <td>376</td>\n",
       "      <td>Germany</td>\n",
       "      <td>Female</td>\n",
       "      <td>29</td>\n",
       "      <td>4.0</td>\n",
       "      <td>115046.74</td>\n",
       "      <td>4</td>\n",
       "      <td>1</td>\n",
       "      <td>0</td>\n",
       "      <td>119346.88</td>\n",
       "      <td>1</td>\n",
       "    </tr>\n",
       "    <tr>\n",
       "      <td>8</td>\n",
       "      <td>9</td>\n",
       "      <td>15792365</td>\n",
       "      <td>He</td>\n",
       "      <td>501</td>\n",
       "      <td>France</td>\n",
       "      <td>Male</td>\n",
       "      <td>44</td>\n",
       "      <td>4.0</td>\n",
       "      <td>142051.07</td>\n",
       "      <td>2</td>\n",
       "      <td>0</td>\n",
       "      <td>1</td>\n",
       "      <td>74940.50</td>\n",
       "      <td>0</td>\n",
       "    </tr>\n",
       "    <tr>\n",
       "      <td>9</td>\n",
       "      <td>10</td>\n",
       "      <td>15592389</td>\n",
       "      <td>H?</td>\n",
       "      <td>684</td>\n",
       "      <td>France</td>\n",
       "      <td>Male</td>\n",
       "      <td>27</td>\n",
       "      <td>2.0</td>\n",
       "      <td>134603.88</td>\n",
       "      <td>1</td>\n",
       "      <td>1</td>\n",
       "      <td>1</td>\n",
       "      <td>71725.73</td>\n",
       "      <td>0</td>\n",
       "    </tr>\n",
       "  </tbody>\n",
       "</table>\n",
       "</div>"
      ],
      "text/plain": [
       "   RowNumber  CustomerId   Surname  CreditScore Geography  Gender  Age  \\\n",
       "0          1    15634602  Hargrave          619    France  Female   42   \n",
       "1          2    15647311      Hill          608     Spain  Female   41   \n",
       "2          3    15619304      Onio          502    France  Female   42   \n",
       "3          4    15701354      Boni          699    France  Female   39   \n",
       "4          5    15737888  Mitchell          850     Spain  Female   43   \n",
       "5          6    15574012       Chu          645     Spain    Male   44   \n",
       "6          7    15592531  Bartlett          822    France    Male   50   \n",
       "7          8    15656148    Obinna          376   Germany  Female   29   \n",
       "8          9    15792365        He          501    France    Male   44   \n",
       "9         10    15592389        H?          684    France    Male   27   \n",
       "\n",
       "   Tenure    Balance  NumOfProducts  HasCrCard  IsActiveMember  \\\n",
       "0     2.0       0.00              1          1               1   \n",
       "1     1.0   83807.86              1          0               1   \n",
       "2     8.0  159660.80              3          1               0   \n",
       "3     1.0       0.00              2          0               0   \n",
       "4     2.0  125510.82              1          1               1   \n",
       "5     8.0  113755.78              2          1               0   \n",
       "6     7.0       0.00              2          1               1   \n",
       "7     4.0  115046.74              4          1               0   \n",
       "8     4.0  142051.07              2          0               1   \n",
       "9     2.0  134603.88              1          1               1   \n",
       "\n",
       "   EstimatedSalary  Exited  \n",
       "0        101348.88       1  \n",
       "1        112542.58       0  \n",
       "2        113931.57       1  \n",
       "3         93826.63       0  \n",
       "4         79084.10       0  \n",
       "5        149756.71       1  \n",
       "6         10062.80       0  \n",
       "7        119346.88       1  \n",
       "8         74940.50       0  \n",
       "9         71725.73       0  "
      ]
     },
     "execution_count": 5,
     "metadata": {},
     "output_type": "execute_result"
    }
   ],
   "source": [
    "df.head(10)"
   ]
  },
  {
   "cell_type": "code",
   "execution_count": 6,
   "metadata": {},
   "outputs": [
    {
     "data": {
      "text/html": [
       "<div>\n",
       "<style scoped>\n",
       "    .dataframe tbody tr th:only-of-type {\n",
       "        vertical-align: middle;\n",
       "    }\n",
       "\n",
       "    .dataframe tbody tr th {\n",
       "        vertical-align: top;\n",
       "    }\n",
       "\n",
       "    .dataframe thead th {\n",
       "        text-align: right;\n",
       "    }\n",
       "</style>\n",
       "<table border=\"1\" class=\"dataframe\">\n",
       "  <thead>\n",
       "    <tr style=\"text-align: right;\">\n",
       "      <th></th>\n",
       "      <th>RowNumber</th>\n",
       "      <th>CustomerId</th>\n",
       "      <th>CreditScore</th>\n",
       "      <th>Age</th>\n",
       "      <th>Tenure</th>\n",
       "      <th>Balance</th>\n",
       "      <th>NumOfProducts</th>\n",
       "      <th>HasCrCard</th>\n",
       "      <th>IsActiveMember</th>\n",
       "      <th>EstimatedSalary</th>\n",
       "      <th>Exited</th>\n",
       "    </tr>\n",
       "  </thead>\n",
       "  <tbody>\n",
       "    <tr>\n",
       "      <td>count</td>\n",
       "      <td>10000.00000</td>\n",
       "      <td>1.000000e+04</td>\n",
       "      <td>10000.000000</td>\n",
       "      <td>10000.000000</td>\n",
       "      <td>9091.000000</td>\n",
       "      <td>10000.000000</td>\n",
       "      <td>10000.000000</td>\n",
       "      <td>10000.00000</td>\n",
       "      <td>10000.000000</td>\n",
       "      <td>10000.000000</td>\n",
       "      <td>10000.000000</td>\n",
       "    </tr>\n",
       "    <tr>\n",
       "      <td>mean</td>\n",
       "      <td>5000.50000</td>\n",
       "      <td>1.569094e+07</td>\n",
       "      <td>650.528800</td>\n",
       "      <td>38.921800</td>\n",
       "      <td>4.997690</td>\n",
       "      <td>76485.889288</td>\n",
       "      <td>1.530200</td>\n",
       "      <td>0.70550</td>\n",
       "      <td>0.515100</td>\n",
       "      <td>100090.239881</td>\n",
       "      <td>0.203700</td>\n",
       "    </tr>\n",
       "    <tr>\n",
       "      <td>std</td>\n",
       "      <td>2886.89568</td>\n",
       "      <td>7.193619e+04</td>\n",
       "      <td>96.653299</td>\n",
       "      <td>10.487806</td>\n",
       "      <td>2.894723</td>\n",
       "      <td>62397.405202</td>\n",
       "      <td>0.581654</td>\n",
       "      <td>0.45584</td>\n",
       "      <td>0.499797</td>\n",
       "      <td>57510.492818</td>\n",
       "      <td>0.402769</td>\n",
       "    </tr>\n",
       "    <tr>\n",
       "      <td>min</td>\n",
       "      <td>1.00000</td>\n",
       "      <td>1.556570e+07</td>\n",
       "      <td>350.000000</td>\n",
       "      <td>18.000000</td>\n",
       "      <td>0.000000</td>\n",
       "      <td>0.000000</td>\n",
       "      <td>1.000000</td>\n",
       "      <td>0.00000</td>\n",
       "      <td>0.000000</td>\n",
       "      <td>11.580000</td>\n",
       "      <td>0.000000</td>\n",
       "    </tr>\n",
       "    <tr>\n",
       "      <td>25%</td>\n",
       "      <td>2500.75000</td>\n",
       "      <td>1.562853e+07</td>\n",
       "      <td>584.000000</td>\n",
       "      <td>32.000000</td>\n",
       "      <td>2.000000</td>\n",
       "      <td>0.000000</td>\n",
       "      <td>1.000000</td>\n",
       "      <td>0.00000</td>\n",
       "      <td>0.000000</td>\n",
       "      <td>51002.110000</td>\n",
       "      <td>0.000000</td>\n",
       "    </tr>\n",
       "    <tr>\n",
       "      <td>50%</td>\n",
       "      <td>5000.50000</td>\n",
       "      <td>1.569074e+07</td>\n",
       "      <td>652.000000</td>\n",
       "      <td>37.000000</td>\n",
       "      <td>5.000000</td>\n",
       "      <td>97198.540000</td>\n",
       "      <td>1.000000</td>\n",
       "      <td>1.00000</td>\n",
       "      <td>1.000000</td>\n",
       "      <td>100193.915000</td>\n",
       "      <td>0.000000</td>\n",
       "    </tr>\n",
       "    <tr>\n",
       "      <td>75%</td>\n",
       "      <td>7500.25000</td>\n",
       "      <td>1.575323e+07</td>\n",
       "      <td>718.000000</td>\n",
       "      <td>44.000000</td>\n",
       "      <td>7.000000</td>\n",
       "      <td>127644.240000</td>\n",
       "      <td>2.000000</td>\n",
       "      <td>1.00000</td>\n",
       "      <td>1.000000</td>\n",
       "      <td>149388.247500</td>\n",
       "      <td>0.000000</td>\n",
       "    </tr>\n",
       "    <tr>\n",
       "      <td>max</td>\n",
       "      <td>10000.00000</td>\n",
       "      <td>1.581569e+07</td>\n",
       "      <td>850.000000</td>\n",
       "      <td>92.000000</td>\n",
       "      <td>10.000000</td>\n",
       "      <td>250898.090000</td>\n",
       "      <td>4.000000</td>\n",
       "      <td>1.00000</td>\n",
       "      <td>1.000000</td>\n",
       "      <td>199992.480000</td>\n",
       "      <td>1.000000</td>\n",
       "    </tr>\n",
       "  </tbody>\n",
       "</table>\n",
       "</div>"
      ],
      "text/plain": [
       "         RowNumber    CustomerId   CreditScore           Age       Tenure  \\\n",
       "count  10000.00000  1.000000e+04  10000.000000  10000.000000  9091.000000   \n",
       "mean    5000.50000  1.569094e+07    650.528800     38.921800     4.997690   \n",
       "std     2886.89568  7.193619e+04     96.653299     10.487806     2.894723   \n",
       "min        1.00000  1.556570e+07    350.000000     18.000000     0.000000   \n",
       "25%     2500.75000  1.562853e+07    584.000000     32.000000     2.000000   \n",
       "50%     5000.50000  1.569074e+07    652.000000     37.000000     5.000000   \n",
       "75%     7500.25000  1.575323e+07    718.000000     44.000000     7.000000   \n",
       "max    10000.00000  1.581569e+07    850.000000     92.000000    10.000000   \n",
       "\n",
       "             Balance  NumOfProducts    HasCrCard  IsActiveMember  \\\n",
       "count   10000.000000   10000.000000  10000.00000    10000.000000   \n",
       "mean    76485.889288       1.530200      0.70550        0.515100   \n",
       "std     62397.405202       0.581654      0.45584        0.499797   \n",
       "min         0.000000       1.000000      0.00000        0.000000   \n",
       "25%         0.000000       1.000000      0.00000        0.000000   \n",
       "50%     97198.540000       1.000000      1.00000        1.000000   \n",
       "75%    127644.240000       2.000000      1.00000        1.000000   \n",
       "max    250898.090000       4.000000      1.00000        1.000000   \n",
       "\n",
       "       EstimatedSalary        Exited  \n",
       "count     10000.000000  10000.000000  \n",
       "mean     100090.239881      0.203700  \n",
       "std       57510.492818      0.402769  \n",
       "min          11.580000      0.000000  \n",
       "25%       51002.110000      0.000000  \n",
       "50%      100193.915000      0.000000  \n",
       "75%      149388.247500      0.000000  \n",
       "max      199992.480000      1.000000  "
      ]
     },
     "execution_count": 6,
     "metadata": {},
     "output_type": "execute_result"
    }
   ],
   "source": [
    "df.describe()"
   ]
  },
  {
   "cell_type": "markdown",
   "metadata": {},
   "source": [
    "Проверим, есть ли дубликаты:"
   ]
  },
  {
   "cell_type": "code",
   "execution_count": 7,
   "metadata": {},
   "outputs": [
    {
     "data": {
      "text/plain": [
       "0"
      ]
     },
     "execution_count": 7,
     "metadata": {},
     "output_type": "execute_result"
    }
   ],
   "source": [
    "df.duplicated().sum()"
   ]
  },
  {
   "cell_type": "markdown",
   "metadata": {},
   "source": [
    "Проверим значения столбцов:"
   ]
  },
  {
   "cell_type": "code",
   "execution_count": 8,
   "metadata": {},
   "outputs": [],
   "source": [
    "# Для отображения всех столбцов сделаем цикл, который выводит каждый столобец по очереди \n",
    "# (его уникальные значения и их количество)\n",
    "def columns_info(data_frame):\n",
    "    for column in data_frame.columns:\n",
    "        print(column)\n",
    "        display(data_frame[column].value_counts())  \n",
    "        display(data_frame[column].unique()) \n",
    "        print()"
   ]
  },
  {
   "cell_type": "code",
   "execution_count": 1,
   "metadata": {},
   "outputs": [],
   "source": [
    "#columns_info(df)"
   ]
  },
  {
   "cell_type": "markdown",
   "metadata": {},
   "source": [
    "Подсчитаем количество пропусков:"
   ]
  },
  {
   "cell_type": "code",
   "execution_count": 10,
   "metadata": {
    "scrolled": true
   },
   "outputs": [
    {
     "data": {
      "text/plain": [
       "RowNumber            0\n",
       "CustomerId           0\n",
       "Surname              0\n",
       "CreditScore          0\n",
       "Geography            0\n",
       "Gender               0\n",
       "Age                  0\n",
       "Tenure             909\n",
       "Balance              0\n",
       "NumOfProducts        0\n",
       "HasCrCard            0\n",
       "IsActiveMember       0\n",
       "EstimatedSalary      0\n",
       "Exited               0\n",
       "dtype: int64"
      ]
     },
     "metadata": {},
     "output_type": "display_data"
    }
   ],
   "source": [
    "display(df.isna().sum())"
   ]
  },
  {
   "cell_type": "code",
   "execution_count": 11,
   "metadata": {},
   "outputs": [
    {
     "data": {
      "text/html": [
       "<div>\n",
       "<style scoped>\n",
       "    .dataframe tbody tr th:only-of-type {\n",
       "        vertical-align: middle;\n",
       "    }\n",
       "\n",
       "    .dataframe tbody tr th {\n",
       "        vertical-align: top;\n",
       "    }\n",
       "\n",
       "    .dataframe thead th {\n",
       "        text-align: right;\n",
       "    }\n",
       "</style>\n",
       "<table border=\"1\" class=\"dataframe\">\n",
       "  <thead>\n",
       "    <tr style=\"text-align: right;\">\n",
       "      <th></th>\n",
       "      <th>RowNumber</th>\n",
       "      <th>CustomerId</th>\n",
       "      <th>Surname</th>\n",
       "      <th>CreditScore</th>\n",
       "      <th>Geography</th>\n",
       "      <th>Gender</th>\n",
       "      <th>Age</th>\n",
       "      <th>Tenure</th>\n",
       "      <th>Balance</th>\n",
       "      <th>NumOfProducts</th>\n",
       "      <th>HasCrCard</th>\n",
       "      <th>IsActiveMember</th>\n",
       "      <th>EstimatedSalary</th>\n",
       "      <th>Exited</th>\n",
       "    </tr>\n",
       "  </thead>\n",
       "  <tbody>\n",
       "    <tr>\n",
       "      <td>30</td>\n",
       "      <td>31</td>\n",
       "      <td>15589475</td>\n",
       "      <td>Azikiwe</td>\n",
       "      <td>591</td>\n",
       "      <td>Spain</td>\n",
       "      <td>Female</td>\n",
       "      <td>39</td>\n",
       "      <td>NaN</td>\n",
       "      <td>0.00</td>\n",
       "      <td>3</td>\n",
       "      <td>1</td>\n",
       "      <td>0</td>\n",
       "      <td>140469.38</td>\n",
       "      <td>1</td>\n",
       "    </tr>\n",
       "    <tr>\n",
       "      <td>48</td>\n",
       "      <td>49</td>\n",
       "      <td>15766205</td>\n",
       "      <td>Yin</td>\n",
       "      <td>550</td>\n",
       "      <td>Germany</td>\n",
       "      <td>Male</td>\n",
       "      <td>38</td>\n",
       "      <td>NaN</td>\n",
       "      <td>103391.38</td>\n",
       "      <td>1</td>\n",
       "      <td>0</td>\n",
       "      <td>1</td>\n",
       "      <td>90878.13</td>\n",
       "      <td>0</td>\n",
       "    </tr>\n",
       "    <tr>\n",
       "      <td>51</td>\n",
       "      <td>52</td>\n",
       "      <td>15768193</td>\n",
       "      <td>Trevisani</td>\n",
       "      <td>585</td>\n",
       "      <td>Germany</td>\n",
       "      <td>Male</td>\n",
       "      <td>36</td>\n",
       "      <td>NaN</td>\n",
       "      <td>146050.97</td>\n",
       "      <td>2</td>\n",
       "      <td>0</td>\n",
       "      <td>0</td>\n",
       "      <td>86424.57</td>\n",
       "      <td>0</td>\n",
       "    </tr>\n",
       "    <tr>\n",
       "      <td>53</td>\n",
       "      <td>54</td>\n",
       "      <td>15702298</td>\n",
       "      <td>Parkhill</td>\n",
       "      <td>655</td>\n",
       "      <td>Germany</td>\n",
       "      <td>Male</td>\n",
       "      <td>41</td>\n",
       "      <td>NaN</td>\n",
       "      <td>125561.97</td>\n",
       "      <td>1</td>\n",
       "      <td>0</td>\n",
       "      <td>0</td>\n",
       "      <td>164040.94</td>\n",
       "      <td>1</td>\n",
       "    </tr>\n",
       "    <tr>\n",
       "      <td>60</td>\n",
       "      <td>61</td>\n",
       "      <td>15651280</td>\n",
       "      <td>Hunter</td>\n",
       "      <td>742</td>\n",
       "      <td>Germany</td>\n",
       "      <td>Male</td>\n",
       "      <td>35</td>\n",
       "      <td>NaN</td>\n",
       "      <td>136857.00</td>\n",
       "      <td>1</td>\n",
       "      <td>0</td>\n",
       "      <td>0</td>\n",
       "      <td>84509.57</td>\n",
       "      <td>0</td>\n",
       "    </tr>\n",
       "    <tr>\n",
       "      <td>82</td>\n",
       "      <td>83</td>\n",
       "      <td>15641732</td>\n",
       "      <td>Mills</td>\n",
       "      <td>543</td>\n",
       "      <td>France</td>\n",
       "      <td>Female</td>\n",
       "      <td>36</td>\n",
       "      <td>NaN</td>\n",
       "      <td>0.00</td>\n",
       "      <td>2</td>\n",
       "      <td>0</td>\n",
       "      <td>0</td>\n",
       "      <td>26019.59</td>\n",
       "      <td>0</td>\n",
       "    </tr>\n",
       "    <tr>\n",
       "      <td>85</td>\n",
       "      <td>86</td>\n",
       "      <td>15805254</td>\n",
       "      <td>Ndukaku</td>\n",
       "      <td>652</td>\n",
       "      <td>Spain</td>\n",
       "      <td>Female</td>\n",
       "      <td>75</td>\n",
       "      <td>NaN</td>\n",
       "      <td>0.00</td>\n",
       "      <td>2</td>\n",
       "      <td>1</td>\n",
       "      <td>1</td>\n",
       "      <td>114675.75</td>\n",
       "      <td>0</td>\n",
       "    </tr>\n",
       "    <tr>\n",
       "      <td>94</td>\n",
       "      <td>95</td>\n",
       "      <td>15676966</td>\n",
       "      <td>Capon</td>\n",
       "      <td>730</td>\n",
       "      <td>Spain</td>\n",
       "      <td>Male</td>\n",
       "      <td>42</td>\n",
       "      <td>NaN</td>\n",
       "      <td>0.00</td>\n",
       "      <td>2</td>\n",
       "      <td>0</td>\n",
       "      <td>1</td>\n",
       "      <td>85982.47</td>\n",
       "      <td>0</td>\n",
       "    </tr>\n",
       "    <tr>\n",
       "      <td>99</td>\n",
       "      <td>100</td>\n",
       "      <td>15633059</td>\n",
       "      <td>Fanucci</td>\n",
       "      <td>413</td>\n",
       "      <td>France</td>\n",
       "      <td>Male</td>\n",
       "      <td>34</td>\n",
       "      <td>NaN</td>\n",
       "      <td>0.00</td>\n",
       "      <td>2</td>\n",
       "      <td>0</td>\n",
       "      <td>0</td>\n",
       "      <td>6534.18</td>\n",
       "      <td>0</td>\n",
       "    </tr>\n",
       "    <tr>\n",
       "      <td>111</td>\n",
       "      <td>112</td>\n",
       "      <td>15665790</td>\n",
       "      <td>Rowntree</td>\n",
       "      <td>538</td>\n",
       "      <td>Germany</td>\n",
       "      <td>Male</td>\n",
       "      <td>39</td>\n",
       "      <td>NaN</td>\n",
       "      <td>108055.10</td>\n",
       "      <td>2</td>\n",
       "      <td>1</td>\n",
       "      <td>0</td>\n",
       "      <td>27231.26</td>\n",
       "      <td>0</td>\n",
       "    </tr>\n",
       "    <tr>\n",
       "      <td>123</td>\n",
       "      <td>124</td>\n",
       "      <td>15760085</td>\n",
       "      <td>Calabresi</td>\n",
       "      <td>684</td>\n",
       "      <td>Germany</td>\n",
       "      <td>Female</td>\n",
       "      <td>48</td>\n",
       "      <td>NaN</td>\n",
       "      <td>126384.42</td>\n",
       "      <td>1</td>\n",
       "      <td>1</td>\n",
       "      <td>1</td>\n",
       "      <td>198129.36</td>\n",
       "      <td>0</td>\n",
       "    </tr>\n",
       "    <tr>\n",
       "      <td>125</td>\n",
       "      <td>126</td>\n",
       "      <td>15627360</td>\n",
       "      <td>Fuller</td>\n",
       "      <td>432</td>\n",
       "      <td>France</td>\n",
       "      <td>Male</td>\n",
       "      <td>42</td>\n",
       "      <td>NaN</td>\n",
       "      <td>152603.45</td>\n",
       "      <td>1</td>\n",
       "      <td>1</td>\n",
       "      <td>0</td>\n",
       "      <td>110265.24</td>\n",
       "      <td>1</td>\n",
       "    </tr>\n",
       "    <tr>\n",
       "      <td>146</td>\n",
       "      <td>147</td>\n",
       "      <td>15705707</td>\n",
       "      <td>Bennelong</td>\n",
       "      <td>635</td>\n",
       "      <td>Spain</td>\n",
       "      <td>Female</td>\n",
       "      <td>29</td>\n",
       "      <td>NaN</td>\n",
       "      <td>138296.94</td>\n",
       "      <td>2</td>\n",
       "      <td>1</td>\n",
       "      <td>0</td>\n",
       "      <td>141075.51</td>\n",
       "      <td>0</td>\n",
       "    </tr>\n",
       "    <tr>\n",
       "      <td>162</td>\n",
       "      <td>163</td>\n",
       "      <td>15630910</td>\n",
       "      <td>Treacy</td>\n",
       "      <td>800</td>\n",
       "      <td>France</td>\n",
       "      <td>Female</td>\n",
       "      <td>49</td>\n",
       "      <td>NaN</td>\n",
       "      <td>108007.36</td>\n",
       "      <td>1</td>\n",
       "      <td>0</td>\n",
       "      <td>0</td>\n",
       "      <td>47125.11</td>\n",
       "      <td>0</td>\n",
       "    </tr>\n",
       "    <tr>\n",
       "      <td>173</td>\n",
       "      <td>174</td>\n",
       "      <td>15586310</td>\n",
       "      <td>Ting</td>\n",
       "      <td>578</td>\n",
       "      <td>France</td>\n",
       "      <td>Male</td>\n",
       "      <td>30</td>\n",
       "      <td>NaN</td>\n",
       "      <td>169462.09</td>\n",
       "      <td>1</td>\n",
       "      <td>1</td>\n",
       "      <td>0</td>\n",
       "      <td>112187.11</td>\n",
       "      <td>0</td>\n",
       "    </tr>\n",
       "  </tbody>\n",
       "</table>\n",
       "</div>"
      ],
      "text/plain": [
       "     RowNumber  CustomerId    Surname  CreditScore Geography  Gender  Age  \\\n",
       "30          31    15589475    Azikiwe          591     Spain  Female   39   \n",
       "48          49    15766205        Yin          550   Germany    Male   38   \n",
       "51          52    15768193  Trevisani          585   Germany    Male   36   \n",
       "53          54    15702298   Parkhill          655   Germany    Male   41   \n",
       "60          61    15651280     Hunter          742   Germany    Male   35   \n",
       "82          83    15641732      Mills          543    France  Female   36   \n",
       "85          86    15805254    Ndukaku          652     Spain  Female   75   \n",
       "94          95    15676966      Capon          730     Spain    Male   42   \n",
       "99         100    15633059    Fanucci          413    France    Male   34   \n",
       "111        112    15665790   Rowntree          538   Germany    Male   39   \n",
       "123        124    15760085  Calabresi          684   Germany  Female   48   \n",
       "125        126    15627360     Fuller          432    France    Male   42   \n",
       "146        147    15705707  Bennelong          635     Spain  Female   29   \n",
       "162        163    15630910     Treacy          800    France  Female   49   \n",
       "173        174    15586310       Ting          578    France    Male   30   \n",
       "\n",
       "     Tenure    Balance  NumOfProducts  HasCrCard  IsActiveMember  \\\n",
       "30      NaN       0.00              3          1               0   \n",
       "48      NaN  103391.38              1          0               1   \n",
       "51      NaN  146050.97              2          0               0   \n",
       "53      NaN  125561.97              1          0               0   \n",
       "60      NaN  136857.00              1          0               0   \n",
       "82      NaN       0.00              2          0               0   \n",
       "85      NaN       0.00              2          1               1   \n",
       "94      NaN       0.00              2          0               1   \n",
       "99      NaN       0.00              2          0               0   \n",
       "111     NaN  108055.10              2          1               0   \n",
       "123     NaN  126384.42              1          1               1   \n",
       "125     NaN  152603.45              1          1               0   \n",
       "146     NaN  138296.94              2          1               0   \n",
       "162     NaN  108007.36              1          0               0   \n",
       "173     NaN  169462.09              1          1               0   \n",
       "\n",
       "     EstimatedSalary  Exited  \n",
       "30         140469.38       1  \n",
       "48          90878.13       0  \n",
       "51          86424.57       0  \n",
       "53         164040.94       1  \n",
       "60          84509.57       0  \n",
       "82          26019.59       0  \n",
       "85         114675.75       0  \n",
       "94          85982.47       0  \n",
       "99           6534.18       0  \n",
       "111         27231.26       0  \n",
       "123        198129.36       0  \n",
       "125        110265.24       1  \n",
       "146        141075.51       0  \n",
       "162         47125.11       0  \n",
       "173        112187.11       0  "
      ]
     },
     "metadata": {},
     "output_type": "display_data"
    }
   ],
   "source": [
    "display(df[df['Tenure'].isna()].head(15))"
   ]
  },
  {
   "cell_type": "markdown",
   "metadata": {},
   "source": [
    "Так ка столбец `'Tenure'` показывает, сколько лет человек является клиентом банка, нет воможности восстановить пропуски по другим данным. Проанализировав другие столбцы строк, где есть пропуски в данном столбце, заполнять просто 0 не целесообразно, т.к. есть значения в столбцах `'Balance'`, `'NumOfProducts'` и т.д., поэтому заполним пропуски медианой, равной 5."
   ]
  },
  {
   "cell_type": "code",
   "execution_count": 12,
   "metadata": {},
   "outputs": [],
   "source": [
    "df['Tenure']=df['Tenure'].fillna(5)"
   ]
  },
  {
   "cell_type": "code",
   "execution_count": 13,
   "metadata": {},
   "outputs": [
    {
     "data": {
      "text/plain": [
       "5.0     1836\n",
       "1.0      952\n",
       "2.0      950\n",
       "8.0      933\n",
       "3.0      928\n",
       "7.0      925\n",
       "4.0      885\n",
       "9.0      882\n",
       "6.0      881\n",
       "10.0     446\n",
       "0.0      382\n",
       "Name: Tenure, dtype: int64"
      ]
     },
     "execution_count": 13,
     "metadata": {},
     "output_type": "execute_result"
    }
   ],
   "source": [
    "df['Tenure'].value_counts()"
   ]
  },
  {
   "cell_type": "markdown",
   "metadata": {},
   "source": [
    "Первые 3 столбца, а именно: `'RowNumber'`, `'CustomerId'`, `'Surname'` не влияют на то, уйдет клиент из банка или нет, поэтому их можно удалить:"
   ]
  },
  {
   "cell_type": "code",
   "execution_count": 14,
   "metadata": {},
   "outputs": [],
   "source": [
    "df = df.drop(columns=['RowNumber', 'CustomerId', 'Surname'], axis=1)"
   ]
  },
  {
   "cell_type": "code",
   "execution_count": 15,
   "metadata": {},
   "outputs": [
    {
     "name": "stdout",
     "output_type": "stream",
     "text": [
      "<class 'pandas.core.frame.DataFrame'>\n",
      "RangeIndex: 10000 entries, 0 to 9999\n",
      "Data columns (total 11 columns):\n",
      "CreditScore        10000 non-null int64\n",
      "Geography          10000 non-null object\n",
      "Gender             10000 non-null object\n",
      "Age                10000 non-null int64\n",
      "Tenure             10000 non-null float64\n",
      "Balance            10000 non-null float64\n",
      "NumOfProducts      10000 non-null int64\n",
      "HasCrCard          10000 non-null int64\n",
      "IsActiveMember     10000 non-null int64\n",
      "EstimatedSalary    10000 non-null float64\n",
      "Exited             10000 non-null int64\n",
      "dtypes: float64(3), int64(6), object(2)\n",
      "memory usage: 859.5+ KB\n"
     ]
    }
   ],
   "source": [
    "df.info()"
   ]
  },
  {
   "cell_type": "markdown",
   "metadata": {},
   "source": [
    "Преобразуем категориальные фичи с помощью ONE и чтобы не попасть в Дамми-ловушку, удалим первый столбец каждой фичи:"
   ]
  },
  {
   "cell_type": "code",
   "execution_count": 16,
   "metadata": {},
   "outputs": [],
   "source": [
    "df_processed = pd.get_dummies(df, drop_first=True)"
   ]
  },
  {
   "cell_type": "code",
   "execution_count": 17,
   "metadata": {},
   "outputs": [
    {
     "data": {
      "text/html": [
       "<div>\n",
       "<style scoped>\n",
       "    .dataframe tbody tr th:only-of-type {\n",
       "        vertical-align: middle;\n",
       "    }\n",
       "\n",
       "    .dataframe tbody tr th {\n",
       "        vertical-align: top;\n",
       "    }\n",
       "\n",
       "    .dataframe thead th {\n",
       "        text-align: right;\n",
       "    }\n",
       "</style>\n",
       "<table border=\"1\" class=\"dataframe\">\n",
       "  <thead>\n",
       "    <tr style=\"text-align: right;\">\n",
       "      <th></th>\n",
       "      <th>CreditScore</th>\n",
       "      <th>Age</th>\n",
       "      <th>Tenure</th>\n",
       "      <th>Balance</th>\n",
       "      <th>NumOfProducts</th>\n",
       "      <th>HasCrCard</th>\n",
       "      <th>IsActiveMember</th>\n",
       "      <th>EstimatedSalary</th>\n",
       "      <th>Exited</th>\n",
       "      <th>Geography_Germany</th>\n",
       "      <th>Geography_Spain</th>\n",
       "      <th>Gender_Male</th>\n",
       "    </tr>\n",
       "  </thead>\n",
       "  <tbody>\n",
       "    <tr>\n",
       "      <td>0</td>\n",
       "      <td>619</td>\n",
       "      <td>42</td>\n",
       "      <td>2.0</td>\n",
       "      <td>0.00</td>\n",
       "      <td>1</td>\n",
       "      <td>1</td>\n",
       "      <td>1</td>\n",
       "      <td>101348.88</td>\n",
       "      <td>1</td>\n",
       "      <td>0</td>\n",
       "      <td>0</td>\n",
       "      <td>0</td>\n",
       "    </tr>\n",
       "    <tr>\n",
       "      <td>1</td>\n",
       "      <td>608</td>\n",
       "      <td>41</td>\n",
       "      <td>1.0</td>\n",
       "      <td>83807.86</td>\n",
       "      <td>1</td>\n",
       "      <td>0</td>\n",
       "      <td>1</td>\n",
       "      <td>112542.58</td>\n",
       "      <td>0</td>\n",
       "      <td>0</td>\n",
       "      <td>1</td>\n",
       "      <td>0</td>\n",
       "    </tr>\n",
       "    <tr>\n",
       "      <td>2</td>\n",
       "      <td>502</td>\n",
       "      <td>42</td>\n",
       "      <td>8.0</td>\n",
       "      <td>159660.80</td>\n",
       "      <td>3</td>\n",
       "      <td>1</td>\n",
       "      <td>0</td>\n",
       "      <td>113931.57</td>\n",
       "      <td>1</td>\n",
       "      <td>0</td>\n",
       "      <td>0</td>\n",
       "      <td>0</td>\n",
       "    </tr>\n",
       "    <tr>\n",
       "      <td>3</td>\n",
       "      <td>699</td>\n",
       "      <td>39</td>\n",
       "      <td>1.0</td>\n",
       "      <td>0.00</td>\n",
       "      <td>2</td>\n",
       "      <td>0</td>\n",
       "      <td>0</td>\n",
       "      <td>93826.63</td>\n",
       "      <td>0</td>\n",
       "      <td>0</td>\n",
       "      <td>0</td>\n",
       "      <td>0</td>\n",
       "    </tr>\n",
       "    <tr>\n",
       "      <td>4</td>\n",
       "      <td>850</td>\n",
       "      <td>43</td>\n",
       "      <td>2.0</td>\n",
       "      <td>125510.82</td>\n",
       "      <td>1</td>\n",
       "      <td>1</td>\n",
       "      <td>1</td>\n",
       "      <td>79084.10</td>\n",
       "      <td>0</td>\n",
       "      <td>0</td>\n",
       "      <td>1</td>\n",
       "      <td>0</td>\n",
       "    </tr>\n",
       "  </tbody>\n",
       "</table>\n",
       "</div>"
      ],
      "text/plain": [
       "   CreditScore  Age  Tenure    Balance  NumOfProducts  HasCrCard  \\\n",
       "0          619   42     2.0       0.00              1          1   \n",
       "1          608   41     1.0   83807.86              1          0   \n",
       "2          502   42     8.0  159660.80              3          1   \n",
       "3          699   39     1.0       0.00              2          0   \n",
       "4          850   43     2.0  125510.82              1          1   \n",
       "\n",
       "   IsActiveMember  EstimatedSalary  Exited  Geography_Germany  \\\n",
       "0               1        101348.88       1                  0   \n",
       "1               1        112542.58       0                  0   \n",
       "2               0        113931.57       1                  0   \n",
       "3               0         93826.63       0                  0   \n",
       "4               1         79084.10       0                  0   \n",
       "\n",
       "   Geography_Spain  Gender_Male  \n",
       "0                0            0  \n",
       "1                1            0  \n",
       "2                0            0  \n",
       "3                0            0  \n",
       "4                1            0  "
      ]
     },
     "execution_count": 17,
     "metadata": {},
     "output_type": "execute_result"
    }
   ],
   "source": [
    "df_processed.head()"
   ]
  },
  {
   "cell_type": "code",
   "execution_count": 18,
   "metadata": {},
   "outputs": [
    {
     "name": "stdout",
     "output_type": "stream",
     "text": [
      "<class 'pandas.core.frame.DataFrame'>\n",
      "RangeIndex: 10000 entries, 0 to 9999\n",
      "Data columns (total 12 columns):\n",
      "CreditScore          10000 non-null int64\n",
      "Age                  10000 non-null int64\n",
      "Tenure               10000 non-null float64\n",
      "Balance              10000 non-null float64\n",
      "NumOfProducts        10000 non-null int64\n",
      "HasCrCard            10000 non-null int64\n",
      "IsActiveMember       10000 non-null int64\n",
      "EstimatedSalary      10000 non-null float64\n",
      "Exited               10000 non-null int64\n",
      "Geography_Germany    10000 non-null uint8\n",
      "Geography_Spain      10000 non-null uint8\n",
      "Gender_Male          10000 non-null uint8\n",
      "dtypes: float64(3), int64(6), uint8(3)\n",
      "memory usage: 732.5 KB\n"
     ]
    }
   ],
   "source": [
    "df_processed.info()"
   ]
  },
  {
   "cell_type": "markdown",
   "metadata": {},
   "source": [
    "### Вывод"
   ]
  },
  {
   "cell_type": "markdown",
   "metadata": {},
   "source": [
    "Была проведена подготовка данных к дальнейшему исследованию:\n",
    "\n",
    "* Найдены пропуски\n",
    "* Пропуски заменены медианой\n",
    "* Удалены ненужные признаки\n",
    "* Категориальные признаки преобразованы с помощью OHE "
   ]
  },
  {
   "cell_type": "markdown",
   "metadata": {},
   "source": [
    "## Исследование задачи"
   ]
  },
  {
   "cell_type": "markdown",
   "metadata": {},
   "source": [
    "Извлечем целевой признак и признаки для обучения:"
   ]
  },
  {
   "cell_type": "code",
   "execution_count": 19,
   "metadata": {},
   "outputs": [],
   "source": [
    "features = df_processed.drop(['Exited'], axis=1) # признаки\n",
    "target = df_processed['Exited'] # целевой признак"
   ]
  },
  {
   "cell_type": "markdown",
   "metadata": {},
   "source": [
    "Так как спрятанной тестовой выборки нет, данные нужно разбить на три части: обучающую, валидационную и тестовую. Размеры тестового и валидационного наборов обычно равны.\n",
    "\n",
    "Исходные данные разобъем в соотношении 3:1:1:\n"
   ]
  },
  {
   "cell_type": "code",
   "execution_count": 20,
   "metadata": {},
   "outputs": [],
   "source": [
    "features_train, features_part, target_train, target_part = train_test_split(\n",
    "   features, target, test_size=0.4, random_state=12345)"
   ]
  },
  {
   "cell_type": "code",
   "execution_count": 21,
   "metadata": {},
   "outputs": [],
   "source": [
    "features_valid, features_test, target_valid, target_test = train_test_split(\n",
    "   features_part, target_part, test_size=0.5, random_state=12345)"
   ]
  },
  {
   "cell_type": "markdown",
   "metadata": {},
   "source": [
    "Проверим размеры получившихся выборок:"
   ]
  },
  {
   "cell_type": "code",
   "execution_count": 22,
   "metadata": {
    "scrolled": true
   },
   "outputs": [
    {
     "name": "stdout",
     "output_type": "stream",
     "text": [
      "(6000, 11)\n",
      "(6000,)\n",
      "\n",
      "(2000, 11)\n",
      "(2000,)\n",
      "\n",
      "(2000, 11)\n",
      "(2000,)\n"
     ]
    }
   ],
   "source": [
    "print(features_train.shape)\n",
    "print(target_train.shape)\n",
    "print()\n",
    "print(features_valid.shape)\n",
    "print(target_valid.shape)\n",
    "print()\n",
    "print(features_test.shape)\n",
    "print(target_test.shape)"
   ]
  },
  {
   "cell_type": "markdown",
   "metadata": {},
   "source": [
    "Для прогнозирования уйдет ли клиент банка, нужно понять соотношение оставшихся и ушедших клиентов, а также построить модели."
   ]
  },
  {
   "cell_type": "code",
   "execution_count": 23,
   "metadata": {
    "scrolled": true
   },
   "outputs": [
    {
     "data": {
      "text/plain": [
       "0    0.7963\n",
       "1    0.2037\n",
       "Name: Exited, dtype: float64"
      ]
     },
     "metadata": {},
     "output_type": "display_data"
    },
    {
     "data": {
      "text/plain": [
       "<matplotlib.axes._subplots.AxesSubplot at 0x7fc3431a1d10>"
      ]
     },
     "execution_count": 23,
     "metadata": {},
     "output_type": "execute_result"
    },
    {
     "data": {
      "image/png": "[encoded data removed]",
      "text/plain": [
       "<Figure size 432x288 with 1 Axes>"
      ]
     },
     "metadata": {
      "needs_background": "light"
     },
     "output_type": "display_data"
    }
   ],
   "source": [
    "display(target.value_counts(normalize=True))\n",
    "target.value_counts(normalize=True).plot(kind='bar')"
   ]
  },
  {
   "cell_type": "markdown",
   "metadata": {},
   "source": [
    "Соотношение 1:4. \n",
    "\n",
    "Сначала построим модели без учета дисбаланса классов."
   ]
  },
  {
   "cell_type": "markdown",
   "metadata": {},
   "source": [
    "Отмасштабируем признаки:"
   ]
  },
  {
   "cell_type": "code",
   "execution_count": 24,
   "metadata": {},
   "outputs": [],
   "source": [
    "numeric = ['CreditScore', 'Age', 'Tenure', 'Balance', 'NumOfProducts', 'EstimatedSalary',]\n",
    "\n",
    "scaler = StandardScaler()\n",
    "scaler.fit(features_train[numeric]) \n",
    "features_train[numeric] = scaler.transform(features_train[numeric])\n",
    "features_valid[numeric] = scaler.transform(features_valid[numeric])\n",
    "features_test[numeric] = scaler.transform(features_test[numeric])"
   ]
  },
  {
   "cell_type": "markdown",
   "metadata": {},
   "source": [
    "### Дерево решений"
   ]
  },
  {
   "cell_type": "markdown",
   "metadata": {},
   "source": [
    "Создадим модель DecisionTreeClassifier и выберем лучшую модель в зависимости от глубины:"
   ]
  },
  {
   "cell_type": "code",
   "execution_count": 26,
   "metadata": {},
   "outputs": [
    {
     "name": "stdout",
     "output_type": "stream",
     "text": [
      "depth = 6\n",
      "F-1 лучшей модели на валидационной выборке: 0.575301204819277\n",
      "CPU times: user 237 ms, sys: 0 ns, total: 237 ms\n",
      "Wall time: 236 ms\n"
     ]
    }
   ],
   "source": [
    "%%time\n",
    "\n",
    "best_model_dt = None\n",
    "best_result_dt = 0\n",
    "best_depth_dt = 0\n",
    "for depth_dt in range(1, 15):\n",
    "    model_dt = DecisionTreeClassifier(random_state=2, max_depth=depth_dt, min_samples_leaf=3) \n",
    "    model_dt.fit(features_train, target_train) \n",
    "    predictions_dt = model_dt.predict(features_valid) \n",
    "    result_dt = f1_score(target_valid, predictions_dt)\n",
    "    if result_dt > best_result_dt:\n",
    "        best_model_dt = model_dt\n",
    "        best_result_dt = result_dt\n",
    "        best_depth_dt = depth_dt\n",
    "                \n",
    "print(\"depth =\", best_depth_dt)       \n",
    "print(\"F-1 лучшей модели на валидационной выборке:\", best_result_dt)"
   ]
  },
  {
   "cell_type": "markdown",
   "metadata": {},
   "source": [
    "Проверим значения других метрик:"
   ]
  },
  {
   "cell_type": "code",
   "execution_count": 27,
   "metadata": {},
   "outputs": [
    {
     "name": "stdout",
     "output_type": "stream",
     "text": [
      "Accuracy 0.859\n",
      "Precision 0.7764227642276422\n",
      "Recall 0.4569377990430622\n",
      "F-1 0.575301204819277\n",
      "AUC-ROC 0.8250087709216726\n"
     ]
    }
   ],
   "source": [
    "predictions_dt = best_model_dt.predict(features_valid)\n",
    "\n",
    "print('Accuracy', accuracy_score(target_valid, predictions_dt))\n",
    "print('Precision', precision_score(target_valid, predictions_dt))\n",
    "print('Recall', recall_score(target_valid, predictions_dt))\n",
    "print('F-1', f1_score(target_valid, predictions_dt))\n",
    "probabilities_valid = best_model_dt.predict_proba(features_valid)[:, 1]\n",
    "print(\"AUC-ROC\", roc_auc_score(target_valid, probabilities_valid))"
   ]
  },
  {
   "cell_type": "markdown",
   "metadata": {},
   "source": [
    "### Случайный лес"
   ]
  },
  {
   "cell_type": "markdown",
   "metadata": {},
   "source": [
    "Создадим модель RandomForestClassifier и выберем лучшую модель в зависимости от глубины и количества деревьев:"
   ]
  },
  {
   "cell_type": "code",
   "execution_count": 28,
   "metadata": {},
   "outputs": [
    {
     "name": "stdout",
     "output_type": "stream",
     "text": [
      "depth = 17 estimators = 63\n",
      "F-1 лучшей модели на валидационной выборке: 0.5907046476761619\n",
      "CPU times: user 1min 6s, sys: 0 ns, total: 1min 6s\n",
      "Wall time: 1min 6s\n"
     ]
    }
   ],
   "source": [
    "%%time # 1-1.5 минуты\n",
    "best_model_rf = None\n",
    "best_result_rf = 0\n",
    "best_est_rf = 0\n",
    "best_depth_rf = 0\n",
    "for est_rf in range(50, 70):  \n",
    "    for depth_rf in range (10, 20): \n",
    "        model_rf = RandomForestClassifier(random_state=2761, min_samples_leaf=3, n_estimators=est_rf, max_depth=depth_rf)\n",
    "        model_rf.fit(features_train, target_train) \n",
    "        predictions_rf = model_rf.predict(features_valid) \n",
    "        result_rf = f1_score(target_valid, predictions_rf)\n",
    "        \n",
    "        if result_rf > best_result_rf:\n",
    "            best_model_rf = model_rf\n",
    "            best_result_rf = result_rf\n",
    "            best_est_rf = est_rf\n",
    "            best_depth_rf = depth_rf\n",
    "            \n",
    "print(\"depth =\", best_depth_rf,\"estimators =\", best_est_rf)       \n",
    "print(\"F-1 лучшей модели на валидационной выборке:\", best_result_rf)"
   ]
  },
  {
   "cell_type": "code",
   "execution_count": 29,
   "metadata": {},
   "outputs": [
    {
     "name": "stdout",
     "output_type": "stream",
     "text": [
      "Accuracy 0.8635\n",
      "Precision 0.7911646586345381\n",
      "Recall 0.47129186602870815\n",
      "F-1 0.5907046476761619\n",
      "AUC-ROC 0.8459939571374131\n"
     ]
    }
   ],
   "source": [
    "predictions_rf = best_model_rf.predict(features_valid)\n",
    "\n",
    "print('Accuracy', accuracy_score(target_valid, predictions_rf))\n",
    "print('Precision', precision_score(target_valid, predictions_rf))\n",
    "print('Recall', recall_score(target_valid, predictions_rf))\n",
    "print('F-1', f1_score(target_valid, predictions_rf))\n",
    "probabilities_valid_rf = best_model_rf.predict_proba(features_valid)[:, 1]\n",
    "print(\"AUC-ROC\", roc_auc_score(target_valid, probabilities_valid_rf))"
   ]
  },
  {
   "cell_type": "markdown",
   "metadata": {},
   "source": [
    "### Логистическая регрессия"
   ]
  },
  {
   "cell_type": "markdown",
   "metadata": {},
   "source": [
    "Создадим модель LogisticRegression и проверим метрику качества:"
   ]
  },
  {
   "cell_type": "code",
   "execution_count": 30,
   "metadata": {},
   "outputs": [
    {
     "name": "stdout",
     "output_type": "stream",
     "text": [
      "F-1 модели логистической регрессии на валидационной выборке: 0.33108108108108103\n"
     ]
    }
   ],
   "source": [
    "model_lr = LogisticRegression(random_state=2761, solver='liblinear')\n",
    "model_lr.fit(features_train, target_train) \n",
    "predictions_lr = model_lr.predict(features_valid)\n",
    "result_lr = f1_score(target_valid, predictions_lr) \n",
    "\n",
    "print(\"F-1 модели логистической регрессии на валидационной выборке:\", result_lr)"
   ]
  },
  {
   "cell_type": "markdown",
   "metadata": {},
   "source": [
    "### Вывод"
   ]
  },
  {
   "cell_type": "markdown",
   "metadata": {},
   "source": [
    "* Данные были разбиты на 3 части (тренировочная, валидационная и тестовая)\n",
    "* Был выявлен дисбаланс классов (класс \"0\" - 80% данных, класс \"1\" - 20% данных)\n",
    "* Было построено 3 модели\n",
    "* Лучшая модель - Случайный лес показала значение F-1 на валидационной выборке 0.5907"
   ]
  },
  {
   "cell_type": "markdown",
   "metadata": {},
   "source": [
    "## Борьба с дисбалансом"
   ]
  },
  {
   "cell_type": "markdown",
   "metadata": {},
   "source": [
    "### Изменение веса классов"
   ]
  },
  {
   "cell_type": "markdown",
   "metadata": {},
   "source": [
    "Теперь добавим бóльший вес редкому классу (в нашем случае классу \"1\"):"
   ]
  },
  {
   "cell_type": "code",
   "execution_count": 31,
   "metadata": {},
   "outputs": [
    {
     "name": "stdout",
     "output_type": "stream",
     "text": [
      "Дерево решений\n",
      "Accuracy 0.77\n",
      "Precision 0.4674922600619195\n",
      "Recall 0.722488038277512\n",
      "F-1 0.5676691729323309\n",
      "AUC-ROC 0.8170136221486942\n",
      "\n",
      "Случайный лес\n",
      "Accuracy 0.8485\n",
      "Precision 0.6584022038567493\n",
      "Recall 0.5717703349282297\n",
      "F-1 0.6120358514724713\n",
      "AUC-ROC 0.8462086934956055\n",
      "\n",
      "Логистическая регрессия\n",
      "Accuracy 0.702\n",
      "Precision 0.3810160427807487\n",
      "Recall 0.6818181818181818\n",
      "F-1 0.4888507718696398\n",
      "AUC-ROC 0.7637310291013133\n",
      "CPU times: user 482 ms, sys: 60.6 ms, total: 542 ms\n",
      "Wall time: 511 ms\n"
     ]
    }
   ],
   "source": [
    "%%time\n",
    "\n",
    "model_dt_b = DecisionTreeClassifier(random_state=2, max_depth=6,min_samples_leaf=3, class_weight='balanced') \n",
    "model_dt_b.fit(features_train, target_train) \n",
    "predictions_dt_b = model_dt_b.predict(features_valid) \n",
    "result_dt_b = f1_score(target_valid, predictions_dt_b)\n",
    "print('Дерево решений')\n",
    "print('Accuracy', accuracy_score(target_valid, predictions_dt_b))\n",
    "print('Precision', precision_score(target_valid, predictions_dt_b))\n",
    "print('Recall', recall_score(target_valid, predictions_dt_b))\n",
    "print('F-1', result_dt_b)\n",
    "probabilities_valid_dt_b = model_dt_b.predict_proba(features_valid)[:, 1]\n",
    "print(\"AUC-ROC\", roc_auc_score(target_valid, probabilities_valid_dt_b))\n",
    "print()\n",
    "\n",
    "model_rf_b = RandomForestClassifier(random_state=2761, min_samples_leaf=3, n_estimators=63, max_depth=17, class_weight='balanced')\n",
    "model_rf_b.fit(features_train, target_train) \n",
    "predictions_rf_b = model_rf_b.predict(features_valid) \n",
    "result_rf_b = f1_score(target_valid, predictions_rf_b)\n",
    "print('Случайный лес')\n",
    "print('Accuracy', accuracy_score(target_valid, predictions_rf_b))\n",
    "print('Precision', precision_score(target_valid, predictions_rf_b))\n",
    "print('Recall', recall_score(target_valid, predictions_rf_b))\n",
    "print('F-1', result_rf_b)\n",
    "probabilities_valid_rf_b = model_rf_b.predict_proba(features_valid)[:, 1]\n",
    "print(\"AUC-ROC\", roc_auc_score(target_valid, probabilities_valid_rf_b))\n",
    "print()\n",
    "\n",
    "model_lr_b = LogisticRegression(random_state=2761, solver='liblinear', class_weight='balanced')\n",
    "model_lr_b.fit(features_train, target_train) \n",
    "predictions_lr_b = model_lr_b.predict(features_valid)\n",
    "result_lr_b = f1_score(target_valid, predictions_lr_b) \n",
    "print('Логистическая регрессия')\n",
    "print('Accuracy', accuracy_score(target_valid, predictions_lr_b))\n",
    "print('Precision', precision_score(target_valid, predictions_lr_b))\n",
    "print('Recall', recall_score(target_valid,predictions_lr_b))\n",
    "print('F-1', result_lr_b)\n",
    "probabilities_valid_lr_b = model_lr_b.predict_proba(features_valid)[:, 1]\n",
    "print(\"AUC-ROC\", roc_auc_score(target_valid, probabilities_valid_lr_b))"
   ]
  },
  {
   "cell_type": "markdown",
   "metadata": {},
   "source": [
    "У дерева решений значение f-1 уменьшилось (было 0.5753 стало 0.5677), у логистической регрессии (было 0.3311 стало 0.4889) и случайного леса (было 0.5925 стало 0.612) увеличилось."
   ]
  },
  {
   "cell_type": "markdown",
   "metadata": {},
   "source": [
    "Построим ROC-кривую, чтобы визуализировать и сравнить модели:"
   ]
  },
  {
   "cell_type": "code",
   "execution_count": 32,
   "metadata": {},
   "outputs": [
    {
     "data": {
      "image/png": "[encoded data removed]",
      "text/plain": [
       "<Figure size 864x648 with 1 Axes>"
      ]
     },
     "metadata": {
      "needs_background": "light"
     },
     "output_type": "display_data"
    }
   ],
   "source": [
    "fpr_dt_b, tpr_dt_b, thresholds_dt_b = roc_curve(target_valid, probabilities_valid_dt_b) \n",
    "fpr_rf_b, tpr_rf_b, thresholds_rf_b = roc_curve(target_valid, probabilities_valid_rf_b)\n",
    "fpr_lr_b, tpr_lr_b, thresholds_lr_b = roc_curve(target_valid, probabilities_valid_lr_b)\n",
    "\n",
    "plt.figure(figsize=[12,9])\n",
    "plt.plot(fpr_dt_b, tpr_dt_b, label='DecisionTreeClassifier')\n",
    "plt.plot(fpr_rf_b, tpr_rf_b, label='RandomForestClassifier')\n",
    "plt.plot(fpr_lr_b, tpr_lr_b, label='LogisticRegression')\n",
    "\n",
    "plt.plot([0, 1], [0, 1], linestyle='--', label='RandomModel') # ROC-кривая случайной модели (выглядит как прямая)\n",
    "\n",
    "plt.xlabel('False Positive Rate')\n",
    "plt.ylabel('True Positive Rate')\n",
    "plt.ylim([0.0, 1.0])\n",
    "plt.xlim([0.0, 1.0])\n",
    "plt.title('ROC-кривая')\n",
    "plt.legend(loc='lower right', fontsize='xx-large')\n",
    "plt.show()"
   ]
  },
  {
   "cell_type": "markdown",
   "metadata": {},
   "source": [
    "### Увеличение выборки"
   ]
  },
  {
   "cell_type": "markdown",
   "metadata": {},
   "source": [
    "Напишем функцию, которая увеличит значения класса \"1\" до примерного баланса классов:"
   ]
  },
  {
   "cell_type": "code",
   "execution_count": 33,
   "metadata": {},
   "outputs": [],
   "source": [
    "def upsample(features, target, repeat):\n",
    "    features_zeros = features[target == 0]\n",
    "    features_ones = features[target == 1]\n",
    "    target_zeros = target[target == 0]\n",
    "    target_ones = target[target == 1]\n",
    "\n",
    "    features_upsampled = pd.concat([features_zeros] + [features_ones] * repeat)\n",
    "    target_upsampled = pd.concat([target_zeros] + [target_ones] * repeat)\n",
    "    \n",
    "    features_upsampled, target_upsampled = shuffle(\n",
    "        features_upsampled, target_upsampled, random_state=12345)\n",
    "    \n",
    "    return features_upsampled, target_upsampled"
   ]
  },
  {
   "cell_type": "code",
   "execution_count": 34,
   "metadata": {},
   "outputs": [
    {
     "name": "stdout",
     "output_type": "stream",
     "text": [
      "0    4804\n",
      "1    4784\n",
      "Name: Exited, dtype: int64\n"
     ]
    }
   ],
   "source": [
    "features_upsampled, target_upsampled = upsample(features_train, target_train, 4)\n",
    "print(target_upsampled.value_counts())"
   ]
  },
  {
   "cell_type": "markdown",
   "metadata": {},
   "source": [
    "Проверим модели с подобранными гиперпараметрами на сбалансированной выборке:"
   ]
  },
  {
   "cell_type": "code",
   "execution_count": 35,
   "metadata": {},
   "outputs": [
    {
     "name": "stdout",
     "output_type": "stream",
     "text": [
      "Дерево решений\n",
      "Accuracy 0.769\n",
      "Precision 0.46594427244582043\n",
      "Recall 0.7200956937799043\n",
      "F-1 0.5657894736842105\n",
      "AUC-ROC 0.8135687670503693\n",
      "\n",
      "Случайный лес\n",
      "Accuracy 0.8355\n",
      "Precision 0.6032482598607889\n",
      "Recall 0.6220095693779905\n",
      "F-1 0.6124852767962308\n",
      "AUC-ROC 0.8425906883056393\n",
      "\n",
      "Логистическая регрессия\n",
      "Accuracy 0.702\n",
      "Precision 0.3810160427807487\n",
      "Recall 0.6818181818181818\n",
      "F-1 0.4888507718696398\n",
      "AUC-ROC 0.7636478565682107\n",
      "CPU times: user 653 ms, sys: 48.3 ms, total: 702 ms\n",
      "Wall time: 676 ms\n"
     ]
    }
   ],
   "source": [
    "%%time\n",
    "\n",
    "model_dt_u = DecisionTreeClassifier(random_state=2, max_depth=6, min_samples_leaf=3) \n",
    "model_dt_u.fit(features_upsampled, target_upsampled) \n",
    "predictions_dt_u = model_dt_u.predict(features_valid) \n",
    "result_dt_u = f1_score(target_valid, predictions_dt_u)\n",
    "print('Дерево решений')\n",
    "print('Accuracy', accuracy_score(target_valid, predictions_dt_u))\n",
    "print('Precision', precision_score(target_valid, predictions_dt_u))\n",
    "print('Recall', recall_score(target_valid, predictions_dt_u))\n",
    "print('F-1', result_dt_u)\n",
    "probabilities_valid_dt_u = model_dt_u.predict_proba(features_valid)[:, 1]\n",
    "print(\"AUC-ROC\", roc_auc_score(target_valid, probabilities_valid_dt_u))\n",
    "print()\n",
    "model_rf_u = RandomForestClassifier(random_state=2761, min_samples_leaf=3, n_estimators=63, max_depth=17)\n",
    "model_rf_u.fit(features_upsampled, target_upsampled) \n",
    "predictions_rf_u = model_rf_u.predict(features_valid) \n",
    "result_rf_u = f1_score(target_valid, predictions_rf_u)\n",
    "print('Случайный лес')\n",
    "print('Accuracy', accuracy_score(target_valid, predictions_rf_u))\n",
    "print('Precision', precision_score(target_valid, predictions_rf_u))\n",
    "print('Recall', recall_score(target_valid, predictions_rf_u))\n",
    "print('F-1', result_rf_u)\n",
    "probabilities_valid_rf_u = model_rf_u.predict_proba(features_valid)[:, 1]\n",
    "print(\"AUC-ROC\", roc_auc_score(target_valid, probabilities_valid_rf_u))\n",
    "print()\n",
    "model_lr_u = LogisticRegression(random_state=2761, solver='liblinear')\n",
    "model_lr_u.fit(features_upsampled, target_upsampled) \n",
    "predictions_lr_u = model_lr_u.predict(features_valid)\n",
    "result_lr_u = f1_score(target_valid, predictions_lr_u) \n",
    "print('Логистическая регрессия')\n",
    "print('Accuracy', accuracy_score(target_valid, predictions_lr_u))\n",
    "print('Precision', precision_score(target_valid, predictions_lr_u))\n",
    "print('Recall', recall_score(target_valid,predictions_lr_u))\n",
    "print('F-1', result_lr_u)\n",
    "probabilities_valid_lr_u = model_lr_u.predict_proba(features_valid)[:, 1]\n",
    "print(\"AUC-ROC\", roc_auc_score(target_valid, probabilities_valid_lr_u))"
   ]
  },
  {
   "cell_type": "markdown",
   "metadata": {},
   "source": [
    "Увеличение выборки незначительно уменьшило все показатели.\n",
    "\n",
    "Можно попробовать уменьшить строки с классом \"0\", но, скорее всего, значения будут также уменьшаться как при увеличении класса \"1\"."
   ]
  },
  {
   "cell_type": "markdown",
   "metadata": {},
   "source": [
    "### Изменение порога"
   ]
  },
  {
   "cell_type": "markdown",
   "metadata": {},
   "source": [
    "Изменим значение порога и посмотрим, какими станут метрики."
   ]
  },
  {
   "cell_type": "code",
   "execution_count": 36,
   "metadata": {},
   "outputs": [],
   "source": [
    "def change_threshold(probabilities_one_valid):\n",
    "    best_model = None\n",
    "    best_result = 0\n",
    "    for threshold in np.arange(0, 0.6, 0.05):\n",
    "        predicted_valid = probabilities_one_valid > threshold \n",
    "        f1 = f1_score(target_valid, predicted_valid)\n",
    "        print(\"Порог = {:.2f} | F-1 = {:.3f}\".format(threshold, f1))\n",
    "        if f1 > best_result:\n",
    "            best_model_dt = model_dt\n",
    "            best_result_dt = result_dt\n",
    "            best_depth_dt = depth_dt"
   ]
  },
  {
   "cell_type": "code",
   "execution_count": 37,
   "metadata": {},
   "outputs": [
    {
     "name": "stdout",
     "output_type": "stream",
     "text": [
      "Дерево решений\n",
      "Порог = 0.00 | F-1 = 0.341\n",
      "Порог = 0.05 | F-1 = 0.390\n",
      "Порог = 0.10 | F-1 = 0.390\n",
      "Порог = 0.15 | F-1 = 0.423\n",
      "Порог = 0.20 | F-1 = 0.424\n",
      "Порог = 0.25 | F-1 = 0.478\n",
      "Порог = 0.30 | F-1 = 0.493\n",
      "Порог = 0.35 | F-1 = 0.495\n",
      "Порог = 0.40 | F-1 = 0.531\n",
      "Порог = 0.45 | F-1 = 0.542\n",
      "Порог = 0.50 | F-1 = 0.566\n",
      "Порог = 0.55 | F-1 = 0.582\n"
     ]
    }
   ],
   "source": [
    "model_dt_p = DecisionTreeClassifier(random_state=2, max_depth=6, min_samples_leaf=3) \n",
    "model_dt_p.fit(features_train, target_train) \n",
    "predictions_dt_p = model_dt_u.predict_proba(features_valid) \n",
    "probabilities_one_valid_dt = predictions_dt_p[:, 1]\n",
    "print('Дерево решений')\n",
    "change_threshold(probabilities_one_valid_dt)"
   ]
  },
  {
   "cell_type": "code",
   "execution_count": 38,
   "metadata": {},
   "outputs": [
    {
     "name": "stdout",
     "output_type": "stream",
     "text": [
      "Случайный лес\n",
      "Порог = 0.00 | F-1 = 0.348\n",
      "Порог = 0.05 | F-1 = 0.414\n",
      "Порог = 0.10 | F-1 = 0.484\n",
      "Порог = 0.15 | F-1 = 0.542\n",
      "Порог = 0.20 | F-1 = 0.587\n",
      "Порог = 0.25 | F-1 = 0.627\n",
      "Порог = 0.30 | F-1 = 0.616\n",
      "Порог = 0.35 | F-1 = 0.621\n",
      "Порог = 0.40 | F-1 = 0.620\n",
      "Порог = 0.45 | F-1 = 0.601\n",
      "Порог = 0.50 | F-1 = 0.591\n",
      "Порог = 0.55 | F-1 = 0.556\n"
     ]
    }
   ],
   "source": [
    "model_rf_p = RandomForestClassifier(random_state=2761, min_samples_leaf=3, n_estimators=63, max_depth=17)\n",
    "model_rf_p.fit(features_train, target_train) \n",
    "predictions_rf_p = model_rf_p.predict_proba(features_valid) \n",
    "probabilities_one_valid_rf = predictions_rf_p[:, 1]\n",
    "print('Случайный лес')\n",
    "change_threshold(probabilities_one_valid_rf)"
   ]
  },
  {
   "cell_type": "code",
   "execution_count": 39,
   "metadata": {},
   "outputs": [
    {
     "name": "stdout",
     "output_type": "stream",
     "text": [
      "Логистическая регрессия\n",
      "Порог = 0.00 | F-1 = 0.346\n",
      "Порог = 0.05 | F-1 = 0.379\n",
      "Порог = 0.10 | F-1 = 0.423\n",
      "Порог = 0.15 | F-1 = 0.462\n",
      "Порог = 0.20 | F-1 = 0.478\n",
      "Порог = 0.25 | F-1 = 0.499\n",
      "Порог = 0.30 | F-1 = 0.484\n",
      "Порог = 0.35 | F-1 = 0.454\n",
      "Порог = 0.40 | F-1 = 0.398\n",
      "Порог = 0.45 | F-1 = 0.367\n",
      "Порог = 0.50 | F-1 = 0.331\n",
      "Порог = 0.55 | F-1 = 0.270\n"
     ]
    }
   ],
   "source": [
    "model_lr_p = LogisticRegression(random_state=2761, solver='liblinear')\n",
    "model_lr_p.fit(features_train, target_train) \n",
    "predictions_lr_p = model_lr_p.predict_proba(features_valid)\n",
    "probabilities_one_valid_lr = predictions_lr_p[:, 1]\n",
    "print('Логистическая регрессия')\n",
    "change_threshold(probabilities_one_valid_lr)"
   ]
  },
  {
   "cell_type": "markdown",
   "metadata": {},
   "source": [
    "При изменении порога модели случайного леса, равного 0.25 значение F-1 = 0.627, при изменении порога модели логистической регрессии, равного 0.25 значение F-1 = 0.499,в модели дерева решений при пороге = 0.55 значение F-1 = 0.582."
   ]
  },
  {
   "cell_type": "markdown",
   "metadata": {},
   "source": [
    "### Вывод"
   ]
  },
  {
   "cell_type": "markdown",
   "metadata": {},
   "source": [
    "Для борьбы с дисбалансом классов были использованы следующие способы и получены следующие значения:\n",
    "\n",
    "\n",
    "1. При изменении весов:\n",
    "\n",
    "* У дерева решений значение f-1 уменьшилось (по сравнению с моделью без изменения веса класса, было 0.5753 стало 0.5677)\n",
    "* У логистической регрессии f-1 увеличилось (по сравнению с моделью без изменения веса класса, было 0.3311 стало 0.4889) \n",
    "* У случайного леса f-1 увеличилось (по сравнению с моделью без изменения веса класса, было 0.5925 стало 0.6175) \n",
    "\n",
    "2. При увеличении выборки показатели F-1 всех моделей уменьшились.\n",
    "\n",
    "\n",
    "3. При изменении порога:\n",
    " \n",
    "* При изменении порога модели случайного леса, равного 0.25 значение F-1 = 0.627\n",
    "* При изменении порога модели логистической регрессии, равного 0.25 значение F-1 = 0.499\n",
    "* В модели дерева решений при пороге = 0.55 значение F-1 = 0.582"
   ]
  },
  {
   "cell_type": "markdown",
   "metadata": {},
   "source": [
    "## Тестирование модели"
   ]
  },
  {
   "cell_type": "markdown",
   "metadata": {},
   "source": [
    "Проверим модель случайного леса с подобранными гиперпараметрами и учетом веса классов на тестовой выборке:"
   ]
  },
  {
   "cell_type": "code",
   "execution_count": 58,
   "metadata": {},
   "outputs": [
    {
     "name": "stdout",
     "output_type": "stream",
     "text": [
      "F-1 модели случайного леса на тестовой выборке 0.6145833333333333\n",
      "AUC-ROC 0.852744310575636\n"
     ]
    }
   ],
   "source": [
    "predictions_rf_test = model_rf_b.predict(features_test)\n",
    "result_rf_test = f1_score(target_test, predictions_rf_test)\n",
    "probabilities_rf_test = model_rf_b.predict_proba(features_test)[:, 1]\n",
    "print('F-1 модели случайного леса на тестовой выборке',result_rf_test)\n",
    "print(\"AUC-ROC\", roc_auc_score(target_test, probabilities_rf_test))"
   ]
  },
  {
   "cell_type": "markdown",
   "metadata": {},
   "source": [
    "Попробуем подобрать другие гиперпараметры для улучшения модели:"
   ]
  },
  {
   "cell_type": "code",
   "execution_count": 42,
   "metadata": {},
   "outputs": [
    {
     "name": "stdout",
     "output_type": "stream",
     "text": [
      "estimators = 10 F-1 лучшей модели на валидационной выборке: 0.6185044359949303\n",
      "estimators = 20 F-1 лучшей модели на валидационной выборке: 0.592020592020592\n",
      "estimators = 30 F-1 лучшей модели на валидационной выборке: 0.6020671834625323\n",
      "estimators = 40 F-1 лучшей модели на валидационной выборке: 0.6113989637305699\n",
      "estimators = 50 F-1 лучшей модели на валидационной выборке: 0.6219354838709678\n",
      "estimators = 60 F-1 лучшей модели на валидационной выборке: 0.6219354838709678\n",
      "estimators = 70 F-1 лучшей модели на валидационной выборке: 0.6262886597938144\n",
      "estimators = 80 F-1 лучшей модели на валидационной выборке: 0.6246786632390746\n",
      "estimators = 90 F-1 лучшей модели на валидационной выборке: 0.6229086229086229\n",
      "estimators = 100 F-1 лучшей модели на валидационной выборке: 0.6219354838709678\n",
      "estimators = 110 F-1 лучшей модели на валидационной выборке: 0.6185567010309277\n",
      "estimators = 120 F-1 лучшей модели на валидационной выборке: 0.6199740596627755\n",
      "estimators = 130 F-1 лучшей модели на валидационной выборке: 0.6201550387596899\n",
      "estimators = 140 F-1 лучшей модели на валидационной выборке: 0.6193548387096773\n",
      "estimators = 150 F-1 лучшей модели на валидационной выборке: 0.6175710594315246\n",
      "estimators = 160 F-1 лучшей модели на валидационной выборке: 0.6195372750642674\n",
      "estimators = 170 F-1 лучшей модели на валидационной выборке: 0.6126126126126126\n",
      "estimators = 180 F-1 лучшей модели на валидационной выборке: 0.6108247422680413\n",
      "estimators = 190 F-1 лучшей модели на валидационной выборке: 0.6151866151866152\n",
      "estimators = 200 F-1 лучшей модели на валидационной выборке: 0.617948717948718\n",
      "estimators = 210 F-1 лучшей модели на валидационной выборке: 0.6112531969309463\n",
      "estimators = 220 F-1 лучшей модели на валидационной выборке: 0.6145966709346992\n",
      "estimators = 230 F-1 лучшей модели на валидационной выборке: 0.6147959183673468\n",
      "estimators = 240 F-1 лучшей модели на валидационной выборке: 0.6130268199233717\n",
      "estimators = 250 F-1 лучшей модели на валидационной выборке: 0.6138107416879796\n",
      "estimators = 260 F-1 лучшей модели на валидационной выборке: 0.6163682864450128\n",
      "estimators = 270 F-1 лучшей модели на валидационной выборке: 0.6143958868894601\n",
      "estimators = 280 F-1 лучшей модели на валидационной выборке: 0.61003861003861\n",
      "estimators = 290 F-1 лучшей модели на валидационной выборке: 0.6195372750642674\n",
      "estimators = 300 F-1 лучшей модели на валидационной выборке: 0.6126126126126126\n",
      "estimators = 310 F-1 лучшей модели на валидационной выборке: 0.6195372750642674\n",
      "estimators = 320 F-1 лучшей модели на валидационной выборке: 0.6177606177606177\n",
      "estimators = 330 F-1 лучшей модели на валидационной выборке: 0.6169665809768637\n",
      "estimators = 340 F-1 лучшей модели на валидационной выборке: 0.622107969151671\n",
      "estimators = 350 F-1 лучшей модели на валидационной выборке: 0.6246786632390746\n",
      "estimators = 360 F-1 лучшей модели на валидационной выборке: 0.6151866151866152\n",
      "estimators = 370 F-1 лучшей модели на валидационной выборке: 0.6088082901554404\n",
      "estimators = 380 F-1 лучшей модели на валидационной выборке: 0.6131953428201811\n",
      "estimators = 390 F-1 лучшей модели на валидационной выборке: 0.6139896373056994\n",
      "estimators = 400 F-1 лучшей модели на валидационной выборке: 0.6116129032258064\n",
      "estimators = 410 F-1 лучшей модели на валидационной выборке: 0.6124031007751938\n",
      "estimators = 420 F-1 лучшей модели на валидационной выборке: 0.6113989637305699\n",
      "estimators = 430 F-1 лучшей модели на валидационной выборке: 0.6106080206985769\n",
      "estimators = 440 F-1 лучшей модели на валидационной выборке: 0.6124031007751938\n",
      "estimators = 450 F-1 лучшей модели на валидационной выборке: 0.6124031007751938\n",
      "estimators = 460 F-1 лучшей модели на валидационной выборке: 0.6134020618556701\n",
      "estimators = 470 F-1 лучшей модели на валидационной выборке: 0.6131953428201811\n",
      "estimators = 480 F-1 лучшей модели на валидационной выборке: 0.6141935483870967\n",
      "estimators = 490 F-1 лучшей модели на валидационной выборке: 0.6141935483870967\n",
      "CPU times: user 1min 8s, sys: 320 ms, total: 1min 8s\n",
      "Wall time: 1min 9s\n"
     ]
    }
   ],
   "source": [
    "%%time # 1-1.5 минуты\n",
    "\n",
    "for est in range(10, 500, 10):\n",
    "    model =  RandomForestClassifier(random_state=12345, n_estimators=est, min_samples_leaf=3, class_weight='balanced')\n",
    "    model.fit(features_train, target_train)\n",
    "    predicted_valid = model.predict(features_valid)\n",
    "    print('estimators =', est,\"F-1 лучшей модели на валидационной выборке:\", f1_score(target_valid, predicted_valid))"
   ]
  },
  {
   "cell_type": "markdown",
   "metadata": {},
   "source": [
    "При проверке результатов на сервере jupyter hub значения на валидационной выборке немного поменялись, но на тесте немного увеличились, поэтому я их оставила, поменяла только параметр max_depth."
   ]
  },
  {
   "cell_type": "code",
   "execution_count": 51,
   "metadata": {},
   "outputs": [
    {
     "name": "stdout",
     "output_type": "stream",
     "text": [
      "estimators = 120 F-1 лучшей модели на валидационной выборке: 0.6199740596627755\n",
      "estimators = 121 F-1 лучшей модели на валидационной выборке: 0.6191709844559585\n",
      "estimators = 122 F-1 лучшей модели на валидационной выборке: 0.6165803108808291\n",
      "estimators = 123 F-1 лучшей модели на валидационной выборке: 0.6219354838709678\n",
      "estimators = 124 F-1 лучшей модели на валидационной выборке: 0.6203346203346202\n",
      "estimators = 125 F-1 лучшей модели на валидационной выборке: 0.6193548387096773\n",
      "estimators = 126 F-1 лучшей модели на валидационной выборке: 0.616774193548387\n",
      "estimators = 127 F-1 лучшей модели на валидационной выборке: 0.6201550387596899\n",
      "estimators = 128 F-1 лучшей модели на валидационной выборке: 0.6201550387596899\n",
      "estimators = 129 F-1 лучшей модели на валидационной выборке: 0.6193548387096773\n",
      "estimators = 130 F-1 лучшей модели на валидационной выборке: 0.6201550387596899\n",
      "estimators = 131 F-1 лучшей модели на валидационной выборке: 0.6201550387596899\n",
      "estimators = 132 F-1 лучшей модели на валидационной выборке: 0.6209573091849936\n",
      "estimators = 133 F-1 лучшей модели на валидационной выборке: 0.6193548387096773\n",
      "estimators = 134 F-1 лучшей модели на валидационной выборке: 0.6185567010309277\n",
      "estimators = 135 F-1 лучшей модели на валидационной выборке: 0.6201550387596899\n"
     ]
    }
   ],
   "source": [
    "for est in range(120, 136): \n",
    "    model =  RandomForestClassifier(random_state=12345, n_estimators=est, min_samples_leaf=3, class_weight='balanced')\n",
    "    model.fit(features_train, target_train)\n",
    "    predicted_valid = model.predict(features_valid)\n",
    "    print('estimators =', est,\"F-1 лучшей модели на валидационной выборке:\", f1_score(target_valid, predicted_valid))"
   ]
  },
  {
   "cell_type": "code",
   "execution_count": 52,
   "metadata": {},
   "outputs": [
    {
     "name": "stdout",
     "output_type": "stream",
     "text": [
      "max_depth = 1 F-1 лучшей модели на валидационной выборке: 0.5432780847145487\n",
      "max_depth = 2 F-1 лучшей модели на валидационной выборке: 0.572232645403377\n",
      "max_depth = 3 F-1 лучшей модели на валидационной выборке: 0.5921052631578947\n",
      "max_depth = 4 F-1 лучшей модели на валидационной выборке: 0.605593056894889\n",
      "max_depth = 5 F-1 лучшей модели на валидационной выборке: 0.603515625\n",
      "max_depth = 6 F-1 лучшей модели на валидационной выборке: 0.6155398587285571\n",
      "max_depth = 7 F-1 лучшей модели на валидационной выборке: 0.6201058201058202\n",
      "max_depth = 8 F-1 лучшей модели на валидационной выборке: 0.6244635193133048\n",
      "max_depth = 9 F-1 лучшей модели на валидационной выборке: 0.6243032329988851\n",
      "max_depth = 10 F-1 лучшей модели на валидационной выборке: 0.627906976744186\n",
      "max_depth = 11 F-1 лучшей модели на валидационной выборке: 0.6187050359712231\n",
      "max_depth = 12 F-1 лучшей модели на валидационной выборке: 0.6280193236714976\n",
      "max_depth = 13 F-1 лучшей модели на валидационной выборке: 0.6254635352286774\n",
      "max_depth = 14 F-1 лучшей модели на валидационной выборке: 0.6217228464419476\n",
      "max_depth = 15 F-1 лучшей модели на валидационной выборке: 0.6153846153846154\n",
      "max_depth = 16 F-1 лучшей модели на валидационной выборке: 0.619108280254777\n",
      "max_depth = 17 F-1 лучшей модели на валидационной выборке: 0.617157490396927\n",
      "max_depth = 18 F-1 лучшей модели на валидационной выборке: 0.6290115532734274\n",
      "max_depth = 19 F-1 лучшей модели на валидационной выборке: 0.6165803108808291\n"
     ]
    }
   ],
   "source": [
    " for depth in range (1, 20): \n",
    "    model = RandomForestClassifier(random_state=12345, min_samples_leaf=3, n_estimators=128, max_depth=depth, class_weight='balanced')\n",
    "    model.fit(features_train, target_train) \n",
    "    predicted_valid = model.predict(features_valid)\n",
    "    print('max_depth =', depth,\"F-1 лучшей модели на валидационной выборке:\", f1_score(target_valid, predicted_valid))"
   ]
  },
  {
   "cell_type": "code",
   "execution_count": 25,
   "metadata": {},
   "outputs": [
    {
     "name": "stdout",
     "output_type": "stream",
     "text": [
      "F-1 лучшей модели на валидационной выборке: 0.6290115532734274\n",
      "\n",
      "Accuracy модели случайного леса на тестовой выборке 0.8495\n",
      "Precision модели случайного леса на тестовой выборке 0.6713483146067416\n",
      "Recall модели случайного леса на тестовой выборке 0.5650118203309693\n",
      "F-1 модели случайного леса на тестовой выборке 0.613607188703466\n",
      "AUC-ROC на тестовой выборке 0.8544817568144919\n"
     ]
    }
   ],
   "source": [
    "model =  RandomForestClassifier(random_state=12345, n_estimators=128, min_samples_leaf=3,max_depth=18, class_weight='balanced')\n",
    "model.fit(features_train, target_train)\n",
    "predicted_valid = model.predict(features_valid)\n",
    "print(\"F-1 лучшей модели на валидационной выборке:\", f1_score(target_valid, predicted_valid))\n",
    "print()\n",
    "\n",
    "\n",
    "predictions_test = model.predict(features_test)\n",
    "result_test = f1_score(target_test, predictions_test)\n",
    "print('Accuracy модели случайного леса на тестовой выборке', accuracy_score(target_test, predictions_test))\n",
    "print('Precision модели случайного леса на тестовой выборке', precision_score(target_test, predictions_test))\n",
    "print('Recall модели случайного леса на тестовой выборке', recall_score(target_test, predictions_test))\n",
    "print('F-1 модели случайного леса на тестовой выборке', result_test)\n",
    "probabilities_test = model.predict_proba(features_test)[:, 1]\n",
    "print(\"AUC-ROC на тестовой выборке\", roc_auc_score(target_test, probabilities_test))"
   ]
  },
  {
   "cell_type": "code",
   "execution_count": 26,
   "metadata": {},
   "outputs": [
    {
     "data": {
      "image/png": "[encoded data removed]",
      "text/plain": [
       "<Figure size 864x648 with 1 Axes>"
      ]
     },
     "metadata": {
      "needs_background": "light"
     },
     "output_type": "display_data"
    }
   ],
   "source": [
    "fpr, tpr, thresholds = roc_curve(target_test, probabilities_test) \n",
    "\n",
    "plt.figure(figsize=[12,9])\n",
    "plt.plot(fpr, tpr, label='RandomForestClassifier')\n",
    "\n",
    "plt.plot([0, 1], [0, 1], linestyle='--', label='RandomModel') # ROC-кривая случайной модели (выглядит как прямая)\n",
    "\n",
    "plt.xlabel('False Positive Rate')\n",
    "plt.ylabel('True Positive Rate')\n",
    "plt.ylim([0.0, 1.0])\n",
    "plt.xlim([0.0, 1.0])\n",
    "plt.title('ROC-кривая')\n",
    "plt.legend(loc='lower right', fontsize='xx-large')\n",
    "plt.show()"
   ]
  },
  {
   "cell_type": "markdown",
   "metadata": {},
   "source": [
    "### Вывод"
   ]
  },
  {
   "cell_type": "markdown",
   "metadata": {},
   "source": [
    "Подобрав лучшие гиперпараметры модели случайного леса, получились следующие значения показателей на тестовой выборке:\n",
    "* F-1 - 0.6136\n",
    "* AUC-ROC - 0.8545"
   ]
  },
  {
   "cell_type": "markdown",
   "metadata": {},
   "source": [
    "## Вывод"
   ]
  },
  {
   "cell_type": "markdown",
   "metadata": {},
   "source": [
    "Для решения задачи прогнозирования оттока клиентов были построены модели дерева решений, случайного леса и логистической регрессии сначала без учета дисбаланса классов. Дисбаланс был исправлен разными методами, метод добавления веса для класса, который встречается реже дал улучшение F-1-меры.\n",
    "\n",
    "Полученная модель случайного леса со взвешенными классами показала значение F-1-меры, равное 0,6136. Также модель показала себя лучше случайной, значение AUC-ROC равно 0,8545 (у случайной модели этот показатель равен 0,5). \n",
    "Точность модели достигает 0,85, Precision равен 0.67, а Recall равен 0.565, значит модель делает высокоточные предсказания, определяя, уйдет ли клиент из банка."
   ]
  },
  {
   "cell_type": "code",
   "execution_count": 27,
   "metadata": {
    "scrolled": true
   },
   "outputs": [
    {
     "data": {
      "image/png": "[encoded data removed]",
      "text/plain": [
       "<Figure size 432x288 with 1 Axes>"
      ]
     },
     "metadata": {
      "needs_background": "light"
     },
     "output_type": "display_data"
    }
   ],
   "source": [
    "import seaborn as sns\n",
    "feature_importance = model.feature_importances_\n",
    "feature_imp = pd.DataFrame(sorted(zip(feature_importance, features.columns)), columns=['Value','Feature'])\n",
    "sns.barplot(x=\"Value\", y=\"Feature\", data=feature_imp.sort_values(by=\"Value\", ascending=False))\n",
    "plt.title('Feature importance')\n",
    "plt.tight_layout()\n",
    "plt.show();"
   ]
  }
 ],
 "metadata": {
  "ExecuteTimeLog": [
   {
    "duration": 1131,
    "start_time": "2022-02-28T19:47:07.555Z"
   },
   {
    "duration": 24,
    "start_time": "2022-02-28T19:47:14.474Z"
   },
   {
    "duration": 3,
    "start_time": "2022-02-28T19:47:20.546Z"
   },
   {
    "duration": 9,
    "start_time": "2022-02-28T19:47:22.714Z"
   },
   {
    "duration": 10,
    "start_time": "2022-02-28T19:47:33.571Z"
   },
   {
    "duration": 16,
    "start_time": "2022-02-28T19:47:36.140Z"
   },
   {
    "duration": 40,
    "start_time": "2022-02-28T19:47:38.027Z"
   },
   {
    "duration": 12,
    "start_time": "2022-02-28T19:47:40.131Z"
   },
   {
    "duration": 3,
    "start_time": "2022-02-28T19:47:41.971Z"
   },
   {
    "duration": 424,
    "start_time": "2022-02-28T19:47:42.820Z"
   },
   {
    "duration": 7,
    "start_time": "2022-02-28T19:47:44.938Z"
   },
   {
    "duration": 17,
    "start_time": "2022-02-28T19:47:54.056Z"
   },
   {
    "duration": 5,
    "start_time": "2022-02-28T19:47:56.875Z"
   },
   {
    "duration": 7,
    "start_time": "2022-02-28T19:47:57.867Z"
   },
   {
    "duration": 5,
    "start_time": "2022-02-28T19:48:00.531Z"
   },
   {
    "duration": 9,
    "start_time": "2022-02-28T19:48:02.194Z"
   },
   {
    "duration": 14,
    "start_time": "2022-02-28T19:48:05.803Z"
   },
   {
    "duration": 13,
    "start_time": "2022-02-28T19:48:06.986Z"
   },
   {
    "duration": 9,
    "start_time": "2022-02-28T19:48:10.315Z"
   },
   {
    "duration": 4,
    "start_time": "2022-02-28T19:48:18.387Z"
   },
   {
    "duration": 7,
    "start_time": "2022-02-28T19:48:19.699Z"
   },
   {
    "duration": 7,
    "start_time": "2022-02-28T19:48:20.739Z"
   },
   {
    "duration": 5,
    "start_time": "2022-02-28T19:48:21.634Z"
   },
   {
    "duration": 144,
    "start_time": "2022-02-28T19:48:24.827Z"
   },
   {
    "duration": 23,
    "start_time": "2022-02-28T19:48:28.554Z"
   },
   {
    "duration": 240,
    "start_time": "2022-02-28T19:48:33.141Z"
   },
   {
    "duration": 15,
    "start_time": "2022-02-28T19:48:41.298Z"
   },
   {
    "duration": 66885,
    "start_time": "2022-02-28T19:48:53.922Z"
   },
   {
    "duration": 53,
    "start_time": "2022-02-28T19:50:51.788Z"
   },
   {
    "duration": 24,
    "start_time": "2022-02-28T19:51:03.924Z"
   },
   {
    "duration": 517,
    "start_time": "2022-02-28T19:51:34.126Z"
   },
   {
    "duration": 293,
    "start_time": "2022-02-28T19:52:07.996Z"
   },
   {
    "duration": 3,
    "start_time": "2022-02-28T19:52:19.565Z"
   },
   {
    "duration": 14,
    "start_time": "2022-02-28T19:52:21.013Z"
   },
   {
    "duration": 684,
    "start_time": "2022-02-28T19:53:42.660Z"
   },
   {
    "duration": 4,
    "start_time": "2022-02-28T19:54:35.382Z"
   },
   {
    "duration": 39,
    "start_time": "2022-02-28T19:54:36.365Z"
   },
   {
    "duration": 384,
    "start_time": "2022-02-28T19:54:38.069Z"
   },
   {
    "duration": 226,
    "start_time": "2022-02-28T19:54:40.317Z"
   },
   {
    "duration": 51,
    "start_time": "2022-02-28T19:55:05.862Z"
   },
   {
    "duration": 322,
    "start_time": "2022-02-28T19:55:27.878Z"
   },
   {
    "duration": 69067,
    "start_time": "2022-02-28T19:55:38.286Z"
   },
   {
    "duration": 607,
    "start_time": "2022-02-28T19:59:00.114Z"
   },
   {
    "duration": 9170,
    "start_time": "2022-02-28T19:59:05.976Z"
   },
   {
    "duration": 11799,
    "start_time": "2022-02-28T19:59:53.192Z"
   },
   {
    "duration": 29163,
    "start_time": "2022-02-28T20:00:28.912Z"
   },
   {
    "duration": 9023,
    "start_time": "2022-02-28T20:01:33.881Z"
   },
   {
    "duration": 6530,
    "start_time": "2022-02-28T20:02:12.761Z"
   },
   {
    "duration": 10862,
    "start_time": "2022-02-28T20:02:38.985Z"
   },
   {
    "duration": 6549,
    "start_time": "2022-02-28T20:03:07.849Z"
   },
   {
    "duration": 11495,
    "start_time": "2022-02-28T20:03:36.961Z"
   },
   {
    "duration": 11111,
    "start_time": "2022-02-28T20:03:54.769Z"
   },
   {
    "duration": 697,
    "start_time": "2022-02-28T20:04:12.633Z"
   },
   {
    "duration": 818,
    "start_time": "2022-02-28T20:04:20.193Z"
   },
   {
    "duration": 258,
    "start_time": "2022-02-28T20:06:48.435Z"
   },
   {
    "duration": 1072,
    "start_time": "2022-02-28T20:13:21.053Z"
   },
   {
    "duration": 821,
    "start_time": "2022-02-28T20:13:33.149Z"
   },
   {
    "duration": 51,
    "start_time": "2022-02-28T21:58:43.505Z"
   },
   {
    "duration": 225,
    "start_time": "2022-02-28T22:00:57.523Z"
   },
   {
    "duration": 223,
    "start_time": "2022-02-28T22:01:15.948Z"
   },
   {
    "duration": 18,
    "start_time": "2022-02-28T22:01:27.822Z"
   },
   {
    "duration": 183,
    "start_time": "2022-02-28T22:01:48.852Z"
   },
   {
    "duration": 332,
    "start_time": "2022-02-28T22:02:37.061Z"
   },
   {
    "duration": 328,
    "start_time": "2022-02-28T22:02:59.917Z"
   },
   {
    "duration": 1118,
    "start_time": "2022-03-01T08:08:25.446Z"
   },
   {
    "duration": 27,
    "start_time": "2022-03-01T08:08:26.565Z"
   },
   {
    "duration": 3,
    "start_time": "2022-03-01T08:08:26.594Z"
   },
   {
    "duration": 14,
    "start_time": "2022-03-01T08:08:26.598Z"
   },
   {
    "duration": 19,
    "start_time": "2022-03-01T08:08:26.614Z"
   },
   {
    "duration": 37,
    "start_time": "2022-03-01T08:08:26.635Z"
   },
   {
    "duration": 11,
    "start_time": "2022-03-01T08:08:26.674Z"
   },
   {
    "duration": 2,
    "start_time": "2022-03-01T08:08:26.687Z"
   },
   {
    "duration": 478,
    "start_time": "2022-03-01T08:08:26.692Z"
   },
   {
    "duration": 7,
    "start_time": "2022-03-01T08:08:27.172Z"
   },
   {
    "duration": 22,
    "start_time": "2022-03-01T08:08:27.180Z"
   },
   {
    "duration": 4,
    "start_time": "2022-03-01T08:08:27.233Z"
   },
   {
    "duration": 9,
    "start_time": "2022-03-01T08:08:27.239Z"
   },
   {
    "duration": 4,
    "start_time": "2022-03-01T08:08:27.250Z"
   },
   {
    "duration": 12,
    "start_time": "2022-03-01T08:08:27.256Z"
   },
   {
    "duration": 16,
    "start_time": "2022-03-01T08:08:27.270Z"
   },
   {
    "duration": 14,
    "start_time": "2022-03-01T08:08:27.287Z"
   },
   {
    "duration": 38,
    "start_time": "2022-03-01T08:08:27.303Z"
   },
   {
    "duration": 4,
    "start_time": "2022-03-01T08:08:27.343Z"
   },
   {
    "duration": 8,
    "start_time": "2022-03-01T08:08:27.349Z"
   },
   {
    "duration": 6,
    "start_time": "2022-03-01T08:08:27.359Z"
   },
   {
    "duration": 4,
    "start_time": "2022-03-01T08:08:27.367Z"
   },
   {
    "duration": 225,
    "start_time": "2022-03-01T08:08:27.373Z"
   },
   {
    "duration": 44,
    "start_time": "2022-03-01T08:08:27.600Z"
   },
   {
    "duration": 1213,
    "start_time": "2022-03-01T08:08:35.269Z"
   },
   {
    "duration": 367,
    "start_time": "2022-03-01T08:08:38.447Z"
   },
   {
    "duration": 503,
    "start_time": "2022-03-01T08:08:58.278Z"
   }
  ],
  "kernelspec": {
   "display_name": "Python 3 (ipykernel)",
   "language": "python",
   "name": "python3"
  },
  "language_info": {
   "codemirror_mode": {
    "name": "ipython",
    "version": 3
   },
   "file_extension": ".py",
   "mimetype": "text/x-python",
   "name": "python",
   "nbconvert_exporter": "python",
   "pygments_lexer": "ipython3",
   "version": "3.9.7"
  },
  "toc": {
   "base_numbering": 1,
   "nav_menu": {},
   "number_sections": true,
   "sideBar": true,
   "skip_h1_title": true,
   "title_cell": "Содержание",
   "title_sidebar": "Contents",
   "toc_cell": true,
   "toc_position": {
    "height": "calc(100% - 180px)",
    "left": "10px",
    "top": "150px",
    "width": "384px"
   },
   "toc_section_display": true,
   "toc_window_display": true
  }
 },
 "nbformat": 4,
 "nbformat_minor": 2
}
