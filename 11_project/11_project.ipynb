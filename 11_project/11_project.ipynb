{
 "cells": [
  {
   "cell_type": "markdown",
   "metadata": {},
   "source": [
    "# Определение стоимости автомобилей"
   ]
  },
  {
   "cell_type": "markdown",
   "metadata": {},
   "source": [
    "Сервис по продаже автомобилей с пробегом «Не бит, не крашен» разрабатывает приложение для привлечения новых клиентов. В нём можно быстро узнать рыночную стоимость своего автомобиля. В вашем распоряжении исторические данные: технические характеристики, комплектации и цены автомобилей. Вам нужно построить модель для определения стоимости. \n",
    "\n",
    "Заказчику важны:\n",
    "\n",
    "- качество предсказания;\n",
    "- скорость предсказания;\n",
    "- время обучения."
   ]
  },
  {
   "cell_type": "markdown",
   "metadata": {},
   "source": [
    "### Описание данных"
   ]
  },
  {
   "cell_type": "markdown",
   "metadata": {},
   "source": [
    "**Признаки**\n",
    "\n",
    "- *DateCrawled* — дата скачивания анкеты из базы\n",
    "- *VehicleType* — тип автомобильного кузова\n",
    "- *RegistrationYear* — год регистрации автомобиля\n",
    "- *Gearbox* — тип коробки передач\n",
    "- *Power* — мощность (л. с.)\n",
    "- *Model* — модель автомобиля\n",
    "- *Kilometer* — пробег (км)\n",
    "- *RegistrationMonth* — месяц регистрации автомобиля\n",
    "- *FuelType* — тип топлива\n",
    "- *Brand* — марка автомобиля\n",
    "- *NotRepaired* — была машина в ремонте или нет\n",
    "- *DateCreated* — дата создания анкеты\n",
    "- *NumberOfPictures* — количество фотографий автомобиля\n",
    "- *PostalCode* — почтовый индекс владельца анкеты (пользователя)\n",
    "- *LastSeen* — дата последней активности пользователя\n",
    "\n",
    "**Целевой признак**\n",
    "\n",
    "- *Price* — цена (евро)"
   ]
  },
  {
   "cell_type": "markdown",
   "metadata": {},
   "source": [
    "## Подготовка данных"
   ]
  },
  {
   "cell_type": "code",
   "execution_count": 1,
   "metadata": {},
   "outputs": [],
   "source": [
    "# импортируем необходимые библиотеки\n",
    "import pandas as pd\n",
    "import numpy as np\n",
    "\n",
    "from sklearn.model_selection import train_test_split\n",
    "from sklearn.metrics import mean_squared_error\n",
    "from sklearn.model_selection import RandomizedSearchCV\n",
    "from sklearn.model_selection import GridSearchCV\n",
    "\n",
    "from sklearn.ensemble import RandomForestRegressor\n",
    "from sklearn.linear_model import LinearRegression\n",
    "from sklearn.dummy import DummyRegressor\n",
    "from catboost import CatBoostRegressor\n",
    "from lightgbm import LGBMRegressor\n",
    "\n",
    "import warnings\n",
    "warnings.filterwarnings('ignore')"
   ]
  },
  {
   "cell_type": "code",
   "execution_count": 2,
   "metadata": {},
   "outputs": [],
   "source": [
    "# Сброс ограничений на количество выводимых рядов\n",
    "pd.set_option('display.max_rows', None)\n",
    "\n",
    "# Сброс ограничений на число столбцов\n",
    "pd.set_option('display.max_columns', None)\n",
    "\n",
    "# Сброс ограничений на количество символов в записи\n",
    "pd.set_option('display.max_colwidth', None)"
   ]
  },
  {
   "cell_type": "code",
   "execution_count": 3,
   "metadata": {},
   "outputs": [],
   "source": [
    "df_car = pd.read_csv('/datasets/autos.csv')\n",
    "\n",
    "#df_car = pd.read_csv('autos.csv')"
   ]
  },
  {
   "cell_type": "markdown",
   "metadata": {},
   "source": [
    "Изучим данные:"
   ]
  },
  {
   "cell_type": "code",
   "execution_count": 4,
   "metadata": {},
   "outputs": [
    {
     "name": "stdout",
     "output_type": "stream",
     "text": [
      "<class 'pandas.core.frame.DataFrame'>\n",
      "RangeIndex: 354369 entries, 0 to 354368\n",
      "Data columns (total 16 columns):\n",
      " #   Column             Non-Null Count   Dtype \n",
      "---  ------             --------------   ----- \n",
      " 0   DateCrawled        354369 non-null  object\n",
      " 1   Price              354369 non-null  int64 \n",
      " 2   VehicleType        316879 non-null  object\n",
      " 3   RegistrationYear   354369 non-null  int64 \n",
      " 4   Gearbox            334536 non-null  object\n",
      " 5   Power              354369 non-null  int64 \n",
      " 6   Model              334664 non-null  object\n",
      " 7   Kilometer          354369 non-null  int64 \n",
      " 8   RegistrationMonth  354369 non-null  int64 \n",
      " 9   FuelType           321474 non-null  object\n",
      " 10  Brand              354369 non-null  object\n",
      " 11  NotRepaired        283215 non-null  object\n",
      " 12  DateCreated        354369 non-null  object\n",
      " 13  NumberOfPictures   354369 non-null  int64 \n",
      " 14  PostalCode         354369 non-null  int64 \n",
      " 15  LastSeen           354369 non-null  object\n",
      "dtypes: int64(7), object(9)\n",
      "memory usage: 43.3+ MB\n"
     ]
    }
   ],
   "source": [
    "df_car.info()"
   ]
  },
  {
   "cell_type": "code",
   "execution_count": 5,
   "metadata": {},
   "outputs": [
    {
     "data": {
      "text/html": [
       "<div>\n",
       "<style scoped>\n",
       "    .dataframe tbody tr th:only-of-type {\n",
       "        vertical-align: middle;\n",
       "    }\n",
       "\n",
       "    .dataframe tbody tr th {\n",
       "        vertical-align: top;\n",
       "    }\n",
       "\n",
       "    .dataframe thead th {\n",
       "        text-align: right;\n",
       "    }\n",
       "</style>\n",
       "<table border=\"1\" class=\"dataframe\">\n",
       "  <thead>\n",
       "    <tr style=\"text-align: right;\">\n",
       "      <th></th>\n",
       "      <th>DateCrawled</th>\n",
       "      <th>Price</th>\n",
       "      <th>VehicleType</th>\n",
       "      <th>RegistrationYear</th>\n",
       "      <th>Gearbox</th>\n",
       "      <th>Power</th>\n",
       "      <th>Model</th>\n",
       "      <th>Kilometer</th>\n",
       "      <th>RegistrationMonth</th>\n",
       "      <th>FuelType</th>\n",
       "      <th>Brand</th>\n",
       "      <th>NotRepaired</th>\n",
       "      <th>DateCreated</th>\n",
       "      <th>NumberOfPictures</th>\n",
       "      <th>PostalCode</th>\n",
       "      <th>LastSeen</th>\n",
       "    </tr>\n",
       "  </thead>\n",
       "  <tbody>\n",
       "    <tr>\n",
       "      <th>0</th>\n",
       "      <td>2016-03-24 11:52:17</td>\n",
       "      <td>480</td>\n",
       "      <td>NaN</td>\n",
       "      <td>1993</td>\n",
       "      <td>manual</td>\n",
       "      <td>0</td>\n",
       "      <td>golf</td>\n",
       "      <td>150000</td>\n",
       "      <td>0</td>\n",
       "      <td>petrol</td>\n",
       "      <td>volkswagen</td>\n",
       "      <td>NaN</td>\n",
       "      <td>2016-03-24 00:00:00</td>\n",
       "      <td>0</td>\n",
       "      <td>70435</td>\n",
       "      <td>2016-04-07 03:16:57</td>\n",
       "    </tr>\n",
       "    <tr>\n",
       "      <th>1</th>\n",
       "      <td>2016-03-24 10:58:45</td>\n",
       "      <td>18300</td>\n",
       "      <td>coupe</td>\n",
       "      <td>2011</td>\n",
       "      <td>manual</td>\n",
       "      <td>190</td>\n",
       "      <td>NaN</td>\n",
       "      <td>125000</td>\n",
       "      <td>5</td>\n",
       "      <td>gasoline</td>\n",
       "      <td>audi</td>\n",
       "      <td>yes</td>\n",
       "      <td>2016-03-24 00:00:00</td>\n",
       "      <td>0</td>\n",
       "      <td>66954</td>\n",
       "      <td>2016-04-07 01:46:50</td>\n",
       "    </tr>\n",
       "    <tr>\n",
       "      <th>2</th>\n",
       "      <td>2016-03-14 12:52:21</td>\n",
       "      <td>9800</td>\n",
       "      <td>suv</td>\n",
       "      <td>2004</td>\n",
       "      <td>auto</td>\n",
       "      <td>163</td>\n",
       "      <td>grand</td>\n",
       "      <td>125000</td>\n",
       "      <td>8</td>\n",
       "      <td>gasoline</td>\n",
       "      <td>jeep</td>\n",
       "      <td>NaN</td>\n",
       "      <td>2016-03-14 00:00:00</td>\n",
       "      <td>0</td>\n",
       "      <td>90480</td>\n",
       "      <td>2016-04-05 12:47:46</td>\n",
       "    </tr>\n",
       "    <tr>\n",
       "      <th>3</th>\n",
       "      <td>2016-03-17 16:54:04</td>\n",
       "      <td>1500</td>\n",
       "      <td>small</td>\n",
       "      <td>2001</td>\n",
       "      <td>manual</td>\n",
       "      <td>75</td>\n",
       "      <td>golf</td>\n",
       "      <td>150000</td>\n",
       "      <td>6</td>\n",
       "      <td>petrol</td>\n",
       "      <td>volkswagen</td>\n",
       "      <td>no</td>\n",
       "      <td>2016-03-17 00:00:00</td>\n",
       "      <td>0</td>\n",
       "      <td>91074</td>\n",
       "      <td>2016-03-17 17:40:17</td>\n",
       "    </tr>\n",
       "    <tr>\n",
       "      <th>4</th>\n",
       "      <td>2016-03-31 17:25:20</td>\n",
       "      <td>3600</td>\n",
       "      <td>small</td>\n",
       "      <td>2008</td>\n",
       "      <td>manual</td>\n",
       "      <td>69</td>\n",
       "      <td>fabia</td>\n",
       "      <td>90000</td>\n",
       "      <td>7</td>\n",
       "      <td>gasoline</td>\n",
       "      <td>skoda</td>\n",
       "      <td>no</td>\n",
       "      <td>2016-03-31 00:00:00</td>\n",
       "      <td>0</td>\n",
       "      <td>60437</td>\n",
       "      <td>2016-04-06 10:17:21</td>\n",
       "    </tr>\n",
       "  </tbody>\n",
       "</table>\n",
       "</div>"
      ],
      "text/plain": [
       "           DateCrawled  Price VehicleType  RegistrationYear Gearbox  Power  \\\n",
       "0  2016-03-24 11:52:17    480         NaN              1993  manual      0   \n",
       "1  2016-03-24 10:58:45  18300       coupe              2011  manual    190   \n",
       "2  2016-03-14 12:52:21   9800         suv              2004    auto    163   \n",
       "3  2016-03-17 16:54:04   1500       small              2001  manual     75   \n",
       "4  2016-03-31 17:25:20   3600       small              2008  manual     69   \n",
       "\n",
       "   Model  Kilometer  RegistrationMonth  FuelType       Brand NotRepaired  \\\n",
       "0   golf     150000                  0    petrol  volkswagen         NaN   \n",
       "1    NaN     125000                  5  gasoline        audi         yes   \n",
       "2  grand     125000                  8  gasoline        jeep         NaN   \n",
       "3   golf     150000                  6    petrol  volkswagen          no   \n",
       "4  fabia      90000                  7  gasoline       skoda          no   \n",
       "\n",
       "           DateCreated  NumberOfPictures  PostalCode             LastSeen  \n",
       "0  2016-03-24 00:00:00                 0       70435  2016-04-07 03:16:57  \n",
       "1  2016-03-24 00:00:00                 0       66954  2016-04-07 01:46:50  \n",
       "2  2016-03-14 00:00:00                 0       90480  2016-04-05 12:47:46  \n",
       "3  2016-03-17 00:00:00                 0       91074  2016-03-17 17:40:17  \n",
       "4  2016-03-31 00:00:00                 0       60437  2016-04-06 10:17:21  "
      ]
     },
     "execution_count": 5,
     "metadata": {},
     "output_type": "execute_result"
    }
   ],
   "source": [
    "df_car.head()"
   ]
  },
  {
   "cell_type": "code",
   "execution_count": 6,
   "metadata": {},
   "outputs": [
    {
     "data": {
      "text/html": [
       "<div>\n",
       "<style scoped>\n",
       "    .dataframe tbody tr th:only-of-type {\n",
       "        vertical-align: middle;\n",
       "    }\n",
       "\n",
       "    .dataframe tbody tr th {\n",
       "        vertical-align: top;\n",
       "    }\n",
       "\n",
       "    .dataframe thead th {\n",
       "        text-align: right;\n",
       "    }\n",
       "</style>\n",
       "<table border=\"1\" class=\"dataframe\">\n",
       "  <thead>\n",
       "    <tr style=\"text-align: right;\">\n",
       "      <th></th>\n",
       "      <th>Price</th>\n",
       "      <th>RegistrationYear</th>\n",
       "      <th>Power</th>\n",
       "      <th>Kilometer</th>\n",
       "      <th>RegistrationMonth</th>\n",
       "      <th>NumberOfPictures</th>\n",
       "      <th>PostalCode</th>\n",
       "    </tr>\n",
       "  </thead>\n",
       "  <tbody>\n",
       "    <tr>\n",
       "      <th>count</th>\n",
       "      <td>354369.000000</td>\n",
       "      <td>354369.000000</td>\n",
       "      <td>354369.000000</td>\n",
       "      <td>354369.000000</td>\n",
       "      <td>354369.000000</td>\n",
       "      <td>354369.0</td>\n",
       "      <td>354369.000000</td>\n",
       "    </tr>\n",
       "    <tr>\n",
       "      <th>mean</th>\n",
       "      <td>4416.656776</td>\n",
       "      <td>2004.234448</td>\n",
       "      <td>110.094337</td>\n",
       "      <td>128211.172535</td>\n",
       "      <td>5.714645</td>\n",
       "      <td>0.0</td>\n",
       "      <td>50508.689087</td>\n",
       "    </tr>\n",
       "    <tr>\n",
       "      <th>std</th>\n",
       "      <td>4514.158514</td>\n",
       "      <td>90.227958</td>\n",
       "      <td>189.850405</td>\n",
       "      <td>37905.341530</td>\n",
       "      <td>3.726421</td>\n",
       "      <td>0.0</td>\n",
       "      <td>25783.096248</td>\n",
       "    </tr>\n",
       "    <tr>\n",
       "      <th>min</th>\n",
       "      <td>0.000000</td>\n",
       "      <td>1000.000000</td>\n",
       "      <td>0.000000</td>\n",
       "      <td>5000.000000</td>\n",
       "      <td>0.000000</td>\n",
       "      <td>0.0</td>\n",
       "      <td>1067.000000</td>\n",
       "    </tr>\n",
       "    <tr>\n",
       "      <th>25%</th>\n",
       "      <td>1050.000000</td>\n",
       "      <td>1999.000000</td>\n",
       "      <td>69.000000</td>\n",
       "      <td>125000.000000</td>\n",
       "      <td>3.000000</td>\n",
       "      <td>0.0</td>\n",
       "      <td>30165.000000</td>\n",
       "    </tr>\n",
       "    <tr>\n",
       "      <th>50%</th>\n",
       "      <td>2700.000000</td>\n",
       "      <td>2003.000000</td>\n",
       "      <td>105.000000</td>\n",
       "      <td>150000.000000</td>\n",
       "      <td>6.000000</td>\n",
       "      <td>0.0</td>\n",
       "      <td>49413.000000</td>\n",
       "    </tr>\n",
       "    <tr>\n",
       "      <th>75%</th>\n",
       "      <td>6400.000000</td>\n",
       "      <td>2008.000000</td>\n",
       "      <td>143.000000</td>\n",
       "      <td>150000.000000</td>\n",
       "      <td>9.000000</td>\n",
       "      <td>0.0</td>\n",
       "      <td>71083.000000</td>\n",
       "    </tr>\n",
       "    <tr>\n",
       "      <th>max</th>\n",
       "      <td>20000.000000</td>\n",
       "      <td>9999.000000</td>\n",
       "      <td>20000.000000</td>\n",
       "      <td>150000.000000</td>\n",
       "      <td>12.000000</td>\n",
       "      <td>0.0</td>\n",
       "      <td>99998.000000</td>\n",
       "    </tr>\n",
       "  </tbody>\n",
       "</table>\n",
       "</div>"
      ],
      "text/plain": [
       "               Price  RegistrationYear          Power      Kilometer  \\\n",
       "count  354369.000000     354369.000000  354369.000000  354369.000000   \n",
       "mean     4416.656776       2004.234448     110.094337  128211.172535   \n",
       "std      4514.158514         90.227958     189.850405   37905.341530   \n",
       "min         0.000000       1000.000000       0.000000    5000.000000   \n",
       "25%      1050.000000       1999.000000      69.000000  125000.000000   \n",
       "50%      2700.000000       2003.000000     105.000000  150000.000000   \n",
       "75%      6400.000000       2008.000000     143.000000  150000.000000   \n",
       "max     20000.000000       9999.000000   20000.000000  150000.000000   \n",
       "\n",
       "       RegistrationMonth  NumberOfPictures     PostalCode  \n",
       "count      354369.000000          354369.0  354369.000000  \n",
       "mean            5.714645               0.0   50508.689087  \n",
       "std             3.726421               0.0   25783.096248  \n",
       "min             0.000000               0.0    1067.000000  \n",
       "25%             3.000000               0.0   30165.000000  \n",
       "50%             6.000000               0.0   49413.000000  \n",
       "75%             9.000000               0.0   71083.000000  \n",
       "max            12.000000               0.0   99998.000000  "
      ]
     },
     "execution_count": 6,
     "metadata": {},
     "output_type": "execute_result"
    }
   ],
   "source": [
    "df_car.describe()"
   ]
  },
  {
   "cell_type": "markdown",
   "metadata": {},
   "source": [
    "Подсчитаем количество пропусков:"
   ]
  },
  {
   "cell_type": "code",
   "execution_count": 7,
   "metadata": {},
   "outputs": [
    {
     "data": {
      "text/plain": [
       "DateCrawled              0\n",
       "Price                    0\n",
       "VehicleType          37490\n",
       "RegistrationYear         0\n",
       "Gearbox              19833\n",
       "Power                    0\n",
       "Model                19705\n",
       "Kilometer                0\n",
       "RegistrationMonth        0\n",
       "FuelType             32895\n",
       "Brand                    0\n",
       "NotRepaired          71154\n",
       "DateCreated              0\n",
       "NumberOfPictures         0\n",
       "PostalCode               0\n",
       "LastSeen                 0\n",
       "dtype: int64"
      ]
     },
     "metadata": {},
     "output_type": "display_data"
    }
   ],
   "source": [
    "display(df_car.isna().sum())"
   ]
  },
  {
   "cell_type": "markdown",
   "metadata": {},
   "source": [
    "Чтобы определить, как заполнять пропуски и нужно ли их заполнять, посмотрим на каждый столбец подробнее, чтобы оценить его важность как признака, влияющего на стоимость авто:"
   ]
  },
  {
   "cell_type": "code",
   "execution_count": 8,
   "metadata": {},
   "outputs": [],
   "source": [
    "# Для отображения всех столбцов сделаем цикл, который выводит каждый столобец по очереди \n",
    "# (его уникальные значения и их количество)\n",
    "def columns_info(data_frame):\n",
    "    for column in data_frame.columns:\n",
    "        print(column)\n",
    "        display(data_frame[column].value_counts())  \n",
    "        display(data_frame[column].unique()) \n",
    "        print()"
   ]
  },
  {
   "cell_type": "code",
   "execution_count": 1,
   "metadata": {},
   "outputs": [],
   "source": [
    "#columns_info(df_car)"
   ]
  },
  {
   "cell_type": "markdown",
   "metadata": {},
   "source": [
    "1. В столбце с целевым признаком есть значение 0 - навряд ли кто-то будет продавать машину за бесплатно. Также есть значения 1,2,3 евро и 50, что тоже похоже на неправдивую информацию.\n",
    "2. Дата скачивания анкеты из базы никак не влияет на цену авто.\n",
    "3. Тип кузова важный признак, но столбец содержит пропуски.\n",
    "4. В столбце с годом регистрации есть аномалии - 100 год, 9999 год, 5000. Нужно убрать аномалии и просмотреть на автомобили, которые заявлены от 1910 года и 1890.\n",
    "5. Тип коробки передач также влияет на стоимость авто, но в столбце есть пропуски.\n",
    "6. В столбце с мощностью авто также еть аномалии - значение 0 встречается чаще всего, также есть значения меньше 10, а также есть значения больше 1000 (даже 17000 тысяч есть - самолет что ли?)\n",
    "7. Название модели тоже очень важно, но в столбце есть пропуски.\n",
    "8. Пробег также влияет на цену, пропусков нет, аномалий тоже нет.\n",
    "9. Месяц регистрации на цену не влияет, столбец не важен.\n",
    "10. В типе топлива есть пропуски, столбец важен.\n",
    "11. Марка автомобиля важна, пропусков нет.\n",
    "12. Есть пропуски в информации о том, была ли машина отремонтирована или нет, информация об этом важна.\n",
    "13. Дата создания анкеты на цену не влияет.\n",
    "14. К сожалению, столбец с количеством фото заполнен только 0, интересно, влияет ли на цену этот или нет.\n",
    "15. Почтовый индекс показывает, где машина была выставлена на продажу, что, теоретически, может влиять на цену (разные регионы - разные условия экспуатации), но 4-х значные коды без указания страны не несут пользы.\n",
    "16. Дата последней активности пользователя не влияет на цену авто."
   ]
  },
  {
   "cell_type": "markdown",
   "metadata": {},
   "source": [
    "Удалим ненужные столбцы, а также аномалии, после заполним пропуски."
   ]
  },
  {
   "cell_type": "markdown",
   "metadata": {},
   "source": [
    "### Аномалии"
   ]
  },
  {
   "cell_type": "code",
   "execution_count": 9,
   "metadata": {},
   "outputs": [],
   "source": [
    "df_car_pure = df_car.drop(['DateCrawled', \n",
    "                           'RegistrationMonth', \n",
    "                           'DateCreated', \n",
    "                           'NumberOfPictures', \n",
    "                           'PostalCode', \n",
    "                           'LastSeen'], axis='columns')"
   ]
  },
  {
   "cell_type": "code",
   "execution_count": 10,
   "metadata": {},
   "outputs": [
    {
     "data": {
      "text/html": [
       "<div>\n",
       "<style scoped>\n",
       "    .dataframe tbody tr th:only-of-type {\n",
       "        vertical-align: middle;\n",
       "    }\n",
       "\n",
       "    .dataframe tbody tr th {\n",
       "        vertical-align: top;\n",
       "    }\n",
       "\n",
       "    .dataframe thead th {\n",
       "        text-align: right;\n",
       "    }\n",
       "</style>\n",
       "<table border=\"1\" class=\"dataframe\">\n",
       "  <thead>\n",
       "    <tr style=\"text-align: right;\">\n",
       "      <th></th>\n",
       "      <th>Price</th>\n",
       "      <th>VehicleType</th>\n",
       "      <th>RegistrationYear</th>\n",
       "      <th>Gearbox</th>\n",
       "      <th>Power</th>\n",
       "      <th>Model</th>\n",
       "      <th>Kilometer</th>\n",
       "      <th>FuelType</th>\n",
       "      <th>Brand</th>\n",
       "      <th>NotRepaired</th>\n",
       "    </tr>\n",
       "  </thead>\n",
       "  <tbody>\n",
       "    <tr>\n",
       "      <th>15</th>\n",
       "      <td>450</td>\n",
       "      <td>small</td>\n",
       "      <td>1910</td>\n",
       "      <td>NaN</td>\n",
       "      <td>0</td>\n",
       "      <td>ka</td>\n",
       "      <td>5000</td>\n",
       "      <td>petrol</td>\n",
       "      <td>ford</td>\n",
       "      <td>NaN</td>\n",
       "    </tr>\n",
       "    <tr>\n",
       "      <th>1928</th>\n",
       "      <td>7000</td>\n",
       "      <td>suv</td>\n",
       "      <td>1945</td>\n",
       "      <td>manual</td>\n",
       "      <td>48</td>\n",
       "      <td>other</td>\n",
       "      <td>150000</td>\n",
       "      <td>petrol</td>\n",
       "      <td>volkswagen</td>\n",
       "      <td>no</td>\n",
       "    </tr>\n",
       "    <tr>\n",
       "      <th>2273</th>\n",
       "      <td>1800</td>\n",
       "      <td>convertible</td>\n",
       "      <td>1925</td>\n",
       "      <td>NaN</td>\n",
       "      <td>0</td>\n",
       "      <td>NaN</td>\n",
       "      <td>5000</td>\n",
       "      <td>NaN</td>\n",
       "      <td>sonstige_autos</td>\n",
       "      <td>no</td>\n",
       "    </tr>\n",
       "    <tr>\n",
       "      <th>3333</th>\n",
       "      <td>10500</td>\n",
       "      <td>sedan</td>\n",
       "      <td>1955</td>\n",
       "      <td>manual</td>\n",
       "      <td>30</td>\n",
       "      <td>other</td>\n",
       "      <td>60000</td>\n",
       "      <td>petrol</td>\n",
       "      <td>ford</td>\n",
       "      <td>NaN</td>\n",
       "    </tr>\n",
       "    <tr>\n",
       "      <th>6629</th>\n",
       "      <td>0</td>\n",
       "      <td>small</td>\n",
       "      <td>1910</td>\n",
       "      <td>NaN</td>\n",
       "      <td>0</td>\n",
       "      <td>NaN</td>\n",
       "      <td>5000</td>\n",
       "      <td>other</td>\n",
       "      <td>sonstige_autos</td>\n",
       "      <td>NaN</td>\n",
       "    </tr>\n",
       "    <tr>\n",
       "      <th>6977</th>\n",
       "      <td>135</td>\n",
       "      <td>NaN</td>\n",
       "      <td>1910</td>\n",
       "      <td>NaN</td>\n",
       "      <td>0</td>\n",
       "      <td>NaN</td>\n",
       "      <td>5000</td>\n",
       "      <td>NaN</td>\n",
       "      <td>opel</td>\n",
       "      <td>NaN</td>\n",
       "    </tr>\n",
       "    <tr>\n",
       "      <th>10183</th>\n",
       "      <td>1250</td>\n",
       "      <td>NaN</td>\n",
       "      <td>1910</td>\n",
       "      <td>NaN</td>\n",
       "      <td>0</td>\n",
       "      <td>other</td>\n",
       "      <td>5000</td>\n",
       "      <td>NaN</td>\n",
       "      <td>audi</td>\n",
       "      <td>NaN</td>\n",
       "    </tr>\n",
       "    <tr>\n",
       "      <th>12992</th>\n",
       "      <td>0</td>\n",
       "      <td>small</td>\n",
       "      <td>1954</td>\n",
       "      <td>manual</td>\n",
       "      <td>54</td>\n",
       "      <td>corsa</td>\n",
       "      <td>150000</td>\n",
       "      <td>petrol</td>\n",
       "      <td>opel</td>\n",
       "      <td>no</td>\n",
       "    </tr>\n",
       "    <tr>\n",
       "      <th>12993</th>\n",
       "      <td>11000</td>\n",
       "      <td>other</td>\n",
       "      <td>1955</td>\n",
       "      <td>manual</td>\n",
       "      <td>40</td>\n",
       "      <td>NaN</td>\n",
       "      <td>50000</td>\n",
       "      <td>petrol</td>\n",
       "      <td>sonstige_autos</td>\n",
       "      <td>no</td>\n",
       "    </tr>\n",
       "    <tr>\n",
       "      <th>13177</th>\n",
       "      <td>2300</td>\n",
       "      <td>sedan</td>\n",
       "      <td>1958</td>\n",
       "      <td>manual</td>\n",
       "      <td>45</td>\n",
       "      <td>NaN</td>\n",
       "      <td>80000</td>\n",
       "      <td>petrol</td>\n",
       "      <td>sonstige_autos</td>\n",
       "      <td>NaN</td>\n",
       "    </tr>\n",
       "    <tr>\n",
       "      <th>14971</th>\n",
       "      <td>1</td>\n",
       "      <td>sedan</td>\n",
       "      <td>1959</td>\n",
       "      <td>auto</td>\n",
       "      <td>325</td>\n",
       "      <td>NaN</td>\n",
       "      <td>10000</td>\n",
       "      <td>petrol</td>\n",
       "      <td>sonstige_autos</td>\n",
       "      <td>NaN</td>\n",
       "    </tr>\n",
       "    <tr>\n",
       "      <th>15414</th>\n",
       "      <td>18000</td>\n",
       "      <td>sedan</td>\n",
       "      <td>1956</td>\n",
       "      <td>manual</td>\n",
       "      <td>30</td>\n",
       "      <td>NaN</td>\n",
       "      <td>150000</td>\n",
       "      <td>petrol</td>\n",
       "      <td>volkswagen</td>\n",
       "      <td>NaN</td>\n",
       "    </tr>\n",
       "    <tr>\n",
       "      <th>16635</th>\n",
       "      <td>9500</td>\n",
       "      <td>suv</td>\n",
       "      <td>1941</td>\n",
       "      <td>manual</td>\n",
       "      <td>57</td>\n",
       "      <td>NaN</td>\n",
       "      <td>40000</td>\n",
       "      <td>petrol</td>\n",
       "      <td>sonstige_autos</td>\n",
       "      <td>no</td>\n",
       "    </tr>\n",
       "    <tr>\n",
       "      <th>18023</th>\n",
       "      <td>1</td>\n",
       "      <td>NaN</td>\n",
       "      <td>1910</td>\n",
       "      <td>NaN</td>\n",
       "      <td>0</td>\n",
       "      <td>NaN</td>\n",
       "      <td>5000</td>\n",
       "      <td>NaN</td>\n",
       "      <td>volkswagen</td>\n",
       "      <td>NaN</td>\n",
       "    </tr>\n",
       "    <tr>\n",
       "      <th>22621</th>\n",
       "      <td>14000</td>\n",
       "      <td>sedan</td>\n",
       "      <td>1929</td>\n",
       "      <td>manual</td>\n",
       "      <td>30</td>\n",
       "      <td>NaN</td>\n",
       "      <td>5000</td>\n",
       "      <td>petrol</td>\n",
       "      <td>sonstige_autos</td>\n",
       "      <td>NaN</td>\n",
       "    </tr>\n",
       "  </tbody>\n",
       "</table>\n",
       "</div>"
      ],
      "text/plain": [
       "       Price  VehicleType  RegistrationYear Gearbox  Power  Model  Kilometer  \\\n",
       "15       450        small              1910     NaN      0     ka       5000   \n",
       "1928    7000          suv              1945  manual     48  other     150000   \n",
       "2273    1800  convertible              1925     NaN      0    NaN       5000   \n",
       "3333   10500        sedan              1955  manual     30  other      60000   \n",
       "6629       0        small              1910     NaN      0    NaN       5000   \n",
       "6977     135          NaN              1910     NaN      0    NaN       5000   \n",
       "10183   1250          NaN              1910     NaN      0  other       5000   \n",
       "12992      0        small              1954  manual     54  corsa     150000   \n",
       "12993  11000        other              1955  manual     40    NaN      50000   \n",
       "13177   2300        sedan              1958  manual     45    NaN      80000   \n",
       "14971      1        sedan              1959    auto    325    NaN      10000   \n",
       "15414  18000        sedan              1956  manual     30    NaN     150000   \n",
       "16635   9500          suv              1941  manual     57    NaN      40000   \n",
       "18023      1          NaN              1910     NaN      0    NaN       5000   \n",
       "22621  14000        sedan              1929  manual     30    NaN       5000   \n",
       "\n",
       "      FuelType           Brand NotRepaired  \n",
       "15      petrol            ford         NaN  \n",
       "1928    petrol      volkswagen          no  \n",
       "2273       NaN  sonstige_autos          no  \n",
       "3333    petrol            ford         NaN  \n",
       "6629     other  sonstige_autos         NaN  \n",
       "6977       NaN            opel         NaN  \n",
       "10183      NaN            audi         NaN  \n",
       "12992   petrol            opel          no  \n",
       "12993   petrol  sonstige_autos          no  \n",
       "13177   petrol  sonstige_autos         NaN  \n",
       "14971   petrol  sonstige_autos         NaN  \n",
       "15414   petrol      volkswagen         NaN  \n",
       "16635   petrol  sonstige_autos          no  \n",
       "18023      NaN      volkswagen         NaN  \n",
       "22621   petrol  sonstige_autos         NaN  "
      ]
     },
     "execution_count": 10,
     "metadata": {},
     "output_type": "execute_result"
    }
   ],
   "source": [
    "df_car_pure.query('1960 > RegistrationYear > 1800').head(15)"
   ]
  },
  {
   "cell_type": "markdown",
   "metadata": {},
   "source": [
    "Chevrolet Spark 1910 года выглядит совсем неправдоподобно, а вот volkswagen kaefer 1959 уже больше похоже на правду, поэтому уберем те объявления, где год указан до 1950 (также по причине того, что у многих машин, где указаны 1930-1940 не указана модель, чтобы оценить правдивы ли данные). А так как объявления выставлены в 2016, уберем все после 2017."
   ]
  },
  {
   "cell_type": "code",
   "execution_count": 11,
   "metadata": {},
   "outputs": [],
   "source": [
    "df_car_pure = df_car_pure.query('2018 > RegistrationYear > 1949')"
   ]
  },
  {
   "cell_type": "code",
   "execution_count": 12,
   "metadata": {},
   "outputs": [
    {
     "data": {
      "text/html": [
       "<div>\n",
       "<style scoped>\n",
       "    .dataframe tbody tr th:only-of-type {\n",
       "        vertical-align: middle;\n",
       "    }\n",
       "\n",
       "    .dataframe tbody tr th {\n",
       "        vertical-align: top;\n",
       "    }\n",
       "\n",
       "    .dataframe thead th {\n",
       "        text-align: right;\n",
       "    }\n",
       "</style>\n",
       "<table border=\"1\" class=\"dataframe\">\n",
       "  <thead>\n",
       "    <tr style=\"text-align: right;\">\n",
       "      <th></th>\n",
       "      <th>Price</th>\n",
       "      <th>VehicleType</th>\n",
       "      <th>RegistrationYear</th>\n",
       "      <th>Gearbox</th>\n",
       "      <th>Power</th>\n",
       "      <th>Model</th>\n",
       "      <th>Kilometer</th>\n",
       "      <th>FuelType</th>\n",
       "      <th>Brand</th>\n",
       "      <th>NotRepaired</th>\n",
       "    </tr>\n",
       "  </thead>\n",
       "  <tbody>\n",
       "    <tr>\n",
       "      <th>15693</th>\n",
       "      <td>1000</td>\n",
       "      <td>wagon</td>\n",
       "      <td>1999</td>\n",
       "      <td>manual</td>\n",
       "      <td>22</td>\n",
       "      <td>astra</td>\n",
       "      <td>150000</td>\n",
       "      <td>petrol</td>\n",
       "      <td>opel</td>\n",
       "      <td>no</td>\n",
       "    </tr>\n",
       "    <tr>\n",
       "      <th>16902</th>\n",
       "      <td>19000</td>\n",
       "      <td>suv</td>\n",
       "      <td>1960</td>\n",
       "      <td>manual</td>\n",
       "      <td>22</td>\n",
       "      <td>NaN</td>\n",
       "      <td>60000</td>\n",
       "      <td>petrol</td>\n",
       "      <td>sonstige_autos</td>\n",
       "      <td>no</td>\n",
       "    </tr>\n",
       "    <tr>\n",
       "      <th>19106</th>\n",
       "      <td>1500</td>\n",
       "      <td>small</td>\n",
       "      <td>1960</td>\n",
       "      <td>manual</td>\n",
       "      <td>21</td>\n",
       "      <td>other</td>\n",
       "      <td>5000</td>\n",
       "      <td>petrol</td>\n",
       "      <td>renault</td>\n",
       "      <td>yes</td>\n",
       "    </tr>\n",
       "    <tr>\n",
       "      <th>72592</th>\n",
       "      <td>350</td>\n",
       "      <td>small</td>\n",
       "      <td>1990</td>\n",
       "      <td>NaN</td>\n",
       "      <td>21</td>\n",
       "      <td>corsa</td>\n",
       "      <td>5000</td>\n",
       "      <td>petrol</td>\n",
       "      <td>opel</td>\n",
       "      <td>yes</td>\n",
       "    </tr>\n",
       "    <tr>\n",
       "      <th>101909</th>\n",
       "      <td>3600</td>\n",
       "      <td>NaN</td>\n",
       "      <td>2017</td>\n",
       "      <td>manual</td>\n",
       "      <td>21</td>\n",
       "      <td>500</td>\n",
       "      <td>20000</td>\n",
       "      <td>petrol</td>\n",
       "      <td>fiat</td>\n",
       "      <td>NaN</td>\n",
       "    </tr>\n",
       "    <tr>\n",
       "      <th>162410</th>\n",
       "      <td>2950</td>\n",
       "      <td>sedan</td>\n",
       "      <td>1959</td>\n",
       "      <td>manual</td>\n",
       "      <td>21</td>\n",
       "      <td>other</td>\n",
       "      <td>150000</td>\n",
       "      <td>petrol</td>\n",
       "      <td>renault</td>\n",
       "      <td>yes</td>\n",
       "    </tr>\n",
       "    <tr>\n",
       "      <th>184795</th>\n",
       "      <td>1000</td>\n",
       "      <td>wagon</td>\n",
       "      <td>1960</td>\n",
       "      <td>manual</td>\n",
       "      <td>21</td>\n",
       "      <td>other</td>\n",
       "      <td>5000</td>\n",
       "      <td>petrol</td>\n",
       "      <td>trabant</td>\n",
       "      <td>no</td>\n",
       "    </tr>\n",
       "    <tr>\n",
       "      <th>219940</th>\n",
       "      <td>4999</td>\n",
       "      <td>sedan</td>\n",
       "      <td>1955</td>\n",
       "      <td>manual</td>\n",
       "      <td>22</td>\n",
       "      <td>other</td>\n",
       "      <td>20000</td>\n",
       "      <td>petrol</td>\n",
       "      <td>opel</td>\n",
       "      <td>no</td>\n",
       "    </tr>\n",
       "    <tr>\n",
       "      <th>259500</th>\n",
       "      <td>1450</td>\n",
       "      <td>NaN</td>\n",
       "      <td>1980</td>\n",
       "      <td>manual</td>\n",
       "      <td>21</td>\n",
       "      <td>500</td>\n",
       "      <td>150000</td>\n",
       "      <td>petrol</td>\n",
       "      <td>fiat</td>\n",
       "      <td>yes</td>\n",
       "    </tr>\n",
       "    <tr>\n",
       "      <th>269854</th>\n",
       "      <td>9350</td>\n",
       "      <td>NaN</td>\n",
       "      <td>1980</td>\n",
       "      <td>manual</td>\n",
       "      <td>22</td>\n",
       "      <td>500</td>\n",
       "      <td>90000</td>\n",
       "      <td>petrol</td>\n",
       "      <td>fiat</td>\n",
       "      <td>NaN</td>\n",
       "    </tr>\n",
       "    <tr>\n",
       "      <th>286257</th>\n",
       "      <td>1000</td>\n",
       "      <td>small</td>\n",
       "      <td>1978</td>\n",
       "      <td>NaN</td>\n",
       "      <td>22</td>\n",
       "      <td>other</td>\n",
       "      <td>20000</td>\n",
       "      <td>NaN</td>\n",
       "      <td>fiat</td>\n",
       "      <td>NaN</td>\n",
       "    </tr>\n",
       "  </tbody>\n",
       "</table>\n",
       "</div>"
      ],
      "text/plain": [
       "        Price VehicleType  RegistrationYear Gearbox  Power  Model  Kilometer  \\\n",
       "15693    1000       wagon              1999  manual     22  astra     150000   \n",
       "16902   19000         suv              1960  manual     22    NaN      60000   \n",
       "19106    1500       small              1960  manual     21  other       5000   \n",
       "72592     350       small              1990     NaN     21  corsa       5000   \n",
       "101909   3600         NaN              2017  manual     21    500      20000   \n",
       "162410   2950       sedan              1959  manual     21  other     150000   \n",
       "184795   1000       wagon              1960  manual     21  other       5000   \n",
       "219940   4999       sedan              1955  manual     22  other      20000   \n",
       "259500   1450         NaN              1980  manual     21    500     150000   \n",
       "269854   9350         NaN              1980  manual     22    500      90000   \n",
       "286257   1000       small              1978     NaN     22  other      20000   \n",
       "\n",
       "       FuelType           Brand NotRepaired  \n",
       "15693    petrol            opel          no  \n",
       "16902    petrol  sonstige_autos          no  \n",
       "19106    petrol         renault         yes  \n",
       "72592    petrol            opel         yes  \n",
       "101909   petrol            fiat         NaN  \n",
       "162410   petrol         renault         yes  \n",
       "184795   petrol         trabant          no  \n",
       "219940   petrol            opel          no  \n",
       "259500   petrol            fiat         yes  \n",
       "269854   petrol            fiat         NaN  \n",
       "286257      NaN            fiat         NaN  "
      ]
     },
     "execution_count": 12,
     "metadata": {},
     "output_type": "execute_result"
    }
   ],
   "source": [
    "df_car_pure.query('23 > Power > 20')"
   ]
  },
  {
   "cell_type": "code",
   "execution_count": 13,
   "metadata": {},
   "outputs": [
    {
     "data": {
      "text/html": [
       "<div>\n",
       "<style scoped>\n",
       "    .dataframe tbody tr th:only-of-type {\n",
       "        vertical-align: middle;\n",
       "    }\n",
       "\n",
       "    .dataframe tbody tr th {\n",
       "        vertical-align: top;\n",
       "    }\n",
       "\n",
       "    .dataframe thead th {\n",
       "        text-align: right;\n",
       "    }\n",
       "</style>\n",
       "<table border=\"1\" class=\"dataframe\">\n",
       "  <thead>\n",
       "    <tr style=\"text-align: right;\">\n",
       "      <th></th>\n",
       "      <th>Price</th>\n",
       "      <th>VehicleType</th>\n",
       "      <th>RegistrationYear</th>\n",
       "      <th>Gearbox</th>\n",
       "      <th>Power</th>\n",
       "      <th>Model</th>\n",
       "      <th>Kilometer</th>\n",
       "      <th>FuelType</th>\n",
       "      <th>Brand</th>\n",
       "      <th>NotRepaired</th>\n",
       "    </tr>\n",
       "  </thead>\n",
       "  <tbody>\n",
       "    <tr>\n",
       "      <th>3746</th>\n",
       "      <td>0</td>\n",
       "      <td>NaN</td>\n",
       "      <td>2017</td>\n",
       "      <td>manual</td>\n",
       "      <td>750</td>\n",
       "      <td>NaN</td>\n",
       "      <td>150000</td>\n",
       "      <td>petrol</td>\n",
       "      <td>smart</td>\n",
       "      <td>no</td>\n",
       "    </tr>\n",
       "    <tr>\n",
       "      <th>4060</th>\n",
       "      <td>3100</td>\n",
       "      <td>sedan</td>\n",
       "      <td>2005</td>\n",
       "      <td>manual</td>\n",
       "      <td>953</td>\n",
       "      <td>colt</td>\n",
       "      <td>150000</td>\n",
       "      <td>gasoline</td>\n",
       "      <td>mitsubishi</td>\n",
       "      <td>no</td>\n",
       "    </tr>\n",
       "    <tr>\n",
       "      <th>6296</th>\n",
       "      <td>599</td>\n",
       "      <td>small</td>\n",
       "      <td>2002</td>\n",
       "      <td>manual</td>\n",
       "      <td>603</td>\n",
       "      <td>matiz</td>\n",
       "      <td>5000</td>\n",
       "      <td>petrol</td>\n",
       "      <td>chevrolet</td>\n",
       "      <td>yes</td>\n",
       "    </tr>\n",
       "    <tr>\n",
       "      <th>6504</th>\n",
       "      <td>3000</td>\n",
       "      <td>small</td>\n",
       "      <td>2009</td>\n",
       "      <td>manual</td>\n",
       "      <td>771</td>\n",
       "      <td>punto</td>\n",
       "      <td>125000</td>\n",
       "      <td>petrol</td>\n",
       "      <td>fiat</td>\n",
       "      <td>NaN</td>\n",
       "    </tr>\n",
       "    <tr>\n",
       "      <th>6637</th>\n",
       "      <td>600</td>\n",
       "      <td>small</td>\n",
       "      <td>1996</td>\n",
       "      <td>manual</td>\n",
       "      <td>603</td>\n",
       "      <td>corsa</td>\n",
       "      <td>150000</td>\n",
       "      <td>petrol</td>\n",
       "      <td>opel</td>\n",
       "      <td>yes</td>\n",
       "    </tr>\n",
       "    <tr>\n",
       "      <th>8057</th>\n",
       "      <td>500</td>\n",
       "      <td>small</td>\n",
       "      <td>2002</td>\n",
       "      <td>manual</td>\n",
       "      <td>620</td>\n",
       "      <td>ypsilon</td>\n",
       "      <td>150000</td>\n",
       "      <td>petrol</td>\n",
       "      <td>lancia</td>\n",
       "      <td>NaN</td>\n",
       "    </tr>\n",
       "    <tr>\n",
       "      <th>12740</th>\n",
       "      <td>3500</td>\n",
       "      <td>convertible</td>\n",
       "      <td>2003</td>\n",
       "      <td>manual</td>\n",
       "      <td>952</td>\n",
       "      <td>ka</td>\n",
       "      <td>70000</td>\n",
       "      <td>petrol</td>\n",
       "      <td>ford</td>\n",
       "      <td>no</td>\n",
       "    </tr>\n",
       "    <tr>\n",
       "      <th>13373</th>\n",
       "      <td>18500</td>\n",
       "      <td>small</td>\n",
       "      <td>2002</td>\n",
       "      <td>auto</td>\n",
       "      <td>600</td>\n",
       "      <td>s_type</td>\n",
       "      <td>150000</td>\n",
       "      <td>NaN</td>\n",
       "      <td>jaguar</td>\n",
       "      <td>no</td>\n",
       "    </tr>\n",
       "    <tr>\n",
       "      <th>15433</th>\n",
       "      <td>0</td>\n",
       "      <td>coupe</td>\n",
       "      <td>1995</td>\n",
       "      <td>manual</td>\n",
       "      <td>999</td>\n",
       "      <td>escort</td>\n",
       "      <td>5000</td>\n",
       "      <td>NaN</td>\n",
       "      <td>ford</td>\n",
       "      <td>no</td>\n",
       "    </tr>\n",
       "    <tr>\n",
       "      <th>16385</th>\n",
       "      <td>100</td>\n",
       "      <td>small</td>\n",
       "      <td>1996</td>\n",
       "      <td>manual</td>\n",
       "      <td>553</td>\n",
       "      <td>NaN</td>\n",
       "      <td>150000</td>\n",
       "      <td>NaN</td>\n",
       "      <td>renault</td>\n",
       "      <td>yes</td>\n",
       "    </tr>\n",
       "  </tbody>\n",
       "</table>\n",
       "</div>"
      ],
      "text/plain": [
       "       Price  VehicleType  RegistrationYear Gearbox  Power    Model  \\\n",
       "3746       0          NaN              2017  manual    750      NaN   \n",
       "4060    3100        sedan              2005  manual    953     colt   \n",
       "6296     599        small              2002  manual    603    matiz   \n",
       "6504    3000        small              2009  manual    771    punto   \n",
       "6637     600        small              1996  manual    603    corsa   \n",
       "8057     500        small              2002  manual    620  ypsilon   \n",
       "12740   3500  convertible              2003  manual    952       ka   \n",
       "13373  18500        small              2002    auto    600   s_type   \n",
       "15433      0        coupe              1995  manual    999   escort   \n",
       "16385    100        small              1996  manual    553      NaN   \n",
       "\n",
       "       Kilometer  FuelType       Brand NotRepaired  \n",
       "3746      150000    petrol       smart          no  \n",
       "4060      150000  gasoline  mitsubishi          no  \n",
       "6296        5000    petrol   chevrolet         yes  \n",
       "6504      125000    petrol        fiat         NaN  \n",
       "6637      150000    petrol        opel         yes  \n",
       "8057      150000    petrol      lancia         NaN  \n",
       "12740      70000    petrol        ford          no  \n",
       "13373     150000       NaN      jaguar          no  \n",
       "15433       5000       NaN        ford          no  \n",
       "16385     150000       NaN     renault         yes  "
      ]
     },
     "execution_count": 13,
     "metadata": {},
     "output_type": "execute_result"
    }
   ],
   "source": [
    "df_car_pure.query('1000 > Power > 500').head(10)"
   ]
  },
  {
   "cell_type": "markdown",
   "metadata": {},
   "source": [
    "Старые автомобили могут иметь меньше 30 л.с, но навряд ли будут слабее 22 л.с. Быть мощнее 500 Мерседес может, а вот форд фиеста с 750 л.с. навряд ли будет стоить 450 евро."
   ]
  },
  {
   "cell_type": "code",
   "execution_count": 14,
   "metadata": {},
   "outputs": [],
   "source": [
    "df_car_pure = df_car_pure.query('501 > Power > 22')"
   ]
  },
  {
   "cell_type": "code",
   "execution_count": 15,
   "metadata": {},
   "outputs": [
    {
     "data": {
      "text/html": [
       "<div>\n",
       "<style scoped>\n",
       "    .dataframe tbody tr th:only-of-type {\n",
       "        vertical-align: middle;\n",
       "    }\n",
       "\n",
       "    .dataframe tbody tr th {\n",
       "        vertical-align: top;\n",
       "    }\n",
       "\n",
       "    .dataframe thead th {\n",
       "        text-align: right;\n",
       "    }\n",
       "</style>\n",
       "<table border=\"1\" class=\"dataframe\">\n",
       "  <thead>\n",
       "    <tr style=\"text-align: right;\">\n",
       "      <th></th>\n",
       "      <th>Price</th>\n",
       "      <th>VehicleType</th>\n",
       "      <th>RegistrationYear</th>\n",
       "      <th>Gearbox</th>\n",
       "      <th>Power</th>\n",
       "      <th>Model</th>\n",
       "      <th>Kilometer</th>\n",
       "      <th>FuelType</th>\n",
       "      <th>Brand</th>\n",
       "      <th>NotRepaired</th>\n",
       "    </tr>\n",
       "  </thead>\n",
       "  <tbody>\n",
       "    <tr>\n",
       "      <th>59</th>\n",
       "      <td>1</td>\n",
       "      <td>suv</td>\n",
       "      <td>1994</td>\n",
       "      <td>manual</td>\n",
       "      <td>286</td>\n",
       "      <td>NaN</td>\n",
       "      <td>150000</td>\n",
       "      <td>NaN</td>\n",
       "      <td>sonstige_autos</td>\n",
       "      <td>NaN</td>\n",
       "    </tr>\n",
       "    <tr>\n",
       "      <th>60</th>\n",
       "      <td>200</td>\n",
       "      <td>coupe</td>\n",
       "      <td>1995</td>\n",
       "      <td>manual</td>\n",
       "      <td>102</td>\n",
       "      <td>3er</td>\n",
       "      <td>150000</td>\n",
       "      <td>petrol</td>\n",
       "      <td>bmw</td>\n",
       "      <td>NaN</td>\n",
       "    </tr>\n",
       "    <tr>\n",
       "      <th>79</th>\n",
       "      <td>150</td>\n",
       "      <td>NaN</td>\n",
       "      <td>2016</td>\n",
       "      <td>manual</td>\n",
       "      <td>75</td>\n",
       "      <td>astra</td>\n",
       "      <td>150000</td>\n",
       "      <td>petrol</td>\n",
       "      <td>opel</td>\n",
       "      <td>yes</td>\n",
       "    </tr>\n",
       "    <tr>\n",
       "      <th>80</th>\n",
       "      <td>250</td>\n",
       "      <td>wagon</td>\n",
       "      <td>2000</td>\n",
       "      <td>manual</td>\n",
       "      <td>155</td>\n",
       "      <td>156</td>\n",
       "      <td>150000</td>\n",
       "      <td>petrol</td>\n",
       "      <td>alfa_romeo</td>\n",
       "      <td>yes</td>\n",
       "    </tr>\n",
       "    <tr>\n",
       "      <th>89</th>\n",
       "      <td>1</td>\n",
       "      <td>sedan</td>\n",
       "      <td>1995</td>\n",
       "      <td>manual</td>\n",
       "      <td>113</td>\n",
       "      <td>e_klasse</td>\n",
       "      <td>150000</td>\n",
       "      <td>gasoline</td>\n",
       "      <td>mercedes_benz</td>\n",
       "      <td>no</td>\n",
       "    </tr>\n",
       "    <tr>\n",
       "      <th>92</th>\n",
       "      <td>250</td>\n",
       "      <td>NaN</td>\n",
       "      <td>2000</td>\n",
       "      <td>NaN</td>\n",
       "      <td>60</td>\n",
       "      <td>ka</td>\n",
       "      <td>150000</td>\n",
       "      <td>NaN</td>\n",
       "      <td>ford</td>\n",
       "      <td>NaN</td>\n",
       "    </tr>\n",
       "    <tr>\n",
       "      <th>268</th>\n",
       "      <td>1</td>\n",
       "      <td>sedan</td>\n",
       "      <td>1990</td>\n",
       "      <td>manual</td>\n",
       "      <td>90</td>\n",
       "      <td>80</td>\n",
       "      <td>70000</td>\n",
       "      <td>petrol</td>\n",
       "      <td>audi</td>\n",
       "      <td>no</td>\n",
       "    </tr>\n",
       "    <tr>\n",
       "      <th>281</th>\n",
       "      <td>150</td>\n",
       "      <td>NaN</td>\n",
       "      <td>2016</td>\n",
       "      <td>auto</td>\n",
       "      <td>75</td>\n",
       "      <td>fiesta</td>\n",
       "      <td>50000</td>\n",
       "      <td>petrol</td>\n",
       "      <td>ford</td>\n",
       "      <td>yes</td>\n",
       "    </tr>\n",
       "    <tr>\n",
       "      <th>408</th>\n",
       "      <td>1</td>\n",
       "      <td>NaN</td>\n",
       "      <td>2000</td>\n",
       "      <td>NaN</td>\n",
       "      <td>75</td>\n",
       "      <td>golf</td>\n",
       "      <td>90000</td>\n",
       "      <td>petrol</td>\n",
       "      <td>volkswagen</td>\n",
       "      <td>NaN</td>\n",
       "    </tr>\n",
       "    <tr>\n",
       "      <th>452</th>\n",
       "      <td>250</td>\n",
       "      <td>small</td>\n",
       "      <td>1994</td>\n",
       "      <td>manual</td>\n",
       "      <td>102</td>\n",
       "      <td>3er</td>\n",
       "      <td>150000</td>\n",
       "      <td>petrol</td>\n",
       "      <td>bmw</td>\n",
       "      <td>NaN</td>\n",
       "    </tr>\n",
       "  </tbody>\n",
       "</table>\n",
       "</div>"
      ],
      "text/plain": [
       "     Price VehicleType  RegistrationYear Gearbox  Power     Model  Kilometer  \\\n",
       "59       1         suv              1994  manual    286       NaN     150000   \n",
       "60     200       coupe              1995  manual    102       3er     150000   \n",
       "79     150         NaN              2016  manual     75     astra     150000   \n",
       "80     250       wagon              2000  manual    155       156     150000   \n",
       "89       1       sedan              1995  manual    113  e_klasse     150000   \n",
       "92     250         NaN              2000     NaN     60        ka     150000   \n",
       "268      1       sedan              1990  manual     90        80      70000   \n",
       "281    150         NaN              2016    auto     75    fiesta      50000   \n",
       "408      1         NaN              2000     NaN     75      golf      90000   \n",
       "452    250       small              1994  manual    102       3er     150000   \n",
       "\n",
       "     FuelType           Brand NotRepaired  \n",
       "59        NaN  sonstige_autos         NaN  \n",
       "60     petrol             bmw         NaN  \n",
       "79     petrol            opel         yes  \n",
       "80     petrol      alfa_romeo         yes  \n",
       "89   gasoline   mercedes_benz          no  \n",
       "92        NaN            ford         NaN  \n",
       "268    petrol            audi          no  \n",
       "281    petrol            ford         yes  \n",
       "408    petrol      volkswagen         NaN  \n",
       "452    petrol             bmw         NaN  "
      ]
     },
     "execution_count": 15,
     "metadata": {},
     "output_type": "execute_result"
    }
   ],
   "source": [
    "df_car_pure.query('300 > Price > 0').head(10)"
   ]
  },
  {
   "cell_type": "markdown",
   "metadata": {},
   "source": [
    "Так как данные во всей таблице очень странные, уберем в столбце с ценой только явные выбросы (ну не может машина 2016 года стоить 300 евро)."
   ]
  },
  {
   "cell_type": "code",
   "execution_count": 16,
   "metadata": {},
   "outputs": [],
   "source": [
    "df_car_pure = df_car_pure.query('Price > 350')"
   ]
  },
  {
   "cell_type": "code",
   "execution_count": 17,
   "metadata": {},
   "outputs": [
    {
     "data": {
      "text/html": [
       "<div>\n",
       "<style scoped>\n",
       "    .dataframe tbody tr th:only-of-type {\n",
       "        vertical-align: middle;\n",
       "    }\n",
       "\n",
       "    .dataframe tbody tr th {\n",
       "        vertical-align: top;\n",
       "    }\n",
       "\n",
       "    .dataframe thead th {\n",
       "        text-align: right;\n",
       "    }\n",
       "</style>\n",
       "<table border=\"1\" class=\"dataframe\">\n",
       "  <thead>\n",
       "    <tr style=\"text-align: right;\">\n",
       "      <th></th>\n",
       "      <th>Price</th>\n",
       "      <th>RegistrationYear</th>\n",
       "      <th>Power</th>\n",
       "      <th>Kilometer</th>\n",
       "    </tr>\n",
       "  </thead>\n",
       "  <tbody>\n",
       "    <tr>\n",
       "      <th>count</th>\n",
       "      <td>291342.000000</td>\n",
       "      <td>291342.000000</td>\n",
       "      <td>291342.000000</td>\n",
       "      <td>291342.000000</td>\n",
       "    </tr>\n",
       "    <tr>\n",
       "      <th>mean</th>\n",
       "      <td>5009.175402</td>\n",
       "      <td>2003.356729</td>\n",
       "      <td>122.045695</td>\n",
       "      <td>128145.221080</td>\n",
       "    </tr>\n",
       "    <tr>\n",
       "      <th>std</th>\n",
       "      <td>4588.649579</td>\n",
       "      <td>6.690633</td>\n",
       "      <td>53.316020</td>\n",
       "      <td>36688.109487</td>\n",
       "    </tr>\n",
       "    <tr>\n",
       "      <th>min</th>\n",
       "      <td>355.000000</td>\n",
       "      <td>1950.000000</td>\n",
       "      <td>23.000000</td>\n",
       "      <td>5000.000000</td>\n",
       "    </tr>\n",
       "    <tr>\n",
       "      <th>25%</th>\n",
       "      <td>1500.000000</td>\n",
       "      <td>1999.000000</td>\n",
       "      <td>80.000000</td>\n",
       "      <td>125000.000000</td>\n",
       "    </tr>\n",
       "    <tr>\n",
       "      <th>50%</th>\n",
       "      <td>3390.000000</td>\n",
       "      <td>2004.000000</td>\n",
       "      <td>115.000000</td>\n",
       "      <td>150000.000000</td>\n",
       "    </tr>\n",
       "    <tr>\n",
       "      <th>75%</th>\n",
       "      <td>7150.000000</td>\n",
       "      <td>2008.000000</td>\n",
       "      <td>150.000000</td>\n",
       "      <td>150000.000000</td>\n",
       "    </tr>\n",
       "    <tr>\n",
       "      <th>max</th>\n",
       "      <td>20000.000000</td>\n",
       "      <td>2017.000000</td>\n",
       "      <td>500.000000</td>\n",
       "      <td>150000.000000</td>\n",
       "    </tr>\n",
       "  </tbody>\n",
       "</table>\n",
       "</div>"
      ],
      "text/plain": [
       "               Price  RegistrationYear          Power      Kilometer\n",
       "count  291342.000000     291342.000000  291342.000000  291342.000000\n",
       "mean     5009.175402       2003.356729     122.045695  128145.221080\n",
       "std      4588.649579          6.690633      53.316020   36688.109487\n",
       "min       355.000000       1950.000000      23.000000    5000.000000\n",
       "25%      1500.000000       1999.000000      80.000000  125000.000000\n",
       "50%      3390.000000       2004.000000     115.000000  150000.000000\n",
       "75%      7150.000000       2008.000000     150.000000  150000.000000\n",
       "max     20000.000000       2017.000000     500.000000  150000.000000"
      ]
     },
     "execution_count": 17,
     "metadata": {},
     "output_type": "execute_result"
    }
   ],
   "source": [
    "df_car_pure.describe()"
   ]
  },
  {
   "cell_type": "markdown",
   "metadata": {},
   "source": [
    "### Пропуски"
   ]
  },
  {
   "cell_type": "markdown",
   "metadata": {},
   "source": [
    "Заполним пропуски в столбцах с названием модели, типом кузова, типом коробки передач, а также была ли отремонтирована машина:"
   ]
  },
  {
   "cell_type": "code",
   "execution_count": 18,
   "metadata": {},
   "outputs": [
    {
     "data": {
      "text/plain": [
       "small          2965\n",
       "convertible    1058\n",
       "coupe           294\n",
       "sedan            27\n",
       "wagon             9\n",
       "other             4\n",
       "Name: VehicleType, dtype: int64"
      ]
     },
     "execution_count": 18,
     "metadata": {},
     "output_type": "execute_result"
    }
   ],
   "source": [
    "df_car_pure[df_car_pure['Brand'] == 'smart']['VehicleType'].value_counts()"
   ]
  },
  {
   "cell_type": "markdown",
   "metadata": {},
   "source": [
    "Качество данных оставляет желать лучшего, универсал от Smart это что-то новое..."
   ]
  },
  {
   "cell_type": "markdown",
   "metadata": {},
   "source": [
    "Название модели нельзя восстановить, брать самое популярное значение будет странно (может появится Chevrolet Spark 1950 года), поэтому заполним значением 'unknown'. \n",
    "\n",
    "Также можно поступить и с типом кузова (универсалы от Smart у нас уже есть). \n",
    "\n",
    "\n",
    "Скорее всего пропуски в столбце с ремонтом автомобиля связаны с тем, что ремонт не проводился, поэтому этот столбец не был заполнен, заполним словом 'yes'.\n",
    "\n",
    "Пропуск с типом коробки передач - 0,018% данных - заполним типом 'manual', который встречается чаще."
   ]
  },
  {
   "cell_type": "code",
   "execution_count": 19,
   "metadata": {},
   "outputs": [],
   "source": [
    "df_car_pure['NotRepaired'].fillna(value='yes', inplace=True)"
   ]
  },
  {
   "cell_type": "code",
   "execution_count": 20,
   "metadata": {},
   "outputs": [],
   "source": [
    "df_car_pure['Model'].fillna(value='unknown', inplace=True)"
   ]
  },
  {
   "cell_type": "code",
   "execution_count": 21,
   "metadata": {},
   "outputs": [],
   "source": [
    "df_car_pure['VehicleType'].fillna(value='unknown', inplace=True)"
   ]
  },
  {
   "cell_type": "code",
   "execution_count": 22,
   "metadata": {},
   "outputs": [],
   "source": [
    "df_car_pure['Gearbox'].fillna(value='manual', inplace=True)"
   ]
  },
  {
   "cell_type": "code",
   "execution_count": 23,
   "metadata": {},
   "outputs": [
    {
     "data": {
      "text/plain": [
       "petrol      181094\n",
       "gasoline     88450\n",
       "lpg           4695\n",
       "cng            484\n",
       "hybrid         203\n",
       "other           76\n",
       "electric        36\n",
       "Name: FuelType, dtype: int64"
      ]
     },
     "execution_count": 23,
     "metadata": {},
     "output_type": "execute_result"
    }
   ],
   "source": [
    "df_car_pure['FuelType'].value_counts()"
   ]
  },
  {
   "cell_type": "markdown",
   "metadata": {},
   "source": [
    "Тип топлива 92,5% это бензин, но поробуем восстаноить тип в зависимости от модели и посмотрим, что получится:"
   ]
  },
  {
   "cell_type": "code",
   "execution_count": 24,
   "metadata": {},
   "outputs": [],
   "source": [
    "df_car_pure['FuelType'] = (df_car_pure['FuelType']\n",
    "                           .fillna(df_car_pure.groupby('Model')['FuelType']\n",
    "                           .transform(lambda x: x.value_counts().idxmax())))"
   ]
  },
  {
   "cell_type": "code",
   "execution_count": 25,
   "metadata": {},
   "outputs": [
    {
     "data": {
      "text/plain": [
       "petrol      194392\n",
       "gasoline     91456\n",
       "lpg           4695\n",
       "cng            484\n",
       "hybrid         203\n",
       "other           76\n",
       "electric        36\n",
       "Name: FuelType, dtype: int64"
      ]
     },
     "execution_count": 25,
     "metadata": {},
     "output_type": "execute_result"
    }
   ],
   "source": [
    "df_car_pure['FuelType'].value_counts()"
   ]
  },
  {
   "cell_type": "markdown",
   "metadata": {},
   "source": [
    "Часть пропусков заполнилась 'petrol', часть 'gasoline', в приницпе можно было так сделать и методом fillna.\n",
    "\n",
    "Проверим отсутствие пропусков:"
   ]
  },
  {
   "cell_type": "code",
   "execution_count": 26,
   "metadata": {},
   "outputs": [
    {
     "data": {
      "text/plain": [
       "Price               0\n",
       "VehicleType         0\n",
       "RegistrationYear    0\n",
       "Gearbox             0\n",
       "Power               0\n",
       "Model               0\n",
       "Kilometer           0\n",
       "FuelType            0\n",
       "Brand               0\n",
       "NotRepaired         0\n",
       "dtype: int64"
      ]
     },
     "metadata": {},
     "output_type": "display_data"
    }
   ],
   "source": [
    "display(df_car_pure.isna().sum())"
   ]
  },
  {
   "cell_type": "code",
   "execution_count": 27,
   "metadata": {},
   "outputs": [
    {
     "data": {
      "text/html": [
       "<div>\n",
       "<style scoped>\n",
       "    .dataframe tbody tr th:only-of-type {\n",
       "        vertical-align: middle;\n",
       "    }\n",
       "\n",
       "    .dataframe tbody tr th {\n",
       "        vertical-align: top;\n",
       "    }\n",
       "\n",
       "    .dataframe thead th {\n",
       "        text-align: right;\n",
       "    }\n",
       "</style>\n",
       "<table border=\"1\" class=\"dataframe\">\n",
       "  <thead>\n",
       "    <tr style=\"text-align: right;\">\n",
       "      <th></th>\n",
       "      <th>Price</th>\n",
       "      <th>VehicleType</th>\n",
       "      <th>RegistrationYear</th>\n",
       "      <th>Gearbox</th>\n",
       "      <th>Power</th>\n",
       "      <th>Model</th>\n",
       "      <th>Kilometer</th>\n",
       "      <th>FuelType</th>\n",
       "      <th>Brand</th>\n",
       "      <th>NotRepaired</th>\n",
       "    </tr>\n",
       "  </thead>\n",
       "  <tbody>\n",
       "    <tr>\n",
       "      <th>1</th>\n",
       "      <td>18300</td>\n",
       "      <td>coupe</td>\n",
       "      <td>2011</td>\n",
       "      <td>manual</td>\n",
       "      <td>190</td>\n",
       "      <td>unknown</td>\n",
       "      <td>125000</td>\n",
       "      <td>gasoline</td>\n",
       "      <td>audi</td>\n",
       "      <td>yes</td>\n",
       "    </tr>\n",
       "    <tr>\n",
       "      <th>2</th>\n",
       "      <td>9800</td>\n",
       "      <td>suv</td>\n",
       "      <td>2004</td>\n",
       "      <td>auto</td>\n",
       "      <td>163</td>\n",
       "      <td>grand</td>\n",
       "      <td>125000</td>\n",
       "      <td>gasoline</td>\n",
       "      <td>jeep</td>\n",
       "      <td>yes</td>\n",
       "    </tr>\n",
       "    <tr>\n",
       "      <th>3</th>\n",
       "      <td>1500</td>\n",
       "      <td>small</td>\n",
       "      <td>2001</td>\n",
       "      <td>manual</td>\n",
       "      <td>75</td>\n",
       "      <td>golf</td>\n",
       "      <td>150000</td>\n",
       "      <td>petrol</td>\n",
       "      <td>volkswagen</td>\n",
       "      <td>no</td>\n",
       "    </tr>\n",
       "    <tr>\n",
       "      <th>4</th>\n",
       "      <td>3600</td>\n",
       "      <td>small</td>\n",
       "      <td>2008</td>\n",
       "      <td>manual</td>\n",
       "      <td>69</td>\n",
       "      <td>fabia</td>\n",
       "      <td>90000</td>\n",
       "      <td>gasoline</td>\n",
       "      <td>skoda</td>\n",
       "      <td>no</td>\n",
       "    </tr>\n",
       "    <tr>\n",
       "      <th>5</th>\n",
       "      <td>650</td>\n",
       "      <td>sedan</td>\n",
       "      <td>1995</td>\n",
       "      <td>manual</td>\n",
       "      <td>102</td>\n",
       "      <td>3er</td>\n",
       "      <td>150000</td>\n",
       "      <td>petrol</td>\n",
       "      <td>bmw</td>\n",
       "      <td>yes</td>\n",
       "    </tr>\n",
       "  </tbody>\n",
       "</table>\n",
       "</div>"
      ],
      "text/plain": [
       "   Price VehicleType  RegistrationYear Gearbox  Power    Model  Kilometer  \\\n",
       "1  18300       coupe              2011  manual    190  unknown     125000   \n",
       "2   9800         suv              2004    auto    163    grand     125000   \n",
       "3   1500       small              2001  manual     75     golf     150000   \n",
       "4   3600       small              2008  manual     69    fabia      90000   \n",
       "5    650       sedan              1995  manual    102      3er     150000   \n",
       "\n",
       "   FuelType       Brand NotRepaired  \n",
       "1  gasoline        audi         yes  \n",
       "2  gasoline        jeep         yes  \n",
       "3    petrol  volkswagen          no  \n",
       "4  gasoline       skoda          no  \n",
       "5    petrol         bmw         yes  "
      ]
     },
     "execution_count": 27,
     "metadata": {},
     "output_type": "execute_result"
    }
   ],
   "source": [
    "df_car_pure.head()"
   ]
  },
  {
   "cell_type": "markdown",
   "metadata": {},
   "source": [
    "Приведем столбцы `'Gearbox'` и `'NotRepaired'` к бинарному типу:\n",
    "\n",
    "* В столбце `'Gearbox'`: 0 - manual, 1 - auto \t\n",
    "* В столбце `'NotRepaired'`: 0 - no, 1 - yes\n",
    "\n",
    "И заменим название столбца `'Gearbox'` на `'AutoGearbox'`"
   ]
  },
  {
   "cell_type": "code",
   "execution_count": 28,
   "metadata": {},
   "outputs": [],
   "source": [
    "df_car_pure['Gearbox'] = df_car_pure['Gearbox'].replace('manual', 0)\n",
    "df_car_pure['Gearbox'] = df_car_pure['Gearbox'].replace('auto', 1)\n",
    "\n",
    "df_car_pure['NotRepaired'] = df_car_pure['Gearbox'].replace('no', 0)\n",
    "df_car_pure['NotRepaired'] = df_car_pure['Gearbox'].replace('yes', 1)"
   ]
  },
  {
   "cell_type": "code",
   "execution_count": 29,
   "metadata": {},
   "outputs": [],
   "source": [
    "df_car_pure.columns = (['Price', 'VehicleType', 'RegistrationYear', 'AutoGearbox', 'Power', 'Model',\n",
    "       'Kilometer', 'FuelType', 'Brand', 'NotRepaired'])"
   ]
  },
  {
   "cell_type": "code",
   "execution_count": 30,
   "metadata": {},
   "outputs": [
    {
     "data": {
      "text/html": [
       "<div>\n",
       "<style scoped>\n",
       "    .dataframe tbody tr th:only-of-type {\n",
       "        vertical-align: middle;\n",
       "    }\n",
       "\n",
       "    .dataframe tbody tr th {\n",
       "        vertical-align: top;\n",
       "    }\n",
       "\n",
       "    .dataframe thead th {\n",
       "        text-align: right;\n",
       "    }\n",
       "</style>\n",
       "<table border=\"1\" class=\"dataframe\">\n",
       "  <thead>\n",
       "    <tr style=\"text-align: right;\">\n",
       "      <th></th>\n",
       "      <th>Price</th>\n",
       "      <th>VehicleType</th>\n",
       "      <th>RegistrationYear</th>\n",
       "      <th>AutoGearbox</th>\n",
       "      <th>Power</th>\n",
       "      <th>Model</th>\n",
       "      <th>Kilometer</th>\n",
       "      <th>FuelType</th>\n",
       "      <th>Brand</th>\n",
       "      <th>NotRepaired</th>\n",
       "    </tr>\n",
       "  </thead>\n",
       "  <tbody>\n",
       "    <tr>\n",
       "      <th>25414</th>\n",
       "      <td>3100</td>\n",
       "      <td>sedan</td>\n",
       "      <td>2005</td>\n",
       "      <td>0</td>\n",
       "      <td>75</td>\n",
       "      <td>golf</td>\n",
       "      <td>150000</td>\n",
       "      <td>petrol</td>\n",
       "      <td>volkswagen</td>\n",
       "      <td>0</td>\n",
       "    </tr>\n",
       "    <tr>\n",
       "      <th>223882</th>\n",
       "      <td>1250</td>\n",
       "      <td>sedan</td>\n",
       "      <td>1994</td>\n",
       "      <td>0</td>\n",
       "      <td>122</td>\n",
       "      <td>c_klasse</td>\n",
       "      <td>150000</td>\n",
       "      <td>petrol</td>\n",
       "      <td>mercedes_benz</td>\n",
       "      <td>0</td>\n",
       "    </tr>\n",
       "    <tr>\n",
       "      <th>341776</th>\n",
       "      <td>4950</td>\n",
       "      <td>bus</td>\n",
       "      <td>2005</td>\n",
       "      <td>0</td>\n",
       "      <td>116</td>\n",
       "      <td>touran</td>\n",
       "      <td>100000</td>\n",
       "      <td>petrol</td>\n",
       "      <td>volkswagen</td>\n",
       "      <td>0</td>\n",
       "    </tr>\n",
       "    <tr>\n",
       "      <th>87210</th>\n",
       "      <td>2800</td>\n",
       "      <td>sedan</td>\n",
       "      <td>1989</td>\n",
       "      <td>1</td>\n",
       "      <td>170</td>\n",
       "      <td>5er</td>\n",
       "      <td>100000</td>\n",
       "      <td>gasoline</td>\n",
       "      <td>bmw</td>\n",
       "      <td>1</td>\n",
       "    </tr>\n",
       "    <tr>\n",
       "      <th>122203</th>\n",
       "      <td>600</td>\n",
       "      <td>sedan</td>\n",
       "      <td>1996</td>\n",
       "      <td>0</td>\n",
       "      <td>60</td>\n",
       "      <td>golf</td>\n",
       "      <td>150000</td>\n",
       "      <td>petrol</td>\n",
       "      <td>volkswagen</td>\n",
       "      <td>0</td>\n",
       "    </tr>\n",
       "    <tr>\n",
       "      <th>73957</th>\n",
       "      <td>700</td>\n",
       "      <td>sedan</td>\n",
       "      <td>1995</td>\n",
       "      <td>0</td>\n",
       "      <td>60</td>\n",
       "      <td>cordoba</td>\n",
       "      <td>150000</td>\n",
       "      <td>petrol</td>\n",
       "      <td>seat</td>\n",
       "      <td>0</td>\n",
       "    </tr>\n",
       "    <tr>\n",
       "      <th>68529</th>\n",
       "      <td>5700</td>\n",
       "      <td>small</td>\n",
       "      <td>2008</td>\n",
       "      <td>0</td>\n",
       "      <td>75</td>\n",
       "      <td>500</td>\n",
       "      <td>125000</td>\n",
       "      <td>gasoline</td>\n",
       "      <td>fiat</td>\n",
       "      <td>0</td>\n",
       "    </tr>\n",
       "    <tr>\n",
       "      <th>73504</th>\n",
       "      <td>550</td>\n",
       "      <td>wagon</td>\n",
       "      <td>1998</td>\n",
       "      <td>0</td>\n",
       "      <td>101</td>\n",
       "      <td>3er</td>\n",
       "      <td>150000</td>\n",
       "      <td>petrol</td>\n",
       "      <td>bmw</td>\n",
       "      <td>0</td>\n",
       "    </tr>\n",
       "    <tr>\n",
       "      <th>115107</th>\n",
       "      <td>1790</td>\n",
       "      <td>wagon</td>\n",
       "      <td>2004</td>\n",
       "      <td>0</td>\n",
       "      <td>140</td>\n",
       "      <td>156</td>\n",
       "      <td>150000</td>\n",
       "      <td>lpg</td>\n",
       "      <td>alfa_romeo</td>\n",
       "      <td>0</td>\n",
       "    </tr>\n",
       "    <tr>\n",
       "      <th>213129</th>\n",
       "      <td>9450</td>\n",
       "      <td>wagon</td>\n",
       "      <td>2008</td>\n",
       "      <td>0</td>\n",
       "      <td>143</td>\n",
       "      <td>a4</td>\n",
       "      <td>150000</td>\n",
       "      <td>gasoline</td>\n",
       "      <td>audi</td>\n",
       "      <td>0</td>\n",
       "    </tr>\n",
       "  </tbody>\n",
       "</table>\n",
       "</div>"
      ],
      "text/plain": [
       "        Price VehicleType  RegistrationYear  AutoGearbox  Power     Model  \\\n",
       "25414    3100       sedan              2005            0     75      golf   \n",
       "223882   1250       sedan              1994            0    122  c_klasse   \n",
       "341776   4950         bus              2005            0    116    touran   \n",
       "87210    2800       sedan              1989            1    170       5er   \n",
       "122203    600       sedan              1996            0     60      golf   \n",
       "73957     700       sedan              1995            0     60   cordoba   \n",
       "68529    5700       small              2008            0     75       500   \n",
       "73504     550       wagon              1998            0    101       3er   \n",
       "115107   1790       wagon              2004            0    140       156   \n",
       "213129   9450       wagon              2008            0    143        a4   \n",
       "\n",
       "        Kilometer  FuelType          Brand  NotRepaired  \n",
       "25414      150000    petrol     volkswagen            0  \n",
       "223882     150000    petrol  mercedes_benz            0  \n",
       "341776     100000    petrol     volkswagen            0  \n",
       "87210      100000  gasoline            bmw            1  \n",
       "122203     150000    petrol     volkswagen            0  \n",
       "73957      150000    petrol           seat            0  \n",
       "68529      125000  gasoline           fiat            0  \n",
       "73504      150000    petrol            bmw            0  \n",
       "115107     150000       lpg     alfa_romeo            0  \n",
       "213129     150000  gasoline           audi            0  "
      ]
     },
     "execution_count": 30,
     "metadata": {},
     "output_type": "execute_result"
    }
   ],
   "source": [
    "df_car_pure.sample(10)"
   ]
  },
  {
   "cell_type": "code",
   "execution_count": 31,
   "metadata": {},
   "outputs": [
    {
     "name": "stdout",
     "output_type": "stream",
     "text": [
      "<class 'pandas.core.frame.DataFrame'>\n",
      "Int64Index: 291342 entries, 1 to 354368\n",
      "Data columns (total 10 columns):\n",
      " #   Column            Non-Null Count   Dtype \n",
      "---  ------            --------------   ----- \n",
      " 0   Price             291342 non-null  int64 \n",
      " 1   VehicleType       291342 non-null  object\n",
      " 2   RegistrationYear  291342 non-null  int64 \n",
      " 3   AutoGearbox       291342 non-null  int64 \n",
      " 4   Power             291342 non-null  int64 \n",
      " 5   Model             291342 non-null  object\n",
      " 6   Kilometer         291342 non-null  int64 \n",
      " 7   FuelType          291342 non-null  object\n",
      " 8   Brand             291342 non-null  object\n",
      " 9   NotRepaired       291342 non-null  int64 \n",
      "dtypes: int64(6), object(4)\n",
      "memory usage: 24.5+ MB\n"
     ]
    }
   ],
   "source": [
    "df_car_pure.info()"
   ]
  },
  {
   "cell_type": "markdown",
   "metadata": {},
   "source": [
    "### Вывод"
   ]
  },
  {
   "cell_type": "markdown",
   "metadata": {},
   "source": [
    "1. Были загружены данные, выявлены и удалены аномалии в 3-х столбцах: `'RegistrationYear'`,`'Power'`, `'Price'` (было удалено 17,79% данных)\n",
    "\n",
    "2. Были удалены стоблцы, не влияющие на целевой признак.\n",
    "\n",
    "3. Заполнены пропуски в столбцах `'VehicleType'`, `'Gearbox'`, `'Model'`, `'FuelType'`, `'NotRepaired'` - \n",
    "* в столбцах `'VehicleType'` и `'Model'` нельзя восстановить информацию, поэтому пропуски были заменены на значение 'unknown', \n",
    "* столбцы `'Gearbox'` и `'FuelType'` были заполнены самыми частовстречающимися значениями,\n",
    "* столбец `'NotRepaired'` заполнен значением 'yes', подразумевая, что автомобиль не был ремонтирован.\n",
    "\n",
    "4. Признаки `'Gearbox'` и `'NotRepaired'` преобразованы в бинарные."
   ]
  },
  {
   "cell_type": "markdown",
   "metadata": {},
   "source": [
    "## Обучение моделей"
   ]
  },
  {
   "cell_type": "markdown",
   "metadata": {},
   "source": [
    "Обучим следующие модели:\n",
    "1. LinearRegression\n",
    "2. RandomForestRegressor\n",
    "3. CatBoostRegressor\n",
    "4. LGBMRegressor\n",
    "5. DummyRegressor"
   ]
  },
  {
   "cell_type": "markdown",
   "metadata": {},
   "source": [
    "### Кодирование признаков и разбиение на обучающую и тестовую выборки"
   ]
  },
  {
   "cell_type": "markdown",
   "metadata": {},
   "source": [
    "Для обучения моделей необходимо закодировать категориальные признаки и подготовить тестовую выборку."
   ]
  },
  {
   "cell_type": "code",
   "execution_count": 32,
   "metadata": {},
   "outputs": [],
   "source": [
    "# Без кодирования\n",
    "features_original = df_car_pure.drop('Price', axis=1)\n",
    "\n",
    "# Целевой признак \n",
    "target = df_car_pure['Price']\n",
    "\n",
    "# One Hot Encoding (OHE)\n",
    "features_ohe = pd.get_dummies(features_original, drop_first=True)\n",
    "\n",
    "# Ordinal Encoding \n",
    "cat_columns = ['VehicleType', 'Model', 'FuelType','Brand']\n",
    "features_ord = features_original.copy()\n",
    "for column in cat_columns:\n",
    "    features_ord[column] = features_ord[column].astype('category') \n",
    "    features_ord[column] = features_ord[column].cat.codes"
   ]
  },
  {
   "cell_type": "code",
   "execution_count": 33,
   "metadata": {},
   "outputs": [],
   "source": [
    "features_original_train, features_original_test, target_train, target_test = train_test_split(\n",
    "    features_original, target, test_size=0.25, random_state=1)\n",
    "\n",
    "features_ord_train = features_ord.loc[features_original_train.index, :]\n",
    "features_ord_test = features_ord.loc[features_original_test.index, :]\n",
    "\n",
    "features_ohe_train = features_ohe.loc[features_original_train.index, :]\n",
    "features_ohe_test = features_ohe.loc[features_original_test.index, :]"
   ]
  },
  {
   "cell_type": "code",
   "execution_count": 35,
   "metadata": {},
   "outputs": [
    {
     "name": "stdout",
     "output_type": "stream",
     "text": [
      "Размер тренировочной выборки: (218506, 9)\n",
      "Размер тестовой выборки: (218506, 9)\n",
      "Размер тренировочной выборки, закодированной OE: (218506, 9)\n",
      "Размер тестовой выборки, закодированной OE: (72836, 9)\n",
      "Размер тренировочной выборки, закодированной OHE: (218506, 307)\n",
      "Размер тестовой выборки, закодированной OHE: (72836, 307)\n",
      "Размер целевой тренировочной выборки: (218506,)\n",
      "Размер целевой тестовой выборки: (72836,)\n"
     ]
    }
   ],
   "source": [
    "print(f'Размер тренировочной выборки: {features_original_train.shape}')\n",
    "print(f'Размер тестовой выборки: {features_original_train.shape}')\n",
    "print(f'Размер тренировочной выборки, закодированной OE: {features_ord_train.shape}')\n",
    "print(f'Размер тестовой выборки, закодированной OE: {features_ord_test.shape}')\n",
    "print(f'Размер тренировочной выборки, закодированной OHE: {features_ohe_train.shape}')\n",
    "print(f'Размер тестовой выборки, закодированной OHE: {features_ohe_test.shape}')\n",
    "\n",
    "print(f'Размер целевой тренировочной выборки: {target_train.shape}')\n",
    "print(f'Размер целевой тестовой выборки: {target_test.shape}')"
   ]
  },
  {
   "cell_type": "markdown",
   "metadata": {},
   "source": [
    "Для разных моделей подойдет разное кодирование:\n",
    "\n",
    "1. Без кодирования данные (и категориальные, и количественные) будут использованы для модели CatBoost, которая сама кодирует категориальные признаки.\n",
    "2. Закодированные техникой One Hot Encoding подойдут для линейной регрессии, так как номер модели, закодированный Ordinal Encoding не нужно сравнивать как больше/меньше.\n",
    "3. Ordinal Encoding подойдет моделям случайного леса и LightGBM, так как моделям, основанным на деревьях решений не нужно сравнивать числа как большие или меньшие."
   ]
  },
  {
   "cell_type": "markdown",
   "metadata": {},
   "source": [
    "### Модель LinearRegression"
   ]
  },
  {
   "cell_type": "code",
   "execution_count": null,
   "metadata": {},
   "outputs": [],
   "source": [
    "%%time\n",
    "# обучим модель\n",
    "lin_reg = LinearRegression()\n",
    "parameters_lin_reg = {'fit_intercept':[True, False], \n",
    "                      'normalize':[True, False]}\n",
    "\n",
    "                   \n",
    "grid_lin_reg = GridSearchCV(lin_reg, parameters_lin_reg, \n",
    "                            scoring='neg_root_mean_squared_error', \n",
    "                            n_jobs=-1, cv=4, \n",
    "                            return_train_score=True)\n",
    "grid_lin_reg.fit(features_ohe_train, target_train)"
   ]
  },
  {
   "cell_type": "code",
   "execution_count": 70,
   "metadata": {},
   "outputs": [
    {
     "data": {
      "text/plain": [
       "2612.2948679393353"
      ]
     },
     "execution_count": 70,
     "metadata": {},
     "output_type": "execute_result"
    }
   ],
   "source": [
    "# полученное значение rmse\n",
    "grid_lin_reg.best_score_*(-1)"
   ]
  },
  {
   "cell_type": "code",
   "execution_count": 71,
   "metadata": {},
   "outputs": [
    {
     "data": {
      "text/plain": [
       "{'fit_intercept': True, 'normalize': True}"
      ]
     },
     "execution_count": 71,
     "metadata": {},
     "output_type": "execute_result"
    }
   ],
   "source": [
    "# посмотрим на лучшее значение \n",
    "grid_lin_reg.best_params_"
   ]
  },
  {
   "cell_type": "code",
   "execution_count": 72,
   "metadata": {},
   "outputs": [
    {
     "data": {
      "text/plain": [
       "{'mean_fit_time': array([8.8494994 , 7.35250026, 7.69174999, 5.85526299]),\n",
       " 'std_fit_time': array([0.67830823, 0.84645604, 0.5205226 , 0.36836151]),\n",
       " 'mean_score_time': array([0.20975167, 0.24874973, 0.21374983, 0.15150183]),\n",
       " 'std_score_time': array([0.00649618, 0.0371101 , 0.04715487, 0.02432265]),\n",
       " 'param_fit_intercept': masked_array(data=[True, True, False, False],\n",
       "              mask=[False, False, False, False],\n",
       "        fill_value='?',\n",
       "             dtype=object),\n",
       " 'param_normalize': masked_array(data=[True, False, True, False],\n",
       "              mask=[False, False, False, False],\n",
       "        fill_value='?',\n",
       "             dtype=object),\n",
       " 'params': [{'fit_intercept': True, 'normalize': True},\n",
       "  {'fit_intercept': True, 'normalize': False},\n",
       "  {'fit_intercept': False, 'normalize': True},\n",
       "  {'fit_intercept': False, 'normalize': False}],\n",
       " 'split0_test_score': array([-2617.71401384, -2617.90218506, -2883.87536982, -2883.87536982]),\n",
       " 'split1_test_score': array([-2608.56050998, -2608.5329437 , -2850.49105034, -2850.49105034]),\n",
       " 'split2_test_score': array([-2605.0698508 , -2605.07457656, -2866.08132783, -2866.08132783]),\n",
       " 'split3_test_score': array([-2617.83509713, -2617.76370567, -2861.90556873, -2861.90556873]),\n",
       " 'mean_test_score': array([-2612.29486794, -2612.31835275, -2865.58832918, -2865.58832918]),\n",
       " 'std_test_score': array([ 5.61710744,  5.64873143, 12.00155673, 12.00155673]),\n",
       " 'rank_test_score': array([1, 2, 3, 3]),\n",
       " 'split0_train_score': array([-2604.97436294, -2605.01494309, -2854.08442843, -2854.08442843]),\n",
       " 'split1_train_score': array([-2608.01516804, -2608.01949908, -2865.24207065, -2865.24207065]),\n",
       " 'split2_train_score': array([-2609.18758175, -2609.13686975, -2859.99881862, -2859.99881862]),\n",
       " 'split3_train_score': array([-2605.04598287, -2604.99043701, -2861.49257674, -2861.49257674]),\n",
       " 'mean_train_score': array([-2606.8057739 , -2606.79043723, -2860.20447361, -2860.20447361]),\n",
       " 'std_train_score': array([1.84299847, 1.83089587, 4.01664788, 4.01664788])}"
      ]
     },
     "execution_count": 72,
     "metadata": {},
     "output_type": "execute_result"
    }
   ],
   "source": [
    "grid_lin_reg.cv_results_"
   ]
  },
  {
   "cell_type": "markdown",
   "metadata": {},
   "source": [
    "### RandomForestRegressor"
   ]
  },
  {
   "cell_type": "code",
   "execution_count": 73,
   "metadata": {},
   "outputs": [
    {
     "name": "stdout",
     "output_type": "stream",
     "text": [
      "Wall time: 30min 44s\n"
     ]
    },
    {
     "data": {
      "text/plain": [
       "GridSearchCV(cv=3, estimator=RandomForestRegressor(random_state=1), n_jobs=-1,\n",
       "             param_grid={'max_depth': range(1, 15, 5),\n",
       "                         'min_samples_leaf': range(1, 12, 5),\n",
       "                         'min_samples_split': range(5, 12, 3),\n",
       "                         'n_estimators': range(50, 300, 50)},\n",
       "             return_train_score=True, scoring='neg_root_mean_squared_error')"
      ]
     },
     "execution_count": 73,
     "metadata": {},
     "output_type": "execute_result"
    }
   ],
   "source": [
    "%%time\n",
    "# обучим модель\n",
    "many_tree = RandomForestRegressor(random_state=1)\n",
    "parameters_many_tree = {'n_estimators': range(50,300,50),\n",
    "                        'min_samples_split': range(5,12,3), \n",
    "                        'max_depth':range(1,15,5),\n",
    "                        'min_samples_leaf':range(1,12,5)}\n",
    "\n",
    "                    \n",
    "grid_many_tree = GridSearchCV(many_tree, parameters_many_tree, \n",
    "                                scoring='neg_root_mean_squared_error', \n",
    "                                n_jobs=-1, cv=3, \n",
    "                                return_train_score=True)\n",
    "grid_many_tree.fit(features_ord_train, target_train)"
   ]
  },
  {
   "cell_type": "code",
   "execution_count": 74,
   "metadata": {},
   "outputs": [
    {
     "data": {
      "text/plain": [
       "1825.7604861114726"
      ]
     },
     "execution_count": 74,
     "metadata": {},
     "output_type": "execute_result"
    }
   ],
   "source": [
    "# полученное значение rmse\n",
    "grid_many_tree.best_score_*(-1)"
   ]
  },
  {
   "cell_type": "code",
   "execution_count": 75,
   "metadata": {},
   "outputs": [
    {
     "data": {
      "text/plain": [
       "{'max_depth': 11,\n",
       " 'min_samples_leaf': 1,\n",
       " 'min_samples_split': 5,\n",
       " 'n_estimators': 250}"
      ]
     },
     "execution_count": 75,
     "metadata": {},
     "output_type": "execute_result"
    }
   ],
   "source": [
    "# посмотрим на лучшее значение параметров\n",
    "grid_many_tree.best_params_"
   ]
  },
  {
   "cell_type": "code",
   "execution_count": 2,
   "metadata": {},
   "outputs": [],
   "source": [
    "#grid_many_tree.cv_results_"
   ]
  },
  {
   "cell_type": "markdown",
   "metadata": {},
   "source": [
    "### CatBoostRegressor"
   ]
  },
  {
   "cell_type": "code",
   "execution_count": 3,
   "metadata": {},
   "outputs": [],
   "source": [
    "# Подбор гиперпараметров\n",
    "\n",
    "#%%time\n",
    "#model_cat = CatBoostRegressor(loss_function='RMSE', eval_metric='RMSE', \n",
    "                              #border_count = 32,\n",
    "                              #learning_rate = 0.1,\n",
    "                              #l2_leaf_reg = 3,\n",
    "                              #cat_features = cat_columns,\n",
    "                              #thread_count = -1,\n",
    "                              #random_seed=1)\n",
    "\n",
    "#grid_cat = {'depth': [10, 15, 20]}\n",
    "        \n",
    "#grid_search_result_cat = model_cat.grid_search(grid_cat,\n",
    "                                       #X=features_original_train,\n",
    "                                       #y=target_train,\n",
    "                                       #cv=4,\n",
    "                                       #partition_random_seed=1,\n",
    "                                       #plot=True)"
   ]
  },
  {
   "cell_type": "code",
   "execution_count": 85,
   "metadata": {},
   "outputs": [
    {
     "data": {
      "text/plain": [
       "{'learn': {'RMSE': 1392.832026024745}}"
      ]
     },
     "execution_count": 85,
     "metadata": {},
     "output_type": "execute_result"
    }
   ],
   "source": [
    "model_cat.best_score_"
   ]
  },
  {
   "cell_type": "code",
   "execution_count": 81,
   "metadata": {},
   "outputs": [
    {
     "data": {
      "text/plain": [
       "{'depth': 10}"
      ]
     },
     "execution_count": 81,
     "metadata": {},
     "output_type": "execute_result"
    }
   ],
   "source": [
    "grid_search_result_cat['params']"
   ]
  },
  {
   "cell_type": "markdown",
   "metadata": {},
   "source": [
    "### LightGBMRegressor"
   ]
  },
  {
   "cell_type": "code",
   "execution_count": 93,
   "metadata": {},
   "outputs": [
    {
     "name": "stdout",
     "output_type": "stream",
     "text": [
      "Wall time: 5min 27s\n"
     ]
    },
    {
     "data": {
      "text/plain": [
       "GridSearchCV(cv=3, estimator=LGBMRegressor(random_state=1), n_jobs=-1,\n",
       "             param_grid={'learning_rate': [0.1],\n",
       "                         'n_estimators': [300, 500, 600, 900],\n",
       "                         'num_leaves': [100, 200, 400]},\n",
       "             return_train_score=True, scoring='neg_root_mean_squared_error')"
      ]
     },
     "execution_count": 93,
     "metadata": {},
     "output_type": "execute_result"
    }
   ],
   "source": [
    "%%time\n",
    "\n",
    "model_lgbm = LGBMRegressor(random_state=1) \n",
    "grid_lgbm = {'num_leaves':[100, 200, 300], \n",
    "             'learning_rate':[0.1],\n",
    "             'n_estimators':[300, 500, 900]}\n",
    "\n",
    "\n",
    "grid_search_lgbm = GridSearchCV(model_lgbm, grid_lgbm, \n",
    "                                scoring='neg_root_mean_squared_error',\n",
    "                                n_jobs=-1, cv=3, \n",
    "                                return_train_score=True)\n",
    "grid_search_lgbm.fit(features_ord_train, target_train)"
   ]
  },
  {
   "cell_type": "code",
   "execution_count": 94,
   "metadata": {},
   "outputs": [
    {
     "data": {
      "text/plain": [
       "1599.8111702299348"
      ]
     },
     "execution_count": 94,
     "metadata": {},
     "output_type": "execute_result"
    }
   ],
   "source": [
    "# полученное значение rmse\n",
    "grid_search_lgbm.best_score_*(-1)"
   ]
  },
  {
   "cell_type": "code",
   "execution_count": 95,
   "metadata": {},
   "outputs": [
    {
     "data": {
      "text/plain": [
       "{'learning_rate': 0.1, 'n_estimators': 900, 'num_leaves': 100}"
      ]
     },
     "execution_count": 95,
     "metadata": {},
     "output_type": "execute_result"
    }
   ],
   "source": [
    "# посмотрим на лучшее значение параметров\n",
    "grid_search_lgbm.best_params_"
   ]
  },
  {
   "cell_type": "markdown",
   "metadata": {},
   "source": [
    "### DummyRegressor"
   ]
  },
  {
   "cell_type": "code",
   "execution_count": 100,
   "metadata": {},
   "outputs": [
    {
     "name": "stdout",
     "output_type": "stream",
     "text": [
      "4866.338344170001\n"
     ]
    }
   ],
   "source": [
    "dummy_reg = DummyRegressor(strategy='median')\n",
    "dummy_reg.fit(features_ord_train, target_train)\n",
    "dummy_pred = dummy_reg.predict(features_ord_train)\n",
    "print((mean_squared_error(target_train, dummy_pred))**0.5)"
   ]
  },
  {
   "cell_type": "markdown",
   "metadata": {},
   "source": [
    "### Вывод"
   ]
  },
  {
   "cell_type": "markdown",
   "metadata": {},
   "source": [
    "Данные были закодированы методами One Hot Encoding и Ordinal Encoding.\n",
    "\n",
    "Были обучены модели:\n",
    "1. Линейная регрессия, RMSE = 2612.3, время обучения 28 секунд;\n",
    "2. Случайный лес, RMSE = 1825.8, время обучения 30 минут 44 секунд;\n",
    "3. Модель CatBoost, RMSE = 1606.5, время обучения 18 минут 39 секунд;\n",
    "4. Модель LightGBM, RMSE = 1599.8, время обучения 5 минут 27 секунд.\n",
    "\n",
    "Также модели были сравнены со случайной, которая показала худший результат RMSE = 4866.3.\n",
    "\n",
    "\n",
    "Разница во времени обучения связана, в первую очередь, с количеством перебора гиперпараметров с помощью GridSearchCV. Но при этом случайный лес обучался дольше всего (больше всего было перебрано гиперпараметров), но показал результат хуже, чем модели бустинга."
   ]
  },
  {
   "cell_type": "markdown",
   "metadata": {},
   "source": [
    "## Анализ моделей"
   ]
  },
  {
   "cell_type": "markdown",
   "metadata": {},
   "source": [
    "Обучим модели с наилучшими гиперпараметрами и вычислим итоговое значение RMSE."
   ]
  },
  {
   "cell_type": "code",
   "execution_count": 101,
   "metadata": {},
   "outputs": [],
   "source": [
    "# Формулу для получения значения RMSE\n",
    "def rmse (target, predictions):\n",
    "    return mean_squared_error(target, predictions)** 0.5"
   ]
  },
  {
   "cell_type": "markdown",
   "metadata": {},
   "source": [
    "### Модель LinearRegression"
   ]
  },
  {
   "cell_type": "code",
   "execution_count": 102,
   "metadata": {},
   "outputs": [
    {
     "name": "stderr",
     "output_type": "stream",
     "text": [
      "C:\\Users\\ar_ma\\anaconda3\\lib\\site-packages\\sklearn\\linear_model\\_base.py:141: FutureWarning: 'normalize' was deprecated in version 1.0 and will be removed in 1.2.\n",
      "If you wish to scale the data, use Pipeline with a StandardScaler in a preprocessing stage. To reproduce the previous behavior:\n",
      "\n",
      "from sklearn.pipeline import make_pipeline\n",
      "\n",
      "model = make_pipeline(StandardScaler(with_mean=False), LinearRegression())\n",
      "\n",
      "If you wish to pass a sample_weight parameter, you need to pass it as a fit parameter to each step of the pipeline as follows:\n",
      "\n",
      "kwargs = {s[0] + '__sample_weight': sample_weight for s in model.steps}\n",
      "model.fit(X, y, **kwargs)\n",
      "\n",
      "\n",
      "  warnings.warn(\n"
     ]
    },
    {
     "name": "stdout",
     "output_type": "stream",
     "text": [
      "Wall time: 4.13 s\n"
     ]
    },
    {
     "data": {
      "text/plain": [
       "LinearRegression(n_jobs=-1, normalize=True)"
      ]
     },
     "execution_count": 102,
     "metadata": {},
     "output_type": "execute_result"
    }
   ],
   "source": [
    "%%time\n",
    "\n",
    "lin_reg = LinearRegression(normalize=True, n_jobs=-1)\n",
    "lin_reg.fit(features_ohe_train, target_train)"
   ]
  },
  {
   "cell_type": "code",
   "execution_count": 103,
   "metadata": {},
   "outputs": [
    {
     "name": "stdout",
     "output_type": "stream",
     "text": [
      "Wall time: 120 ms\n"
     ]
    }
   ],
   "source": [
    "%%time\n",
    "pred_lin_reg = lin_reg.predict(features_ohe_test)"
   ]
  },
  {
   "cell_type": "code",
   "execution_count": 105,
   "metadata": {},
   "outputs": [
    {
     "name": "stdout",
     "output_type": "stream",
     "text": [
      "RMSE на тестовой выборке = 2627.5867820620347\n"
     ]
    }
   ],
   "source": [
    "print(f'RMSE на тестовой выборке = {rmse(target_test, pred_lin_reg)}')"
   ]
  },
  {
   "cell_type": "markdown",
   "metadata": {},
   "source": [
    "### RandomForestRegressor"
   ]
  },
  {
   "cell_type": "code",
   "execution_count": 113,
   "metadata": {},
   "outputs": [
    {
     "name": "stdout",
     "output_type": "stream",
     "text": [
      "Wall time: 16 s\n"
     ]
    },
    {
     "data": {
      "text/plain": [
       "RandomForestRegressor(max_depth=11, min_samples_split=5, n_estimators=250,\n",
       "                      n_jobs=-1, random_state=1)"
      ]
     },
     "execution_count": 113,
     "metadata": {},
     "output_type": "execute_result"
    }
   ],
   "source": [
    "%%time\n",
    "\n",
    "many_tree = RandomForestRegressor(max_depth=11,\n",
    "                                  min_samples_leaf=1,\n",
    "                                  min_samples_split=5,\n",
    "                                  n_estimators=250, \n",
    "                                  n_jobs=-1,random_state=1)\n",
    "many_tree.fit(features_ord_train, target_train)"
   ]
  },
  {
   "cell_type": "code",
   "execution_count": 114,
   "metadata": {},
   "outputs": [
    {
     "name": "stdout",
     "output_type": "stream",
     "text": [
      "Wall time: 358 ms\n"
     ]
    }
   ],
   "source": [
    "%%time\n",
    "pred_many_tree = many_tree.predict(features_ord_test)"
   ]
  },
  {
   "cell_type": "code",
   "execution_count": 115,
   "metadata": {},
   "outputs": [
    {
     "name": "stdout",
     "output_type": "stream",
     "text": [
      "RMSE на тестовой выборке = 1822.5535586615622\n"
     ]
    }
   ],
   "source": [
    "print(f'RMSE на тестовой выборке = {rmse(target_test, pred_many_tree)}')"
   ]
  },
  {
   "cell_type": "markdown",
   "metadata": {},
   "source": [
    "### CatBoostRegressor"
   ]
  },
  {
   "cell_type": "code",
   "execution_count": 125,
   "metadata": {},
   "outputs": [
    {
     "name": "stdout",
     "output_type": "stream",
     "text": [
      "0:\tlearn: 4252.8326749\ttotal: 159ms\tremaining: 2m 6s\n",
      "200:\tlearn: 1585.0673123\ttotal: 27.7s\tremaining: 1m 22s\n",
      "400:\tlearn: 1509.3968881\ttotal: 55.9s\tremaining: 55.6s\n",
      "600:\tlearn: 1457.8171139\ttotal: 1m 26s\tremaining: 28.5s\n",
      "799:\tlearn: 1421.0299476\ttotal: 1m 55s\tremaining: 0us\n",
      "Wall time: 1min 56s\n"
     ]
    },
    {
     "data": {
      "text/plain": [
       "<catboost.core.CatBoostRegressor at 0x1758a856430>"
      ]
     },
     "execution_count": 125,
     "metadata": {},
     "output_type": "execute_result"
    }
   ],
   "source": [
    "%%time\n",
    "model_cat = CatBoostRegressor(loss_function='RMSE', \n",
    "                               cat_features = cat_columns,\n",
    "                               depth=10,\n",
    "                               border_count=32,\n",
    "                               l2_leaf_reg=3,\n",
    "                               learning_rate =0.1,\n",
    "                               iterations=800,\n",
    "                               eval_metric='RMSE',\n",
    "                               thread_count=-1,\n",
    "                               random_seed=1) \n",
    "\n",
    "model_cat.fit(features_original_train, target_train, metric_period=200)  "
   ]
  },
  {
   "cell_type": "code",
   "execution_count": 126,
   "metadata": {},
   "outputs": [
    {
     "name": "stdout",
     "output_type": "stream",
     "text": [
      "Wall time: 301 ms\n"
     ]
    }
   ],
   "source": [
    "%%time\n",
    "pred_cat = model_cat.predict(features_original_test)"
   ]
  },
  {
   "cell_type": "code",
   "execution_count": 127,
   "metadata": {},
   "outputs": [
    {
     "name": "stdout",
     "output_type": "stream",
     "text": [
      "RMSE на тестовой выборке = 1610.6533008864772\n"
     ]
    }
   ],
   "source": [
    "print(f'RMSE на тестовой выборке = {rmse(target_test, pred_cat)}')"
   ]
  },
  {
   "cell_type": "markdown",
   "metadata": {},
   "source": [
    "### LightGBMRegressor"
   ]
  },
  {
   "cell_type": "code",
   "execution_count": 128,
   "metadata": {},
   "outputs": [
    {
     "name": "stdout",
     "output_type": "stream",
     "text": [
      "Wall time: 4.01 s\n"
     ]
    },
    {
     "data": {
      "text/plain": [
       "LGBMRegressor(n_estimators=900, num_leaves=100, random_state=1)"
      ]
     },
     "execution_count": 128,
     "metadata": {},
     "output_type": "execute_result"
    }
   ],
   "source": [
    "%%time\n",
    "\n",
    "model_lgbm = LGBMRegressor(num_leaves=100,\n",
    "                           learning_rate=0.1,\n",
    "                           n_estimators=900, \n",
    "                           n_jobs=-1,\n",
    "                           random_state=1) \n",
    "\n",
    "model_lgbm.fit(features_ord_train, target_train)"
   ]
  },
  {
   "cell_type": "code",
   "execution_count": 144,
   "metadata": {},
   "outputs": [
    {
     "name": "stdout",
     "output_type": "stream",
     "text": [
      "Wall time: 975 ms\n"
     ]
    }
   ],
   "source": [
    "%%time\n",
    "pred_lgbm = model_lgbm.predict(features_ord_test)"
   ]
  },
  {
   "cell_type": "code",
   "execution_count": 130,
   "metadata": {},
   "outputs": [
    {
     "name": "stdout",
     "output_type": "stream",
     "text": [
      "RMSE на тестовой выборке = 1572.373047585002\n"
     ]
    }
   ],
   "source": [
    "print(f'RMSE на тестовой выборке = {rmse(target_test, pred_lgbm)}')"
   ]
  },
  {
   "cell_type": "markdown",
   "metadata": {},
   "source": [
    "### Вывод"
   ]
  },
  {
   "cell_type": "markdown",
   "metadata": {},
   "source": [
    "Были обучены модели с наилучшими гиперпараметрами, которые были найдены в предыдущем пункте."
   ]
  },
  {
   "cell_type": "code",
   "execution_count": 145,
   "metadata": {},
   "outputs": [],
   "source": [
    "df_dict = [[4.13, 120, 2627.59],\n",
    "            [16, 358, 1822.55],\n",
    "            [116, 301, 1610.65],\n",
    "            [4.01, 975, 1572.37]]\n",
    "model_name = [\"Linear Regression\", \"RandomForestRegressor\", \"CatBoostRegressor\", \"LGBMRegressor\"]"
   ]
  },
  {
   "cell_type": "code",
   "execution_count": 146,
   "metadata": {},
   "outputs": [
    {
     "data": {
      "text/html": [
       "<div>\n",
       "<style scoped>\n",
       "    .dataframe tbody tr th:only-of-type {\n",
       "        vertical-align: middle;\n",
       "    }\n",
       "\n",
       "    .dataframe tbody tr th {\n",
       "        vertical-align: top;\n",
       "    }\n",
       "\n",
       "    .dataframe thead th {\n",
       "        text-align: right;\n",
       "    }\n",
       "</style>\n",
       "<table border=\"1\" class=\"dataframe\">\n",
       "  <thead>\n",
       "    <tr style=\"text-align: right;\">\n",
       "      <th></th>\n",
       "      <th>Время обучения, s</th>\n",
       "      <th>Время предсказания, ms</th>\n",
       "      <th>RMSE</th>\n",
       "      <th>RMSE отношение</th>\n",
       "      <th>Время обучения отношение</th>\n",
       "      <th>Время предсказания отношение</th>\n",
       "      <th>Итого</th>\n",
       "    </tr>\n",
       "  </thead>\n",
       "  <tbody>\n",
       "    <tr>\n",
       "      <th>Linear Regression</th>\n",
       "      <td>4.13</td>\n",
       "      <td>120</td>\n",
       "      <td>2627.59</td>\n",
       "      <td>0.598408</td>\n",
       "      <td>0.970944</td>\n",
       "      <td>1.000000</td>\n",
       "      <td>2.569352</td>\n",
       "    </tr>\n",
       "    <tr>\n",
       "      <th>RandomForestRegressor</th>\n",
       "      <td>16.00</td>\n",
       "      <td>358</td>\n",
       "      <td>1822.55</td>\n",
       "      <td>0.862731</td>\n",
       "      <td>0.250625</td>\n",
       "      <td>0.335196</td>\n",
       "      <td>1.448551</td>\n",
       "    </tr>\n",
       "    <tr>\n",
       "      <th>CatBoostRegressor</th>\n",
       "      <td>116.00</td>\n",
       "      <td>301</td>\n",
       "      <td>1610.65</td>\n",
       "      <td>0.976233</td>\n",
       "      <td>0.034569</td>\n",
       "      <td>0.398671</td>\n",
       "      <td>1.409473</td>\n",
       "    </tr>\n",
       "    <tr>\n",
       "      <th>LGBMRegressor</th>\n",
       "      <td>4.01</td>\n",
       "      <td>975</td>\n",
       "      <td>1572.37</td>\n",
       "      <td>1.000000</td>\n",
       "      <td>1.000000</td>\n",
       "      <td>0.123077</td>\n",
       "      <td>2.123077</td>\n",
       "    </tr>\n",
       "  </tbody>\n",
       "</table>\n",
       "</div>"
      ],
      "text/plain": [
       "                       Время обучения, s  Время предсказания, ms     RMSE  \\\n",
       "Linear Regression                   4.13                     120  2627.59   \n",
       "RandomForestRegressor              16.00                     358  1822.55   \n",
       "CatBoostRegressor                 116.00                     301  1610.65   \n",
       "LGBMRegressor                       4.01                     975  1572.37   \n",
       "\n",
       "                       RMSE отношение  Время обучения отношение  \\\n",
       "Linear Regression            0.598408                  0.970944   \n",
       "RandomForestRegressor        0.862731                  0.250625   \n",
       "CatBoostRegressor            0.976233                  0.034569   \n",
       "LGBMRegressor                1.000000                  1.000000   \n",
       "\n",
       "                       Время предсказания отношение     Итого  \n",
       "Linear Regression                          1.000000  2.569352  \n",
       "RandomForestRegressor                      0.335196  1.448551  \n",
       "CatBoostRegressor                          0.398671  1.409473  \n",
       "LGBMRegressor                              0.123077  2.123077  "
      ]
     },
     "execution_count": 146,
     "metadata": {},
     "output_type": "execute_result"
    }
   ],
   "source": [
    "df_total = pd.DataFrame(data=df_dict, index=model_name, columns=[\"Время обучения, s\", \"Время предсказания, ms\", \"RMSE\"])\n",
    "df_total['RMSE отношение'] = (df_total['RMSE'].min() / df_total['RMSE'])\n",
    "df_total['Время обучения отношение'] = (df_total['Время обучения, s'].min() / df_total['Время обучения, s'])\n",
    "df_total['Время предсказания отношение'] = (df_total['Время предсказания, ms'].min() / df_total['Время предсказания, ms'])\n",
    "df_total['Итого'] = df_total['RMSE отношение']+ df_total['Время обучения отношение'] + df_total['Время предсказания отношение']\n",
    "df_total"
   ]
  },
  {
   "cell_type": "markdown",
   "metadata": {},
   "source": [
    "## Вывод"
   ]
  },
  {
   "cell_type": "markdown",
   "metadata": {},
   "source": [
    "Для выбора ниалучшей моделей, нужно учесть:\n",
    "\n",
    "* качество предсказания;\n",
    "* скорость предсказания;\n",
    "* время обучения.\n",
    "\n",
    "Модель, которая показала самый лучший результат - LGBMRegressor, также показала минимальное время обучения, но время предсказания самое большое.\n",
    "\n",
    "RandomForestRegressor недолго обучается и недолго предсказывает, но точность у него ниже.\n",
    "\n",
    "CatBoostRegressor показал себя чуть хуже LGBMRegressor, но время обучения очень большое.\n",
    "\n",
    "Linear Regression показала плохую точность.\n",
    "\n",
    "Очень много зависит от мощности машины, а также случайности. Также важно знать, какая точность нам нужна. \n",
    "\n",
    "* LGBMRegressor - если нужна точность.\n",
    "* RandomForestRegressor - если важно время."
   ]
  }
 ],
 "metadata": {
  "ExecuteTimeLog": [
   {
    "duration": 1494,
    "start_time": "2022-04-27T22:18:56.286Z"
   },
   {
    "duration": 2,
    "start_time": "2022-04-27T22:18:58.093Z"
   },
   {
    "duration": 948,
    "start_time": "2022-04-27T22:19:04.117Z"
   },
   {
    "duration": 154,
    "start_time": "2022-04-27T22:19:05.197Z"
   },
   {
    "duration": 20,
    "start_time": "2022-04-27T22:19:07.544Z"
   },
   {
    "duration": 94,
    "start_time": "2022-04-27T22:19:09.319Z"
   },
   {
    "duration": 187,
    "start_time": "2022-04-27T22:19:11.246Z"
   },
   {
    "duration": 4,
    "start_time": "2022-04-27T22:19:13.341Z"
   },
   {
    "duration": 28,
    "start_time": "2022-04-27T22:19:17.373Z"
   },
   {
    "duration": 24,
    "start_time": "2022-04-27T22:19:30.566Z"
   },
   {
    "duration": 36,
    "start_time": "2022-04-27T22:19:34.622Z"
   },
   {
    "duration": 17,
    "start_time": "2022-04-27T22:19:35.853Z"
   },
   {
    "duration": 17,
    "start_time": "2022-04-27T22:19:39.056Z"
   },
   {
    "duration": 28,
    "start_time": "2022-04-27T22:19:40.999Z"
   },
   {
    "duration": 20,
    "start_time": "2022-04-27T22:19:42.640Z"
   },
   {
    "duration": 23,
    "start_time": "2022-04-27T22:19:44.866Z"
   },
   {
    "duration": 50,
    "start_time": "2022-04-27T22:19:45.605Z"
   },
   {
    "duration": 25,
    "start_time": "2022-04-27T22:19:49.214Z"
   },
   {
    "duration": 17,
    "start_time": "2022-04-27T22:19:51.957Z"
   },
   {
    "duration": 16,
    "start_time": "2022-04-27T22:19:53.086Z"
   },
   {
    "duration": 16,
    "start_time": "2022-04-27T22:19:53.909Z"
   },
   {
    "duration": 15,
    "start_time": "2022-04-27T22:19:54.529Z"
   },
   {
    "duration": 29,
    "start_time": "2022-04-27T22:19:55.230Z"
   },
   {
    "duration": 249,
    "start_time": "2022-04-27T22:19:57.742Z"
   },
   {
    "duration": 29,
    "start_time": "2022-04-27T22:19:58.465Z"
   },
   {
    "duration": 73,
    "start_time": "2022-04-27T22:20:00.239Z"
   },
   {
    "duration": 11,
    "start_time": "2022-04-27T22:20:02.183Z"
   },
   {
    "duration": 85,
    "start_time": "2022-04-27T22:20:04.443Z"
   },
   {
    "duration": 3,
    "start_time": "2022-04-27T22:20:05.094Z"
   },
   {
    "duration": 28,
    "start_time": "2022-04-27T22:20:06.629Z"
   },
   {
    "duration": 54,
    "start_time": "2022-04-27T22:20:08.566Z"
   },
   {
    "duration": 685,
    "start_time": "2022-04-27T22:20:12.712Z"
   },
   {
    "duration": 415,
    "start_time": "2022-04-27T22:20:15.246Z"
   }
  ],
  "kernelspec": {
   "display_name": "Python 3 (ipykernel)",
   "language": "python",
   "name": "python3"
  },
  "language_info": {
   "codemirror_mode": {
    "name": "ipython",
    "version": 3
   },
   "file_extension": ".py",
   "mimetype": "text/x-python",
   "name": "python",
   "nbconvert_exporter": "python",
   "pygments_lexer": "ipython3",
   "version": "3.9.7"
  },
  "toc": {
   "base_numbering": 1,
   "nav_menu": {},
   "number_sections": true,
   "sideBar": true,
   "skip_h1_title": true,
   "title_cell": "Table of Contents",
   "title_sidebar": "Contents",
   "toc_cell": false,
   "toc_position": {
    "height": "calc(100% - 180px)",
    "left": "10px",
    "top": "150px",
    "width": "384px"
   },
   "toc_section_display": true,
   "toc_window_display": true
  }
 },
 "nbformat": 4,
 "nbformat_minor": 2
}
