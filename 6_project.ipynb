{
 "cells": [
  {
   "cell_type": "markdown",
   "metadata": {},
   "source": [
    "# Рекомендация тарифов"
   ]
  },
  {
   "cell_type": "markdown",
   "metadata": {},
   "source": [
    "В вашем распоряжении данные о поведении клиентов, которые уже перешли на эти тарифы (из проекта курса «Статистический анализ данных»). Нужно построить модель для задачи классификации, которая выберет подходящий тариф. Предобработка данных не понадобится — вы её уже сделали.\n",
    "\n",
    "Постройте модель с максимально большим значением *accuracy*. Чтобы сдать проект успешно, нужно довести долю правильных ответов по крайней мере до 0.75. Проверьте *accuracy* на тестовой выборке самостоятельно."
   ]
  },
  {
   "cell_type": "markdown",
   "metadata": {},
   "source": [
    "**Описание данных**"
   ]
  },
  {
   "cell_type": "markdown",
   "metadata": {},
   "source": [
    "* сalls — количество звонков,\n",
    "* minutes — суммарная длительность звонков в минутах,\n",
    "* messages — количество sms-сообщений,\n",
    "* mb_used — израсходованный интернет-трафик в Мб,\n",
    "* is_ultra — каким тарифом пользовался в течение месяца («Ультра» — 1, «Смарт» — 0)."
   ]
  },
  {
   "cell_type": "markdown",
   "metadata": {},
   "source": [
    "## Откройте и изучите файл"
   ]
  },
  {
   "cell_type": "code",
   "execution_count": 1,
   "metadata": {},
   "outputs": [],
   "source": [
    "# импортируем необходимые библиотеки\n",
    "import pandas as pd\n",
    "from sklearn.model_selection import train_test_split\n",
    "from sklearn.tree import DecisionTreeClassifier\n",
    "from sklearn.metrics import accuracy_score \n",
    "from sklearn.ensemble import RandomForestClassifier\n",
    "from sklearn.linear_model import LogisticRegression\n",
    "from sklearn.metrics import precision_score\n",
    "from sklearn.metrics import recall_score\n",
    "from sklearn.metrics import f1_score\n",
    "from sklearn.dummy import DummyClassifier\n",
    "\n",
    "import warnings\n",
    "warnings.filterwarnings('ignore')"
   ]
  },
  {
   "cell_type": "code",
   "execution_count": 2,
   "metadata": {},
   "outputs": [],
   "source": [
    "#df = pd.read_csv('users_behavior.csv')\n",
    "df = pd.read_csv('/datasets/users_behavior.csv')"
   ]
  },
  {
   "cell_type": "code",
   "execution_count": 3,
   "metadata": {},
   "outputs": [],
   "source": [
    "# Сброс ограничений на количество выводимых рядов\n",
    "pd.set_option('display.max_rows', None)\n",
    "\n",
    "# Сброс ограничений на число столбцов\n",
    "pd.set_option('display.max_columns', None)\n",
    "\n",
    "# Сброс ограничений на количество символов в записи\n",
    "pd.set_option('display.max_colwidth', None) "
   ]
  },
  {
   "cell_type": "code",
   "execution_count": 4,
   "metadata": {},
   "outputs": [
    {
     "name": "stdout",
     "output_type": "stream",
     "text": [
      "<class 'pandas.core.frame.DataFrame'>\n",
      "RangeIndex: 3214 entries, 0 to 3213\n",
      "Data columns (total 5 columns):\n",
      "calls       3214 non-null float64\n",
      "minutes     3214 non-null float64\n",
      "messages    3214 non-null float64\n",
      "mb_used     3214 non-null float64\n",
      "is_ultra    3214 non-null int64\n",
      "dtypes: float64(4), int64(1)\n",
      "memory usage: 125.7 KB\n"
     ]
    }
   ],
   "source": [
    "df.info()"
   ]
  },
  {
   "cell_type": "code",
   "execution_count": 5,
   "metadata": {},
   "outputs": [
    {
     "data": {
      "text/html": [
       "<div>\n",
       "<style scoped>\n",
       "    .dataframe tbody tr th:only-of-type {\n",
       "        vertical-align: middle;\n",
       "    }\n",
       "\n",
       "    .dataframe tbody tr th {\n",
       "        vertical-align: top;\n",
       "    }\n",
       "\n",
       "    .dataframe thead th {\n",
       "        text-align: right;\n",
       "    }\n",
       "</style>\n",
       "<table border=\"1\" class=\"dataframe\">\n",
       "  <thead>\n",
       "    <tr style=\"text-align: right;\">\n",
       "      <th></th>\n",
       "      <th>calls</th>\n",
       "      <th>minutes</th>\n",
       "      <th>messages</th>\n",
       "      <th>mb_used</th>\n",
       "      <th>is_ultra</th>\n",
       "    </tr>\n",
       "  </thead>\n",
       "  <tbody>\n",
       "    <tr>\n",
       "      <td>0</td>\n",
       "      <td>40.0</td>\n",
       "      <td>311.90</td>\n",
       "      <td>83.0</td>\n",
       "      <td>19915.42</td>\n",
       "      <td>0</td>\n",
       "    </tr>\n",
       "    <tr>\n",
       "      <td>1</td>\n",
       "      <td>85.0</td>\n",
       "      <td>516.75</td>\n",
       "      <td>56.0</td>\n",
       "      <td>22696.96</td>\n",
       "      <td>0</td>\n",
       "    </tr>\n",
       "    <tr>\n",
       "      <td>2</td>\n",
       "      <td>77.0</td>\n",
       "      <td>467.66</td>\n",
       "      <td>86.0</td>\n",
       "      <td>21060.45</td>\n",
       "      <td>0</td>\n",
       "    </tr>\n",
       "    <tr>\n",
       "      <td>3</td>\n",
       "      <td>106.0</td>\n",
       "      <td>745.53</td>\n",
       "      <td>81.0</td>\n",
       "      <td>8437.39</td>\n",
       "      <td>1</td>\n",
       "    </tr>\n",
       "    <tr>\n",
       "      <td>4</td>\n",
       "      <td>66.0</td>\n",
       "      <td>418.74</td>\n",
       "      <td>1.0</td>\n",
       "      <td>14502.75</td>\n",
       "      <td>0</td>\n",
       "    </tr>\n",
       "    <tr>\n",
       "      <td>5</td>\n",
       "      <td>58.0</td>\n",
       "      <td>344.56</td>\n",
       "      <td>21.0</td>\n",
       "      <td>15823.37</td>\n",
       "      <td>0</td>\n",
       "    </tr>\n",
       "    <tr>\n",
       "      <td>6</td>\n",
       "      <td>57.0</td>\n",
       "      <td>431.64</td>\n",
       "      <td>20.0</td>\n",
       "      <td>3738.90</td>\n",
       "      <td>1</td>\n",
       "    </tr>\n",
       "    <tr>\n",
       "      <td>7</td>\n",
       "      <td>15.0</td>\n",
       "      <td>132.40</td>\n",
       "      <td>6.0</td>\n",
       "      <td>21911.60</td>\n",
       "      <td>0</td>\n",
       "    </tr>\n",
       "    <tr>\n",
       "      <td>8</td>\n",
       "      <td>7.0</td>\n",
       "      <td>43.39</td>\n",
       "      <td>3.0</td>\n",
       "      <td>2538.67</td>\n",
       "      <td>1</td>\n",
       "    </tr>\n",
       "    <tr>\n",
       "      <td>9</td>\n",
       "      <td>90.0</td>\n",
       "      <td>665.41</td>\n",
       "      <td>38.0</td>\n",
       "      <td>17358.61</td>\n",
       "      <td>0</td>\n",
       "    </tr>\n",
       "  </tbody>\n",
       "</table>\n",
       "</div>"
      ],
      "text/plain": [
       "   calls  minutes  messages   mb_used  is_ultra\n",
       "0   40.0   311.90      83.0  19915.42         0\n",
       "1   85.0   516.75      56.0  22696.96         0\n",
       "2   77.0   467.66      86.0  21060.45         0\n",
       "3  106.0   745.53      81.0   8437.39         1\n",
       "4   66.0   418.74       1.0  14502.75         0\n",
       "5   58.0   344.56      21.0  15823.37         0\n",
       "6   57.0   431.64      20.0   3738.90         1\n",
       "7   15.0   132.40       6.0  21911.60         0\n",
       "8    7.0    43.39       3.0   2538.67         1\n",
       "9   90.0   665.41      38.0  17358.61         0"
      ]
     },
     "execution_count": 5,
     "metadata": {},
     "output_type": "execute_result"
    }
   ],
   "source": [
    "df.head(10)"
   ]
  },
  {
   "cell_type": "code",
   "execution_count": 6,
   "metadata": {},
   "outputs": [
    {
     "data": {
      "text/html": [
       "<div>\n",
       "<style scoped>\n",
       "    .dataframe tbody tr th:only-of-type {\n",
       "        vertical-align: middle;\n",
       "    }\n",
       "\n",
       "    .dataframe tbody tr th {\n",
       "        vertical-align: top;\n",
       "    }\n",
       "\n",
       "    .dataframe thead th {\n",
       "        text-align: right;\n",
       "    }\n",
       "</style>\n",
       "<table border=\"1\" class=\"dataframe\">\n",
       "  <thead>\n",
       "    <tr style=\"text-align: right;\">\n",
       "      <th></th>\n",
       "      <th>calls</th>\n",
       "      <th>minutes</th>\n",
       "      <th>messages</th>\n",
       "      <th>mb_used</th>\n",
       "      <th>is_ultra</th>\n",
       "    </tr>\n",
       "  </thead>\n",
       "  <tbody>\n",
       "    <tr>\n",
       "      <td>count</td>\n",
       "      <td>3214.000000</td>\n",
       "      <td>3214.000000</td>\n",
       "      <td>3214.000000</td>\n",
       "      <td>3214.000000</td>\n",
       "      <td>3214.000000</td>\n",
       "    </tr>\n",
       "    <tr>\n",
       "      <td>mean</td>\n",
       "      <td>63.038892</td>\n",
       "      <td>438.208787</td>\n",
       "      <td>38.281269</td>\n",
       "      <td>17207.673836</td>\n",
       "      <td>0.306472</td>\n",
       "    </tr>\n",
       "    <tr>\n",
       "      <td>std</td>\n",
       "      <td>33.236368</td>\n",
       "      <td>234.569872</td>\n",
       "      <td>36.148326</td>\n",
       "      <td>7570.968246</td>\n",
       "      <td>0.461100</td>\n",
       "    </tr>\n",
       "    <tr>\n",
       "      <td>min</td>\n",
       "      <td>0.000000</td>\n",
       "      <td>0.000000</td>\n",
       "      <td>0.000000</td>\n",
       "      <td>0.000000</td>\n",
       "      <td>0.000000</td>\n",
       "    </tr>\n",
       "    <tr>\n",
       "      <td>25%</td>\n",
       "      <td>40.000000</td>\n",
       "      <td>274.575000</td>\n",
       "      <td>9.000000</td>\n",
       "      <td>12491.902500</td>\n",
       "      <td>0.000000</td>\n",
       "    </tr>\n",
       "    <tr>\n",
       "      <td>50%</td>\n",
       "      <td>62.000000</td>\n",
       "      <td>430.600000</td>\n",
       "      <td>30.000000</td>\n",
       "      <td>16943.235000</td>\n",
       "      <td>0.000000</td>\n",
       "    </tr>\n",
       "    <tr>\n",
       "      <td>75%</td>\n",
       "      <td>82.000000</td>\n",
       "      <td>571.927500</td>\n",
       "      <td>57.000000</td>\n",
       "      <td>21424.700000</td>\n",
       "      <td>1.000000</td>\n",
       "    </tr>\n",
       "    <tr>\n",
       "      <td>max</td>\n",
       "      <td>244.000000</td>\n",
       "      <td>1632.060000</td>\n",
       "      <td>224.000000</td>\n",
       "      <td>49745.730000</td>\n",
       "      <td>1.000000</td>\n",
       "    </tr>\n",
       "  </tbody>\n",
       "</table>\n",
       "</div>"
      ],
      "text/plain": [
       "             calls      minutes     messages       mb_used     is_ultra\n",
       "count  3214.000000  3214.000000  3214.000000   3214.000000  3214.000000\n",
       "mean     63.038892   438.208787    38.281269  17207.673836     0.306472\n",
       "std      33.236368   234.569872    36.148326   7570.968246     0.461100\n",
       "min       0.000000     0.000000     0.000000      0.000000     0.000000\n",
       "25%      40.000000   274.575000     9.000000  12491.902500     0.000000\n",
       "50%      62.000000   430.600000    30.000000  16943.235000     0.000000\n",
       "75%      82.000000   571.927500    57.000000  21424.700000     1.000000\n",
       "max     244.000000  1632.060000   224.000000  49745.730000     1.000000"
      ]
     },
     "execution_count": 6,
     "metadata": {},
     "output_type": "execute_result"
    }
   ],
   "source": [
    "df.describe()"
   ]
  },
  {
   "cell_type": "code",
   "execution_count": 7,
   "metadata": {},
   "outputs": [
    {
     "data": {
      "text/plain": [
       "0"
      ]
     },
     "execution_count": 7,
     "metadata": {},
     "output_type": "execute_result"
    }
   ],
   "source": [
    "df.duplicated().sum()"
   ]
  },
  {
   "cell_type": "markdown",
   "metadata": {},
   "source": [
    "### Вывод"
   ]
  },
  {
   "cell_type": "markdown",
   "metadata": {},
   "source": [
    "* Датасет состоит из 3214 строк и 5 столбцов;\n",
    "* Пропусков нет;\n",
    "* Дубликатов нет."
   ]
  },
  {
   "cell_type": "markdown",
   "metadata": {},
   "source": [
    "## Разбейте данные на выборки"
   ]
  },
  {
   "cell_type": "markdown",
   "metadata": {},
   "source": [
    "Извлечем целевой признак и признаки для обучения:"
   ]
  },
  {
   "cell_type": "code",
   "execution_count": 8,
   "metadata": {},
   "outputs": [],
   "source": [
    "features = df.drop(['is_ultra'], axis=1) # признаки\n",
    "target = df['is_ultra'] # целевой признак"
   ]
  },
  {
   "cell_type": "markdown",
   "metadata": {},
   "source": [
    "Так как спрятанной тестовой выборки нет, данные нужно разбить на три части: обучающую, валидационную и тестовую. Размеры тестового и валидационного наборов обычно равны. \n",
    "\n",
    "Исходные данные разобъем в соотношении 3:1:1:"
   ]
  },
  {
   "cell_type": "code",
   "execution_count": 9,
   "metadata": {},
   "outputs": [],
   "source": [
    "features_train, features_part, target_train, target_part = train_test_split(\n",
    "   features, target, test_size=0.4, random_state=12345)"
   ]
  },
  {
   "cell_type": "code",
   "execution_count": 10,
   "metadata": {},
   "outputs": [],
   "source": [
    "features_valid, features_test, target_valid, target_test = train_test_split(\n",
    "   features_part, target_part, test_size=0.5, random_state=12345)"
   ]
  },
  {
   "cell_type": "markdown",
   "metadata": {},
   "source": [
    "Проверим размеры получившихся выборок:"
   ]
  },
  {
   "cell_type": "code",
   "execution_count": 11,
   "metadata": {},
   "outputs": [
    {
     "name": "stdout",
     "output_type": "stream",
     "text": [
      "(1928, 4)\n",
      "(1928,)\n",
      "\n",
      "(643, 4)\n",
      "(643,)\n",
      "\n",
      "(643, 4)\n",
      "(643,)\n"
     ]
    }
   ],
   "source": [
    "print(features_train.shape)\n",
    "print(target_train.shape)\n",
    "print()\n",
    "print(features_valid.shape)\n",
    "print(target_valid.shape)\n",
    "print()\n",
    "print(features_test.shape)\n",
    "print(target_test.shape)"
   ]
  },
  {
   "cell_type": "markdown",
   "metadata": {},
   "source": [
    "### Вывод"
   ]
  },
  {
   "cell_type": "markdown",
   "metadata": {},
   "source": [
    "Данные разбиты на 3 выборки (обучающая, тестовая и валидационная) в соотношении 60/20/20."
   ]
  },
  {
   "cell_type": "markdown",
   "metadata": {},
   "source": [
    "## Исследуйте модели"
   ]
  },
  {
   "cell_type": "markdown",
   "metadata": {},
   "source": [
    "### Дерево решений"
   ]
  },
  {
   "cell_type": "markdown",
   "metadata": {},
   "source": [
    "Создадим модель DecisionTreeClassifier и выберем лучшую модель в зависимости от глубины:"
   ]
  },
  {
   "cell_type": "code",
   "execution_count": 12,
   "metadata": {},
   "outputs": [
    {
     "name": "stdout",
     "output_type": "stream",
     "text": [
      "depth = 9\n",
      "Accuracy лучшей модели на валидационной выборке: 0.7884914463452566\n",
      "CPU times: user 55.6 ms, sys: 203 µs, total: 55.8 ms\n",
      "Wall time: 53.6 ms\n"
     ]
    }
   ],
   "source": [
    "%%time\n",
    "best_model_dt = None\n",
    "best_result_dt = 0\n",
    "best_depth_dt = 0\n",
    "for depth_dt in range(1, 11):\n",
    "    model_dt = DecisionTreeClassifier(random_state=2761, max_depth=depth_dt) # обучите модель с заданной глубиной дерева\n",
    "    model_dt.fit(features_train, target_train) # обучите модель\n",
    "    predictions_dt = model_dt.predict(features_valid) # получите предсказания модели\n",
    "    result_dt = accuracy_score(target_valid, predictions_dt) # посчитайте качество модели\n",
    "    if result_dt > best_result_dt:\n",
    "        best_model_dt = model_dt\n",
    "        best_result_dt = result_dt\n",
    "        best_depth_dt = depth_dt\n",
    "        \n",
    "print(\"depth =\", best_depth_dt)       \n",
    "print(\"Accuracy лучшей модели на валидационной выборке:\", best_result_dt)"
   ]
  },
  {
   "cell_type": "markdown",
   "metadata": {},
   "source": [
    "### Случайный лес"
   ]
  },
  {
   "cell_type": "markdown",
   "metadata": {},
   "source": [
    "Создадим модель RandomForestClassifier и выберем лучшую модель в зависимости от глубины и количества деревьев:"
   ]
  },
  {
   "cell_type": "code",
   "execution_count": 13,
   "metadata": {},
   "outputs": [
    {
     "name": "stdout",
     "output_type": "stream",
     "text": [
      "depth = 7 estimators = 25\n",
      "Accuracy лучшей модели на валидационной выборке: 0.8040435458786936\n",
      "CPU times: user 3.71 s, sys: 14 ms, total: 3.72 s\n",
      "Wall time: 3.72 s\n"
     ]
    }
   ],
   "source": [
    "%%time\n",
    "best_model_rf = None\n",
    "best_result_rf = 0\n",
    "best_est_rf = 0\n",
    "best_depth_rf = 0\n",
    "for est_rf in range(15, 26):\n",
    "    for depth_rf in range (5, 11):\n",
    "        model_rf = RandomForestClassifier(random_state=2761, n_estimators=est_rf, max_depth=depth_rf)\n",
    "        model_rf.fit(features_train, target_train) \n",
    "        predictions_rf = model_rf.predict(features_valid) \n",
    "        result_rf = accuracy_score(target_valid, predictions_rf) \n",
    "        if result_rf > best_result_rf:\n",
    "            best_model_rf = model_rf\n",
    "            best_result_rf = result_rf\n",
    "            best_est_rf = est_rf\n",
    "            best_depth_rf = depth_rf\n",
    "            \n",
    "print(\"depth =\", best_depth_rf,\"estimators =\", best_est_rf)       \n",
    "print(\"Accuracy лучшей модели на валидационной выборке:\", best_result_rf)"
   ]
  },
  {
   "cell_type": "markdown",
   "metadata": {},
   "source": [
    "### Логистическая регрессия"
   ]
  },
  {
   "cell_type": "markdown",
   "metadata": {},
   "source": [
    "Создадим модель LogisticRegression и проверим метрику качества: "
   ]
  },
  {
   "cell_type": "code",
   "execution_count": 14,
   "metadata": {},
   "outputs": [
    {
     "name": "stdout",
     "output_type": "stream",
     "text": [
      "Accuracy модели логистической регрессии на валидационной выборке: 0.7589424572317263\n"
     ]
    }
   ],
   "source": [
    "model_lr = LogisticRegression(random_state=2761)\n",
    "model_lr.fit(features_train, target_train) \n",
    "result_lr = model_lr.score(features_valid, target_valid) \n",
    "\n",
    "print(\"Accuracy модели логистической регрессии на валидационной выборке:\", result_lr)"
   ]
  },
  {
   "cell_type": "markdown",
   "metadata": {},
   "source": [
    "### Вывод"
   ]
  },
  {
   "cell_type": "markdown",
   "metadata": {},
   "source": [
    "Построив 3 модели, получились следующие значения accuracy:\n",
    "* Дерево решений с параметрами глубины 9 - точность 0.788\n",
    "* Случайный лес с параметрами количества деревьев 25 и глубины 7 - точность 0.804\n",
    "* Логистическая регрессия - точность 0.759\n",
    "\n",
    "Лучшие результаты получились у случайного леса."
   ]
  },
  {
   "cell_type": "markdown",
   "metadata": {},
   "source": [
    "## Проверьте модель на тестовой выборке"
   ]
  },
  {
   "cell_type": "code",
   "execution_count": 15,
   "metadata": {},
   "outputs": [
    {
     "name": "stdout",
     "output_type": "stream",
     "text": [
      "Accuracy лучшей модели решающего леса на тестовой выборке 0.7838258164852255\n",
      "Accuracy лучшей модели случайного леса на тестовой выборке 0.7978227060653188\n",
      "Accuracy модели логистической регресиии на тестовой выборке 0.7402799377916018\n"
     ]
    }
   ],
   "source": [
    "predictions_dt_test = best_model_dt.predict(features_test)\n",
    "result_dt_test = accuracy_score(target_test, predictions_dt_test)\n",
    "print('Accuracy лучшей модели решающего леса на тестовой выборке',result_dt_test)\n",
    "\n",
    "predictions_rf_test = best_model_rf.predict(features_test)\n",
    "result_rf_test = accuracy_score(target_test, predictions_rf_test)\n",
    "print('Accuracy лучшей модели случайного леса на тестовой выборке',result_rf_test)\n",
    "\n",
    "predictions_lr_test = model_lr.predict(features_test)\n",
    "result_lr_test = accuracy_score(target_test, predictions_lr_test)\n",
    "print('Accuracy модели логистической регресиии на тестовой выборке',result_lr_test)"
   ]
  },
  {
   "cell_type": "markdown",
   "metadata": {},
   "source": [
    "### Вывод"
   ]
  },
  {
   "cell_type": "markdown",
   "metadata": {},
   "source": [
    "Модель случайного леса при проверке на тестовой выборке показывает точность 0.7978, но ее недостатком является низкая скорость.\n",
    "\n",
    "Решающее дерево работает быстрее, но качество чуть ниже, 0.7838. \n",
    "\n",
    "Логистическая регрессия показала наименьшую точность  0.74, что меньше требуемой точности в 75%."
   ]
  },
  {
   "cell_type": "markdown",
   "metadata": {},
   "source": [
    "## (бонус) Проверьте модели на адекватность"
   ]
  },
  {
   "cell_type": "markdown",
   "metadata": {},
   "source": [
    "### Sanity Check"
   ]
  },
  {
   "cell_type": "markdown",
   "metadata": {},
   "source": [
    "Сравнив модель со случайной, можно оценить её адекватность, или проверить на вменяемость (англ. sanity check)."
   ]
  },
  {
   "cell_type": "markdown",
   "metadata": {},
   "source": [
    "Допустим, у нас есть модель, которая предсказывает все объекты случайным образом. С вероятностью 50/50 ответ будет 0 или 1.\n",
    "\n",
    "accuracy = 0.5 * 0.5(для угаданных 1) + 0.5 * 0.5(для угаданных 0) = 0.5"
   ]
  },
  {
   "cell_type": "markdown",
   "metadata": {},
   "source": [
    "Наша модель показывает accuracy 0.7978, значит она лучше случайной."
   ]
  },
  {
   "cell_type": "markdown",
   "metadata": {},
   "source": [
    "### Precision и Recall"
   ]
  },
  {
   "cell_type": "markdown",
   "metadata": {},
   "source": [
    "* Точность (англ. precision) можно интерпретировать как долю объектов, названных классификатором положительными и при этом действительно являющимися положительными.\n",
    "* Полнота (англ. recall) показывает, какую долю объектов положительного класса из всех объектов положительного класса нашел алгоритм.\n",
    "*  F-мера — среднее гармоническое precision и recall. F-мера достигает максимума при полноте и точности, равными единице, и близка к нулю, если один из аргументов близок к нулю."
   ]
  },
  {
   "cell_type": "code",
   "execution_count": null,
   "metadata": {},
   "outputs": [],
   "source": [
    "#predictions_rf_test = best_model_rf.predict(features_test)\n",
    "#result_rf_test = accuracy_score(target_test, predictions_rf_test)"
   ]
  },
  {
   "cell_type": "code",
   "execution_count": 16,
   "metadata": {},
   "outputs": [
    {
     "name": "stdout",
     "output_type": "stream",
     "text": [
      "Accuracy лучшей модели случайного леса на тестовой выборке 0.7978227060653188\n",
      "Precision лучшей модели случайного леса на тестовой выборке 0.7703703703703704\n",
      "Recall лучшей модели случайного леса на тестовой выборке 0.5123152709359606\n",
      "F-мера = 0.6153846153846154\n"
     ]
    }
   ],
   "source": [
    "precision_rf = precision_score(target_test, predictions_rf_test)\n",
    "recall_rf = recall_score(target_test, predictions_rf_test)\n",
    "f_score_rf = f1_score(target_test, predictions_rf_test)\n",
    "\n",
    "print('Accuracy лучшей модели случайного леса на тестовой выборке',result_rf_test)\n",
    "print('Precision лучшей модели случайного леса на тестовой выборке',precision_rf)\n",
    "print('Recall лучшей модели случайного леса на тестовой выборке',recall_rf)\n",
    "print('F-мера =', f_score_rf)"
   ]
  },
  {
   "cell_type": "markdown",
   "metadata": {},
   "source": [
    "Модель получилось не очень высокого качества, но проверка на адекватность пройдена."
   ]
  },
  {
   "cell_type": "markdown",
   "metadata": {},
   "source": [
    "### DummyClassifier"
   ]
  },
  {
   "cell_type": "markdown",
   "metadata": {},
   "source": [
    "Сравним нашу модель с DummyClassifier:"
   ]
  },
  {
   "cell_type": "code",
   "execution_count": 17,
   "metadata": {},
   "outputs": [
    {
     "data": {
      "text/plain": [
       "0.6924273858921162"
      ]
     },
     "execution_count": 17,
     "metadata": {},
     "output_type": "execute_result"
    }
   ],
   "source": [
    "dummy_clf = DummyClassifier(strategy=\"most_frequent\")\n",
    "dummy_clf.fit(features_train, target_train)\n",
    "dummy_clf.score(features_train, target_train)"
   ]
  },
  {
   "cell_type": "markdown",
   "metadata": {},
   "source": [
    "Наша модель получилось более точной (0.7978) "
   ]
  },
  {
   "cell_type": "markdown",
   "metadata": {},
   "source": [
    "### Вывод"
   ]
  },
  {
   "cell_type": "markdown",
   "metadata": {},
   "source": [
    "Сравнив модель с:\n",
    "* Случайной (точность 0.5)\n",
    "* DummyClassifier (точность 0.692)\n",
    "* И рассчитав F-меру (0.615),\n",
    "\n",
    "можно утверждать, что модель прошла проверку на адекватность."
   ]
  }
 ],
 "metadata": {
  "ExecuteTimeLog": [
   {
    "duration": 1125,
    "start_time": "2022-02-11T17:36:53.598Z"
   },
   {
    "duration": 20,
    "start_time": "2022-02-11T17:37:01.485Z"
   },
   {
    "duration": 3,
    "start_time": "2022-02-11T17:37:12.869Z"
   },
   {
    "duration": 373,
    "start_time": "2022-02-11T17:37:15.566Z"
   },
   {
    "duration": 19,
    "start_time": "2022-02-11T17:37:23.068Z"
   },
   {
    "duration": 7,
    "start_time": "2022-02-11T17:37:25.230Z"
   },
   {
    "duration": 17,
    "start_time": "2022-02-11T17:37:27.494Z"
   },
   {
    "duration": 25,
    "start_time": "2022-02-11T17:37:29.461Z"
   },
   {
    "duration": 6,
    "start_time": "2022-02-11T17:37:31.285Z"
   },
   {
    "duration": 4,
    "start_time": "2022-02-11T17:37:34.549Z"
   },
   {
    "duration": 5,
    "start_time": "2022-02-11T17:37:36.285Z"
   },
   {
    "duration": 5,
    "start_time": "2022-02-11T17:37:37.421Z"
   },
   {
    "duration": 4,
    "start_time": "2022-02-11T17:37:39.605Z"
   },
   {
    "duration": 60,
    "start_time": "2022-02-11T17:37:44.966Z"
   },
   {
    "duration": 3642,
    "start_time": "2022-02-11T17:37:53.205Z"
   },
   {
    "duration": 461,
    "start_time": "2022-02-11T17:38:10.838Z"
   },
   {
    "duration": 13,
    "start_time": "2022-02-11T17:38:29.077Z"
   },
   {
    "duration": 963,
    "start_time": "2022-02-11T17:38:58.429Z"
   },
   {
    "duration": 15,
    "start_time": "2022-02-11T17:39:38.285Z"
   },
   {
    "duration": 17,
    "start_time": "2022-02-11T17:40:15.902Z"
   },
   {
    "duration": 9,
    "start_time": "2022-02-11T17:41:14.782Z"
   },
   {
    "duration": 7,
    "start_time": "2022-02-11T17:41:26.638Z"
   },
   {
    "duration": 1103,
    "start_time": "2022-02-11T17:43:03.959Z"
   },
   {
    "duration": 19,
    "start_time": "2022-02-11T17:43:05.063Z"
   },
   {
    "duration": 3,
    "start_time": "2022-02-11T17:43:06.151Z"
   },
   {
    "duration": 7,
    "start_time": "2022-02-11T17:43:07.975Z"
   },
   {
    "duration": 17,
    "start_time": "2022-02-11T17:43:09.191Z"
   },
   {
    "duration": 25,
    "start_time": "2022-02-11T17:43:10.823Z"
   },
   {
    "duration": 7,
    "start_time": "2022-02-11T17:43:12.366Z"
   },
   {
    "duration": 4,
    "start_time": "2022-02-11T17:43:14.631Z"
   },
   {
    "duration": 6,
    "start_time": "2022-02-11T17:43:16.135Z"
   },
   {
    "duration": 5,
    "start_time": "2022-02-11T17:43:17.302Z"
   },
   {
    "duration": 5,
    "start_time": "2022-02-11T17:43:18.734Z"
   },
   {
    "duration": 58,
    "start_time": "2022-02-11T17:43:22.063Z"
   },
   {
    "duration": 3727,
    "start_time": "2022-02-11T17:43:24.719Z"
   },
   {
    "duration": 15,
    "start_time": "2022-02-11T17:43:33.054Z"
   },
   {
    "duration": 13,
    "start_time": "2022-02-11T17:43:37.311Z"
   },
   {
    "duration": 9,
    "start_time": "2022-02-11T17:43:43.351Z"
   },
   {
    "duration": 6,
    "start_time": "2022-02-11T17:43:46.031Z"
   }
  ],
  "kernelspec": {
   "display_name": "Python 3 (ipykernel)",
   "language": "python",
   "name": "python3"
  },
  "language_info": {
   "codemirror_mode": {
    "name": "ipython",
    "version": 3
   },
   "file_extension": ".py",
   "mimetype": "text/x-python",
   "name": "python",
   "nbconvert_exporter": "python",
   "pygments_lexer": "ipython3",
   "version": "3.9.7"
  },
  "toc": {
   "base_numbering": 1,
   "nav_menu": {},
   "number_sections": true,
   "sideBar": true,
   "skip_h1_title": true,
   "title_cell": "Table of Contents",
   "title_sidebar": "Contents",
   "toc_cell": false,
   "toc_position": {},
   "toc_section_display": true,
   "toc_window_display": true
  }
 },
 "nbformat": 4,
 "nbformat_minor": 2
}
