{
 "cells": [
  {
   "cell_type": "markdown",
   "metadata": {},
   "source": [
    "# Определение перспективного тарифа для телеком-компании"
   ]
  },
  {
   "cell_type": "markdown",
   "metadata": {},
   "source": [
    "**Описание проекта**\n",
    "\n",
    "Вы аналитик компании «Мегалайн» — федерального оператора сотовой связи. Клиентам предлагают два тарифных плана: «Смарт» и «Ультра». Чтобы скорректировать рекламный бюджет, коммерческий департамент хочет понять, какой тариф приносит больше денег.\n",
    "\n",
    "\n",
    "Вам предстоит сделать предварительный анализ тарифов на небольшой выборке клиентов. В вашем распоряжении данные 500 пользователей «Мегалайна»: кто они, откуда, каким тарифом пользуются, сколько звонков и сообщений каждый отправил за 2018 год. Нужно проанализировать поведение клиентов и сделать вывод — какой тариф лучше.\n",
    "\n",
    "\n",
    "**Описание тарифов**\n",
    "\n",
    "\n",
    "**Тариф «Смарт»**\n",
    "\n",
    "\n",
    "Ежемесячная плата: 550 рублей\n",
    "Включено 500 минут разговора, 50 сообщений и 15 Гб интернет-трафика\n",
    "Стоимость услуг сверх тарифного пакета: 1. минута разговора: 3 рубля («Мегалайн» всегда округляет вверх значения минут и мегабайтов. Если пользователь проговорил всего 1 секунду, в тарифе засчитывается целая минута); 2. сообщение: 3 рубля; 3. 1 Гб интернет-трафика: 200 рублей.\n",
    "\n",
    "**Тариф «Ультра»**\n",
    "\n",
    "\n",
    "Ежемесячная плата: 1950 рублей\n",
    "Включено 3000 минут разговора, 1000 сообщений и 30 Гб интернет-трафика\n",
    "Стоимость услуг сверх тарифного пакета: 1. минута разговора: 1 рубль; 2. сообщение: 1 рубль; 3. 1 Гб интернет-трафика: 150 рублей.\n",
    "\n",
    "\n",
    "Примечание:\n",
    "\n",
    "\n",
    "«Мегалайн» всегда округляет секунды до минут, а мегабайты — до гигабайт. Каждый звонок округляется отдельно: даже если он длился всего 1 секунду, будет засчитан как 1 минута.\n",
    "Для веб-трафика отдельные сессии не считаются. Вместо этого общая сумма за месяц округляется в бо́льшую сторону. Если абонент использует 1025 мегабайт в этом месяце, с него возьмут плату за 2 гигабайта."
   ]
  },
  {
   "cell_type": "markdown",
   "metadata": {},
   "source": [
    "**Описание данных**\n",
    "\n",
    "**Таблица users (информация о пользователях):**\n",
    "\n",
    "* user_id — уникальный идентификатор пользователя\n",
    "* first_name — имя пользователя\n",
    "* last_name — фамилия пользователя\n",
    "* age — возраст пользователя (годы)\n",
    "* reg_date — дата подключения тарифа (день, месяц, год)\n",
    "* churn_date — дата прекращения пользования тарифом (если значение пропущено, то тариф ещё действовал на момент выгрузки данных)\n",
    "* city — город проживания пользователя\n",
    "* tarif — название тарифного плана\n",
    "\n",
    "\n",
    "**Таблица calls (информация о звонках):**\n",
    "* id — уникальный номер звонка\n",
    "* call_date — дата звонка\n",
    "* duration — длительность звонка в минутах\n",
    "* user_id — идентификатор пользователя, сделавшего звонок\n",
    "\n",
    "\n",
    "**Таблица messages (информация о сообщениях):**\n",
    "* id — уникальный номер сообщения\n",
    "* message_date — дата сообщения\n",
    "* user_id — идентификатор пользователя, отправившего сообщение\n",
    "\n",
    "\n",
    "**Таблица internet (информация об интернет-сессиях):**\n",
    "* id — уникальный номер сессии\n",
    "* mb_used — объём потраченного за сессию интернет-трафика (в мегабайтах)\n",
    "* session_date — дата интернет-сессии\n",
    "* user_id — идентификатор пользователя\n",
    "\n",
    "\n",
    "**Таблица tariffs (информация о тарифах):**\n",
    "* tariff_name — название тарифа\n",
    "* rub_monthly_fee — ежемесячная абонентская плата в рублях\n",
    "* minutes_included — количество минут разговора в месяц, включённых в абонентскую плату\n",
    "* messages_included — количество сообщений в месяц, включённых в абонентскую плату\n",
    "* mb_per_month_included — объём интернет-трафика, включённого в абонентскую плату (в мегабайтах)\n",
    "* rub_per_minute — стоимость минуты разговора сверх тарифного пакета (например, если в тарифе 100 минут разговора в месяц, то со 101 минуты будет взиматься плата)\n",
    "* rub_per_message — стоимость отправки сообщения сверх тарифного пакета\n",
    "* rub_per_gb — стоимость дополнительного гигабайта интернет-трафика сверх тарифного пакета (1 гигабайт = 1024 мегабайта)"
   ]
  },
  {
   "cell_type": "markdown",
   "metadata": {},
   "source": [
    "**План работы над проектом:**\n",
    "\n",
    "\n",
    "**Шаг 1. Открыть файл с данными и изучить общую информацию**\n",
    "\n",
    "\n",
    "**Шаг 2. Подготовить данные**\n",
    "* Привести данные к нужным типам;\n",
    "* Найти и исправить ошибки в данных, если они есть.\n",
    "\n",
    "Посчитать для каждого пользователя:\n",
    "* количество сделанных звонков и израсходованных минут разговора по месяцам;\n",
    "* количество отправленных сообщений по месяцам;\n",
    "* объем израсходованного интернет-трафика по месяцам;\n",
    "* помесячную выручку с каждого пользователя (вычтите бесплатный лимит из суммарного количества звонков, сообщений и интернет-трафика; остаток умножьте на значение из тарифного плана; прибавьте абонентскую плату, соответствующую тарифному плану).\n",
    "\n",
    "\n",
    "**Шаг 3. Проанализировать данные**\n",
    " \n",
    "Сколько минут разговора, сколько сообщений и какой объём интернет-трафика требуется пользователям каждого тарифа в месяц? Посчитать среднее количество, дисперсию и стандартное отклонение. Построить гистограммы. Описать распределения.\n",
    "\n",
    "\n",
    "**Шаг 4. Проверить гипотезы**\n",
    "* средняя выручка пользователей тарифов «Ультра» и «Смарт» различаются;\n",
    "* средняя выручка пользователей из Москвы отличается от выручки пользователей из других регионов.\n",
    "\n",
    "\n",
    "**Шаг 5. Написать общий вывод**"
   ]
  },
  {
   "cell_type": "markdown",
   "metadata": {},
   "source": [
    "## Открытие файлов с данными и изучение общей информации"
   ]
  },
  {
   "cell_type": "code",
   "execution_count": 1,
   "metadata": {},
   "outputs": [],
   "source": [
    "#импортируем необходимые библиотеки\n",
    "import pandas as pd\n",
    "import numpy as np\n",
    "import math\n",
    "import seaborn as sns\n",
    "import matplotlib.pyplot as plt\n",
    "from scipy import stats as st\n",
    "import warnings\n",
    "warnings.filterwarnings('ignore')"
   ]
  },
  {
   "cell_type": "markdown",
   "metadata": {},
   "source": [
    "Прочитаем файлы с данными, сохраним в переменные:"
   ]
  },
  {
   "cell_type": "code",
   "execution_count": 2,
   "metadata": {},
   "outputs": [],
   "source": [
    "df_calls = pd.read_csv('/datasets/calls.csv')\n",
    "df_internet = pd.read_csv('/datasets/internet.csv', index_col=0)\n",
    "df_messages = pd.read_csv('/datasets/messages.csv')\n",
    "df_tariffs = pd.read_csv('/datasets/tariffs.csv')\n",
    "df_users = pd.read_csv('/datasets/users.csv')"
   ]
  },
  {
   "cell_type": "code",
   "execution_count": 3,
   "metadata": {},
   "outputs": [],
   "source": [
    "#df_calls = pd.read_csv('calls.csv')\n",
    "#df_internet = pd.read_csv('internet.csv')\n",
    "#df_messages = pd.read_csv('messages.csv')\n",
    "#df_tariffs = pd.read_csv('tariffs.csv')\n",
    "#df_users = pd.read_csv('users.csv')"
   ]
  },
  {
   "cell_type": "markdown",
   "metadata": {},
   "source": [
    "Теперь посмотрим на каждую таблицу в отдельности:"
   ]
  },
  {
   "cell_type": "code",
   "execution_count": 3,
   "metadata": {},
   "outputs": [],
   "source": [
    "# Сброс ограничений на количество выводимых рядов\n",
    "pd.set_option('display.max_rows', None)\n",
    "\n",
    "# Сброс ограничений на число столбцов\n",
    "pd.set_option('display.max_columns', None)\n",
    "\n",
    "# Сброс ограничений на количество символов в записи\n",
    "pd.set_option('display.max_colwidth', None)"
   ]
  },
  {
   "cell_type": "markdown",
   "metadata": {},
   "source": [
    "Выведем информацию о таблицах, значения столбцов и несколько строк:"
   ]
  },
  {
   "cell_type": "code",
   "execution_count": 8,
   "metadata": {},
   "outputs": [],
   "source": [
    "#for df in [df_calls, df_internet, df_messages, df_tariffs, df_users]:\n",
    "   # print(df.info(),end='\\n'*2)"
   ]
  },
  {
   "cell_type": "code",
   "execution_count": 4,
   "metadata": {},
   "outputs": [],
   "source": [
    "# Для отображения всех столбцов сделаем цикл, который выводит каждый столобец по очереди (его уникальные значения и их количество)\n",
    "def columns_info(data_frame):\n",
    "    for column in data_frame.columns:\n",
    "        print(column)\n",
    "        print(data_frame[column].value_counts())\n",
    "        print(data_frame[column].unique())\n",
    "        print()"
   ]
  },
  {
   "cell_type": "code",
   "execution_count": 5,
   "metadata": {},
   "outputs": [
    {
     "name": "stdout",
     "output_type": "stream",
     "text": [
      "<class 'pandas.core.frame.DataFrame'>\n",
      "RangeIndex: 202607 entries, 0 to 202606\n",
      "Data columns (total 4 columns):\n",
      "id           202607 non-null object\n",
      "call_date    202607 non-null object\n",
      "duration     202607 non-null float64\n",
      "user_id      202607 non-null int64\n",
      "dtypes: float64(1), int64(1), object(2)\n",
      "memory usage: 6.2+ MB\n"
     ]
    },
    {
     "data": {
      "text/html": [
       "<div>\n",
       "<style scoped>\n",
       "    .dataframe tbody tr th:only-of-type {\n",
       "        vertical-align: middle;\n",
       "    }\n",
       "\n",
       "    .dataframe tbody tr th {\n",
       "        vertical-align: top;\n",
       "    }\n",
       "\n",
       "    .dataframe thead th {\n",
       "        text-align: right;\n",
       "    }\n",
       "</style>\n",
       "<table border=\"1\" class=\"dataframe\">\n",
       "  <thead>\n",
       "    <tr style=\"text-align: right;\">\n",
       "      <th></th>\n",
       "      <th>id</th>\n",
       "      <th>call_date</th>\n",
       "      <th>duration</th>\n",
       "      <th>user_id</th>\n",
       "    </tr>\n",
       "  </thead>\n",
       "  <tbody>\n",
       "    <tr>\n",
       "      <td>42118</td>\n",
       "      <td>1104_20</td>\n",
       "      <td>2018-03-04</td>\n",
       "      <td>8.80</td>\n",
       "      <td>1104</td>\n",
       "    </tr>\n",
       "    <tr>\n",
       "      <td>193872</td>\n",
       "      <td>1476_169</td>\n",
       "      <td>2018-06-02</td>\n",
       "      <td>8.35</td>\n",
       "      <td>1476</td>\n",
       "    </tr>\n",
       "    <tr>\n",
       "      <td>94016</td>\n",
       "      <td>1238_117</td>\n",
       "      <td>2018-03-21</td>\n",
       "      <td>3.83</td>\n",
       "      <td>1238</td>\n",
       "    </tr>\n",
       "    <tr>\n",
       "      <td>136322</td>\n",
       "      <td>1347_134</td>\n",
       "      <td>2018-11-06</td>\n",
       "      <td>0.58</td>\n",
       "      <td>1347</td>\n",
       "    </tr>\n",
       "    <tr>\n",
       "      <td>69561</td>\n",
       "      <td>1174_601</td>\n",
       "      <td>2018-12-06</td>\n",
       "      <td>0.00</td>\n",
       "      <td>1174</td>\n",
       "    </tr>\n",
       "  </tbody>\n",
       "</table>\n",
       "</div>"
      ],
      "text/plain": [
       "              id   call_date  duration  user_id\n",
       "42118    1104_20  2018-03-04      8.80     1104\n",
       "193872  1476_169  2018-06-02      8.35     1476\n",
       "94016   1238_117  2018-03-21      3.83     1238\n",
       "136322  1347_134  2018-11-06      0.58     1347\n",
       "69561   1174_601  2018-12-06      0.00     1174"
      ]
     },
     "execution_count": 5,
     "metadata": {},
     "output_type": "execute_result"
    }
   ],
   "source": [
    "# таблица с информацией о звонках\n",
    "df_calls.info()\n",
    "df_calls.sample(5)"
   ]
  },
  {
   "cell_type": "code",
   "execution_count": 4,
   "metadata": {},
   "outputs": [
    {
     "name": "stdout",
     "output_type": "stream",
     "text": [
      "<class 'pandas.core.frame.DataFrame'>\n",
      "Int64Index: 149396 entries, 0 to 149395\n",
      "Data columns (total 4 columns):\n",
      "id              149396 non-null object\n",
      "mb_used         149396 non-null float64\n",
      "session_date    149396 non-null object\n",
      "user_id         149396 non-null int64\n",
      "dtypes: float64(1), int64(1), object(2)\n",
      "memory usage: 5.7+ MB\n"
     ]
    },
    {
     "data": {
      "text/html": [
       "<div>\n",
       "<style scoped>\n",
       "    .dataframe tbody tr th:only-of-type {\n",
       "        vertical-align: middle;\n",
       "    }\n",
       "\n",
       "    .dataframe tbody tr th {\n",
       "        vertical-align: top;\n",
       "    }\n",
       "\n",
       "    .dataframe thead th {\n",
       "        text-align: right;\n",
       "    }\n",
       "</style>\n",
       "<table border=\"1\" class=\"dataframe\">\n",
       "  <thead>\n",
       "    <tr style=\"text-align: right;\">\n",
       "      <th></th>\n",
       "      <th>id</th>\n",
       "      <th>mb_used</th>\n",
       "      <th>session_date</th>\n",
       "      <th>user_id</th>\n",
       "    </tr>\n",
       "  </thead>\n",
       "  <tbody>\n",
       "    <tr>\n",
       "      <td>37854</td>\n",
       "      <td>1133_21</td>\n",
       "      <td>302.80</td>\n",
       "      <td>2018-11-23</td>\n",
       "      <td>1133</td>\n",
       "    </tr>\n",
       "    <tr>\n",
       "      <td>29856</td>\n",
       "      <td>1104_273</td>\n",
       "      <td>328.35</td>\n",
       "      <td>2018-12-03</td>\n",
       "      <td>1104</td>\n",
       "    </tr>\n",
       "    <tr>\n",
       "      <td>19316</td>\n",
       "      <td>1065_461</td>\n",
       "      <td>539.09</td>\n",
       "      <td>2018-08-25</td>\n",
       "      <td>1065</td>\n",
       "    </tr>\n",
       "    <tr>\n",
       "      <td>94491</td>\n",
       "      <td>1319_191</td>\n",
       "      <td>550.41</td>\n",
       "      <td>2018-11-18</td>\n",
       "      <td>1319</td>\n",
       "    </tr>\n",
       "    <tr>\n",
       "      <td>17488</td>\n",
       "      <td>1059_494</td>\n",
       "      <td>0.00</td>\n",
       "      <td>2018-10-17</td>\n",
       "      <td>1059</td>\n",
       "    </tr>\n",
       "  </tbody>\n",
       "</table>\n",
       "</div>"
      ],
      "text/plain": [
       "             id  mb_used session_date  user_id\n",
       "37854   1133_21   302.80   2018-11-23     1133\n",
       "29856  1104_273   328.35   2018-12-03     1104\n",
       "19316  1065_461   539.09   2018-08-25     1065\n",
       "94491  1319_191   550.41   2018-11-18     1319\n",
       "17488  1059_494     0.00   2018-10-17     1059"
      ]
     },
     "execution_count": 4,
     "metadata": {},
     "output_type": "execute_result"
    }
   ],
   "source": [
    "# таблица с информацией об интернет-сессиях\n",
    "df_internet.info()\n",
    "df_internet.sample(5)"
   ]
  },
  {
   "cell_type": "code",
   "execution_count": 1,
   "metadata": {},
   "outputs": [],
   "source": [
    "# таблица с информацией об интернет-сессиях\n",
    "# columns_info(df_internet)"
   ]
  },
  {
   "cell_type": "code",
   "execution_count": 5,
   "metadata": {},
   "outputs": [
    {
     "name": "stdout",
     "output_type": "stream",
     "text": [
      "<class 'pandas.core.frame.DataFrame'>\n",
      "RangeIndex: 123036 entries, 0 to 123035\n",
      "Data columns (total 3 columns):\n",
      "id              123036 non-null object\n",
      "message_date    123036 non-null object\n",
      "user_id         123036 non-null int64\n",
      "dtypes: int64(1), object(2)\n",
      "memory usage: 2.8+ MB\n"
     ]
    },
    {
     "data": {
      "text/html": [
       "<div>\n",
       "<style scoped>\n",
       "    .dataframe tbody tr th:only-of-type {\n",
       "        vertical-align: middle;\n",
       "    }\n",
       "\n",
       "    .dataframe tbody tr th {\n",
       "        vertical-align: top;\n",
       "    }\n",
       "\n",
       "    .dataframe thead th {\n",
       "        text-align: right;\n",
       "    }\n",
       "</style>\n",
       "<table border=\"1\" class=\"dataframe\">\n",
       "  <thead>\n",
       "    <tr style=\"text-align: right;\">\n",
       "      <th></th>\n",
       "      <th>id</th>\n",
       "      <th>message_date</th>\n",
       "      <th>user_id</th>\n",
       "    </tr>\n",
       "  </thead>\n",
       "  <tbody>\n",
       "    <tr>\n",
       "      <td>22808</td>\n",
       "      <td>1096_88</td>\n",
       "      <td>2018-09-26</td>\n",
       "      <td>1096</td>\n",
       "    </tr>\n",
       "    <tr>\n",
       "      <td>79974</td>\n",
       "      <td>1333_330</td>\n",
       "      <td>2018-11-18</td>\n",
       "      <td>1333</td>\n",
       "    </tr>\n",
       "    <tr>\n",
       "      <td>81852</td>\n",
       "      <td>1343_94</td>\n",
       "      <td>2018-10-16</td>\n",
       "      <td>1343</td>\n",
       "    </tr>\n",
       "    <tr>\n",
       "      <td>21716</td>\n",
       "      <td>1091_269</td>\n",
       "      <td>2018-12-30</td>\n",
       "      <td>1091</td>\n",
       "    </tr>\n",
       "    <tr>\n",
       "      <td>55370</td>\n",
       "      <td>1244_536</td>\n",
       "      <td>2018-08-10</td>\n",
       "      <td>1244</td>\n",
       "    </tr>\n",
       "  </tbody>\n",
       "</table>\n",
       "</div>"
      ],
      "text/plain": [
       "             id message_date  user_id\n",
       "22808   1096_88   2018-09-26     1096\n",
       "79974  1333_330   2018-11-18     1333\n",
       "81852   1343_94   2018-10-16     1343\n",
       "21716  1091_269   2018-12-30     1091\n",
       "55370  1244_536   2018-08-10     1244"
      ]
     },
     "execution_count": 5,
     "metadata": {},
     "output_type": "execute_result"
    }
   ],
   "source": [
    "# таблица с информацией о сообщениях\n",
    "df_messages.info()\n",
    "df_messages.sample(5)"
   ]
  },
  {
   "cell_type": "code",
   "execution_count": 2,
   "metadata": {},
   "outputs": [],
   "source": [
    "# таблица с информацией о сообщениях\n",
    "#columns_info(df_messages)"
   ]
  },
  {
   "cell_type": "code",
   "execution_count": 6,
   "metadata": {},
   "outputs": [
    {
     "name": "stdout",
     "output_type": "stream",
     "text": [
      "<class 'pandas.core.frame.DataFrame'>\n",
      "RangeIndex: 2 entries, 0 to 1\n",
      "Data columns (total 8 columns):\n",
      "messages_included        2 non-null int64\n",
      "mb_per_month_included    2 non-null int64\n",
      "minutes_included         2 non-null int64\n",
      "rub_monthly_fee          2 non-null int64\n",
      "rub_per_gb               2 non-null int64\n",
      "rub_per_message          2 non-null int64\n",
      "rub_per_minute           2 non-null int64\n",
      "tariff_name              2 non-null object\n",
      "dtypes: int64(7), object(1)\n",
      "memory usage: 256.0+ bytes\n"
     ]
    },
    {
     "data": {
      "text/html": [
       "<div>\n",
       "<style scoped>\n",
       "    .dataframe tbody tr th:only-of-type {\n",
       "        vertical-align: middle;\n",
       "    }\n",
       "\n",
       "    .dataframe tbody tr th {\n",
       "        vertical-align: top;\n",
       "    }\n",
       "\n",
       "    .dataframe thead th {\n",
       "        text-align: right;\n",
       "    }\n",
       "</style>\n",
       "<table border=\"1\" class=\"dataframe\">\n",
       "  <thead>\n",
       "    <tr style=\"text-align: right;\">\n",
       "      <th></th>\n",
       "      <th>messages_included</th>\n",
       "      <th>mb_per_month_included</th>\n",
       "      <th>minutes_included</th>\n",
       "      <th>rub_monthly_fee</th>\n",
       "      <th>rub_per_gb</th>\n",
       "      <th>rub_per_message</th>\n",
       "      <th>rub_per_minute</th>\n",
       "      <th>tariff_name</th>\n",
       "    </tr>\n",
       "  </thead>\n",
       "  <tbody>\n",
       "    <tr>\n",
       "      <td>0</td>\n",
       "      <td>50</td>\n",
       "      <td>15360</td>\n",
       "      <td>500</td>\n",
       "      <td>550</td>\n",
       "      <td>200</td>\n",
       "      <td>3</td>\n",
       "      <td>3</td>\n",
       "      <td>smart</td>\n",
       "    </tr>\n",
       "    <tr>\n",
       "      <td>1</td>\n",
       "      <td>1000</td>\n",
       "      <td>30720</td>\n",
       "      <td>3000</td>\n",
       "      <td>1950</td>\n",
       "      <td>150</td>\n",
       "      <td>1</td>\n",
       "      <td>1</td>\n",
       "      <td>ultra</td>\n",
       "    </tr>\n",
       "  </tbody>\n",
       "</table>\n",
       "</div>"
      ],
      "text/plain": [
       "   messages_included  mb_per_month_included  minutes_included  \\\n",
       "0                 50                  15360               500   \n",
       "1               1000                  30720              3000   \n",
       "\n",
       "   rub_monthly_fee  rub_per_gb  rub_per_message  rub_per_minute tariff_name  \n",
       "0              550         200                3               3       smart  \n",
       "1             1950         150                1               1       ultra  "
      ]
     },
     "execution_count": 6,
     "metadata": {},
     "output_type": "execute_result"
    }
   ],
   "source": [
    "# таблица с информацией  о тарифах\n",
    "df_tariffs.info()\n",
    "df_tariffs.head()"
   ]
  },
  {
   "cell_type": "code",
   "execution_count": 17,
   "metadata": {},
   "outputs": [],
   "source": [
    "# таблица с информацией  о тарифах, таблица из 2 строк, можно не отображать\n",
    "# columns_info(df_tariffs) "
   ]
  },
  {
   "cell_type": "code",
   "execution_count": 7,
   "metadata": {},
   "outputs": [
    {
     "name": "stdout",
     "output_type": "stream",
     "text": [
      "<class 'pandas.core.frame.DataFrame'>\n",
      "RangeIndex: 500 entries, 0 to 499\n",
      "Data columns (total 8 columns):\n",
      "user_id       500 non-null int64\n",
      "age           500 non-null int64\n",
      "churn_date    38 non-null object\n",
      "city          500 non-null object\n",
      "first_name    500 non-null object\n",
      "last_name     500 non-null object\n",
      "reg_date      500 non-null object\n",
      "tariff        500 non-null object\n",
      "dtypes: int64(2), object(6)\n",
      "memory usage: 31.4+ KB\n"
     ]
    },
    {
     "data": {
      "text/html": [
       "<div>\n",
       "<style scoped>\n",
       "    .dataframe tbody tr th:only-of-type {\n",
       "        vertical-align: middle;\n",
       "    }\n",
       "\n",
       "    .dataframe tbody tr th {\n",
       "        vertical-align: top;\n",
       "    }\n",
       "\n",
       "    .dataframe thead th {\n",
       "        text-align: right;\n",
       "    }\n",
       "</style>\n",
       "<table border=\"1\" class=\"dataframe\">\n",
       "  <thead>\n",
       "    <tr style=\"text-align: right;\">\n",
       "      <th></th>\n",
       "      <th>user_id</th>\n",
       "      <th>age</th>\n",
       "      <th>churn_date</th>\n",
       "      <th>city</th>\n",
       "      <th>first_name</th>\n",
       "      <th>last_name</th>\n",
       "      <th>reg_date</th>\n",
       "      <th>tariff</th>\n",
       "    </tr>\n",
       "  </thead>\n",
       "  <tbody>\n",
       "    <tr>\n",
       "      <td>0</td>\n",
       "      <td>1000</td>\n",
       "      <td>52</td>\n",
       "      <td>NaN</td>\n",
       "      <td>Краснодар</td>\n",
       "      <td>Рафаил</td>\n",
       "      <td>Верещагин</td>\n",
       "      <td>2018-05-25</td>\n",
       "      <td>ultra</td>\n",
       "    </tr>\n",
       "    <tr>\n",
       "      <td>1</td>\n",
       "      <td>1001</td>\n",
       "      <td>41</td>\n",
       "      <td>NaN</td>\n",
       "      <td>Москва</td>\n",
       "      <td>Иван</td>\n",
       "      <td>Ежов</td>\n",
       "      <td>2018-11-01</td>\n",
       "      <td>smart</td>\n",
       "    </tr>\n",
       "    <tr>\n",
       "      <td>2</td>\n",
       "      <td>1002</td>\n",
       "      <td>59</td>\n",
       "      <td>NaN</td>\n",
       "      <td>Стерлитамак</td>\n",
       "      <td>Евгений</td>\n",
       "      <td>Абрамович</td>\n",
       "      <td>2018-06-17</td>\n",
       "      <td>smart</td>\n",
       "    </tr>\n",
       "    <tr>\n",
       "      <td>3</td>\n",
       "      <td>1003</td>\n",
       "      <td>23</td>\n",
       "      <td>NaN</td>\n",
       "      <td>Москва</td>\n",
       "      <td>Белла</td>\n",
       "      <td>Белякова</td>\n",
       "      <td>2018-08-17</td>\n",
       "      <td>ultra</td>\n",
       "    </tr>\n",
       "    <tr>\n",
       "      <td>4</td>\n",
       "      <td>1004</td>\n",
       "      <td>68</td>\n",
       "      <td>NaN</td>\n",
       "      <td>Новокузнецк</td>\n",
       "      <td>Татьяна</td>\n",
       "      <td>Авдеенко</td>\n",
       "      <td>2018-05-14</td>\n",
       "      <td>ultra</td>\n",
       "    </tr>\n",
       "  </tbody>\n",
       "</table>\n",
       "</div>"
      ],
      "text/plain": [
       "   user_id  age churn_date         city first_name  last_name    reg_date  \\\n",
       "0     1000   52        NaN    Краснодар     Рафаил  Верещагин  2018-05-25   \n",
       "1     1001   41        NaN       Москва       Иван       Ежов  2018-11-01   \n",
       "2     1002   59        NaN  Стерлитамак    Евгений  Абрамович  2018-06-17   \n",
       "3     1003   23        NaN       Москва      Белла   Белякова  2018-08-17   \n",
       "4     1004   68        NaN  Новокузнецк    Татьяна   Авдеенко  2018-05-14   \n",
       "\n",
       "  tariff  \n",
       "0  ultra  \n",
       "1  smart  \n",
       "2  smart  \n",
       "3  ultra  \n",
       "4  ultra  "
      ]
     },
     "execution_count": 7,
     "metadata": {},
     "output_type": "execute_result"
    }
   ],
   "source": [
    "# таблица с информацией  о пользователях\n",
    "df_users.info()\n",
    "df_users.head()"
   ]
  },
  {
   "cell_type": "code",
   "execution_count": 3,
   "metadata": {},
   "outputs": [],
   "source": [
    "# таблица с информацией  о пользователях\n",
    "# columns_info(df_users)"
   ]
  },
  {
   "cell_type": "markdown",
   "metadata": {},
   "source": [
    "### Вывод\n",
    "\n",
    "* В таблицах нет пропусков (churn_date по заданию имеет пропуски, т.к. это дата расторжения договора).\n",
    "* Столбцы с датами имеют не тот тип данных, его нужно изменить.\n",
    "* В таблице `df_calls` длительность разговора нужно окруклить до целого.\n",
    "* В таблице `df_internet` столбец с индексами имеет копию с именем `'Unnamed: 0'`.\n",
    "* Таблица с тарифами отображает всю информацию о 2 исследуемых тарифах."
   ]
  },
  {
   "cell_type": "markdown",
   "metadata": {},
   "source": [
    "## Подготовка данных"
   ]
  },
  {
   "cell_type": "markdown",
   "metadata": {},
   "source": [
    "### Замена типов данных"
   ]
  },
  {
   "cell_type": "code",
   "execution_count": 12,
   "metadata": {},
   "outputs": [],
   "source": [
    "# В 4 таблицах меняем столбцы с датой в формат datetime\n",
    "df_calls['call_date'] = pd.to_datetime(df_calls['call_date'], format='%Y-%m-%d')\n",
    "df_internet['session_date'] = pd.to_datetime(df_internet['session_date'], format='%Y-%m-%d')\n",
    "df_messages['message_date'] = pd.to_datetime(df_messages['message_date'], format='%Y-%m-%d')\n",
    "df_users['churn_date'] = pd.to_datetime(df_users['churn_date'], format='%Y-%m-%d')\n",
    "df_users['reg_date'] = pd.to_datetime(df_users['reg_date'], format='%Y-%m-%d')"
   ]
  },
  {
   "cell_type": "code",
   "execution_count": null,
   "metadata": {},
   "outputs": [],
   "source": [
    "# В 2 таблицах округлим значения в бОльшую сторону и приведем к типу int\n",
    "df_calls['duration'] = df_calls['duration'].apply(np.ceil)\n",
    "df_calls['duration'] = df_calls['duration'].astype('int')\n",
    "\n",
    "df_internet['mb_used'] = df_internet['mb_used'].apply(np.ceil)\n",
    "df_internet['mb_used'] = df_internet['mb_used'].astype('int')"
   ]
  },
  {
   "cell_type": "markdown",
   "metadata": {},
   "source": [
    "Выведем информацию об измененных таблицах:"
   ]
  },
  {
   "cell_type": "code",
   "execution_count": 13,
   "metadata": {},
   "outputs": [
    {
     "name": "stdout",
     "output_type": "stream",
     "text": [
      "<class 'pandas.core.frame.DataFrame'>\n",
      "RangeIndex: 202607 entries, 0 to 202606\n",
      "Data columns (total 4 columns):\n",
      "id           202607 non-null object\n",
      "call_date    202607 non-null datetime64[ns]\n",
      "duration     202607 non-null float64\n",
      "user_id      202607 non-null int64\n",
      "dtypes: datetime64[ns](1), float64(1), int64(1), object(1)\n",
      "memory usage: 6.2+ MB\n",
      "None\n",
      "\n",
      "<class 'pandas.core.frame.DataFrame'>\n",
      "Int64Index: 149396 entries, 0 to 149395\n",
      "Data columns (total 4 columns):\n",
      "id              149396 non-null object\n",
      "mb_used         149396 non-null float64\n",
      "session_date    149396 non-null datetime64[ns]\n",
      "user_id         149396 non-null int64\n",
      "dtypes: datetime64[ns](1), float64(1), int64(1), object(1)\n",
      "memory usage: 5.7+ MB\n",
      "None\n",
      "\n",
      "<class 'pandas.core.frame.DataFrame'>\n",
      "RangeIndex: 123036 entries, 0 to 123035\n",
      "Data columns (total 3 columns):\n",
      "id              123036 non-null object\n",
      "message_date    123036 non-null datetime64[ns]\n",
      "user_id         123036 non-null int64\n",
      "dtypes: datetime64[ns](1), int64(1), object(1)\n",
      "memory usage: 2.8+ MB\n",
      "None\n",
      "\n",
      "<class 'pandas.core.frame.DataFrame'>\n",
      "RangeIndex: 500 entries, 0 to 499\n",
      "Data columns (total 8 columns):\n",
      "user_id       500 non-null int64\n",
      "age           500 non-null int64\n",
      "churn_date    38 non-null datetime64[ns]\n",
      "city          500 non-null object\n",
      "first_name    500 non-null object\n",
      "last_name     500 non-null object\n",
      "reg_date      500 non-null datetime64[ns]\n",
      "tariff        500 non-null object\n",
      "dtypes: datetime64[ns](2), int64(2), object(4)\n",
      "memory usage: 31.4+ KB\n",
      "None\n",
      "\n"
     ]
    }
   ],
   "source": [
    "for df in [df_calls, df_internet, df_messages, df_users]:\n",
    "    print(df.info(),end='\\n'*2)"
   ]
  },
  {
   "cell_type": "markdown",
   "metadata": {},
   "source": [
    "### Ошибки в данных"
   ]
  },
  {
   "cell_type": "markdown",
   "metadata": {},
   "source": [
    "Подсчитаем количество строк, длительность звонков в которых равна нулю:"
   ]
  },
  {
   "cell_type": "code",
   "execution_count": 9,
   "metadata": {},
   "outputs": [
    {
     "data": {
      "text/plain": [
       "39613"
      ]
     },
     "metadata": {},
     "output_type": "display_data"
    }
   ],
   "source": [
    "display(df_calls[df_calls['duration'] == 0]['user_id'].count())"
   ]
  },
  {
   "cell_type": "markdown",
   "metadata": {},
   "source": [
    "В описании к проекту было сказано, что это не ошибка: нулями обозначены пропущенные звонки, поэтому их не нужно удалять.\n",
    "\n",
    "Также и с таблицей с информацией об интернет трафике:"
   ]
  },
  {
   "cell_type": "code",
   "execution_count": 10,
   "metadata": {},
   "outputs": [
    {
     "data": {
      "text/plain": [
       "19598"
      ]
     },
     "metadata": {},
     "output_type": "display_data"
    }
   ],
   "source": [
    "display(df_internet[df_internet['mb_used']== 0]['user_id'].count())"
   ]
  },
  {
   "cell_type": "markdown",
   "metadata": {},
   "source": [
    "Так как нам необходимо производить подсчеты по каждому месяцу, необходимо в таблицы с информацией о звонках, об интернет-сессиях и о сообщениях добавить столбцы с номером месяца.\n",
    "\n",
    "Проверив уникальные значения столбцов с датой, можно увидеть, что год указан только 2018, значит номер месяца будет соответствовать только 2018 году."
   ]
  },
  {
   "cell_type": "code",
   "execution_count": 14,
   "metadata": {},
   "outputs": [],
   "source": [
    "df_calls['month'] = df_calls['call_date'].dt.month\n",
    "df_internet['month'] = df_internet['session_date'].dt.month\n",
    "df_messages['month'] = df_messages['message_date'].dt.month"
   ]
  },
  {
   "cell_type": "code",
   "execution_count": 15,
   "metadata": {},
   "outputs": [
    {
     "name": "stdout",
     "output_type": "stream",
     "text": [
      "<class 'pandas.core.frame.DataFrame'>\n",
      "RangeIndex: 202607 entries, 0 to 202606\n",
      "Data columns (total 5 columns):\n",
      "id           202607 non-null object\n",
      "call_date    202607 non-null datetime64[ns]\n",
      "duration     202607 non-null float64\n",
      "user_id      202607 non-null int64\n",
      "month        202607 non-null int64\n",
      "dtypes: datetime64[ns](1), float64(1), int64(2), object(1)\n",
      "memory usage: 7.7+ MB\n",
      "None\n",
      "\n",
      "<class 'pandas.core.frame.DataFrame'>\n",
      "Int64Index: 149396 entries, 0 to 149395\n",
      "Data columns (total 5 columns):\n",
      "id              149396 non-null object\n",
      "mb_used         149396 non-null float64\n",
      "session_date    149396 non-null datetime64[ns]\n",
      "user_id         149396 non-null int64\n",
      "month           149396 non-null int64\n",
      "dtypes: datetime64[ns](1), float64(1), int64(2), object(1)\n",
      "memory usage: 6.8+ MB\n",
      "None\n",
      "\n",
      "<class 'pandas.core.frame.DataFrame'>\n",
      "RangeIndex: 123036 entries, 0 to 123035\n",
      "Data columns (total 4 columns):\n",
      "id              123036 non-null object\n",
      "message_date    123036 non-null datetime64[ns]\n",
      "user_id         123036 non-null int64\n",
      "month           123036 non-null int64\n",
      "dtypes: datetime64[ns](1), int64(2), object(1)\n",
      "memory usage: 3.8+ MB\n",
      "None\n",
      "\n"
     ]
    }
   ],
   "source": [
    "for df in [df_calls, df_internet, df_messages]:\n",
    "    print(df.info(),end='\\n'*2)"
   ]
  },
  {
   "cell_type": "code",
   "execution_count": 16,
   "metadata": {},
   "outputs": [
    {
     "data": {
      "text/html": [
       "<div>\n",
       "<style scoped>\n",
       "    .dataframe tbody tr th:only-of-type {\n",
       "        vertical-align: middle;\n",
       "    }\n",
       "\n",
       "    .dataframe tbody tr th {\n",
       "        vertical-align: top;\n",
       "    }\n",
       "\n",
       "    .dataframe thead th {\n",
       "        text-align: right;\n",
       "    }\n",
       "</style>\n",
       "<table border=\"1\" class=\"dataframe\">\n",
       "  <thead>\n",
       "    <tr style=\"text-align: right;\">\n",
       "      <th></th>\n",
       "      <th>id</th>\n",
       "      <th>call_date</th>\n",
       "      <th>duration</th>\n",
       "      <th>user_id</th>\n",
       "      <th>month</th>\n",
       "    </tr>\n",
       "  </thead>\n",
       "  <tbody>\n",
       "    <tr>\n",
       "      <td>94866</td>\n",
       "      <td>1240_394</td>\n",
       "      <td>2018-10-29</td>\n",
       "      <td>0.00</td>\n",
       "      <td>1240</td>\n",
       "      <td>10</td>\n",
       "    </tr>\n",
       "    <tr>\n",
       "      <td>39730</td>\n",
       "      <td>1099_103</td>\n",
       "      <td>2018-09-29</td>\n",
       "      <td>1.15</td>\n",
       "      <td>1099</td>\n",
       "      <td>9</td>\n",
       "    </tr>\n",
       "    <tr>\n",
       "      <td>32690</td>\n",
       "      <td>1080_485</td>\n",
       "      <td>2018-12-19</td>\n",
       "      <td>7.33</td>\n",
       "      <td>1080</td>\n",
       "      <td>12</td>\n",
       "    </tr>\n",
       "    <tr>\n",
       "      <td>27004</td>\n",
       "      <td>1066_425</td>\n",
       "      <td>2018-09-29</td>\n",
       "      <td>6.92</td>\n",
       "      <td>1066</td>\n",
       "      <td>9</td>\n",
       "    </tr>\n",
       "    <tr>\n",
       "      <td>123730</td>\n",
       "      <td>1318_729</td>\n",
       "      <td>2018-08-23</td>\n",
       "      <td>3.89</td>\n",
       "      <td>1318</td>\n",
       "      <td>8</td>\n",
       "    </tr>\n",
       "  </tbody>\n",
       "</table>\n",
       "</div>"
      ],
      "text/plain": [
       "              id  call_date  duration  user_id  month\n",
       "94866   1240_394 2018-10-29      0.00     1240     10\n",
       "39730   1099_103 2018-09-29      1.15     1099      9\n",
       "32690   1080_485 2018-12-19      7.33     1080     12\n",
       "27004   1066_425 2018-09-29      6.92     1066      9\n",
       "123730  1318_729 2018-08-23      3.89     1318      8"
      ]
     },
     "execution_count": 16,
     "metadata": {},
     "output_type": "execute_result"
    }
   ],
   "source": [
    "df_calls.sample(5)"
   ]
  },
  {
   "cell_type": "markdown",
   "metadata": {},
   "source": [
    "### Подсчет информации для каждого пользователя"
   ]
  },
  {
   "cell_type": "markdown",
   "metadata": {},
   "source": [
    "Для подсчета количества сделанных звонков и израсходованных минут разговора по месяцам для каждого пользователя сгруппируем таблицу `df_calls` по каждому идентификатору и по месяцам и суммируем количество потраченных минут, а также подсчитаем количество звонков исходя из уникального номера звонка:"
   ]
  },
  {
   "cell_type": "code",
   "execution_count": 17,
   "metadata": {},
   "outputs": [],
   "source": [
    "df_calls_pivot = df_calls.pivot_table(\n",
    "    index=['user_id','month'], values=['duration','id'], \n",
    "    aggfunc={'id': 'count', 'duration': 'sum'})\n",
    "df_calls_pivot.columns = ['calls_sum', 'calls_count']"
   ]
  },
  {
   "cell_type": "markdown",
   "metadata": {},
   "source": [
    "Для подсчета объема израсходованного интернет-трафика по месяцам для каждого пользователя сгруппируем таблицу `df_internet` по каждому идентификатору и по месяцам и суммируем количество потраченных мегабайт:"
   ]
  },
  {
   "cell_type": "code",
   "execution_count": 18,
   "metadata": {},
   "outputs": [],
   "source": [
    "df_internet_pivot = df_internet.pivot_table(index=['user_id','month'], values='mb_used', aggfunc='sum')\n",
    "df_internet_pivot.columns = ['mb_sum']"
   ]
  },
  {
   "cell_type": "markdown",
   "metadata": {},
   "source": [
    "Для подсчета количества асообщений сгруппируем таблицу `df_messages` по каждому идентификатору и по месяцам и подсчитаем количество сообщений исходя из уникального номера сообщения:"
   ]
  },
  {
   "cell_type": "code",
   "execution_count": 19,
   "metadata": {},
   "outputs": [],
   "source": [
    "df_messages_pivot = df_messages.pivot_table(\n",
    "    index=['user_id','month'], values='id', \n",
    "    aggfunc='count')\n",
    "df_messages_pivot.columns = ['messages_count']"
   ]
  },
  {
   "cell_type": "markdown",
   "metadata": {},
   "source": [
    "Теперь нужно соединить 3 таблицы в одну:"
   ]
  },
  {
   "cell_type": "code",
   "execution_count": 20,
   "metadata": {},
   "outputs": [],
   "source": [
    "df_all = df_calls_pivot.merge(df_internet_pivot, on=['user_id','month'], how='outer')"
   ]
  },
  {
   "cell_type": "code",
   "execution_count": 21,
   "metadata": {},
   "outputs": [],
   "source": [
    "df_full = df_all.merge(df_messages_pivot, on=['user_id','month'], how='outer')"
   ]
  },
  {
   "cell_type": "code",
   "execution_count": 22,
   "metadata": {},
   "outputs": [
    {
     "data": {
      "text/html": [
       "<div>\n",
       "<style scoped>\n",
       "    .dataframe tbody tr th:only-of-type {\n",
       "        vertical-align: middle;\n",
       "    }\n",
       "\n",
       "    .dataframe tbody tr th {\n",
       "        vertical-align: top;\n",
       "    }\n",
       "\n",
       "    .dataframe thead th {\n",
       "        text-align: right;\n",
       "    }\n",
       "</style>\n",
       "<table border=\"1\" class=\"dataframe\">\n",
       "  <thead>\n",
       "    <tr style=\"text-align: right;\">\n",
       "      <th></th>\n",
       "      <th></th>\n",
       "      <th>calls_sum</th>\n",
       "      <th>calls_count</th>\n",
       "      <th>mb_sum</th>\n",
       "      <th>messages_count</th>\n",
       "    </tr>\n",
       "    <tr>\n",
       "      <th>user_id</th>\n",
       "      <th>month</th>\n",
       "      <th></th>\n",
       "      <th></th>\n",
       "      <th></th>\n",
       "      <th></th>\n",
       "    </tr>\n",
       "  </thead>\n",
       "  <tbody>\n",
       "    <tr>\n",
       "      <td rowspan=\"8\" valign=\"top\">1000</td>\n",
       "      <td>5</td>\n",
       "      <td>150.06</td>\n",
       "      <td>22.0</td>\n",
       "      <td>2253.49</td>\n",
       "      <td>22.0</td>\n",
       "    </tr>\n",
       "    <tr>\n",
       "      <td>6</td>\n",
       "      <td>158.90</td>\n",
       "      <td>43.0</td>\n",
       "      <td>23233.77</td>\n",
       "      <td>60.0</td>\n",
       "    </tr>\n",
       "    <tr>\n",
       "      <td>7</td>\n",
       "      <td>318.80</td>\n",
       "      <td>47.0</td>\n",
       "      <td>14003.64</td>\n",
       "      <td>75.0</td>\n",
       "    </tr>\n",
       "    <tr>\n",
       "      <td>8</td>\n",
       "      <td>389.87</td>\n",
       "      <td>52.0</td>\n",
       "      <td>14055.93</td>\n",
       "      <td>81.0</td>\n",
       "    </tr>\n",
       "    <tr>\n",
       "      <td>9</td>\n",
       "      <td>440.14</td>\n",
       "      <td>58.0</td>\n",
       "      <td>14568.91</td>\n",
       "      <td>57.0</td>\n",
       "    </tr>\n",
       "    <tr>\n",
       "      <td>10</td>\n",
       "      <td>328.45</td>\n",
       "      <td>57.0</td>\n",
       "      <td>14702.49</td>\n",
       "      <td>73.0</td>\n",
       "    </tr>\n",
       "    <tr>\n",
       "      <td>11</td>\n",
       "      <td>319.04</td>\n",
       "      <td>43.0</td>\n",
       "      <td>14756.47</td>\n",
       "      <td>58.0</td>\n",
       "    </tr>\n",
       "    <tr>\n",
       "      <td>12</td>\n",
       "      <td>312.98</td>\n",
       "      <td>46.0</td>\n",
       "      <td>9817.61</td>\n",
       "      <td>70.0</td>\n",
       "    </tr>\n",
       "    <tr>\n",
       "      <td rowspan=\"2\" valign=\"top\">1001</td>\n",
       "      <td>11</td>\n",
       "      <td>408.12</td>\n",
       "      <td>59.0</td>\n",
       "      <td>18429.34</td>\n",
       "      <td>NaN</td>\n",
       "    </tr>\n",
       "    <tr>\n",
       "      <td>12</td>\n",
       "      <td>391.34</td>\n",
       "      <td>63.0</td>\n",
       "      <td>14036.66</td>\n",
       "      <td>NaN</td>\n",
       "    </tr>\n",
       "    <tr>\n",
       "      <td rowspan=\"5\" valign=\"top\">1002</td>\n",
       "      <td>6</td>\n",
       "      <td>110.37</td>\n",
       "      <td>15.0</td>\n",
       "      <td>10856.82</td>\n",
       "      <td>4.0</td>\n",
       "    </tr>\n",
       "    <tr>\n",
       "      <td>7</td>\n",
       "      <td>204.75</td>\n",
       "      <td>26.0</td>\n",
       "      <td>17580.10</td>\n",
       "      <td>11.0</td>\n",
       "    </tr>\n",
       "    <tr>\n",
       "      <td>8</td>\n",
       "      <td>269.71</td>\n",
       "      <td>42.0</td>\n",
       "      <td>20319.26</td>\n",
       "      <td>13.0</td>\n",
       "    </tr>\n",
       "    <tr>\n",
       "      <td>9</td>\n",
       "      <td>195.85</td>\n",
       "      <td>36.0</td>\n",
       "      <td>16691.08</td>\n",
       "      <td>4.0</td>\n",
       "    </tr>\n",
       "    <tr>\n",
       "      <td>10</td>\n",
       "      <td>199.48</td>\n",
       "      <td>33.0</td>\n",
       "      <td>13888.25</td>\n",
       "      <td>10.0</td>\n",
       "    </tr>\n",
       "  </tbody>\n",
       "</table>\n",
       "</div>"
      ],
      "text/plain": [
       "               calls_sum  calls_count    mb_sum  messages_count\n",
       "user_id month                                                  \n",
       "1000    5         150.06         22.0   2253.49            22.0\n",
       "        6         158.90         43.0  23233.77            60.0\n",
       "        7         318.80         47.0  14003.64            75.0\n",
       "        8         389.87         52.0  14055.93            81.0\n",
       "        9         440.14         58.0  14568.91            57.0\n",
       "        10        328.45         57.0  14702.49            73.0\n",
       "        11        319.04         43.0  14756.47            58.0\n",
       "        12        312.98         46.0   9817.61            70.0\n",
       "1001    11        408.12         59.0  18429.34             NaN\n",
       "        12        391.34         63.0  14036.66             NaN\n",
       "1002    6         110.37         15.0  10856.82             4.0\n",
       "        7         204.75         26.0  17580.10            11.0\n",
       "        8         269.71         42.0  20319.26            13.0\n",
       "        9         195.85         36.0  16691.08             4.0\n",
       "        10        199.48         33.0  13888.25            10.0"
      ]
     },
     "execution_count": 22,
     "metadata": {},
     "output_type": "execute_result"
    }
   ],
   "source": [
    "df_full.head(15)"
   ]
  },
  {
   "cell_type": "code",
   "execution_count": 23,
   "metadata": {},
   "outputs": [
    {
     "name": "stdout",
     "output_type": "stream",
     "text": [
      "<class 'pandas.core.frame.DataFrame'>\n",
      "MultiIndex: 3214 entries, (1000, 5) to (1489, 12)\n",
      "Data columns (total 4 columns):\n",
      "calls_sum         3174 non-null float64\n",
      "calls_count       3174 non-null float64\n",
      "mb_sum            3203 non-null float64\n",
      "messages_count    2717 non-null float64\n",
      "dtypes: float64(4)\n",
      "memory usage: 113.9 KB\n"
     ]
    }
   ],
   "source": [
    "df_full.info()"
   ]
  },
  {
   "cell_type": "markdown",
   "metadata": {},
   "source": [
    "Заменим пропущенные значения на нули:"
   ]
  },
  {
   "cell_type": "code",
   "execution_count": 24,
   "metadata": {},
   "outputs": [
    {
     "name": "stdout",
     "output_type": "stream",
     "text": [
      "calls_sum          40\n",
      "calls_count        40\n",
      "mb_sum             11\n",
      "messages_count    497\n",
      "dtype: int64\n"
     ]
    }
   ],
   "source": [
    "print(df_full.isna().sum())"
   ]
  },
  {
   "cell_type": "code",
   "execution_count": 25,
   "metadata": {},
   "outputs": [],
   "source": [
    "df_full['calls_sum'] = df_full['calls_sum'].fillna(0)\n",
    "df_full['calls_count'] = df_full['calls_count'].fillna(0)\n",
    "df_full['mb_sum'] = df_full['mb_sum'].fillna(0)\n",
    "df_full['messages_count'] = df_full['messages_count'].fillna(0)"
   ]
  },
  {
   "cell_type": "code",
   "execution_count": 26,
   "metadata": {},
   "outputs": [
    {
     "name": "stdout",
     "output_type": "stream",
     "text": [
      "calls_sum         0\n",
      "calls_count       0\n",
      "mb_sum            0\n",
      "messages_count    0\n",
      "dtype: int64\n"
     ]
    }
   ],
   "source": [
    "print(df_full.isna().sum())"
   ]
  },
  {
   "cell_type": "code",
   "execution_count": 27,
   "metadata": {},
   "outputs": [],
   "source": [
    "# Заменим типы данные на int\n",
    "# Округлим столбцы с длительностью разговоров и интернет трафиком\n",
    "df_full['calls_sum'] = np.ceil(df_full['calls_sum'])\n",
    "df_full['calls_sum'] = df_full['calls_sum'].astype('int')\n",
    "df_full['mb_sum'] = np.ceil(df_full['mb_sum'])\n",
    "df_full['mb_sum'] = df_full['mb_sum'].astype('int')\n",
    "\n",
    "df_full['calls_count'] = df_full['calls_count'].astype('int')\n",
    "df_full['messages_count'] = df_full['messages_count'].astype('int')"
   ]
  },
  {
   "cell_type": "code",
   "execution_count": 28,
   "metadata": {},
   "outputs": [
    {
     "data": {
      "text/html": [
       "<div>\n",
       "<style scoped>\n",
       "    .dataframe tbody tr th:only-of-type {\n",
       "        vertical-align: middle;\n",
       "    }\n",
       "\n",
       "    .dataframe tbody tr th {\n",
       "        vertical-align: top;\n",
       "    }\n",
       "\n",
       "    .dataframe thead th {\n",
       "        text-align: right;\n",
       "    }\n",
       "</style>\n",
       "<table border=\"1\" class=\"dataframe\">\n",
       "  <thead>\n",
       "    <tr style=\"text-align: right;\">\n",
       "      <th></th>\n",
       "      <th></th>\n",
       "      <th>calls_sum</th>\n",
       "      <th>calls_count</th>\n",
       "      <th>mb_sum</th>\n",
       "      <th>messages_count</th>\n",
       "    </tr>\n",
       "    <tr>\n",
       "      <th>user_id</th>\n",
       "      <th>month</th>\n",
       "      <th></th>\n",
       "      <th></th>\n",
       "      <th></th>\n",
       "      <th></th>\n",
       "    </tr>\n",
       "  </thead>\n",
       "  <tbody>\n",
       "    <tr>\n",
       "      <td rowspan=\"8\" valign=\"top\">1000</td>\n",
       "      <td>5</td>\n",
       "      <td>151</td>\n",
       "      <td>22</td>\n",
       "      <td>2254</td>\n",
       "      <td>22</td>\n",
       "    </tr>\n",
       "    <tr>\n",
       "      <td>6</td>\n",
       "      <td>159</td>\n",
       "      <td>43</td>\n",
       "      <td>23234</td>\n",
       "      <td>60</td>\n",
       "    </tr>\n",
       "    <tr>\n",
       "      <td>7</td>\n",
       "      <td>319</td>\n",
       "      <td>47</td>\n",
       "      <td>14004</td>\n",
       "      <td>75</td>\n",
       "    </tr>\n",
       "    <tr>\n",
       "      <td>8</td>\n",
       "      <td>390</td>\n",
       "      <td>52</td>\n",
       "      <td>14056</td>\n",
       "      <td>81</td>\n",
       "    </tr>\n",
       "    <tr>\n",
       "      <td>9</td>\n",
       "      <td>441</td>\n",
       "      <td>58</td>\n",
       "      <td>14569</td>\n",
       "      <td>57</td>\n",
       "    </tr>\n",
       "    <tr>\n",
       "      <td>10</td>\n",
       "      <td>329</td>\n",
       "      <td>57</td>\n",
       "      <td>14703</td>\n",
       "      <td>73</td>\n",
       "    </tr>\n",
       "    <tr>\n",
       "      <td>11</td>\n",
       "      <td>320</td>\n",
       "      <td>43</td>\n",
       "      <td>14757</td>\n",
       "      <td>58</td>\n",
       "    </tr>\n",
       "    <tr>\n",
       "      <td>12</td>\n",
       "      <td>313</td>\n",
       "      <td>46</td>\n",
       "      <td>9818</td>\n",
       "      <td>70</td>\n",
       "    </tr>\n",
       "    <tr>\n",
       "      <td rowspan=\"2\" valign=\"top\">1001</td>\n",
       "      <td>11</td>\n",
       "      <td>409</td>\n",
       "      <td>59</td>\n",
       "      <td>18430</td>\n",
       "      <td>0</td>\n",
       "    </tr>\n",
       "    <tr>\n",
       "      <td>12</td>\n",
       "      <td>392</td>\n",
       "      <td>63</td>\n",
       "      <td>14037</td>\n",
       "      <td>0</td>\n",
       "    </tr>\n",
       "    <tr>\n",
       "      <td rowspan=\"5\" valign=\"top\">1002</td>\n",
       "      <td>6</td>\n",
       "      <td>111</td>\n",
       "      <td>15</td>\n",
       "      <td>10857</td>\n",
       "      <td>4</td>\n",
       "    </tr>\n",
       "    <tr>\n",
       "      <td>7</td>\n",
       "      <td>205</td>\n",
       "      <td>26</td>\n",
       "      <td>17581</td>\n",
       "      <td>11</td>\n",
       "    </tr>\n",
       "    <tr>\n",
       "      <td>8</td>\n",
       "      <td>270</td>\n",
       "      <td>42</td>\n",
       "      <td>20320</td>\n",
       "      <td>13</td>\n",
       "    </tr>\n",
       "    <tr>\n",
       "      <td>9</td>\n",
       "      <td>196</td>\n",
       "      <td>36</td>\n",
       "      <td>16692</td>\n",
       "      <td>4</td>\n",
       "    </tr>\n",
       "    <tr>\n",
       "      <td>10</td>\n",
       "      <td>200</td>\n",
       "      <td>33</td>\n",
       "      <td>13889</td>\n",
       "      <td>10</td>\n",
       "    </tr>\n",
       "  </tbody>\n",
       "</table>\n",
       "</div>"
      ],
      "text/plain": [
       "               calls_sum  calls_count  mb_sum  messages_count\n",
       "user_id month                                                \n",
       "1000    5            151           22    2254              22\n",
       "        6            159           43   23234              60\n",
       "        7            319           47   14004              75\n",
       "        8            390           52   14056              81\n",
       "        9            441           58   14569              57\n",
       "        10           329           57   14703              73\n",
       "        11           320           43   14757              58\n",
       "        12           313           46    9818              70\n",
       "1001    11           409           59   18430               0\n",
       "        12           392           63   14037               0\n",
       "1002    6            111           15   10857               4\n",
       "        7            205           26   17581              11\n",
       "        8            270           42   20320              13\n",
       "        9            196           36   16692               4\n",
       "        10           200           33   13889              10"
      ]
     },
     "execution_count": 28,
     "metadata": {},
     "output_type": "execute_result"
    }
   ],
   "source": [
    "df_full.head(15)"
   ]
  },
  {
   "cell_type": "markdown",
   "metadata": {},
   "source": [
    "Проверим по таблице `df_calls`, что пользователь с номером 1000 разговаривал за 5 месяц 151 минуту (или 150 с дробной частью):"
   ]
  },
  {
   "cell_type": "code",
   "execution_count": 33,
   "metadata": {},
   "outputs": [
    {
     "data": {
      "text/plain": [
       "150.05999999999997"
      ]
     },
     "execution_count": 33,
     "metadata": {},
     "output_type": "execute_result"
    }
   ],
   "source": [
    "df_calls.query('user_id ==1000 and month ==5')['duration'].sum()"
   ]
  },
  {
   "cell_type": "markdown",
   "metadata": {},
   "source": [
    "Для дальнейшего расчета также необходимо добавить столбец с тарифом для каждого пользователя:"
   ]
  },
  {
   "cell_type": "code",
   "execution_count": 29,
   "metadata": {},
   "outputs": [],
   "source": [
    "# Создаем цикл по каждой строке датафрейма (кортеж из-за мультииндекса), создаем новый столбец \n",
    "# и добавляем в него значение из другой таблицы, преобразуя индекс\n",
    "for user_id in df_full.index:\n",
    "    df_full.loc[user_id, 'tariff'] = df_users.loc[user_id[0]-1000, 'tariff']"
   ]
  },
  {
   "cell_type": "code",
   "execution_count": 43,
   "metadata": {},
   "outputs": [
    {
     "data": {
      "text/html": [
       "<div>\n",
       "<style scoped>\n",
       "    .dataframe tbody tr th:only-of-type {\n",
       "        vertical-align: middle;\n",
       "    }\n",
       "\n",
       "    .dataframe tbody tr th {\n",
       "        vertical-align: top;\n",
       "    }\n",
       "\n",
       "    .dataframe thead th {\n",
       "        text-align: right;\n",
       "    }\n",
       "</style>\n",
       "<table border=\"1\" class=\"dataframe\">\n",
       "  <thead>\n",
       "    <tr style=\"text-align: right;\">\n",
       "      <th></th>\n",
       "      <th></th>\n",
       "      <th>calls_sum</th>\n",
       "      <th>calls_count</th>\n",
       "      <th>mb_sum</th>\n",
       "      <th>messages_count</th>\n",
       "      <th>tariff</th>\n",
       "    </tr>\n",
       "    <tr>\n",
       "      <th>user_id</th>\n",
       "      <th>month</th>\n",
       "      <th></th>\n",
       "      <th></th>\n",
       "      <th></th>\n",
       "      <th></th>\n",
       "      <th></th>\n",
       "    </tr>\n",
       "  </thead>\n",
       "  <tbody>\n",
       "    <tr>\n",
       "      <td rowspan=\"8\" valign=\"top\">1000</td>\n",
       "      <td>5</td>\n",
       "      <td>151</td>\n",
       "      <td>22</td>\n",
       "      <td>2254</td>\n",
       "      <td>22</td>\n",
       "      <td>ultra</td>\n",
       "    </tr>\n",
       "    <tr>\n",
       "      <td>6</td>\n",
       "      <td>159</td>\n",
       "      <td>43</td>\n",
       "      <td>23234</td>\n",
       "      <td>60</td>\n",
       "      <td>ultra</td>\n",
       "    </tr>\n",
       "    <tr>\n",
       "      <td>7</td>\n",
       "      <td>319</td>\n",
       "      <td>47</td>\n",
       "      <td>14004</td>\n",
       "      <td>75</td>\n",
       "      <td>ultra</td>\n",
       "    </tr>\n",
       "    <tr>\n",
       "      <td>8</td>\n",
       "      <td>390</td>\n",
       "      <td>52</td>\n",
       "      <td>14056</td>\n",
       "      <td>81</td>\n",
       "      <td>ultra</td>\n",
       "    </tr>\n",
       "    <tr>\n",
       "      <td>9</td>\n",
       "      <td>441</td>\n",
       "      <td>58</td>\n",
       "      <td>14569</td>\n",
       "      <td>57</td>\n",
       "      <td>ultra</td>\n",
       "    </tr>\n",
       "    <tr>\n",
       "      <td>10</td>\n",
       "      <td>329</td>\n",
       "      <td>57</td>\n",
       "      <td>14703</td>\n",
       "      <td>73</td>\n",
       "      <td>ultra</td>\n",
       "    </tr>\n",
       "    <tr>\n",
       "      <td>11</td>\n",
       "      <td>320</td>\n",
       "      <td>43</td>\n",
       "      <td>14757</td>\n",
       "      <td>58</td>\n",
       "      <td>ultra</td>\n",
       "    </tr>\n",
       "    <tr>\n",
       "      <td>12</td>\n",
       "      <td>313</td>\n",
       "      <td>46</td>\n",
       "      <td>9818</td>\n",
       "      <td>70</td>\n",
       "      <td>ultra</td>\n",
       "    </tr>\n",
       "    <tr>\n",
       "      <td rowspan=\"2\" valign=\"top\">1001</td>\n",
       "      <td>11</td>\n",
       "      <td>409</td>\n",
       "      <td>59</td>\n",
       "      <td>18430</td>\n",
       "      <td>0</td>\n",
       "      <td>smart</td>\n",
       "    </tr>\n",
       "    <tr>\n",
       "      <td>12</td>\n",
       "      <td>392</td>\n",
       "      <td>63</td>\n",
       "      <td>14037</td>\n",
       "      <td>0</td>\n",
       "      <td>smart</td>\n",
       "    </tr>\n",
       "  </tbody>\n",
       "</table>\n",
       "</div>"
      ],
      "text/plain": [
       "               calls_sum  calls_count  mb_sum  messages_count tariff\n",
       "user_id month                                                       \n",
       "1000    5            151           22    2254              22  ultra\n",
       "        6            159           43   23234              60  ultra\n",
       "        7            319           47   14004              75  ultra\n",
       "        8            390           52   14056              81  ultra\n",
       "        9            441           58   14569              57  ultra\n",
       "        10           329           57   14703              73  ultra\n",
       "        11           320           43   14757              58  ultra\n",
       "        12           313           46    9818              70  ultra\n",
       "1001    11           409           59   18430               0  smart\n",
       "        12           392           63   14037               0  smart"
      ]
     },
     "execution_count": 43,
     "metadata": {},
     "output_type": "execute_result"
    }
   ],
   "source": [
    "df_full.head(10)"
   ]
  },
  {
   "cell_type": "code",
   "execution_count": 44,
   "metadata": {},
   "outputs": [],
   "source": [
    "#df_full.join(df_users, on='user_id', how='left')"
   ]
  },
  {
   "cell_type": "markdown",
   "metadata": {},
   "source": [
    "Для подсчета помесячной выручки с каждого пользователя создадим функцию, которая будет учитывать тариф и вычислять сумму, потраченную сверх тарифа и стоимость тарифа:"
   ]
  },
  {
   "cell_type": "code",
   "execution_count": 45,
   "metadata": {},
   "outputs": [
    {
     "data": {
      "text/html": [
       "<div>\n",
       "<style scoped>\n",
       "    .dataframe tbody tr th:only-of-type {\n",
       "        vertical-align: middle;\n",
       "    }\n",
       "\n",
       "    .dataframe tbody tr th {\n",
       "        vertical-align: top;\n",
       "    }\n",
       "\n",
       "    .dataframe thead th {\n",
       "        text-align: right;\n",
       "    }\n",
       "</style>\n",
       "<table border=\"1\" class=\"dataframe\">\n",
       "  <thead>\n",
       "    <tr style=\"text-align: right;\">\n",
       "      <th></th>\n",
       "      <th>messages_included</th>\n",
       "      <th>mb_per_month_included</th>\n",
       "      <th>minutes_included</th>\n",
       "      <th>rub_monthly_fee</th>\n",
       "      <th>rub_per_gb</th>\n",
       "      <th>rub_per_message</th>\n",
       "      <th>rub_per_minute</th>\n",
       "      <th>tariff_name</th>\n",
       "    </tr>\n",
       "  </thead>\n",
       "  <tbody>\n",
       "    <tr>\n",
       "      <td>0</td>\n",
       "      <td>50</td>\n",
       "      <td>15360</td>\n",
       "      <td>500</td>\n",
       "      <td>550</td>\n",
       "      <td>200</td>\n",
       "      <td>3</td>\n",
       "      <td>3</td>\n",
       "      <td>smart</td>\n",
       "    </tr>\n",
       "    <tr>\n",
       "      <td>1</td>\n",
       "      <td>1000</td>\n",
       "      <td>30720</td>\n",
       "      <td>3000</td>\n",
       "      <td>1950</td>\n",
       "      <td>150</td>\n",
       "      <td>1</td>\n",
       "      <td>1</td>\n",
       "      <td>ultra</td>\n",
       "    </tr>\n",
       "  </tbody>\n",
       "</table>\n",
       "</div>"
      ],
      "text/plain": [
       "   messages_included  mb_per_month_included  minutes_included  \\\n",
       "0                 50                  15360               500   \n",
       "1               1000                  30720              3000   \n",
       "\n",
       "   rub_monthly_fee  rub_per_gb  rub_per_message  rub_per_minute tariff_name  \n",
       "0              550         200                3               3       smart  \n",
       "1             1950         150                1               1       ultra  "
      ]
     },
     "execution_count": 45,
     "metadata": {},
     "output_type": "execute_result"
    }
   ],
   "source": [
    "df_tariffs.head()"
   ]
  },
  {
   "cell_type": "code",
   "execution_count": 46,
   "metadata": {},
   "outputs": [],
   "source": [
    "def revenue(row):\n",
    "    calls = row['calls_sum']\n",
    "    mb = row['mb_sum']\n",
    "    messages = row['messages_count']\n",
    "    tariff = row['tariff']\n",
    "    '''\n",
    "    Функция в зависимости от тарифа вычисляет потраченные сверх тарифа минуты, мегабайты и сообщения,\n",
    "    умножает их на стоимость в зависимости от тарифа, суммирует с ценой тарифа и возвращает итоговое число\n",
    "    '''\n",
    "    if tariff == 'smart':\n",
    "        extra_calls = calls - df_tariffs.loc[0, 'minutes_included']\n",
    "        extra_mb = mb - df_tariffs.loc[0, 'mb_per_month_included']\n",
    "        extra_messages = messages - df_tariffs.loc[0, 'messages_included']\n",
    "        \n",
    "        if extra_calls < 0:\n",
    "            extra_calls = 0 \n",
    "        if extra_mb < 0:\n",
    "            extra_mb = 0\n",
    "        if extra_messages < 0:\n",
    "            extra_messages = 0\n",
    "        \n",
    "        extra_gb = math.ceil(extra_mb/1024)\n",
    "        \n",
    "        sum_month = (extra_calls * df_tariffs.loc[0, 'rub_per_minute'] + extra_gb * df_tariffs.loc[0, 'rub_per_gb'] +\n",
    "        extra_messages * df_tariffs.loc[0, 'rub_per_message'] + df_tariffs.loc[0, 'rub_monthly_fee']\n",
    "                    )\n",
    "        \n",
    "        return sum_month\n",
    "    \n",
    "    else:\n",
    "        extra_calls = calls - df_tariffs.loc[1, 'minutes_included']\n",
    "        extra_mb = mb - df_tariffs.loc[1, 'mb_per_month_included']\n",
    "        extra_messages = messages - df_tariffs.loc[1, 'messages_included']\n",
    "        \n",
    "        if extra_calls < 0:\n",
    "            extra_calls = 0 \n",
    "        if extra_mb < 0:\n",
    "            extra_mb = 0\n",
    "        if extra_messages < 0:\n",
    "            extra_messages = 0\n",
    "        \n",
    "        extra_gb = math.ceil(extra_mb/1024)\n",
    "        \n",
    "        sum_month = (extra_calls * df_tariffs.loc[1, 'rub_per_minute'] + extra_gb * df_tariffs.loc[1, 'rub_per_gb'] +\n",
    "        extra_messages * df_tariffs.loc[1, 'rub_per_message'] + df_tariffs.loc[1, 'rub_monthly_fee']\n",
    "                    )\n",
    "        \n",
    "        return sum_month"
   ]
  },
  {
   "cell_type": "code",
   "execution_count": 47,
   "metadata": {},
   "outputs": [],
   "source": [
    "df_full['revenue'] = df_full.apply(revenue, axis=1)"
   ]
  },
  {
   "cell_type": "code",
   "execution_count": 48,
   "metadata": {},
   "outputs": [
    {
     "data": {
      "text/html": [
       "<div>\n",
       "<style scoped>\n",
       "    .dataframe tbody tr th:only-of-type {\n",
       "        vertical-align: middle;\n",
       "    }\n",
       "\n",
       "    .dataframe tbody tr th {\n",
       "        vertical-align: top;\n",
       "    }\n",
       "\n",
       "    .dataframe thead th {\n",
       "        text-align: right;\n",
       "    }\n",
       "</style>\n",
       "<table border=\"1\" class=\"dataframe\">\n",
       "  <thead>\n",
       "    <tr style=\"text-align: right;\">\n",
       "      <th></th>\n",
       "      <th></th>\n",
       "      <th>calls_sum</th>\n",
       "      <th>calls_count</th>\n",
       "      <th>mb_sum</th>\n",
       "      <th>messages_count</th>\n",
       "      <th>tariff</th>\n",
       "      <th>revenue</th>\n",
       "    </tr>\n",
       "    <tr>\n",
       "      <th>user_id</th>\n",
       "      <th>month</th>\n",
       "      <th></th>\n",
       "      <th></th>\n",
       "      <th></th>\n",
       "      <th></th>\n",
       "      <th></th>\n",
       "      <th></th>\n",
       "    </tr>\n",
       "  </thead>\n",
       "  <tbody>\n",
       "    <tr>\n",
       "      <td rowspan=\"8\" valign=\"top\">1000</td>\n",
       "      <td>5</td>\n",
       "      <td>151</td>\n",
       "      <td>22</td>\n",
       "      <td>2254</td>\n",
       "      <td>22</td>\n",
       "      <td>ultra</td>\n",
       "      <td>1950</td>\n",
       "    </tr>\n",
       "    <tr>\n",
       "      <td>6</td>\n",
       "      <td>159</td>\n",
       "      <td>43</td>\n",
       "      <td>23234</td>\n",
       "      <td>60</td>\n",
       "      <td>ultra</td>\n",
       "      <td>1950</td>\n",
       "    </tr>\n",
       "    <tr>\n",
       "      <td>7</td>\n",
       "      <td>319</td>\n",
       "      <td>47</td>\n",
       "      <td>14004</td>\n",
       "      <td>75</td>\n",
       "      <td>ultra</td>\n",
       "      <td>1950</td>\n",
       "    </tr>\n",
       "    <tr>\n",
       "      <td>8</td>\n",
       "      <td>390</td>\n",
       "      <td>52</td>\n",
       "      <td>14056</td>\n",
       "      <td>81</td>\n",
       "      <td>ultra</td>\n",
       "      <td>1950</td>\n",
       "    </tr>\n",
       "    <tr>\n",
       "      <td>9</td>\n",
       "      <td>441</td>\n",
       "      <td>58</td>\n",
       "      <td>14569</td>\n",
       "      <td>57</td>\n",
       "      <td>ultra</td>\n",
       "      <td>1950</td>\n",
       "    </tr>\n",
       "    <tr>\n",
       "      <td>10</td>\n",
       "      <td>329</td>\n",
       "      <td>57</td>\n",
       "      <td>14703</td>\n",
       "      <td>73</td>\n",
       "      <td>ultra</td>\n",
       "      <td>1950</td>\n",
       "    </tr>\n",
       "    <tr>\n",
       "      <td>11</td>\n",
       "      <td>320</td>\n",
       "      <td>43</td>\n",
       "      <td>14757</td>\n",
       "      <td>58</td>\n",
       "      <td>ultra</td>\n",
       "      <td>1950</td>\n",
       "    </tr>\n",
       "    <tr>\n",
       "      <td>12</td>\n",
       "      <td>313</td>\n",
       "      <td>46</td>\n",
       "      <td>9818</td>\n",
       "      <td>70</td>\n",
       "      <td>ultra</td>\n",
       "      <td>1950</td>\n",
       "    </tr>\n",
       "    <tr>\n",
       "      <td rowspan=\"2\" valign=\"top\">1001</td>\n",
       "      <td>11</td>\n",
       "      <td>409</td>\n",
       "      <td>59</td>\n",
       "      <td>18430</td>\n",
       "      <td>0</td>\n",
       "      <td>smart</td>\n",
       "      <td>1150</td>\n",
       "    </tr>\n",
       "    <tr>\n",
       "      <td>12</td>\n",
       "      <td>392</td>\n",
       "      <td>63</td>\n",
       "      <td>14037</td>\n",
       "      <td>0</td>\n",
       "      <td>smart</td>\n",
       "      <td>550</td>\n",
       "    </tr>\n",
       "    <tr>\n",
       "      <td rowspan=\"5\" valign=\"top\">1002</td>\n",
       "      <td>6</td>\n",
       "      <td>111</td>\n",
       "      <td>15</td>\n",
       "      <td>10857</td>\n",
       "      <td>4</td>\n",
       "      <td>smart</td>\n",
       "      <td>550</td>\n",
       "    </tr>\n",
       "    <tr>\n",
       "      <td>7</td>\n",
       "      <td>205</td>\n",
       "      <td>26</td>\n",
       "      <td>17581</td>\n",
       "      <td>11</td>\n",
       "      <td>smart</td>\n",
       "      <td>1150</td>\n",
       "    </tr>\n",
       "    <tr>\n",
       "      <td>8</td>\n",
       "      <td>270</td>\n",
       "      <td>42</td>\n",
       "      <td>20320</td>\n",
       "      <td>13</td>\n",
       "      <td>smart</td>\n",
       "      <td>1550</td>\n",
       "    </tr>\n",
       "    <tr>\n",
       "      <td>9</td>\n",
       "      <td>196</td>\n",
       "      <td>36</td>\n",
       "      <td>16692</td>\n",
       "      <td>4</td>\n",
       "      <td>smart</td>\n",
       "      <td>950</td>\n",
       "    </tr>\n",
       "    <tr>\n",
       "      <td>10</td>\n",
       "      <td>200</td>\n",
       "      <td>33</td>\n",
       "      <td>13889</td>\n",
       "      <td>10</td>\n",
       "      <td>smart</td>\n",
       "      <td>550</td>\n",
       "    </tr>\n",
       "  </tbody>\n",
       "</table>\n",
       "</div>"
      ],
      "text/plain": [
       "               calls_sum  calls_count  mb_sum  messages_count tariff  revenue\n",
       "user_id month                                                                \n",
       "1000    5            151           22    2254              22  ultra     1950\n",
       "        6            159           43   23234              60  ultra     1950\n",
       "        7            319           47   14004              75  ultra     1950\n",
       "        8            390           52   14056              81  ultra     1950\n",
       "        9            441           58   14569              57  ultra     1950\n",
       "        10           329           57   14703              73  ultra     1950\n",
       "        11           320           43   14757              58  ultra     1950\n",
       "        12           313           46    9818              70  ultra     1950\n",
       "1001    11           409           59   18430               0  smart     1150\n",
       "        12           392           63   14037               0  smart      550\n",
       "1002    6            111           15   10857               4  smart      550\n",
       "        7            205           26   17581              11  smart     1150\n",
       "        8            270           42   20320              13  smart     1550\n",
       "        9            196           36   16692               4  smart      950\n",
       "        10           200           33   13889              10  smart      550"
      ]
     },
     "execution_count": 48,
     "metadata": {},
     "output_type": "execute_result"
    }
   ],
   "source": [
    "df_full.head(15)"
   ]
  },
  {
   "cell_type": "markdown",
   "metadata": {},
   "source": [
    "### Вывод\n",
    "\n",
    "В ходе подготовки данных:\n",
    "* Были заменены типы данных.\n",
    "* Проанализированы и не выявлены возможные ошибки.\n",
    "* Был произведен расчет суммы платежа за каждый месяц для каждого пользователя и сформирована новая таблица."
   ]
  },
  {
   "cell_type": "markdown",
   "metadata": {},
   "source": [
    "## Анализ данных"
   ]
  },
  {
   "cell_type": "markdown",
   "metadata": {},
   "source": [
    "Напишем функцию для построения графиков:"
   ]
  },
  {
   "cell_type": "code",
   "execution_count": 49,
   "metadata": {},
   "outputs": [],
   "source": [
    "def serie_hist(serie, bins=0):\n",
    "    '''\n",
    "    Фунция получает столбец датафрейма, берет значения из метода .describe(),\n",
    "    левая граница графика - минимальное значение, правая - максимальное,\n",
    "    (рассчитывает по полученным значениям левую и правую границу графика),\n",
    "    рассчитывает количество bins, передает полученные значения .hist()\n",
    "    и строит график \n",
    "    '''\n",
    "    # Присваиваем имена параметрам из .describe()\n",
    "    serie_desc = serie.describe()\n",
    "    mean = serie_desc[1]\n",
    "    std = serie_desc[2]\n",
    "    min_desc = serie_desc[3]\n",
    "    q25 = serie_desc[4]\n",
    "    median = serie_desc[5]\n",
    "    q75 = serie_desc[6]\n",
    "    max_desc = serie_desc[7]\n",
    "        \n",
    "    # Рассчитываем левую и правую границу с учетом перцентилей \n",
    "    # и проверяем, не выходяит ли границы за минимальное и максимальное значения\n",
    "    left = min_desc\n",
    "    right = max_desc\n",
    "    \n",
    "    #left = q25 - (q75-q25)*1.5\n",
    "    #right = q75 + (q75-q25)*1.5\n",
    "    #if left < min_desc:\n",
    "        #left = min_desc\n",
    "    #if right > max_desc:\n",
    "        #right = max_desc\n",
    "     \n",
    "    # Рассчитываем параметр bins, заменяем в том случае, если параметр не был задан\n",
    "    # или он получился слишком большим\n",
    "    if bins == 0:\n",
    "        bins = right - left\n",
    "        if bins > 100:\n",
    "            bins = 100\n",
    "        elif bins < 1:\n",
    "            bins = abs(bins*10)\n",
    "        bins = int(bins)\n",
    "    else:\n",
    "        bins = bins\n",
    "    \n",
    "    # Строим график\n",
    "    serie.hist(bins=bins, range=(left, right))\n",
    "    \n",
    "    variance_serie = np.var(serie, ddof=1)\n",
    "    standart = np.std(serie, ddof=1)\n",
    "    print(serie_desc)\n",
    "    print(f'Среднее значение: {round(mean,2)}')\n",
    "    print(f'Дисперсия: {round(variance_serie,2)}')\n",
    "    print(f'Стандартное отклонение: {round(standart,2)}')\n",
    "    return (mean, variance_serie, standart)"
   ]
  },
  {
   "cell_type": "markdown",
   "metadata": {},
   "source": [
    "Разделим таблицы в зависимости от тарифа:"
   ]
  },
  {
   "cell_type": "code",
   "execution_count": 50,
   "metadata": {},
   "outputs": [
    {
     "name": "stdout",
     "output_type": "stream",
     "text": [
      "<class 'pandas.core.frame.DataFrame'>\n",
      "MultiIndex: 2229 entries, (1001, 11) to (1489, 12)\n",
      "Data columns (total 5 columns):\n",
      "calls_sum         2229 non-null int64\n",
      "calls_count       2229 non-null int64\n",
      "mb_sum            2229 non-null int64\n",
      "messages_count    2229 non-null int64\n",
      "revenue           2229 non-null int64\n",
      "dtypes: int64(5)\n",
      "memory usage: 97.7 KB\n"
     ]
    }
   ],
   "source": [
    "df_smart = (df_full[df_full['tariff'] == 'smart']\n",
    "                           .loc[:,['calls_sum', 'calls_count', 'mb_sum', 'messages_count', 'revenue']])\n",
    "df_smart.info()"
   ]
  },
  {
   "cell_type": "code",
   "execution_count": 51,
   "metadata": {},
   "outputs": [
    {
     "data": {
      "text/html": [
       "<div>\n",
       "<style scoped>\n",
       "    .dataframe tbody tr th:only-of-type {\n",
       "        vertical-align: middle;\n",
       "    }\n",
       "\n",
       "    .dataframe tbody tr th {\n",
       "        vertical-align: top;\n",
       "    }\n",
       "\n",
       "    .dataframe thead th {\n",
       "        text-align: right;\n",
       "    }\n",
       "</style>\n",
       "<table border=\"1\" class=\"dataframe\">\n",
       "  <thead>\n",
       "    <tr style=\"text-align: right;\">\n",
       "      <th></th>\n",
       "      <th></th>\n",
       "      <th>calls_sum</th>\n",
       "      <th>calls_count</th>\n",
       "      <th>mb_sum</th>\n",
       "      <th>messages_count</th>\n",
       "      <th>revenue</th>\n",
       "    </tr>\n",
       "    <tr>\n",
       "      <th>user_id</th>\n",
       "      <th>month</th>\n",
       "      <th></th>\n",
       "      <th></th>\n",
       "      <th></th>\n",
       "      <th></th>\n",
       "      <th></th>\n",
       "    </tr>\n",
       "  </thead>\n",
       "  <tbody>\n",
       "    <tr>\n",
       "      <td rowspan=\"2\" valign=\"top\">1001</td>\n",
       "      <td>11</td>\n",
       "      <td>409</td>\n",
       "      <td>59</td>\n",
       "      <td>18430</td>\n",
       "      <td>0</td>\n",
       "      <td>1150</td>\n",
       "    </tr>\n",
       "    <tr>\n",
       "      <td>12</td>\n",
       "      <td>392</td>\n",
       "      <td>63</td>\n",
       "      <td>14037</td>\n",
       "      <td>0</td>\n",
       "      <td>550</td>\n",
       "    </tr>\n",
       "    <tr>\n",
       "      <td rowspan=\"7\" valign=\"top\">1002</td>\n",
       "      <td>6</td>\n",
       "      <td>111</td>\n",
       "      <td>15</td>\n",
       "      <td>10857</td>\n",
       "      <td>4</td>\n",
       "      <td>550</td>\n",
       "    </tr>\n",
       "    <tr>\n",
       "      <td>7</td>\n",
       "      <td>205</td>\n",
       "      <td>26</td>\n",
       "      <td>17581</td>\n",
       "      <td>11</td>\n",
       "      <td>1150</td>\n",
       "    </tr>\n",
       "    <tr>\n",
       "      <td>8</td>\n",
       "      <td>270</td>\n",
       "      <td>42</td>\n",
       "      <td>20320</td>\n",
       "      <td>13</td>\n",
       "      <td>1550</td>\n",
       "    </tr>\n",
       "    <tr>\n",
       "      <td>9</td>\n",
       "      <td>196</td>\n",
       "      <td>36</td>\n",
       "      <td>16692</td>\n",
       "      <td>4</td>\n",
       "      <td>950</td>\n",
       "    </tr>\n",
       "    <tr>\n",
       "      <td>10</td>\n",
       "      <td>200</td>\n",
       "      <td>33</td>\n",
       "      <td>13889</td>\n",
       "      <td>10</td>\n",
       "      <td>550</td>\n",
       "    </tr>\n",
       "    <tr>\n",
       "      <td>11</td>\n",
       "      <td>229</td>\n",
       "      <td>32</td>\n",
       "      <td>18588</td>\n",
       "      <td>16</td>\n",
       "      <td>1350</td>\n",
       "    </tr>\n",
       "    <tr>\n",
       "      <td>12</td>\n",
       "      <td>223</td>\n",
       "      <td>33</td>\n",
       "      <td>18114</td>\n",
       "      <td>12</td>\n",
       "      <td>1150</td>\n",
       "    </tr>\n",
       "    <tr>\n",
       "      <td rowspan=\"6\" valign=\"top\">1005</td>\n",
       "      <td>1</td>\n",
       "      <td>91</td>\n",
       "      <td>15</td>\n",
       "      <td>2728</td>\n",
       "      <td>7</td>\n",
       "      <td>550</td>\n",
       "    </tr>\n",
       "    <tr>\n",
       "      <td>2</td>\n",
       "      <td>427</td>\n",
       "      <td>69</td>\n",
       "      <td>7384</td>\n",
       "      <td>38</td>\n",
       "      <td>550</td>\n",
       "    </tr>\n",
       "    <tr>\n",
       "      <td>3</td>\n",
       "      <td>574</td>\n",
       "      <td>77</td>\n",
       "      <td>11105</td>\n",
       "      <td>56</td>\n",
       "      <td>790</td>\n",
       "    </tr>\n",
       "    <tr>\n",
       "      <td>4</td>\n",
       "      <td>671</td>\n",
       "      <td>101</td>\n",
       "      <td>9352</td>\n",
       "      <td>41</td>\n",
       "      <td>1063</td>\n",
       "    </tr>\n",
       "    <tr>\n",
       "      <td>5</td>\n",
       "      <td>566</td>\n",
       "      <td>73</td>\n",
       "      <td>7866</td>\n",
       "      <td>42</td>\n",
       "      <td>748</td>\n",
       "    </tr>\n",
       "    <tr>\n",
       "      <td>6</td>\n",
       "      <td>578</td>\n",
       "      <td>80</td>\n",
       "      <td>9864</td>\n",
       "      <td>47</td>\n",
       "      <td>784</td>\n",
       "    </tr>\n",
       "  </tbody>\n",
       "</table>\n",
       "</div>"
      ],
      "text/plain": [
       "               calls_sum  calls_count  mb_sum  messages_count  revenue\n",
       "user_id month                                                         \n",
       "1001    11           409           59   18430               0     1150\n",
       "        12           392           63   14037               0      550\n",
       "1002    6            111           15   10857               4      550\n",
       "        7            205           26   17581              11     1150\n",
       "        8            270           42   20320              13     1550\n",
       "        9            196           36   16692               4      950\n",
       "        10           200           33   13889              10      550\n",
       "        11           229           32   18588              16     1350\n",
       "        12           223           33   18114              12     1150\n",
       "1005    1             91           15    2728               7      550\n",
       "        2            427           69    7384              38      550\n",
       "        3            574           77   11105              56      790\n",
       "        4            671          101    9352              41     1063\n",
       "        5            566           73    7866              42      748\n",
       "        6            578           80    9864              47      784"
      ]
     },
     "execution_count": 51,
     "metadata": {},
     "output_type": "execute_result"
    }
   ],
   "source": [
    "df_smart.head(15)"
   ]
  },
  {
   "cell_type": "code",
   "execution_count": 52,
   "metadata": {},
   "outputs": [
    {
     "name": "stdout",
     "output_type": "stream",
     "text": [
      "<class 'pandas.core.frame.DataFrame'>\n",
      "MultiIndex: 985 entries, (1000, 5) to (1476, 4)\n",
      "Data columns (total 5 columns):\n",
      "calls_sum         985 non-null int64\n",
      "calls_count       985 non-null int64\n",
      "mb_sum            985 non-null int64\n",
      "messages_count    985 non-null int64\n",
      "revenue           985 non-null int64\n",
      "dtypes: int64(5)\n",
      "memory usage: 45.5 KB\n"
     ]
    },
    {
     "data": {
      "text/html": [
       "<div>\n",
       "<style scoped>\n",
       "    .dataframe tbody tr th:only-of-type {\n",
       "        vertical-align: middle;\n",
       "    }\n",
       "\n",
       "    .dataframe tbody tr th {\n",
       "        vertical-align: top;\n",
       "    }\n",
       "\n",
       "    .dataframe thead th {\n",
       "        text-align: right;\n",
       "    }\n",
       "</style>\n",
       "<table border=\"1\" class=\"dataframe\">\n",
       "  <thead>\n",
       "    <tr style=\"text-align: right;\">\n",
       "      <th></th>\n",
       "      <th></th>\n",
       "      <th>calls_sum</th>\n",
       "      <th>calls_count</th>\n",
       "      <th>mb_sum</th>\n",
       "      <th>messages_count</th>\n",
       "      <th>revenue</th>\n",
       "    </tr>\n",
       "    <tr>\n",
       "      <th>user_id</th>\n",
       "      <th>month</th>\n",
       "      <th></th>\n",
       "      <th></th>\n",
       "      <th></th>\n",
       "      <th></th>\n",
       "      <th></th>\n",
       "    </tr>\n",
       "  </thead>\n",
       "  <tbody>\n",
       "    <tr>\n",
       "      <td rowspan=\"8\" valign=\"top\">1000</td>\n",
       "      <td>5</td>\n",
       "      <td>151</td>\n",
       "      <td>22</td>\n",
       "      <td>2254</td>\n",
       "      <td>22</td>\n",
       "      <td>1950</td>\n",
       "    </tr>\n",
       "    <tr>\n",
       "      <td>6</td>\n",
       "      <td>159</td>\n",
       "      <td>43</td>\n",
       "      <td>23234</td>\n",
       "      <td>60</td>\n",
       "      <td>1950</td>\n",
       "    </tr>\n",
       "    <tr>\n",
       "      <td>7</td>\n",
       "      <td>319</td>\n",
       "      <td>47</td>\n",
       "      <td>14004</td>\n",
       "      <td>75</td>\n",
       "      <td>1950</td>\n",
       "    </tr>\n",
       "    <tr>\n",
       "      <td>8</td>\n",
       "      <td>390</td>\n",
       "      <td>52</td>\n",
       "      <td>14056</td>\n",
       "      <td>81</td>\n",
       "      <td>1950</td>\n",
       "    </tr>\n",
       "    <tr>\n",
       "      <td>9</td>\n",
       "      <td>441</td>\n",
       "      <td>58</td>\n",
       "      <td>14569</td>\n",
       "      <td>57</td>\n",
       "      <td>1950</td>\n",
       "    </tr>\n",
       "    <tr>\n",
       "      <td>10</td>\n",
       "      <td>329</td>\n",
       "      <td>57</td>\n",
       "      <td>14703</td>\n",
       "      <td>73</td>\n",
       "      <td>1950</td>\n",
       "    </tr>\n",
       "    <tr>\n",
       "      <td>11</td>\n",
       "      <td>320</td>\n",
       "      <td>43</td>\n",
       "      <td>14757</td>\n",
       "      <td>58</td>\n",
       "      <td>1950</td>\n",
       "    </tr>\n",
       "    <tr>\n",
       "      <td>12</td>\n",
       "      <td>313</td>\n",
       "      <td>46</td>\n",
       "      <td>9818</td>\n",
       "      <td>70</td>\n",
       "      <td>1950</td>\n",
       "    </tr>\n",
       "    <tr>\n",
       "      <td rowspan=\"5\" valign=\"top\">1003</td>\n",
       "      <td>8</td>\n",
       "      <td>356</td>\n",
       "      <td>55</td>\n",
       "      <td>8566</td>\n",
       "      <td>37</td>\n",
       "      <td>1950</td>\n",
       "    </tr>\n",
       "    <tr>\n",
       "      <td>9</td>\n",
       "      <td>905</td>\n",
       "      <td>134</td>\n",
       "      <td>12469</td>\n",
       "      <td>91</td>\n",
       "      <td>1950</td>\n",
       "    </tr>\n",
       "    <tr>\n",
       "      <td>10</td>\n",
       "      <td>810</td>\n",
       "      <td>108</td>\n",
       "      <td>14769</td>\n",
       "      <td>83</td>\n",
       "      <td>1950</td>\n",
       "    </tr>\n",
       "    <tr>\n",
       "      <td>11</td>\n",
       "      <td>776</td>\n",
       "      <td>115</td>\n",
       "      <td>11357</td>\n",
       "      <td>94</td>\n",
       "      <td>1950</td>\n",
       "    </tr>\n",
       "    <tr>\n",
       "      <td>12</td>\n",
       "      <td>756</td>\n",
       "      <td>108</td>\n",
       "      <td>10122</td>\n",
       "      <td>75</td>\n",
       "      <td>1950</td>\n",
       "    </tr>\n",
       "    <tr>\n",
       "      <td rowspan=\"2\" valign=\"top\">1004</td>\n",
       "      <td>5</td>\n",
       "      <td>33</td>\n",
       "      <td>9</td>\n",
       "      <td>13404</td>\n",
       "      <td>95</td>\n",
       "      <td>1950</td>\n",
       "    </tr>\n",
       "    <tr>\n",
       "      <td>6</td>\n",
       "      <td>160</td>\n",
       "      <td>31</td>\n",
       "      <td>17601</td>\n",
       "      <td>134</td>\n",
       "      <td>1950</td>\n",
       "    </tr>\n",
       "  </tbody>\n",
       "</table>\n",
       "</div>"
      ],
      "text/plain": [
       "               calls_sum  calls_count  mb_sum  messages_count  revenue\n",
       "user_id month                                                         \n",
       "1000    5            151           22    2254              22     1950\n",
       "        6            159           43   23234              60     1950\n",
       "        7            319           47   14004              75     1950\n",
       "        8            390           52   14056              81     1950\n",
       "        9            441           58   14569              57     1950\n",
       "        10           329           57   14703              73     1950\n",
       "        11           320           43   14757              58     1950\n",
       "        12           313           46    9818              70     1950\n",
       "1003    8            356           55    8566              37     1950\n",
       "        9            905          134   12469              91     1950\n",
       "        10           810          108   14769              83     1950\n",
       "        11           776          115   11357              94     1950\n",
       "        12           756          108   10122              75     1950\n",
       "1004    5             33            9   13404              95     1950\n",
       "        6            160           31   17601             134     1950"
      ]
     },
     "execution_count": 52,
     "metadata": {},
     "output_type": "execute_result"
    }
   ],
   "source": [
    "df_ultra = (df_full[df_full['tariff'] == 'ultra']\n",
    "                           .loc[:,['calls_sum', 'calls_count', 'mb_sum', 'messages_count', 'revenue']])\n",
    "df_ultra.info()\n",
    "df_ultra.head(15)"
   ]
  },
  {
   "cell_type": "markdown",
   "metadata": {},
   "source": [
    "Построим boxplot по выручке по обоим тарифам:"
   ]
  },
  {
   "cell_type": "code",
   "execution_count": 53,
   "metadata": {},
   "outputs": [
    {
     "data": {
      "text/plain": [
       "Text(0.5, 1.0, 'Диаграмма размаха выручки на пользователя в зависимости от тарифа')"
      ]
     },
     "execution_count": 53,
     "metadata": {},
     "output_type": "execute_result"
    },
    {
     "data": {
      "image/png": "[encoded data removed]",
      "text/plain": [
       "<Figure size 576x576 with 1 Axes>"
      ]
     },
     "metadata": {
      "needs_background": "light"
     },
     "output_type": "display_data"
    }
   ],
   "source": [
    "df_full.boxplot(\n",
    "    column='revenue',\n",
    "    by='tariff',\n",
    "    fontsize='large',\n",
    "    grid=True,\n",
    "    figsize=(8,8))\n",
    "plt.title('Диаграмма размаха выручки на пользователя в зависимости от тарифа')"
   ]
  },
  {
   "cell_type": "markdown",
   "metadata": {},
   "source": [
    "При цене тарифа \"smart\" в 550 рублей медиана составляет больше 1000! Видимо, все же не очень выгодный тариф, не хватает клиентам предоставленного пакета."
   ]
  },
  {
   "cell_type": "markdown",
   "metadata": {},
   "source": [
    "Теперь построим графики для каждого тарифа для минут, сообщений интернета:"
   ]
  },
  {
   "cell_type": "markdown",
   "metadata": {},
   "source": [
    "### Тариф \"Smart\""
   ]
  },
  {
   "cell_type": "code",
   "execution_count": 54,
   "metadata": {},
   "outputs": [
    {
     "name": "stdout",
     "output_type": "stream",
     "text": [
      "count    2229.000000\n",
      "mean      394.922387\n",
      "std       179.980292\n",
      "min         0.000000\n",
      "25%       268.000000\n",
      "50%       398.000000\n",
      "75%       516.000000\n",
      "max      1355.000000\n",
      "Name: calls_sum, dtype: float64\n",
      "Среднее значение: 394.92\n",
      "Дисперсия: 32392.91\n",
      "Стандартное отклонение: 179.98\n"
     ]
    },
    {
     "data": {
      "text/plain": [
       "Text(0.5, 1.0, 'Гистограмма использования минут на тарифе Smart')"
      ]
     },
     "execution_count": 54,
     "metadata": {},
     "output_type": "execute_result"
    },
    {
     "data": {
      "image/png": "[encoded data removed]",
      "text/plain": [
       "<Figure size 720x504 with 1 Axes>"
      ]
     },
     "metadata": {
      "needs_background": "light"
     },
     "output_type": "display_data"
    }
   ],
   "source": [
    "# Тариф \"smart\", сумма минут за месяц\n",
    "plt.figure(figsize=(10,7))\n",
    "serie_hist(df_smart['calls_sum'])\n",
    "plt.title('Гистограмма использования минут на тарифе Smart')"
   ]
  },
  {
   "cell_type": "markdown",
   "metadata": {},
   "source": [
    "Пользователи тарифа \"smart\" тратят на звонки в месяц от 300 до 600 минут (в тарифе 500 минут), среднее значение (395 минут) чуть меньше медианы (398) минуты, а также около 25% тратят больше минут, чем есть в пакете.\n",
    "\n",
    "Данные распределены нормально, есть небольшой скос данных влево, что видно по среднему и медиане (т. к. медиана больше среднего)."
   ]
  },
  {
   "cell_type": "code",
   "execution_count": 57,
   "metadata": {},
   "outputs": [
    {
     "name": "stdout",
     "output_type": "stream",
     "text": [
      "count    2229.000000\n",
      "mean       33.384029\n",
      "std        28.227876\n",
      "min         0.000000\n",
      "25%        10.000000\n",
      "50%        28.000000\n",
      "75%        51.000000\n",
      "max       143.000000\n",
      "Name: messages_count, dtype: float64\n",
      "Среднее значение: 33.38\n",
      "Дисперсия: 796.81\n",
      "Стандартное отклонение: 28.23\n"
     ]
    },
    {
     "data": {
      "text/plain": [
       "Text(0.5, 1.0, 'Гистограмма использования смс-сообщений на тарифе Smart')"
      ]
     },
     "execution_count": 57,
     "metadata": {},
     "output_type": "execute_result"
    },
    {
     "data": {
      "image/png": "[encoded data removed]",
      "text/plain": [
       "<Figure size 720x504 with 1 Axes>"
      ]
     },
     "metadata": {
      "needs_background": "light"
     },
     "output_type": "display_data"
    }
   ],
   "source": [
    "# Тариф \"smart\", сумма сообщений за месяц\n",
    "plt.figure(figsize=(10,7))\n",
    "serie_hist(df_smart['messages_count'])\n",
    "plt.title('Гистограмма использования смс-сообщений на тарифе Smart')"
   ]
  },
  {
   "cell_type": "code",
   "execution_count": 58,
   "metadata": {},
   "outputs": [
    {
     "name": "stdout",
     "output_type": "stream",
     "text": [
      "count    1922.000000\n",
      "mean       38.716441\n",
      "std        26.787949\n",
      "min         1.000000\n",
      "25%        17.000000\n",
      "50%        34.000000\n",
      "75%        55.000000\n",
      "max       143.000000\n",
      "Name: messages_count, dtype: float64\n",
      "Среднее значение: 38.72\n",
      "Дисперсия: 717.59\n",
      "Стандартное отклонение: 26.79\n"
     ]
    },
    {
     "data": {
      "text/plain": [
       "Text(0.5, 1.0, 'Гистограмма использования сообщений на тарифе Smart')"
      ]
     },
     "execution_count": 58,
     "metadata": {},
     "output_type": "execute_result"
    },
    {
     "data": {
      "image/png": "[encoded data removed]",
      "text/plain": [
       "<Figure size 720x504 with 1 Axes>"
      ]
     },
     "metadata": {
      "needs_background": "light"
     },
     "output_type": "display_data"
    }
   ],
   "source": [
    "# Тариф \"smart\", сумма сообщений за месяц без учета нулевых значений\n",
    "plt.figure(figsize=(10,7)) \n",
    "serie_hist(df_smart.query('messages_count > 0')['messages_count'])\n",
    "plt.title('Гистограмма использования сообщений на тарифе Smart')"
   ]
  },
  {
   "cell_type": "markdown",
   "metadata": {},
   "source": [
    "Нулевые значения уменьшили среднее значение с 39 до 33 сообщений в месяц, а медиану с 34 до 28 сообщений.\n",
    "Также около 30% пользователей не хватает 50 сообщений в месяц согласно тарифу.\n",
    "\n",
    "Данные распределены нормально с явно выраженным скосом вправо (медиана меньше среднего)."
   ]
  },
  {
   "cell_type": "code",
   "execution_count": 59,
   "metadata": {},
   "outputs": [
    {
     "name": "stdout",
     "output_type": "stream",
     "text": [
      "count     2229.000000\n",
      "mean     16208.873486\n",
      "std       5870.482332\n",
      "min          0.000000\n",
      "25%      12644.000000\n",
      "50%      16507.000000\n",
      "75%      20043.000000\n",
      "max      38553.000000\n",
      "Name: mb_sum, dtype: float64\n",
      "Среднее значение: 16208.87\n",
      "Дисперсия: 34462562.81\n",
      "Стандартное отклонение: 5870.48\n"
     ]
    },
    {
     "data": {
      "text/plain": [
       "Text(0.5, 1.0, 'Гистограмма использования интернета на тарифе Smart')"
      ]
     },
     "execution_count": 59,
     "metadata": {},
     "output_type": "execute_result"
    },
    {
     "data": {
      "image/png": "[encoded data removed]",
      "text/plain": [
       "<Figure size 720x504 with 1 Axes>"
      ]
     },
     "metadata": {
      "needs_background": "light"
     },
     "output_type": "display_data"
    }
   ],
   "source": [
    "# Тариф \"smart\", сумма мегабайт за месяц\n",
    "plt.figure(figsize=(10,7))\n",
    "serie_hist(df_smart['mb_sum'])\n",
    "plt.title('Гистограмма использования интернета на тарифе Smart')"
   ]
  },
  {
   "cell_type": "markdown",
   "metadata": {},
   "source": [
    "В основном трятят в месяц от 12000 до 22000 Мб.\n",
    "В тарифе всего 15 Гб (15360 Мб), медианное и среднее значение выше этого показателя (16209 и 16507 соответственно), что значит, что Интернета больше не хватает, чем хватает.\n",
    "\n",
    "Данные распределены нормально без выраженных скосов."
   ]
  },
  {
   "cell_type": "code",
   "execution_count": 60,
   "metadata": {},
   "outputs": [
    {
     "name": "stdout",
     "output_type": "stream",
     "text": [
      "count    2229.000000\n",
      "mean     1257.588605\n",
      "std       800.915599\n",
      "min       550.000000\n",
      "25%       550.000000\n",
      "50%       962.000000\n",
      "75%      1733.000000\n",
      "max      6614.000000\n",
      "Name: revenue, dtype: float64\n",
      "Среднее значение: 1257.59\n",
      "Дисперсия: 641465.8\n",
      "Стандартное отклонение: 800.92\n"
     ]
    },
    {
     "data": {
      "text/plain": [
       "Text(0.5, 1.0, 'Гистограмма дохода на пользователя по тарифу Smart')"
      ]
     },
     "execution_count": 60,
     "metadata": {},
     "output_type": "execute_result"
    },
    {
     "data": {
      "image/png": "[encoded data removed]",
      "text/plain": [
       "<Figure size 720x504 with 1 Axes>"
      ]
     },
     "metadata": {
      "needs_background": "light"
     },
     "output_type": "display_data"
    }
   ],
   "source": [
    "# Тариф \"smart\", стоимость услуг связи за месяц\n",
    "plt.figure(figsize=(10,7))\n",
    "serie_hist(df_smart['revenue'])\n",
    "plt.title('Гистограмма дохода на пользователя по тарифу Smart')"
   ]
  },
  {
   "cell_type": "code",
   "execution_count": 61,
   "metadata": {},
   "outputs": [
    {
     "name": "stdout",
     "output_type": "stream",
     "text": [
      "count    1630.000000\n",
      "mean     1517.616564\n",
      "std       790.934593\n",
      "min       553.000000\n",
      "25%       950.000000\n",
      "50%      1350.000000\n",
      "75%      1950.000000\n",
      "max      6614.000000\n",
      "Name: revenue, dtype: float64\n",
      "Среднее значение: 1517.62\n",
      "Дисперсия: 625577.53\n",
      "Стандартное отклонение: 790.93\n"
     ]
    },
    {
     "data": {
      "text/plain": [
       "Text(0.5, 1.0, 'Гистограмма дохода на пользователя по тарифу Smart')"
      ]
     },
     "execution_count": 61,
     "metadata": {},
     "output_type": "execute_result"
    },
    {
     "data": {
      "image/png": "[encoded data removed]",
      "text/plain": [
       "<Figure size 720x504 with 1 Axes>"
      ]
     },
     "metadata": {
      "needs_background": "light"
     },
     "output_type": "display_data"
    }
   ],
   "source": [
    "# Тариф \"smart\", стоимость услуг связи за месяц при нехватке пакета\n",
    "plt.figure(figsize=(10,7))\n",
    "serie_hist(df_smart.query('revenue > 550')['revenue'], bins=45)\n",
    "plt.title('Гистограмма дохода на пользователя по тарифу Smart')"
   ]
  },
  {
   "cell_type": "markdown",
   "metadata": {},
   "source": [
    "Среднее значение 1517 рублей, что почти в три раза превосходит стоимость тарифа.\n",
    "\n",
    "Данные распределены нормально, есть скос вправо, т.к. медиана меньше среднего."
   ]
  },
  {
   "cell_type": "markdown",
   "metadata": {},
   "source": [
    "### Тариф \"Ultra\""
   ]
  },
  {
   "cell_type": "code",
   "execution_count": 62,
   "metadata": {},
   "outputs": [
    {
     "name": "stdout",
     "output_type": "stream",
     "text": [
      "count     985.000000\n",
      "mean      497.547208\n",
      "std       299.929524\n",
      "min         0.000000\n",
      "25%       268.000000\n",
      "50%       489.000000\n",
      "75%       712.000000\n",
      "max      1579.000000\n",
      "Name: calls_sum, dtype: float64\n",
      "Среднее значение: 497.55\n",
      "Дисперсия: 89957.72\n",
      "Стандартное отклонение: 299.93\n"
     ]
    },
    {
     "data": {
      "text/plain": [
       "Text(0.5, 1.0, 'Гистограмма использования минут на тарифе Ultra')"
      ]
     },
     "execution_count": 62,
     "metadata": {},
     "output_type": "execute_result"
    },
    {
     "data": {
      "image/png": "[encoded data removed]",
      "text/plain": [
       "<Figure size 720x504 with 1 Axes>"
      ]
     },
     "metadata": {
      "needs_background": "light"
     },
     "output_type": "display_data"
    }
   ],
   "source": [
    "# Тариф \"ultra\", сумма минут за месяц\n",
    "plt.figure(figsize=(10,7))\n",
    "serie_hist(df_ultra['calls_sum'])\n",
    "plt.title('Гистограмма использования минут на тарифе Ultra')"
   ]
  },
  {
   "cell_type": "code",
   "execution_count": 58,
   "metadata": {},
   "outputs": [
    {
     "name": "stdout",
     "output_type": "stream",
     "text": [
      "count     947.000000\n",
      "mean      547.755016\n",
      "std       305.513385\n",
      "min         1.000000\n",
      "25%       311.000000\n",
      "50%       529.000000\n",
      "75%       758.000000\n",
      "max      1673.000000\n",
      "Name: calls_sum, dtype: float64\n",
      "Среднее значение: 547.76\n",
      "Дисперсия: 93338.43\n",
      "Стандартное отклонение: 305.51\n"
     ]
    },
    {
     "data": {
      "text/plain": [
       "Text(0.5, 1.0, 'Гистограмма использования минут на тарифе Ultra')"
      ]
     },
     "execution_count": 58,
     "metadata": {},
     "output_type": "execute_result"
    },
    {
     "data": {
      "image/png": "[encoded data removed]",
      "text/plain": [
       "<Figure size 720x504 with 1 Axes>"
      ]
     },
     "metadata": {
      "needs_background": "light"
     },
     "output_type": "display_data"
    }
   ],
   "source": [
    "# Тариф \"ultra\", сумма минут за месяц без учета нулевых значений\n",
    "plt.figure(figsize=(10,7))\n",
    "serie_hist(df_ultra.query('calls_sum > 0')['calls_sum'])\n",
    "plt.title('Гистограмма использования минут на тарифе Ultra')"
   ]
  },
  {
   "cell_type": "markdown",
   "metadata": {},
   "source": [
    "Пользователи тарифа \"ultra\" тратят на звонки в месяц от 250 до 900 минут (в тарифе 3000 минут), среднее значение (547 минут) чуть больше медианы (529) минут, многим клиентам не нужно 3000 минут, 75% хватает 800 минут.\n",
    "\n",
    "Нормальное распределение данных имеет положительную скошенность (медиана меньше среднего)."
   ]
  },
  {
   "cell_type": "code",
   "execution_count": 63,
   "metadata": {},
   "outputs": [
    {
     "name": "stdout",
     "output_type": "stream",
     "text": [
      "count    985.000000\n",
      "mean      49.363452\n",
      "std       47.804457\n",
      "min        0.000000\n",
      "25%        6.000000\n",
      "50%       38.000000\n",
      "75%       79.000000\n",
      "max      224.000000\n",
      "Name: messages_count, dtype: float64\n",
      "Среднее значение: 49.36\n",
      "Дисперсия: 2285.27\n",
      "Стандартное отклонение: 47.8\n"
     ]
    },
    {
     "data": {
      "text/plain": [
       "Text(0.5, 1.0, 'Гистограмма использования сообщений на тарифе Ultra')"
      ]
     },
     "execution_count": 63,
     "metadata": {},
     "output_type": "execute_result"
    },
    {
     "data": {
      "image/png": "[encoded data removed]",
      "text/plain": [
       "<Figure size 720x504 with 1 Axes>"
      ]
     },
     "metadata": {
      "needs_background": "light"
     },
     "output_type": "display_data"
    }
   ],
   "source": [
    "# Тариф \"ultra\", сумма сообщений за месяц\n",
    "plt.figure(figsize=(10,7))\n",
    "serie_hist(df_ultra['messages_count'])\n",
    "plt.title('Гистограмма использования сообщений на тарифе Ultra')"
   ]
  },
  {
   "cell_type": "code",
   "execution_count": 64,
   "metadata": {},
   "outputs": [
    {
     "name": "stdout",
     "output_type": "stream",
     "text": [
      "count    795.000000\n",
      "mean      61.161006\n",
      "std       45.931026\n",
      "min        1.000000\n",
      "25%       24.000000\n",
      "50%       51.000000\n",
      "75%       87.500000\n",
      "max      224.000000\n",
      "Name: messages_count, dtype: float64\n",
      "Среднее значение: 61.16\n",
      "Дисперсия: 2109.66\n",
      "Стандартное отклонение: 45.93\n"
     ]
    },
    {
     "data": {
      "text/plain": [
       "Text(0.5, 1.0, 'Гистограмма использования сообщений на тарифе Ultra')"
      ]
     },
     "execution_count": 64,
     "metadata": {},
     "output_type": "execute_result"
    },
    {
     "data": {
      "image/png": "[encoded data removed]",
      "text/plain": [
       "<Figure size 720x504 with 1 Axes>"
      ]
     },
     "metadata": {
      "needs_background": "light"
     },
     "output_type": "display_data"
    }
   ],
   "source": [
    "# Тариф \"ultra\", сумма сообщений за месяц без учета нулевых значений\n",
    "plt.figure(figsize=(10,7))\n",
    "serie_hist(df_ultra.query('messages_count > 0')['messages_count'], bins = 60)\n",
    "plt.title('Гистограмма использования сообщений на тарифе Ultra')"
   ]
  },
  {
   "cell_type": "markdown",
   "metadata": {},
   "source": [
    "Нулевые значения уменьшили среднее значение с 61 до 49 сообщений в месяц, а медиану с 51 до 38 сообщений. \n",
    "Никто не тратит всю 1000 сообщений, 75% хватит 100 сообщений в месяц.\n",
    "\n",
    "Данные распределены нормально и имеет положительную скошенность (медиана меньше среднего)."
   ]
  },
  {
   "cell_type": "code",
   "execution_count": 65,
   "metadata": {},
   "outputs": [
    {
     "name": "stdout",
     "output_type": "stream",
     "text": [
      "count      985.000000\n",
      "mean     19469.308629\n",
      "std      10087.197726\n",
      "min          0.000000\n",
      "25%      11771.000000\n",
      "50%      19309.000000\n",
      "75%      26838.000000\n",
      "max      49746.000000\n",
      "Name: mb_sum, dtype: float64\n",
      "Среднее значение: 19469.31\n",
      "Дисперсия: 101751557.97\n",
      "Стандартное отклонение: 10087.2\n"
     ]
    },
    {
     "data": {
      "text/plain": [
       "Text(0.5, 1.0, 'Гистограмма использования интернета на тарифе Ultra')"
      ]
     },
     "execution_count": 65,
     "metadata": {},
     "output_type": "execute_result"
    },
    {
     "data": {
      "image/png": "[encoded data removed]",
      "text/plain": [
       "<Figure size 720x504 with 1 Axes>"
      ]
     },
     "metadata": {
      "needs_background": "light"
     },
     "output_type": "display_data"
    }
   ],
   "source": [
    "# Тариф \"ultra\", сумма мегабайт за месяц\n",
    "plt.figure(figsize=(10,7))\n",
    "serie_hist(df_ultra['mb_sum'])\n",
    "plt.title('Гистограмма использования интернета на тарифе Ultra')"
   ]
  },
  {
   "cell_type": "markdown",
   "metadata": {},
   "source": [
    "В основном трятят в месяц от 10000 до 30000 Мб. В тарифе 30 Гб (30720 Мб), медианное и среднее значение ниже этого показателя (19309 и 19469 соответственно), 75% хватает 30 Гб.\n",
    "\n",
    "Данные распределены нормально, но есть небольшая положительная скошенность (медиана меньше среднего)."
   ]
  },
  {
   "cell_type": "code",
   "execution_count": 66,
   "metadata": {},
   "outputs": [
    {
     "name": "stdout",
     "output_type": "stream",
     "text": [
      "count     985.000000\n",
      "mean     2070.152284\n",
      "std       376.187114\n",
      "min      1950.000000\n",
      "25%      1950.000000\n",
      "50%      1950.000000\n",
      "75%      1950.000000\n",
      "max      4800.000000\n",
      "Name: revenue, dtype: float64\n",
      "Среднее значение: 2070.15\n",
      "Дисперсия: 141516.75\n",
      "Стандартное отклонение: 376.19\n"
     ]
    },
    {
     "data": {
      "text/plain": [
       "Text(0.5, 1.0, 'Гистограмма дохода на пользователя по тарифу Ultra')"
      ]
     },
     "execution_count": 66,
     "metadata": {},
     "output_type": "execute_result"
    },
    {
     "data": {
      "image/png": "[encoded data removed]",
      "text/plain": [
       "<Figure size 720x504 with 1 Axes>"
      ]
     },
     "metadata": {
      "needs_background": "light"
     },
     "output_type": "display_data"
    }
   ],
   "source": [
    "# Тариф \"ultra\", стоимость услуг связи за месяц\n",
    "plt.figure(figsize=(10,7))\n",
    "serie_hist(df_ultra['revenue'])\n",
    "plt.title('Гистограмма дохода на пользователя по тарифу Ultra')"
   ]
  },
  {
   "cell_type": "code",
   "execution_count": 67,
   "metadata": {},
   "outputs": [
    {
     "name": "stdout",
     "output_type": "stream",
     "text": [
      "count     134.000000\n",
      "mean     2833.208955\n",
      "std       606.634498\n",
      "min      2100.000000\n",
      "25%      2400.000000\n",
      "50%      2700.000000\n",
      "75%      3262.500000\n",
      "max      4800.000000\n",
      "Name: revenue, dtype: float64\n",
      "Среднее значение: 2833.21\n",
      "Дисперсия: 368005.41\n",
      "Стандартное отклонение: 606.63\n"
     ]
    },
    {
     "data": {
      "text/plain": [
       "Text(0.5, 1.0, 'Гистограмма дохода на пользователя по тарифу Ultra')"
      ]
     },
     "execution_count": 67,
     "metadata": {},
     "output_type": "execute_result"
    },
    {
     "data": {
      "image/png": "[encoded data removed]",
      "text/plain": [
       "<Figure size 720x504 with 1 Axes>"
      ]
     },
     "metadata": {
      "needs_background": "light"
     },
     "output_type": "display_data"
    }
   ],
   "source": [
    "# Тариф \"ultra\", стоимость услуг связи за месяц при нехватке пакета\n",
    "plt.figure(figsize=(10,7))\n",
    "serie_hist(df_ultra.query('revenue > 1950')['revenue'], bins=30)\n",
    "plt.title('Гистограмма дохода на пользователя по тарифу Ultra')"
   ]
  },
  {
   "cell_type": "markdown",
   "metadata": {},
   "source": [
    "Среднее значение 2833 рублей, но график выше показывает, что бОльшая часть не выходит за пределы стандартной оплаты в 1950 рублей и более, чем 75% хватает ее.\n",
    "\n",
    "Данные распределены нормально с положительной скошенностью (медиана меньше среднего)."
   ]
  },
  {
   "cell_type": "markdown",
   "metadata": {},
   "source": [
    "Отбразим на 1 графике информацию по 2 тарифам:"
   ]
  },
  {
   "cell_type": "code",
   "execution_count": 82,
   "metadata": {},
   "outputs": [
    {
     "data": {
      "text/plain": [
       "Text(0.5, 1.0, 'Гистограмма дохода на пользователя по обоим тарифам')"
      ]
     },
     "execution_count": 82,
     "metadata": {},
     "output_type": "execute_result"
    },
    {
     "data": {
      "image/png": "[encoded data removed]",
      "text/plain": [
       "<Figure size 576x504 with 1 Axes>"
      ]
     },
     "metadata": {
      "needs_background": "light"
     },
     "output_type": "display_data"
    }
   ],
   "source": [
    "plt.figure(figsize=(8,7))\n",
    "df_smart['revenue'].hist(bins=30, alpha=0.5)\n",
    "df_ultra['revenue'].hist(bins=15, alpha=0.5)\n",
    "plt.title('Гистограмма дохода на пользователя по обоим тарифам')"
   ]
  },
  {
   "cell_type": "code",
   "execution_count": 83,
   "metadata": {},
   "outputs": [
    {
     "data": {
      "text/plain": [
       "Text(0.5, 1.0, 'Гистограмма расхода минут на пользователя по обоим тарифам')"
      ]
     },
     "execution_count": 83,
     "metadata": {},
     "output_type": "execute_result"
    },
    {
     "data": {
      "image/png": "[encoded data removed]",
      "text/plain": [
       "<Figure size 576x504 with 1 Axes>"
      ]
     },
     "metadata": {
      "needs_background": "light"
     },
     "output_type": "display_data"
    }
   ],
   "source": [
    "plt.figure(figsize=(8,7))\n",
    "df_smart['calls_sum'].hist(bins=30, alpha=0.5)\n",
    "df_ultra['calls_sum'].hist(bins=30, alpha=0.5)\n",
    "plt.title('Гистограмма расхода минут на пользователя по обоим тарифам')"
   ]
  },
  {
   "cell_type": "code",
   "execution_count": 84,
   "metadata": {},
   "outputs": [
    {
     "data": {
      "text/plain": [
       "Text(0.5, 1.0, 'Гистограмма расхода интернет-трафика на пользователя по обоим тарифам')"
      ]
     },
     "execution_count": 84,
     "metadata": {},
     "output_type": "execute_result"
    },
    {
     "data": {
      "image/png": "[encoded data removed]",
      "text/plain": [
       "<Figure size 576x504 with 1 Axes>"
      ]
     },
     "metadata": {
      "needs_background": "light"
     },
     "output_type": "display_data"
    }
   ],
   "source": [
    "plt.figure(figsize=(8,7))\n",
    "df_smart['mb_sum'].hist(bins=30, alpha=0.5)\n",
    "df_ultra['mb_sum'].hist(bins=30, alpha=0.5)\n",
    "plt.title('Гистограмма расхода интернет-трафика на пользователя по обоим тарифам')"
   ]
  },
  {
   "cell_type": "code",
   "execution_count": 85,
   "metadata": {},
   "outputs": [
    {
     "data": {
      "text/plain": [
       "Text(0.5, 1.0, 'Гистограмма расхода сообщений на пользователя по обоим тарифам')"
      ]
     },
     "execution_count": 85,
     "metadata": {},
     "output_type": "execute_result"
    },
    {
     "data": {
      "image/png": "[encoded data removed]",
      "text/plain": [
       "<Figure size 576x504 with 1 Axes>"
      ]
     },
     "metadata": {
      "needs_background": "light"
     },
     "output_type": "display_data"
    }
   ],
   "source": [
    "plt.figure(figsize=(8,7))\n",
    "df_smart['messages_count'].hist(bins=30, alpha=0.5)\n",
    "df_ultra['messages_count'].hist(bins=30, alpha=0.5)\n",
    "plt.title('Гистограмма расхода сообщений на пользователя по обоим тарифам')"
   ]
  },
  {
   "cell_type": "markdown",
   "metadata": {},
   "source": [
    "Для формирования окончательного вывода подсчитаем % превышения лимитов по каждому тарифу:"
   ]
  },
  {
   "cell_type": "code",
   "execution_count": 69,
   "metadata": {},
   "outputs": [
    {
     "name": "stdout",
     "output_type": "stream",
     "text": [
      "Процент пользователей, превышающих лимит по количеству минут для пользователей тарифа Smart - \n",
      "27.95%\n",
      "Процент пользователей, превышающих лимит по количеству сообщений для пользователей тарифа Smart - \n",
      "25.30%\n",
      "Процент пользователей, превышающих лимит по количеству Мб для пользователей тарифа Smart - \n",
      "58.50%\n",
      "Процент пользователей, которые платят свыше абоненотской платы для пользователей тарифа Smart - \n",
      "73.13%\n",
      "\n",
      "Процент пользователей, превышающих лимит по количеству минут для пользователей тарифа Ultra - \n",
      "0.00%\n",
      "Процент пользователей, превышающих лимит по количеству сообщений для пользователей тарифа Ultra - \n",
      "0.00%\n",
      "Процент пользователей, превышающих лимит по количеству Мб для пользователей тарифа Ultra - \n",
      "13.60%\n",
      "Процент пользователей, которые платят свыше абоненотской платы для пользователей тарифа Ultra - \n",
      "13.60%\n"
     ]
    }
   ],
   "source": [
    "print(f'''Процент пользователей, превышающих лимит по количеству минут для пользователей тарифа Smart - \n",
    "{(df_smart.query(\"calls_sum > 500\").shape[0]/df_smart.shape[0]):.2%}''')    \n",
    "print(f'''Процент пользователей, превышающих лимит по количеству сообщений для пользователей тарифа Smart - \n",
    "{(df_smart.query(\"messages_count > 50\").shape[0]/df_smart.shape[0]):.2%}''') \n",
    "print(f'''Процент пользователей, превышающих лимит по количеству Мб для пользователей тарифа Smart - \n",
    "{(df_smart.query(\"mb_sum > 15360\").shape[0]/df_smart.shape[0]):.2%}''') \n",
    "print(f'''Процент пользователей, которые платят свыше абоненотской платы для пользователей тарифа Smart - \n",
    "{(df_smart.query(\"revenue > 550\").shape[0]/df_smart.shape[0]):.2%}''')\n",
    "print()\n",
    "print(f'''Процент пользователей, превышающих лимит по количеству минут для пользователей тарифа Ultra - \n",
    "{(df_ultra.query(\"calls_sum > 3000\").shape[0]/df_ultra.shape[0]):.2%}''')    \n",
    "print(f'''Процент пользователей, превышающих лимит по количеству сообщений для пользователей тарифа Ultra - \n",
    "{(df_ultra.query(\"messages_count > 1000\").shape[0]/df_ultra.shape[0]):.2%}''') \n",
    "print(f'''Процент пользователей, превышающих лимит по количеству Мб для пользователей тарифа Ultra - \n",
    "{(df_ultra.query(\"mb_sum > 30720\").shape[0]/df_ultra.shape[0]):.2%}''') \n",
    "print(f'''Процент пользователей, которые платят свыше абоненотской платы для пользователей тарифа Ultra - \n",
    "{(df_ultra.query(\"revenue > 1950\").shape[0]/df_ultra.shape[0]):.2%}''')"
   ]
  },
  {
   "cell_type": "markdown",
   "metadata": {},
   "source": [
    "### Вывод\n",
    "\n",
    "Пользователи тарифа \"Smart\":\n",
    "* 27.95% не хватает предоставленных в пакете 500 минут.\n",
    "* 25.30% отправляют более 50 сообщений в месяц.\n",
    "* 58.50% используют более 15 Гб в месяц.\n",
    "* 73.13% тратят более, чем 550 рублей.\n",
    "\n",
    "Так как многим не хватает пакета, они переплачивают за необходимые им объемы минут, сообщений, интернета, что видно на графиках (25% платит более 2000 рублей).\n",
    "\n",
    "\n",
    "Пользователи тарифа \"Ultra\":\n",
    "* Пользователям хватает с избытком пакета по минутам и сообщениям, превышений нет.\n",
    "* 13.6% не хватает предоставленных 30 Гб, они доплачивают только за интернет."
   ]
  },
  {
   "cell_type": "markdown",
   "metadata": {},
   "source": [
    "## Проверка гипотез"
   ]
  },
  {
   "cell_type": "markdown",
   "metadata": {},
   "source": [
    "Необходимо проверить 2 гипотезы:\n",
    "\n",
    "1. Средняя выручка пользователей тарифов «Ультра» и «Смарт» различаются;\n",
    "2. Средняя выручка пользователей из Москвы отличается от выручки пользователей из других регионов.\n"
   ]
  },
  {
   "cell_type": "markdown",
   "metadata": {},
   "source": [
    "Проверка гипотез начинается с формулировки нулевой гипотезы H₀:\n",
    "    \n",
    "**H₀** = Средняя выручка пользователей тарифов «Ультра» и «Смарт» равна;\n",
    "\n",
    "Исходя из H₀ формулируется альтернативная гипотеза H₁. Это утверждение, которое принимается верным, если отбрасывается H₀:\n",
    "\n",
    "**H₁** = Средняя выручка пользователей тарифов «Ультра» и «Смарт» различна."
   ]
  },
  {
   "cell_type": "markdown",
   "metadata": {},
   "source": [
    "Проверим **1-ю** гипотезу:"
   ]
  },
  {
   "cell_type": "markdown",
   "metadata": {},
   "source": [
    "Нам необходимо сравнить 2 генеральные совокупности, поэтому воспользуемся методом `scipy.stats.ttest_ind` (наши генеральные совокупности не зависят друг от друга и средние нормально распределены, что мы уточнили в предыдущей главе), которому передадим подготовленные таблицы по тарифам со столбцом по выручке:"
   ]
  },
  {
   "cell_type": "code",
   "execution_count": 70,
   "metadata": {},
   "outputs": [
    {
     "name": "stdout",
     "output_type": "stream",
     "text": [
      "p-значение: 1.513773301175091e-178\n",
      "Отвергаем нулевую гипотезу\n"
     ]
    }
   ],
   "source": [
    "alpha = .01 # критический уровень статистической значимости\n",
    "\n",
    "results = st.ttest_ind(\n",
    "    df_smart['revenue'], \n",
    "    df_ultra['revenue'])\n",
    "\n",
    "print('p-значение:', results.pvalue)\n",
    "\n",
    "if results.pvalue < alpha:\n",
    "    print(\"Отвергаем нулевую гипотезу\")\n",
    "else:\n",
    "    print(\"Не получилось отвергнуть нулевую гипотезу\") "
   ]
  },
  {
   "cell_type": "code",
   "execution_count": 71,
   "metadata": {},
   "outputs": [
    {
     "data": {
      "text/html": [
       "<div>\n",
       "<style scoped>\n",
       "    .dataframe tbody tr th:only-of-type {\n",
       "        vertical-align: middle;\n",
       "    }\n",
       "\n",
       "    .dataframe tbody tr th {\n",
       "        vertical-align: top;\n",
       "    }\n",
       "\n",
       "    .dataframe thead th {\n",
       "        text-align: right;\n",
       "    }\n",
       "</style>\n",
       "<table border=\"1\" class=\"dataframe\">\n",
       "  <thead>\n",
       "    <tr style=\"text-align: right;\">\n",
       "      <th></th>\n",
       "      <th>revenue</th>\n",
       "    </tr>\n",
       "    <tr>\n",
       "      <th>tariff</th>\n",
       "      <th></th>\n",
       "    </tr>\n",
       "  </thead>\n",
       "  <tbody>\n",
       "    <tr>\n",
       "      <td>smart</td>\n",
       "      <td>1257.588605</td>\n",
       "    </tr>\n",
       "    <tr>\n",
       "      <td>ultra</td>\n",
       "      <td>2070.152284</td>\n",
       "    </tr>\n",
       "  </tbody>\n",
       "</table>\n",
       "</div>"
      ],
      "text/plain": [
       "            revenue\n",
       "tariff             \n",
       "smart   1257.588605\n",
       "ultra   2070.152284"
      ]
     },
     "execution_count": 71,
     "metadata": {},
     "output_type": "execute_result"
    }
   ],
   "source": [
    "df_full.pivot_table(index='tariff', values='revenue', aggfunc='mean')"
   ]
  },
  {
   "cell_type": "markdown",
   "metadata": {},
   "source": [
    "Еще одно подтверждение, что средняя выручка по тарифам отличается, это также было отражено на графиках в предыдущей главе, при этом цена тарифа \"Smart\" в 4 раза меньше \"Ultra\", а средние показатели выручки отличаются только в 1,6 раза."
   ]
  },
  {
   "cell_type": "markdown",
   "metadata": {},
   "source": [
    "Проверим **2-ю** гипотезу:\n",
    "    \n",
    "**H₀** = Средняя выручка пользователей из Москвы не отличается от выручки пользователей из других регионов;\n",
    "\n",
    "**H₁** = Средняя выручка пользователей из Москвы отличается от выручки пользователей из других регионов."
   ]
  },
  {
   "cell_type": "markdown",
   "metadata": {},
   "source": [
    "Добавим в таблицу столбец с городом для каждого пользователя: "
   ]
  },
  {
   "cell_type": "code",
   "execution_count": 72,
   "metadata": {},
   "outputs": [],
   "source": [
    "# Создаем цикл по каждой строке датафрейма (кортеж из-за мультииндекса), создаем новый столбец \n",
    "# и добавляем в него значение из другой таблицы, преобразуя индекс\n",
    "for user_id in df_full.index:\n",
    "    df_full.loc[user_id, 'city'] = df_users.loc[user_id[0]-1000, 'city']"
   ]
  },
  {
   "cell_type": "code",
   "execution_count": 73,
   "metadata": {},
   "outputs": [
    {
     "name": "stdout",
     "output_type": "stream",
     "text": [
      "p-значение: 0.4836504757759247\n",
      "Не получилось отвергнуть нулевую гипотезу\n"
     ]
    }
   ],
   "source": [
    "alpha = .01 # критический уровень статистической значимости\n",
    "\n",
    "results = st.ttest_ind(\n",
    "    df_full.query('city == \"Москва\"')['revenue'], \n",
    "    df_full.query('city != \"Москва\"')['revenue'])\n",
    "\n",
    "print('p-значение:', results.pvalue)\n",
    "\n",
    "if results.pvalue < alpha:\n",
    "    print(\"Отвергаем нулевую гипотезу\")\n",
    "else:\n",
    "    print(\"Не получилось отвергнуть нулевую гипотезу\")"
   ]
  },
  {
   "cell_type": "markdown",
   "metadata": {},
   "source": [
    "Для подсчета среднего значения добавим в таблицу наименование региона (Москва или остальные города), для этого напишем функцию, которая принимает строку датафрейма и вовращает название региона:"
   ]
  },
  {
   "cell_type": "code",
   "execution_count": 74,
   "metadata": {},
   "outputs": [],
   "source": [
    "def region(row):\n",
    "    city = row['city']\n",
    "    if city == 'Москва':\n",
    "        return 'Москва'\n",
    "    else:\n",
    "        return 'Регион'"
   ]
  },
  {
   "cell_type": "code",
   "execution_count": 75,
   "metadata": {},
   "outputs": [],
   "source": [
    "df_full['region'] = df_full.apply(region, axis=1)"
   ]
  },
  {
   "cell_type": "code",
   "execution_count": 76,
   "metadata": {},
   "outputs": [
    {
     "data": {
      "text/html": [
       "<div>\n",
       "<style scoped>\n",
       "    .dataframe tbody tr th:only-of-type {\n",
       "        vertical-align: middle;\n",
       "    }\n",
       "\n",
       "    .dataframe tbody tr th {\n",
       "        vertical-align: top;\n",
       "    }\n",
       "\n",
       "    .dataframe thead th {\n",
       "        text-align: right;\n",
       "    }\n",
       "</style>\n",
       "<table border=\"1\" class=\"dataframe\">\n",
       "  <thead>\n",
       "    <tr style=\"text-align: right;\">\n",
       "      <th></th>\n",
       "      <th>revenue</th>\n",
       "    </tr>\n",
       "    <tr>\n",
       "      <th>region</th>\n",
       "      <th></th>\n",
       "    </tr>\n",
       "  </thead>\n",
       "  <tbody>\n",
       "    <tr>\n",
       "      <td>Москва</td>\n",
       "      <td>1526.837971</td>\n",
       "    </tr>\n",
       "    <tr>\n",
       "      <td>Регион</td>\n",
       "      <td>1501.869766</td>\n",
       "    </tr>\n",
       "  </tbody>\n",
       "</table>\n",
       "</div>"
      ],
      "text/plain": [
       "            revenue\n",
       "region             \n",
       "Москва  1526.837971\n",
       "Регион  1501.869766"
      ]
     },
     "execution_count": 76,
     "metadata": {},
     "output_type": "execute_result"
    }
   ],
   "source": [
    "df_full.pivot_table(index='region', values='revenue', aggfunc='mean')"
   ]
  },
  {
   "cell_type": "code",
   "execution_count": 77,
   "metadata": {},
   "outputs": [
    {
     "data": {
      "text/plain": [
       "Text(0.5, 1.0, 'Диаграмма размаха выручки на пользователя в зависимости от места проживания')"
      ]
     },
     "execution_count": 77,
     "metadata": {},
     "output_type": "execute_result"
    },
    {
     "data": {
      "image/png": "[encoded data removed]",
      "text/plain": [
       "<Figure size 576x576 with 1 Axes>"
      ]
     },
     "metadata": {
      "needs_background": "light"
     },
     "output_type": "display_data"
    }
   ],
   "source": [
    "df_full.boxplot(\n",
    "    column='revenue',\n",
    "    by='region',\n",
    "    fontsize='large',\n",
    "    grid=True,\n",
    "    figsize=(8,8))\n",
    "plt.title('Диаграмма размаха выручки на пользователя в зависимости от места проживания')"
   ]
  },
  {
   "cell_type": "markdown",
   "metadata": {},
   "source": [
    "Данная гипотеза подтвердилась, средние значения по выручке не зависят от того, где живет клиент, по диаграмме размаха видно, что медианные значения в Москве чуть выше, но средние различаются только на 1,63%."
   ]
  },
  {
   "cell_type": "markdown",
   "metadata": {},
   "source": [
    "### Вывод\n",
    "\n",
    "Было выдвинуто 2 гипотезы:\n",
    "\n",
    "1. Средняя выручка пользователей тарифов «Ультра» и «Смарт» различаются;\n",
    "2. Средняя выручка пользователей из Москвы отличается от выручки пользователей из других регионов.\n",
    "\n",
    "Первая гипотеза потверждена, средняя выручка по тарифам отличается в 1,6 раз (выручка от тарифа «Ультра» больше).\n",
    "\n",
    "Гипотеза о том, что выручка зависит от места проживания (столица или нет) не подтвердилась, место проживания не влияет на доход компании."
   ]
  },
  {
   "cell_type": "markdown",
   "metadata": {},
   "source": [
    "## Итоговый вывод"
   ]
  },
  {
   "cell_type": "markdown",
   "metadata": {},
   "source": [
    "Тарифы сильно отличаются друг от друга по стоимости и по представленным минутам, сообщениям и включенным мегабайтам.\n",
    "\n",
    "Многие клиенты выбирают более дешевый тариф, считая, что сэкономят, но им не хватает пакета:\n",
    "* 58.73% используют более 15 Гб, \n",
    "* 74.7% тратят более, чем 550 рублей.\n",
    "\n",
    "В то время как пользователям более дорогого тарифа необходим только интернет (14% не хватает 30 Гб), а минуты и, особенного, сообщения остаются не востребованными.\n",
    "\n",
    "Гипотезы о том, что выручка равна не подтвердилась (среднее значение для тарифа \"Smart\" 1300 рублей, а для тарифа \"Ultra\" 2100 рублей) и скорее говорит о том, что тариф Смарт не выгоден клиентам.\n",
    "Также выручка не зависит о города проживания клиента, что было подтверждено (1550 рублей для Моксвы и 1530 рублей для остальных городов).\n",
    "\n",
    "Так как 75% клиентов тарифа \"Smart\" покупают ежемесячно дополнительные минуты и Гб интернета - это негативно может повлиять на репутацию компании, им захочется перейти к другому оператору, чтобы за те же 1000 рублей иметь больше минут и Гб.\n",
    "А пользователям тарифа \"Ultra\" захочется сменить оператора по причине того, что им за такую цену (1950 рублей) нет смысла платить за 3000 минут и 1000 сообщений, ведь им нужен только интернет."
   ]
  }
 ],
 "metadata": {
  "ExecuteTimeLog": [
   {
    "duration": 4,
    "start_time": "2022-01-15T13:23:42.596Z"
   },
   {
    "duration": 514,
    "start_time": "2022-01-15T13:23:44.971Z"
   },
   {
    "duration": 376,
    "start_time": "2022-01-15T13:23:48.403Z"
   },
   {
    "duration": 5,
    "start_time": "2022-01-15T13:23:54.323Z"
   },
   {
    "duration": 44,
    "start_time": "2022-01-15T13:24:35.188Z"
   },
   {
    "duration": 36,
    "start_time": "2022-01-15T13:24:44.227Z"
   },
   {
    "duration": 33,
    "start_time": "2022-01-15T13:24:51.123Z"
   },
   {
    "duration": 17,
    "start_time": "2022-01-15T13:25:03.692Z"
   },
   {
    "duration": 20,
    "start_time": "2022-01-15T13:25:09.324Z"
   },
   {
    "duration": 92,
    "start_time": "2022-01-15T13:25:41.684Z"
   },
   {
    "duration": 10,
    "start_time": "2022-01-15T13:25:45.291Z"
   },
   {
    "duration": 52,
    "start_time": "2022-01-15T13:25:47.363Z"
   },
   {
    "duration": 12,
    "start_time": "2022-01-15T13:25:52.555Z"
   },
   {
    "duration": 14,
    "start_time": "2022-01-15T13:25:54.075Z"
   },
   {
    "duration": 87,
    "start_time": "2022-01-15T13:26:09.795Z"
   },
   {
    "duration": 75,
    "start_time": "2022-01-15T13:26:13.276Z"
   },
   {
    "duration": 26,
    "start_time": "2022-01-15T13:26:17.219Z"
   },
   {
    "duration": 44,
    "start_time": "2022-01-15T13:26:32.646Z"
   },
   {
    "duration": 23,
    "start_time": "2022-01-15T13:26:32.692Z"
   },
   {
    "duration": 46,
    "start_time": "2022-01-15T13:26:32.717Z"
   },
   {
    "duration": 14,
    "start_time": "2022-01-15T13:26:32.765Z"
   },
   {
    "duration": 16,
    "start_time": "2022-01-15T13:26:32.782Z"
   },
   {
    "duration": 16,
    "start_time": "2022-01-15T13:26:32.801Z"
   },
   {
    "duration": 9,
    "start_time": "2022-01-15T13:26:37.811Z"
   },
   {
    "duration": 7,
    "start_time": "2022-01-15T13:26:39.684Z"
   },
   {
    "duration": 8,
    "start_time": "2022-01-15T13:26:41.429Z"
   },
   {
    "duration": 6,
    "start_time": "2022-01-15T13:26:42.908Z"
   },
   {
    "duration": 10,
    "start_time": "2022-01-15T13:26:44.876Z"
   },
   {
    "duration": 14,
    "start_time": "2022-01-15T13:26:46.099Z"
   },
   {
    "duration": 3419,
    "start_time": "2022-01-15T13:26:49.571Z"
   },
   {
    "duration": 15,
    "start_time": "2022-01-15T13:26:52.994Z"
   },
   {
    "duration": 12,
    "start_time": "2022-01-15T13:26:57.132Z"
   },
   {
    "duration": 11,
    "start_time": "2022-01-15T13:27:00.125Z"
   },
   {
    "duration": 1030,
    "start_time": "2022-01-15T13:27:01.508Z"
   },
   {
    "duration": 15,
    "start_time": "2022-01-15T13:27:02.973Z"
   },
   {
    "duration": 9,
    "start_time": "2022-01-15T13:27:09.661Z"
   },
   {
    "duration": 20,
    "start_time": "2022-01-15T13:27:12.917Z"
   },
   {
    "duration": 22,
    "start_time": "2022-01-15T13:27:14.524Z"
   },
   {
    "duration": 22,
    "start_time": "2022-01-15T13:27:20.293Z"
   },
   {
    "duration": 368,
    "start_time": "2022-01-15T13:27:26.276Z"
   },
   {
    "duration": 5,
    "start_time": "2022-01-15T13:28:12.476Z"
   },
   {
    "duration": 345,
    "start_time": "2022-01-15T13:28:17.893Z"
   },
   {
    "duration": 654,
    "start_time": "2022-01-15T13:28:24.853Z"
   },
   {
    "duration": 710,
    "start_time": "2022-01-15T13:28:27.885Z"
   },
   {
    "duration": 658,
    "start_time": "2022-01-15T13:28:30.372Z"
   },
   {
    "duration": 667,
    "start_time": "2022-01-15T13:28:34.148Z"
   },
   {
    "duration": 632,
    "start_time": "2022-01-15T13:28:37.493Z"
   },
   {
    "duration": 486,
    "start_time": "2022-01-15T13:28:40.581Z"
   },
   {
    "duration": 743,
    "start_time": "2022-01-15T13:28:45.548Z"
   },
   {
    "duration": 809,
    "start_time": "2022-01-15T13:29:11.025Z"
   },
   {
    "duration": 641,
    "start_time": "2022-01-15T13:29:14.965Z"
   },
   {
    "duration": 525,
    "start_time": "2022-01-15T13:29:17.717Z"
   },
   {
    "duration": 821,
    "start_time": "2022-01-15T13:29:20.749Z"
   },
   {
    "duration": 629,
    "start_time": "2022-01-15T13:29:23.661Z"
   },
   {
    "duration": 441,
    "start_time": "2022-01-15T13:29:26.581Z"
   },
   {
    "duration": 435,
    "start_time": "2022-01-15T13:29:29.525Z"
   },
   {
    "duration": 33,
    "start_time": "2022-01-15T13:29:47.072Z"
   },
   {
    "duration": 8,
    "start_time": "2022-01-15T13:29:58.156Z"
   },
   {
    "duration": 21,
    "start_time": "2022-01-15T13:30:00.820Z"
   },
   {
    "duration": 3861,
    "start_time": "2022-01-15T13:30:05.237Z"
   },
   {
    "duration": 18,
    "start_time": "2022-01-15T13:30:09.102Z"
   },
   {
    "duration": 4,
    "start_time": "2022-01-15T13:30:11.733Z"
   },
   {
    "duration": 436,
    "start_time": "2022-01-15T13:30:12.789Z"
   },
   {
    "duration": 18,
    "start_time": "2022-01-15T13:30:14.053Z"
   },
   {
    "duration": 349,
    "start_time": "2022-01-15T13:30:16.077Z"
   },
   {
    "duration": 1165,
    "start_time": "2022-01-17T19:06:26.584Z"
   },
   {
    "duration": 411,
    "start_time": "2022-01-17T19:06:27.751Z"
   },
   {
    "duration": 3,
    "start_time": "2022-01-17T19:06:28.165Z"
   },
   {
    "duration": 339,
    "start_time": "2022-01-17T19:06:28.170Z"
   },
   {
    "duration": -37,
    "start_time": "2022-01-17T19:06:28.551Z"
   },
   {
    "duration": -51,
    "start_time": "2022-01-17T19:06:28.566Z"
   },
   {
    "duration": -55,
    "start_time": "2022-01-17T19:06:28.571Z"
   },
   {
    "duration": -65,
    "start_time": "2022-01-17T19:06:28.583Z"
   },
   {
    "duration": -77,
    "start_time": "2022-01-17T19:06:28.596Z"
   },
   {
    "duration": -79,
    "start_time": "2022-01-17T19:06:28.600Z"
   },
   {
    "duration": -82,
    "start_time": "2022-01-17T19:06:28.605Z"
   },
   {
    "duration": -91,
    "start_time": "2022-01-17T19:06:28.615Z"
   },
   {
    "duration": -94,
    "start_time": "2022-01-17T19:06:28.620Z"
   },
   {
    "duration": -104,
    "start_time": "2022-01-17T19:06:28.631Z"
   },
   {
    "duration": -107,
    "start_time": "2022-01-17T19:06:28.636Z"
   },
   {
    "duration": -118,
    "start_time": "2022-01-17T19:06:28.648Z"
   },
   {
    "duration": -121,
    "start_time": "2022-01-17T19:06:28.652Z"
   },
   {
    "duration": -133,
    "start_time": "2022-01-17T19:06:28.665Z"
   },
   {
    "duration": -136,
    "start_time": "2022-01-17T19:06:28.669Z"
   },
   {
    "duration": -148,
    "start_time": "2022-01-17T19:06:28.681Z"
   },
   {
    "duration": -152,
    "start_time": "2022-01-17T19:06:28.686Z"
   },
   {
    "duration": -163,
    "start_time": "2022-01-17T19:06:28.698Z"
   },
   {
    "duration": -166,
    "start_time": "2022-01-17T19:06:28.702Z"
   },
   {
    "duration": -180,
    "start_time": "2022-01-17T19:06:28.717Z"
   },
   {
    "duration": -184,
    "start_time": "2022-01-17T19:06:28.722Z"
   },
   {
    "duration": -196,
    "start_time": "2022-01-17T19:06:28.735Z"
   },
   {
    "duration": -208,
    "start_time": "2022-01-17T19:06:28.748Z"
   },
   {
    "duration": -211,
    "start_time": "2022-01-17T19:06:28.751Z"
   },
   {
    "duration": -223,
    "start_time": "2022-01-17T19:06:28.764Z"
   },
   {
    "duration": -225,
    "start_time": "2022-01-17T19:06:28.767Z"
   },
   {
    "duration": -237,
    "start_time": "2022-01-17T19:06:28.780Z"
   },
   {
    "duration": -239,
    "start_time": "2022-01-17T19:06:28.783Z"
   },
   {
    "duration": -242,
    "start_time": "2022-01-17T19:06:28.787Z"
   },
   {
    "duration": -253,
    "start_time": "2022-01-17T19:06:28.798Z"
   },
   {
    "duration": -255,
    "start_time": "2022-01-17T19:06:28.801Z"
   },
   {
    "duration": -257,
    "start_time": "2022-01-17T19:06:28.804Z"
   },
   {
    "duration": -267,
    "start_time": "2022-01-17T19:06:28.815Z"
   },
   {
    "duration": -259,
    "start_time": "2022-01-17T19:06:28.819Z"
   },
   {
    "duration": -269,
    "start_time": "2022-01-17T19:06:28.830Z"
   },
   {
    "duration": -271,
    "start_time": "2022-01-17T19:06:28.833Z"
   },
   {
    "duration": -273,
    "start_time": "2022-01-17T19:06:28.836Z"
   },
   {
    "duration": -281,
    "start_time": "2022-01-17T19:06:28.845Z"
   },
   {
    "duration": -283,
    "start_time": "2022-01-17T19:06:28.848Z"
   },
   {
    "duration": -285,
    "start_time": "2022-01-17T19:06:28.851Z"
   },
   {
    "duration": -288,
    "start_time": "2022-01-17T19:06:28.855Z"
   },
   {
    "duration": -296,
    "start_time": "2022-01-17T19:06:28.864Z"
   },
   {
    "duration": -298,
    "start_time": "2022-01-17T19:06:28.867Z"
   },
   {
    "duration": -301,
    "start_time": "2022-01-17T19:06:28.870Z"
   },
   {
    "duration": -303,
    "start_time": "2022-01-17T19:06:28.873Z"
   },
   {
    "duration": -305,
    "start_time": "2022-01-17T19:06:28.876Z"
   },
   {
    "duration": -307,
    "start_time": "2022-01-17T19:06:28.879Z"
   },
   {
    "duration": -309,
    "start_time": "2022-01-17T19:06:28.882Z"
   },
   {
    "duration": -312,
    "start_time": "2022-01-17T19:06:28.886Z"
   },
   {
    "duration": -314,
    "start_time": "2022-01-17T19:06:28.889Z"
   },
   {
    "duration": -316,
    "start_time": "2022-01-17T19:06:28.892Z"
   },
   {
    "duration": -318,
    "start_time": "2022-01-17T19:06:28.894Z"
   },
   {
    "duration": -320,
    "start_time": "2022-01-17T19:06:28.897Z"
   },
   {
    "duration": -322,
    "start_time": "2022-01-17T19:06:28.900Z"
   },
   {
    "duration": -324,
    "start_time": "2022-01-17T19:06:28.903Z"
   },
   {
    "duration": -331,
    "start_time": "2022-01-17T19:06:28.911Z"
   },
   {
    "duration": -338,
    "start_time": "2022-01-17T19:06:28.918Z"
   },
   {
    "duration": -339,
    "start_time": "2022-01-17T19:06:28.920Z"
   },
   {
    "duration": -341,
    "start_time": "2022-01-17T19:06:28.923Z"
   },
   {
    "duration": -343,
    "start_time": "2022-01-17T19:06:28.926Z"
   },
   {
    "duration": -345,
    "start_time": "2022-01-17T19:06:28.929Z"
   },
   {
    "duration": -346,
    "start_time": "2022-01-17T19:06:28.931Z"
   },
   {
    "duration": -349,
    "start_time": "2022-01-17T19:06:28.934Z"
   },
   {
    "duration": -353,
    "start_time": "2022-01-17T19:06:28.939Z"
   },
   {
    "duration": -355,
    "start_time": "2022-01-17T19:06:28.942Z"
   },
   {
    "duration": -357,
    "start_time": "2022-01-17T19:06:28.945Z"
   },
   {
    "duration": 3,
    "start_time": "2022-01-17T19:07:51.441Z"
   },
   {
    "duration": 256,
    "start_time": "2022-01-17T19:08:11.495Z"
   },
   {
    "duration": 3,
    "start_time": "2022-01-17T19:08:31.291Z"
   },
   {
    "duration": 2,
    "start_time": "2022-01-17T19:08:37.008Z"
   },
   {
    "duration": 19,
    "start_time": "2022-01-17T19:08:37.012Z"
   },
   {
    "duration": 1422,
    "start_time": "2022-01-17T19:08:37.033Z"
   },
   {
    "duration": 35,
    "start_time": "2022-01-17T19:08:38.461Z"
   },
   {
    "duration": 84,
    "start_time": "2022-01-17T19:08:38.497Z"
   },
   {
    "duration": 2400,
    "start_time": "2022-01-17T19:08:38.582Z"
   },
   {
    "duration": 77,
    "start_time": "2022-01-17T19:08:40.985Z"
   },
   {
    "duration": 800,
    "start_time": "2022-01-17T19:08:41.065Z"
   },
   {
    "duration": 12,
    "start_time": "2022-01-17T19:08:41.868Z"
   },
   {
    "duration": 28,
    "start_time": "2022-01-17T19:08:41.883Z"
   },
   {
    "duration": 59,
    "start_time": "2022-01-17T19:08:41.914Z"
   },
   {
    "duration": 37,
    "start_time": "2022-01-17T19:08:41.975Z"
   },
   {
    "duration": 106,
    "start_time": "2022-01-17T19:08:42.013Z"
   },
   {
    "duration": 8,
    "start_time": "2022-01-17T19:08:42.121Z"
   },
   {
    "duration": 61,
    "start_time": "2022-01-17T19:08:42.131Z"
   },
   {
    "duration": 10,
    "start_time": "2022-01-17T19:08:42.194Z"
   },
   {
    "duration": 13,
    "start_time": "2022-01-17T19:08:42.206Z"
   },
   {
    "duration": 79,
    "start_time": "2022-01-17T19:08:42.220Z"
   },
   {
    "duration": 40,
    "start_time": "2022-01-17T19:08:42.301Z"
   },
   {
    "duration": 26,
    "start_time": "2022-01-17T19:08:42.343Z"
   },
   {
    "duration": 36,
    "start_time": "2022-01-17T19:08:42.371Z"
   },
   {
    "duration": 17,
    "start_time": "2022-01-17T19:08:42.409Z"
   },
   {
    "duration": 42,
    "start_time": "2022-01-17T19:08:42.428Z"
   },
   {
    "duration": 10,
    "start_time": "2022-01-17T19:08:42.472Z"
   },
   {
    "duration": 9,
    "start_time": "2022-01-17T19:08:42.484Z"
   },
   {
    "duration": 14,
    "start_time": "2022-01-17T19:08:42.495Z"
   },
   {
    "duration": 12,
    "start_time": "2022-01-17T19:08:42.513Z"
   },
   {
    "duration": 10,
    "start_time": "2022-01-17T19:08:42.528Z"
   },
   {
    "duration": 7,
    "start_time": "2022-01-17T19:08:42.560Z"
   },
   {
    "duration": 9,
    "start_time": "2022-01-17T19:08:42.568Z"
   },
   {
    "duration": 5,
    "start_time": "2022-01-17T19:08:42.579Z"
   },
   {
    "duration": 14,
    "start_time": "2022-01-17T19:08:42.585Z"
   },
   {
    "duration": 2033,
    "start_time": "2022-01-17T19:08:42.601Z"
   },
   {
    "duration": 9,
    "start_time": "2022-01-17T19:08:44.636Z"
   },
   {
    "duration": 15,
    "start_time": "2022-01-17T19:08:44.647Z"
   },
   {
    "duration": 9,
    "start_time": "2022-01-17T19:08:44.664Z"
   },
   {
    "duration": 501,
    "start_time": "2022-01-17T19:08:44.674Z"
   },
   {
    "duration": 11,
    "start_time": "2022-01-17T19:08:45.177Z"
   },
   {
    "duration": 6,
    "start_time": "2022-01-17T19:08:45.190Z"
   },
   {
    "duration": 14,
    "start_time": "2022-01-17T19:08:45.198Z"
   },
   {
    "duration": 11,
    "start_time": "2022-01-17T19:08:45.214Z"
   },
   {
    "duration": 41,
    "start_time": "2022-01-17T19:08:45.227Z"
   },
   {
    "duration": 238,
    "start_time": "2022-01-17T19:08:45.270Z"
   },
   {
    "duration": 407,
    "start_time": "2022-01-17T19:08:45.510Z"
   },
   {
    "duration": 417,
    "start_time": "2022-01-17T19:08:45.920Z"
   },
   {
    "duration": 484,
    "start_time": "2022-01-17T19:08:46.339Z"
   },
   {
    "duration": 426,
    "start_time": "2022-01-17T19:08:46.825Z"
   },
   {
    "duration": 391,
    "start_time": "2022-01-17T19:08:47.260Z"
   },
   {
    "duration": 308,
    "start_time": "2022-01-17T19:08:47.661Z"
   },
   {
    "duration": 399,
    "start_time": "2022-01-17T19:08:47.971Z"
   },
   {
    "duration": 401,
    "start_time": "2022-01-17T19:08:48.372Z"
   },
   {
    "duration": 508,
    "start_time": "2022-01-17T19:08:48.775Z"
   },
   {
    "duration": 332,
    "start_time": "2022-01-17T19:08:49.285Z"
   },
   {
    "duration": 393,
    "start_time": "2022-01-17T19:08:49.618Z"
   },
   {
    "duration": 400,
    "start_time": "2022-01-17T19:08:50.013Z"
   },
   {
    "duration": 297,
    "start_time": "2022-01-17T19:08:50.415Z"
   },
   {
    "duration": 288,
    "start_time": "2022-01-17T19:08:50.714Z"
   },
   {
    "duration": 25,
    "start_time": "2022-01-17T19:08:51.004Z"
   },
   {
    "duration": 6,
    "start_time": "2022-01-17T19:08:51.031Z"
   },
   {
    "duration": 36,
    "start_time": "2022-01-17T19:08:51.039Z"
   },
   {
    "duration": 2042,
    "start_time": "2022-01-17T19:08:51.076Z"
   },
   {
    "duration": 12,
    "start_time": "2022-01-17T19:08:53.120Z"
   },
   {
    "duration": 6,
    "start_time": "2022-01-17T19:08:53.134Z"
   },
   {
    "duration": 248,
    "start_time": "2022-01-17T19:08:53.142Z"
   },
   {
    "duration": 16,
    "start_time": "2022-01-17T19:08:53.392Z"
   },
   {
    "duration": 364,
    "start_time": "2022-01-17T19:08:53.410Z"
   },
   {
    "duration": 8,
    "start_time": "2022-01-17T19:11:21.812Z"
   },
   {
    "duration": 1081,
    "start_time": "2022-01-17T20:17:11.738Z"
   },
   {
    "duration": 423,
    "start_time": "2022-01-17T20:18:30.963Z"
   },
   {
    "duration": 4,
    "start_time": "2022-01-17T20:18:33.186Z"
   },
   {
    "duration": 3,
    "start_time": "2022-01-17T20:22:13.429Z"
   },
   {
    "duration": 31,
    "start_time": "2022-01-17T20:22:19.635Z"
   },
   {
    "duration": 20,
    "start_time": "2022-01-17T20:22:20.115Z"
   },
   {
    "duration": 11,
    "start_time": "2022-01-17T20:22:25.707Z"
   },
   {
    "duration": 397,
    "start_time": "2022-01-17T20:22:56.036Z"
   },
   {
    "duration": 20,
    "start_time": "2022-01-17T20:23:02.404Z"
   },
   {
    "duration": 12,
    "start_time": "2022-01-17T20:23:36.628Z"
   },
   {
    "duration": 20,
    "start_time": "2022-01-17T20:23:46.756Z"
   },
   {
    "duration": 372,
    "start_time": "2022-01-17T20:24:26.364Z"
   },
   {
    "duration": 24,
    "start_time": "2022-01-17T20:24:34.124Z"
   },
   {
    "duration": 1079,
    "start_time": "2022-01-17T20:24:51.757Z"
   },
   {
    "duration": 452,
    "start_time": "2022-01-17T20:24:53.069Z"
   },
   {
    "duration": 3,
    "start_time": "2022-01-17T20:24:59.332Z"
   },
   {
    "duration": 27,
    "start_time": "2022-01-17T20:25:17.693Z"
   },
   {
    "duration": 20,
    "start_time": "2022-01-17T20:25:23.117Z"
   },
   {
    "duration": 14,
    "start_time": "2022-01-17T20:25:25.508Z"
   },
   {
    "duration": 13,
    "start_time": "2022-01-17T20:25:27.557Z"
   },
   {
    "duration": 42,
    "start_time": "2022-01-17T20:28:06.527Z"
   },
   {
    "duration": 10,
    "start_time": "2022-01-17T20:28:20.069Z"
   },
   {
    "duration": 7,
    "start_time": "2022-01-17T20:28:21.926Z"
   },
   {
    "duration": 428,
    "start_time": "2022-01-17T20:28:23.814Z"
   },
   {
    "duration": 62,
    "start_time": "2022-01-17T20:28:30.798Z"
   },
   {
    "duration": 31,
    "start_time": "2022-01-17T20:28:34.493Z"
   },
   {
    "duration": 45,
    "start_time": "2022-01-17T20:28:38.270Z"
   },
   {
    "duration": 37,
    "start_time": "2022-01-17T20:28:41.998Z"
   },
   {
    "duration": 14,
    "start_time": "2022-01-17T20:28:48.662Z"
   },
   {
    "duration": 38,
    "start_time": "2022-01-17T20:29:01.926Z"
   },
   {
    "duration": 23,
    "start_time": "2022-01-17T20:29:03.470Z"
   },
   {
    "duration": 24,
    "start_time": "2022-01-17T20:29:05.190Z"
   },
   {
    "duration": 10,
    "start_time": "2022-01-17T20:29:06.455Z"
   },
   {
    "duration": 12,
    "start_time": "2022-01-17T20:29:07.349Z"
   },
   {
    "duration": 13,
    "start_time": "2022-01-17T20:29:09.478Z"
   },
   {
    "duration": 7,
    "start_time": "2022-01-17T20:29:26.182Z"
   },
   {
    "duration": 5,
    "start_time": "2022-01-17T20:29:28.189Z"
   },
   {
    "duration": 6,
    "start_time": "2022-01-17T20:29:30.518Z"
   },
   {
    "duration": 5,
    "start_time": "2022-01-17T20:29:31.591Z"
   },
   {
    "duration": 8,
    "start_time": "2022-01-17T20:34:10.001Z"
   },
   {
    "duration": 10,
    "start_time": "2022-01-17T20:34:14.561Z"
   },
   {
    "duration": 1749,
    "start_time": "2022-01-17T20:34:31.017Z"
   },
   {
    "duration": 8,
    "start_time": "2022-01-17T20:34:32.768Z"
   },
   {
    "duration": 47,
    "start_time": "2022-01-17T20:36:22.242Z"
   },
   {
    "duration": 13,
    "start_time": "2022-01-17T20:36:54.441Z"
   },
   {
    "duration": 8,
    "start_time": "2022-01-17T20:37:19.235Z"
   },
   {
    "duration": 9,
    "start_time": "2022-01-17T20:40:40.515Z"
   },
   {
    "duration": 8809,
    "start_time": "2022-01-17T20:42:05.757Z"
   },
   {
    "duration": -491,
    "start_time": "2022-01-17T20:42:15.059Z"
   },
   {
    "duration": 405,
    "start_time": "2022-01-17T20:42:26.533Z"
   },
   {
    "duration": 8,
    "start_time": "2022-01-17T20:42:43.524Z"
   },
   {
    "duration": 339,
    "start_time": "2022-01-17T20:46:58.510Z"
   },
   {
    "duration": 161,
    "start_time": "2022-01-17T20:47:50.511Z"
   },
   {
    "duration": 343,
    "start_time": "2022-01-17T20:47:55.327Z"
   },
   {
    "duration": 553,
    "start_time": "2022-01-17T20:49:39.178Z"
   },
   {
    "duration": 341,
    "start_time": "2022-01-17T20:49:52.505Z"
   },
   {
    "duration": 9,
    "start_time": "2022-01-17T20:51:01.113Z"
   },
   {
    "duration": 2,
    "start_time": "2022-01-17T20:51:07.440Z"
   },
   {
    "duration": 7,
    "start_time": "2022-01-17T20:52:14.329Z"
   },
   {
    "duration": 7,
    "start_time": "2022-01-17T20:52:39.200Z"
   },
   {
    "duration": 536,
    "start_time": "2022-01-17T20:52:41.888Z"
   },
   {
    "duration": 12,
    "start_time": "2022-01-17T20:52:43.489Z"
   },
   {
    "duration": 6,
    "start_time": "2022-01-17T20:52:57.568Z"
   },
   {
    "duration": 8,
    "start_time": "2022-01-17T20:53:00.913Z"
   },
   {
    "duration": 9,
    "start_time": "2022-01-17T20:53:03.033Z"
   },
   {
    "duration": 15,
    "start_time": "2022-01-17T20:53:04.473Z"
   },
   {
    "duration": 190,
    "start_time": "2022-01-17T20:53:17.370Z"
   },
   {
    "duration": 343,
    "start_time": "2022-01-17T20:53:23.674Z"
   },
   {
    "duration": 342,
    "start_time": "2022-01-17T20:53:28.345Z"
   },
   {
    "duration": 420,
    "start_time": "2022-01-17T20:54:20.789Z"
   },
   {
    "duration": 370,
    "start_time": "2022-01-17T20:54:29.562Z"
   },
   {
    "duration": 373,
    "start_time": "2022-01-17T20:54:38.114Z"
   },
   {
    "duration": 378,
    "start_time": "2022-01-17T20:54:58.705Z"
   },
   {
    "duration": 343,
    "start_time": "2022-01-17T20:55:35.395Z"
   },
   {
    "duration": 273,
    "start_time": "2022-01-17T20:55:42.066Z"
   },
   {
    "duration": 446,
    "start_time": "2022-01-17T20:56:01.964Z"
   },
   {
    "duration": 354,
    "start_time": "2022-01-17T20:56:33.917Z"
   },
   {
    "duration": 288,
    "start_time": "2022-01-17T20:56:37.546Z"
   },
   {
    "duration": 356,
    "start_time": "2022-01-17T20:56:51.507Z"
   },
   {
    "duration": 342,
    "start_time": "2022-01-17T20:57:19.644Z"
   },
   {
    "duration": 249,
    "start_time": "2022-01-17T20:57:21.772Z"
   },
   {
    "duration": 351,
    "start_time": "2022-01-17T20:57:53.323Z"
   },
   {
    "duration": 29,
    "start_time": "2022-01-17T20:57:56.756Z"
   },
   {
    "duration": 9,
    "start_time": "2022-01-17T20:58:51.372Z"
   },
   {
    "duration": 24,
    "start_time": "2022-01-17T20:58:54.100Z"
   },
   {
    "duration": 3094,
    "start_time": "2022-01-17T20:59:04.052Z"
   },
   {
    "duration": 13,
    "start_time": "2022-01-17T20:59:07.149Z"
   },
   {
    "duration": 2,
    "start_time": "2022-01-17T20:59:08.892Z"
   },
   {
    "duration": 214,
    "start_time": "2022-01-17T20:59:09.827Z"
   },
   {
    "duration": 13,
    "start_time": "2022-01-17T20:59:10.859Z"
   },
   {
    "duration": 210,
    "start_time": "2022-01-17T20:59:17.980Z"
   },
   {
    "duration": 252,
    "start_time": "2022-01-17T21:07:50.057Z"
   },
   {
    "duration": 289,
    "start_time": "2022-01-17T21:07:55.905Z"
   },
   {
    "duration": 288,
    "start_time": "2022-01-17T21:08:37.368Z"
   },
   {
    "duration": 266,
    "start_time": "2022-01-17T21:09:03.168Z"
   },
   {
    "duration": 259,
    "start_time": "2022-01-17T21:10:57.713Z"
   },
   {
    "duration": 272,
    "start_time": "2022-01-17T21:11:14.994Z"
   },
   {
    "duration": 269,
    "start_time": "2022-01-17T21:11:29.795Z"
   },
   {
    "duration": 269,
    "start_time": "2022-01-17T21:11:41.108Z"
   },
   {
    "duration": 110,
    "start_time": "2022-01-17T21:13:51.322Z"
   }
  ],
  "kernelspec": {
   "display_name": "Python 3 (ipykernel)",
   "language": "python",
   "name": "python3"
  },
  "language_info": {
   "codemirror_mode": {
    "name": "ipython",
    "version": 3
   },
   "file_extension": ".py",
   "mimetype": "text/x-python",
   "name": "python",
   "nbconvert_exporter": "python",
   "pygments_lexer": "ipython3",
   "version": "3.9.7"
  },
  "toc": {
   "base_numbering": 1,
   "nav_menu": {},
   "number_sections": true,
   "sideBar": true,
   "skip_h1_title": true,
   "title_cell": "Table of Contents",
   "title_sidebar": "Содержание",
   "toc_cell": false,
   "toc_position": {
    "height": "calc(100% - 180px)",
    "left": "10px",
    "top": "150px",
    "width": "194px"
   },
   "toc_section_display": true,
   "toc_window_display": true
  }
 },
 "nbformat": 4,
 "nbformat_minor": 2
}
