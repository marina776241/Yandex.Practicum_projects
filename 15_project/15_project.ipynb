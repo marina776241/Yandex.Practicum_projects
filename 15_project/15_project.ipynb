{
 "cells": [
  {
   "cell_type": "markdown",
   "id": "819cd697",
   "metadata": {
    "toc": true
   },
   "source": [
    "<h1>Table of Contents<span class=\"tocSkip\"></span></h1>\n",
    "<div class=\"toc\"><ul class=\"toc-item\"><li><ul class=\"toc-item\"><li><span><a href=\"#Описание-услуг\" data-toc-modified-id=\"Описание-услуг-0.1\"><span class=\"toc-item-num\">0.1&nbsp;&nbsp;</span>Описание услуг</a></span></li><li><span><a href=\"#Описание-данных\" data-toc-modified-id=\"Описание-данных-0.2\"><span class=\"toc-item-num\">0.2&nbsp;&nbsp;</span>Описание данных</a></span></li></ul></li><li><span><a href=\"#Исследовательский-анализ-данных\" data-toc-modified-id=\"Исследовательский-анализ-данных-1\"><span class=\"toc-item-num\">1&nbsp;&nbsp;</span>Исследовательский анализ данных</a></span><ul class=\"toc-item\"><li><span><a href=\"#Загрузка-данных\" data-toc-modified-id=\"Загрузка-данных-1.1\"><span class=\"toc-item-num\">1.1&nbsp;&nbsp;</span>Загрузка данных</a></span></li><li><span><a href=\"#Таблица-contract\" data-toc-modified-id=\"Таблица-contract-1.2\"><span class=\"toc-item-num\">1.2&nbsp;&nbsp;</span>Таблица contract</a></span><ul class=\"toc-item\"><li><span><a href=\"#Вывод-по-таблице-contract\" data-toc-modified-id=\"Вывод-по-таблице-contract-1.2.1\"><span class=\"toc-item-num\">1.2.1&nbsp;&nbsp;</span>Вывод по таблице contract</a></span></li></ul></li><li><span><a href=\"#Таблица-personal\" data-toc-modified-id=\"Таблица-personal-1.3\"><span class=\"toc-item-num\">1.3&nbsp;&nbsp;</span>Таблица personal</a></span><ul class=\"toc-item\"><li><span><a href=\"#Вывод-по-таблице-personal\" data-toc-modified-id=\"Вывод-по-таблице-personal-1.3.1\"><span class=\"toc-item-num\">1.3.1&nbsp;&nbsp;</span>Вывод по таблице personal</a></span></li></ul></li><li><span><a href=\"#Таблица-phone\" data-toc-modified-id=\"Таблица-phone-1.4\"><span class=\"toc-item-num\">1.4&nbsp;&nbsp;</span>Таблица phone</a></span><ul class=\"toc-item\"><li><span><a href=\"#Вывод-по-таблице-phone\" data-toc-modified-id=\"Вывод-по-таблице-phone-1.4.1\"><span class=\"toc-item-num\">1.4.1&nbsp;&nbsp;</span>Вывод по таблице phone</a></span></li></ul></li><li><span><a href=\"#Таблица-internet\" data-toc-modified-id=\"Таблица-internet-1.5\"><span class=\"toc-item-num\">1.5&nbsp;&nbsp;</span>Таблица internet</a></span><ul class=\"toc-item\"><li><span><a href=\"#Вывод-по-таблице-internet\" data-toc-modified-id=\"Вывод-по-таблице-internet-1.5.1\"><span class=\"toc-item-num\">1.5.1&nbsp;&nbsp;</span>Вывод по таблице internet</a></span></li></ul></li><li><span><a href=\"#Вывод\" data-toc-modified-id=\"Вывод-1.6\"><span class=\"toc-item-num\">1.6&nbsp;&nbsp;</span>Вывод</a></span></li></ul></li><li><span><a href=\"#Подготовка-данных\" data-toc-modified-id=\"Подготовка-данных-2\"><span class=\"toc-item-num\">2&nbsp;&nbsp;</span>Подготовка данных</a></span><ul class=\"toc-item\"><li><span><a href=\"#Объединение-таблиц,-заполнение-пропусков\" data-toc-modified-id=\"Объединение-таблиц,-заполнение-пропусков-2.1\"><span class=\"toc-item-num\">2.1&nbsp;&nbsp;</span>Объединение таблиц, заполнение пропусков</a></span></li><li><span><a href=\"#Создание-целевого-столбца\" data-toc-modified-id=\"Создание-целевого-столбца-2.2\"><span class=\"toc-item-num\">2.2&nbsp;&nbsp;</span>Создание целевого столбца</a></span></li><li><span><a href=\"#Создание-столбца-длительности-контракта\" data-toc-modified-id=\"Создание-столбца-длительности-контракта-2.3\"><span class=\"toc-item-num\">2.3&nbsp;&nbsp;</span>Создание столбца длительности контракта</a></span></li><li><span><a href=\"#Вывод\" data-toc-modified-id=\"Вывод-2.4\"><span class=\"toc-item-num\">2.4&nbsp;&nbsp;</span>Вывод</a></span></li></ul></li><li><span><a href=\"#Подготовка-данных-для-моделей\" data-toc-modified-id=\"Подготовка-данных-для-моделей-3\"><span class=\"toc-item-num\">3&nbsp;&nbsp;</span>Подготовка данных для моделей</a></span><ul class=\"toc-item\"><li><span><a href=\"#Удаление-столбцов-и-OHE\" data-toc-modified-id=\"Удаление-столбцов-и-OHE-3.1\"><span class=\"toc-item-num\">3.1&nbsp;&nbsp;</span>Удаление столбцов и OHE</a></span></li><li><span><a href=\"#Разделение-на-выборки\" data-toc-modified-id=\"Разделение-на-выборки-3.2\"><span class=\"toc-item-num\">3.2&nbsp;&nbsp;</span>Разделение на выборки</a></span></li></ul></li><li><span><a href=\"#Построение-моделей\" data-toc-modified-id=\"Построение-моделей-4\"><span class=\"toc-item-num\">4&nbsp;&nbsp;</span>Построение моделей</a></span><ul class=\"toc-item\"><li><span><a href=\"#Baseline-модель\" data-toc-modified-id=\"Baseline-модель-4.1\"><span class=\"toc-item-num\">4.1&nbsp;&nbsp;</span>Baseline модель</a></span><ul class=\"toc-item\"><li><span><a href=\"#Вывод\" data-toc-modified-id=\"Вывод-4.1.1\"><span class=\"toc-item-num\">4.1.1&nbsp;&nbsp;</span>Вывод</a></span></li></ul></li><li><span><a href=\"#RandomForestClassifier\" data-toc-modified-id=\"RandomForestClassifier-4.2\"><span class=\"toc-item-num\">4.2&nbsp;&nbsp;</span>RandomForestClassifier</a></span><ul class=\"toc-item\"><li><span><a href=\"#Вывод\" data-toc-modified-id=\"Вывод-4.2.1\"><span class=\"toc-item-num\">4.2.1&nbsp;&nbsp;</span>Вывод</a></span></li></ul></li><li><span><a href=\"#XGBClassifier\" data-toc-modified-id=\"XGBClassifier-4.3\"><span class=\"toc-item-num\">4.3&nbsp;&nbsp;</span>XGBClassifier</a></span><ul class=\"toc-item\"><li><span><a href=\"#Вывод\" data-toc-modified-id=\"Вывод-4.3.1\"><span class=\"toc-item-num\">4.3.1&nbsp;&nbsp;</span>Вывод</a></span></li></ul></li><li><span><a href=\"#XGBClassifier-2\" data-toc-modified-id=\"XGBClassifier-2-4.4\"><span class=\"toc-item-num\">4.4&nbsp;&nbsp;</span>XGBClassifier 2</a></span><ul class=\"toc-item\"><li><span><a href=\"#Вывод\" data-toc-modified-id=\"Вывод-4.4.1\"><span class=\"toc-item-num\">4.4.1&nbsp;&nbsp;</span>Вывод</a></span></li></ul></li><li><span><a href=\"#Вывод\" data-toc-modified-id=\"Вывод-4.5\"><span class=\"toc-item-num\">4.5&nbsp;&nbsp;</span>Вывод</a></span></li></ul></li><li><span><a href=\"#Вывод\" data-toc-modified-id=\"Вывод-5\"><span class=\"toc-item-num\">5&nbsp;&nbsp;</span>Вывод</a></span></li></ul></div>"
   ]
  },
  {
   "cell_type": "markdown",
   "id": "f51dbe58",
   "metadata": {},
   "source": [
    "Оператор связи «Ниединогоразрыва.ком» хочет научиться прогнозировать отток клиентов. Если выяснится, что пользователь планирует уйти, ему будут предложены промокоды и специальные условия. Команда оператора собрала персональные данные о некоторых клиентах, информацию об их тарифах и договорах.\n",
    "\n",
    "###  Описание услуг\n",
    "\n",
    "Оператор предоставляет два основных типа услуг: \n",
    "\n",
    "1. Стационарную телефонную связь. Возможно подключение телефонного аппарата к нескольким линиям одновременно.\n",
    "2. Интернет. Подключение может быть двух типов: через телефонную линию (DSL*,* от англ. *digital subscriber line*, «цифровая абонентская линия») или оптоволоконный кабель (*Fiber optic*).  \n",
    "\n",
    "Также доступны такие услуги:\n",
    "\n",
    "- Интернет-безопасность: антивирус (*DeviceProtection*) и блокировка небезопасных сайтов (*OnlineSecurity*);\n",
    "- Выделенная линия технической поддержки (*TechSupport*);\n",
    "- Облачное хранилище файлов для резервного копирования данных (*OnlineBackup*);\n",
    "- Стриминговое телевидение (*StreamingTV*) и каталог фильмов (*StreamingMovies*).\n",
    "\n",
    "За услуги клиенты могут платить каждый месяц или заключить договор на 1–2 года. Доступны различные способы расчёта и возможность получения электронного чека.\n",
    "\n",
    "### Описание данных\n",
    "\n",
    "Данные состоят из файлов, полученных из разных источников:\n",
    "\n",
    "- `contract.csv` — информация о договоре:\n",
    "  * BeginDate – дата начала пользования услугами,\n",
    "  * EndDate – дата окончания пользования услугами,\n",
    "  * Type – тип оплаты: ежемесячный, годовой и тд,\n",
    "  * PaperlessBilling – безналичный расчет,\n",
    "  * PaymentMethod – способ оплаты,\n",
    "  * MonthlyCharges – ежемесячные траты на услуги,\n",
    "  * TotalCharges – всего потрачено денег на услуги;\n",
    "- `personal.csv` — персональные данные клиента:\n",
    "  * Dependents – наличие иждивенцев,\n",
    "  * Senior Citizen – наличие пенсионного статуса по возрасту,\n",
    "  * Partner – наличие супруга(и);\n",
    "- `internet.csv` — информация об интернет-услугах;\n",
    "- `phone.csv` — информация об услугах телефонии:\n",
    "  * MultipleLines – наличие возможности ведения параллельных линий во время звонка.\n",
    "\n",
    "Во всех файлах столбец `customerID` содержит код клиента.\n",
    "\n",
    "Информация о договорах актуальна на 1 февраля 2020."
   ]
  },
  {
   "cell_type": "markdown",
   "id": "1a0eb606",
   "metadata": {},
   "source": [
    "## Исследовательский анализ данных"
   ]
  },
  {
   "cell_type": "markdown",
   "id": "5e711fd0",
   "metadata": {},
   "source": [
    "### Загрузка данных"
   ]
  },
  {
   "cell_type": "code",
   "execution_count": 3,
   "id": "1f1870a4",
   "metadata": {},
   "outputs": [],
   "source": [
    "# импортируем необходимые библиотеки\n",
    "import pandas as pd\n",
    "import numpy as np\n",
    "import matplotlib.pyplot as plt\n",
    "import seaborn as sns\n",
    "\n",
    "pd.options.mode.chained_assignment = None\n",
    "\n",
    "from sklearn.preprocessing import StandardScaler\n",
    "from sklearn.metrics import roc_curve, roc_auc_score, confusion_matrix, recall_score, precision_score, f1_score, accuracy_score\n",
    "from sklearn.ensemble import RandomForestClassifier\n",
    "from sklearn.linear_model import LogisticRegression\n",
    "from sklearn.model_selection import train_test_split, cross_val_score, GridSearchCV\n",
    "import time\n",
    "import optuna\n",
    "from optuna.integration import OptunaSearchCV\n",
    "from xgboost import XGBClassifier\n",
    "\n",
    "import warnings\n",
    "warnings.filterwarnings('ignore')"
   ]
  },
  {
   "cell_type": "code",
   "execution_count": 4,
   "id": "dd0f7b59",
   "metadata": {},
   "outputs": [],
   "source": [
    "# Сброс ограничений на количество выводимых рядов\n",
    "pd.set_option('display.max_rows', None)\n",
    "\n",
    "# Сброс ограничений на число столбцов\n",
    "pd.set_option('display.max_columns', None)\n",
    "\n",
    "# Сброс ограничений на количество символов в записи\n",
    "pd.set_option('display.max_colwidth', None)"
   ]
  },
  {
   "cell_type": "code",
   "execution_count": 5,
   "id": "bb5afda2",
   "metadata": {},
   "outputs": [],
   "source": [
    "#contract = pd.read_csv('contract.csv', index_col=[0])\n",
    "#personal = pd.read_csv('personal.csv', index_col=[0])\n",
    "#phone = pd.read_csv('phone.csv', index_col=[0])\n",
    "#internet = pd.read_csv('internet.csv', index_col=[0])\n",
    "\n",
    "contract = pd.read_csv('/datasets/final_provider/contract.csv', index_col=[0])\n",
    "personal = pd.read_csv('/datasets/final_provider/personal.csv', index_col=[0])\n",
    "phone = pd.read_csv('/datasets/final_provider/phone.csv', index_col=[0])\n",
    "internet = pd.read_csv('/datasets/final_provider/internet.csv', index_col=[0])"
   ]
  },
  {
   "cell_type": "code",
   "execution_count": 6,
   "id": "02a38271",
   "metadata": {},
   "outputs": [],
   "source": [
    "# Выведем информацию по каждой таблице\n",
    "def table_info(df):\n",
    "    display(df.head())\n",
    "    display(df.info())\n",
    "    display(df.describe())\n",
    "    display(df.corr())"
   ]
  },
  {
   "cell_type": "code",
   "execution_count": 7,
   "id": "dbcc76f7",
   "metadata": {},
   "outputs": [
    {
     "data": {
      "text/html": [
       "<div>\n",
       "<style scoped>\n",
       "    .dataframe tbody tr th:only-of-type {\n",
       "        vertical-align: middle;\n",
       "    }\n",
       "\n",
       "    .dataframe tbody tr th {\n",
       "        vertical-align: top;\n",
       "    }\n",
       "\n",
       "    .dataframe thead th {\n",
       "        text-align: right;\n",
       "    }\n",
       "</style>\n",
       "<table border=\"1\" class=\"dataframe\">\n",
       "  <thead>\n",
       "    <tr style=\"text-align: right;\">\n",
       "      <th></th>\n",
       "      <th>BeginDate</th>\n",
       "      <th>EndDate</th>\n",
       "      <th>Type</th>\n",
       "      <th>PaperlessBilling</th>\n",
       "      <th>PaymentMethod</th>\n",
       "      <th>MonthlyCharges</th>\n",
       "      <th>TotalCharges</th>\n",
       "    </tr>\n",
       "    <tr>\n",
       "      <th>customerID</th>\n",
       "      <th></th>\n",
       "      <th></th>\n",
       "      <th></th>\n",
       "      <th></th>\n",
       "      <th></th>\n",
       "      <th></th>\n",
       "      <th></th>\n",
       "    </tr>\n",
       "  </thead>\n",
       "  <tbody>\n",
       "    <tr>\n",
       "      <th>7590-VHVEG</th>\n",
       "      <td>2020-01-01</td>\n",
       "      <td>No</td>\n",
       "      <td>Month-to-month</td>\n",
       "      <td>Yes</td>\n",
       "      <td>Electronic check</td>\n",
       "      <td>29.85</td>\n",
       "      <td>29.85</td>\n",
       "    </tr>\n",
       "    <tr>\n",
       "      <th>5575-GNVDE</th>\n",
       "      <td>2017-04-01</td>\n",
       "      <td>No</td>\n",
       "      <td>One year</td>\n",
       "      <td>No</td>\n",
       "      <td>Mailed check</td>\n",
       "      <td>56.95</td>\n",
       "      <td>1889.5</td>\n",
       "    </tr>\n",
       "    <tr>\n",
       "      <th>3668-QPYBK</th>\n",
       "      <td>2019-10-01</td>\n",
       "      <td>2019-12-01 00:00:00</td>\n",
       "      <td>Month-to-month</td>\n",
       "      <td>Yes</td>\n",
       "      <td>Mailed check</td>\n",
       "      <td>53.85</td>\n",
       "      <td>108.15</td>\n",
       "    </tr>\n",
       "    <tr>\n",
       "      <th>7795-CFOCW</th>\n",
       "      <td>2016-05-01</td>\n",
       "      <td>No</td>\n",
       "      <td>One year</td>\n",
       "      <td>No</td>\n",
       "      <td>Bank transfer (automatic)</td>\n",
       "      <td>42.30</td>\n",
       "      <td>1840.75</td>\n",
       "    </tr>\n",
       "    <tr>\n",
       "      <th>9237-HQITU</th>\n",
       "      <td>2019-09-01</td>\n",
       "      <td>2019-11-01 00:00:00</td>\n",
       "      <td>Month-to-month</td>\n",
       "      <td>Yes</td>\n",
       "      <td>Electronic check</td>\n",
       "      <td>70.70</td>\n",
       "      <td>151.65</td>\n",
       "    </tr>\n",
       "  </tbody>\n",
       "</table>\n",
       "</div>"
      ],
      "text/plain": [
       "             BeginDate              EndDate            Type PaperlessBilling  \\\n",
       "customerID                                                                     \n",
       "7590-VHVEG  2020-01-01                   No  Month-to-month              Yes   \n",
       "5575-GNVDE  2017-04-01                   No        One year               No   \n",
       "3668-QPYBK  2019-10-01  2019-12-01 00:00:00  Month-to-month              Yes   \n",
       "7795-CFOCW  2016-05-01                   No        One year               No   \n",
       "9237-HQITU  2019-09-01  2019-11-01 00:00:00  Month-to-month              Yes   \n",
       "\n",
       "                        PaymentMethod  MonthlyCharges TotalCharges  \n",
       "customerID                                                          \n",
       "7590-VHVEG           Electronic check           29.85        29.85  \n",
       "5575-GNVDE               Mailed check           56.95       1889.5  \n",
       "3668-QPYBK               Mailed check           53.85       108.15  \n",
       "7795-CFOCW  Bank transfer (automatic)           42.30      1840.75  \n",
       "9237-HQITU           Electronic check           70.70       151.65  "
      ]
     },
     "metadata": {},
     "output_type": "display_data"
    },
    {
     "name": "stdout",
     "output_type": "stream",
     "text": [
      "<class 'pandas.core.frame.DataFrame'>\n",
      "Index: 7043 entries, 7590-VHVEG to 3186-AJIEK\n",
      "Data columns (total 7 columns):\n",
      " #   Column            Non-Null Count  Dtype  \n",
      "---  ------            --------------  -----  \n",
      " 0   BeginDate         7043 non-null   object \n",
      " 1   EndDate           7043 non-null   object \n",
      " 2   Type              7043 non-null   object \n",
      " 3   PaperlessBilling  7043 non-null   object \n",
      " 4   PaymentMethod     7043 non-null   object \n",
      " 5   MonthlyCharges    7043 non-null   float64\n",
      " 6   TotalCharges      7043 non-null   object \n",
      "dtypes: float64(1), object(6)\n",
      "memory usage: 440.2+ KB\n"
     ]
    },
    {
     "data": {
      "text/plain": [
       "None"
      ]
     },
     "metadata": {},
     "output_type": "display_data"
    },
    {
     "data": {
      "text/html": [
       "<div>\n",
       "<style scoped>\n",
       "    .dataframe tbody tr th:only-of-type {\n",
       "        vertical-align: middle;\n",
       "    }\n",
       "\n",
       "    .dataframe tbody tr th {\n",
       "        vertical-align: top;\n",
       "    }\n",
       "\n",
       "    .dataframe thead th {\n",
       "        text-align: right;\n",
       "    }\n",
       "</style>\n",
       "<table border=\"1\" class=\"dataframe\">\n",
       "  <thead>\n",
       "    <tr style=\"text-align: right;\">\n",
       "      <th></th>\n",
       "      <th>MonthlyCharges</th>\n",
       "    </tr>\n",
       "  </thead>\n",
       "  <tbody>\n",
       "    <tr>\n",
       "      <th>count</th>\n",
       "      <td>7043.000000</td>\n",
       "    </tr>\n",
       "    <tr>\n",
       "      <th>mean</th>\n",
       "      <td>64.761692</td>\n",
       "    </tr>\n",
       "    <tr>\n",
       "      <th>std</th>\n",
       "      <td>30.090047</td>\n",
       "    </tr>\n",
       "    <tr>\n",
       "      <th>min</th>\n",
       "      <td>18.250000</td>\n",
       "    </tr>\n",
       "    <tr>\n",
       "      <th>25%</th>\n",
       "      <td>35.500000</td>\n",
       "    </tr>\n",
       "    <tr>\n",
       "      <th>50%</th>\n",
       "      <td>70.350000</td>\n",
       "    </tr>\n",
       "    <tr>\n",
       "      <th>75%</th>\n",
       "      <td>89.850000</td>\n",
       "    </tr>\n",
       "    <tr>\n",
       "      <th>max</th>\n",
       "      <td>118.750000</td>\n",
       "    </tr>\n",
       "  </tbody>\n",
       "</table>\n",
       "</div>"
      ],
      "text/plain": [
       "       MonthlyCharges\n",
       "count     7043.000000\n",
       "mean        64.761692\n",
       "std         30.090047\n",
       "min         18.250000\n",
       "25%         35.500000\n",
       "50%         70.350000\n",
       "75%         89.850000\n",
       "max        118.750000"
      ]
     },
     "metadata": {},
     "output_type": "display_data"
    },
    {
     "data": {
      "text/html": [
       "<div>\n",
       "<style scoped>\n",
       "    .dataframe tbody tr th:only-of-type {\n",
       "        vertical-align: middle;\n",
       "    }\n",
       "\n",
       "    .dataframe tbody tr th {\n",
       "        vertical-align: top;\n",
       "    }\n",
       "\n",
       "    .dataframe thead th {\n",
       "        text-align: right;\n",
       "    }\n",
       "</style>\n",
       "<table border=\"1\" class=\"dataframe\">\n",
       "  <thead>\n",
       "    <tr style=\"text-align: right;\">\n",
       "      <th></th>\n",
       "      <th>MonthlyCharges</th>\n",
       "    </tr>\n",
       "  </thead>\n",
       "  <tbody>\n",
       "    <tr>\n",
       "      <th>MonthlyCharges</th>\n",
       "      <td>1.0</td>\n",
       "    </tr>\n",
       "  </tbody>\n",
       "</table>\n",
       "</div>"
      ],
      "text/plain": [
       "                MonthlyCharges\n",
       "MonthlyCharges             1.0"
      ]
     },
     "metadata": {},
     "output_type": "display_data"
    }
   ],
   "source": [
    "# Информация о таблице contract\n",
    "table_info(contract)"
   ]
  },
  {
   "cell_type": "code",
   "execution_count": 8,
   "id": "891bea23",
   "metadata": {},
   "outputs": [
    {
     "data": {
      "text/html": [
       "<div>\n",
       "<style scoped>\n",
       "    .dataframe tbody tr th:only-of-type {\n",
       "        vertical-align: middle;\n",
       "    }\n",
       "\n",
       "    .dataframe tbody tr th {\n",
       "        vertical-align: top;\n",
       "    }\n",
       "\n",
       "    .dataframe thead th {\n",
       "        text-align: right;\n",
       "    }\n",
       "</style>\n",
       "<table border=\"1\" class=\"dataframe\">\n",
       "  <thead>\n",
       "    <tr style=\"text-align: right;\">\n",
       "      <th></th>\n",
       "      <th>gender</th>\n",
       "      <th>SeniorCitizen</th>\n",
       "      <th>Partner</th>\n",
       "      <th>Dependents</th>\n",
       "    </tr>\n",
       "    <tr>\n",
       "      <th>customerID</th>\n",
       "      <th></th>\n",
       "      <th></th>\n",
       "      <th></th>\n",
       "      <th></th>\n",
       "    </tr>\n",
       "  </thead>\n",
       "  <tbody>\n",
       "    <tr>\n",
       "      <th>7590-VHVEG</th>\n",
       "      <td>Female</td>\n",
       "      <td>0</td>\n",
       "      <td>Yes</td>\n",
       "      <td>No</td>\n",
       "    </tr>\n",
       "    <tr>\n",
       "      <th>5575-GNVDE</th>\n",
       "      <td>Male</td>\n",
       "      <td>0</td>\n",
       "      <td>No</td>\n",
       "      <td>No</td>\n",
       "    </tr>\n",
       "    <tr>\n",
       "      <th>3668-QPYBK</th>\n",
       "      <td>Male</td>\n",
       "      <td>0</td>\n",
       "      <td>No</td>\n",
       "      <td>No</td>\n",
       "    </tr>\n",
       "    <tr>\n",
       "      <th>7795-CFOCW</th>\n",
       "      <td>Male</td>\n",
       "      <td>0</td>\n",
       "      <td>No</td>\n",
       "      <td>No</td>\n",
       "    </tr>\n",
       "    <tr>\n",
       "      <th>9237-HQITU</th>\n",
       "      <td>Female</td>\n",
       "      <td>0</td>\n",
       "      <td>No</td>\n",
       "      <td>No</td>\n",
       "    </tr>\n",
       "  </tbody>\n",
       "</table>\n",
       "</div>"
      ],
      "text/plain": [
       "            gender  SeniorCitizen Partner Dependents\n",
       "customerID                                          \n",
       "7590-VHVEG  Female              0     Yes         No\n",
       "5575-GNVDE    Male              0      No         No\n",
       "3668-QPYBK    Male              0      No         No\n",
       "7795-CFOCW    Male              0      No         No\n",
       "9237-HQITU  Female              0      No         No"
      ]
     },
     "metadata": {},
     "output_type": "display_data"
    },
    {
     "name": "stdout",
     "output_type": "stream",
     "text": [
      "<class 'pandas.core.frame.DataFrame'>\n",
      "Index: 7043 entries, 7590-VHVEG to 3186-AJIEK\n",
      "Data columns (total 4 columns):\n",
      " #   Column         Non-Null Count  Dtype \n",
      "---  ------         --------------  ----- \n",
      " 0   gender         7043 non-null   object\n",
      " 1   SeniorCitizen  7043 non-null   int64 \n",
      " 2   Partner        7043 non-null   object\n",
      " 3   Dependents     7043 non-null   object\n",
      "dtypes: int64(1), object(3)\n",
      "memory usage: 275.1+ KB\n"
     ]
    },
    {
     "data": {
      "text/plain": [
       "None"
      ]
     },
     "metadata": {},
     "output_type": "display_data"
    },
    {
     "data": {
      "text/html": [
       "<div>\n",
       "<style scoped>\n",
       "    .dataframe tbody tr th:only-of-type {\n",
       "        vertical-align: middle;\n",
       "    }\n",
       "\n",
       "    .dataframe tbody tr th {\n",
       "        vertical-align: top;\n",
       "    }\n",
       "\n",
       "    .dataframe thead th {\n",
       "        text-align: right;\n",
       "    }\n",
       "</style>\n",
       "<table border=\"1\" class=\"dataframe\">\n",
       "  <thead>\n",
       "    <tr style=\"text-align: right;\">\n",
       "      <th></th>\n",
       "      <th>SeniorCitizen</th>\n",
       "    </tr>\n",
       "  </thead>\n",
       "  <tbody>\n",
       "    <tr>\n",
       "      <th>count</th>\n",
       "      <td>7043.000000</td>\n",
       "    </tr>\n",
       "    <tr>\n",
       "      <th>mean</th>\n",
       "      <td>0.162147</td>\n",
       "    </tr>\n",
       "    <tr>\n",
       "      <th>std</th>\n",
       "      <td>0.368612</td>\n",
       "    </tr>\n",
       "    <tr>\n",
       "      <th>min</th>\n",
       "      <td>0.000000</td>\n",
       "    </tr>\n",
       "    <tr>\n",
       "      <th>25%</th>\n",
       "      <td>0.000000</td>\n",
       "    </tr>\n",
       "    <tr>\n",
       "      <th>50%</th>\n",
       "      <td>0.000000</td>\n",
       "    </tr>\n",
       "    <tr>\n",
       "      <th>75%</th>\n",
       "      <td>0.000000</td>\n",
       "    </tr>\n",
       "    <tr>\n",
       "      <th>max</th>\n",
       "      <td>1.000000</td>\n",
       "    </tr>\n",
       "  </tbody>\n",
       "</table>\n",
       "</div>"
      ],
      "text/plain": [
       "       SeniorCitizen\n",
       "count    7043.000000\n",
       "mean        0.162147\n",
       "std         0.368612\n",
       "min         0.000000\n",
       "25%         0.000000\n",
       "50%         0.000000\n",
       "75%         0.000000\n",
       "max         1.000000"
      ]
     },
     "metadata": {},
     "output_type": "display_data"
    },
    {
     "data": {
      "text/html": [
       "<div>\n",
       "<style scoped>\n",
       "    .dataframe tbody tr th:only-of-type {\n",
       "        vertical-align: middle;\n",
       "    }\n",
       "\n",
       "    .dataframe tbody tr th {\n",
       "        vertical-align: top;\n",
       "    }\n",
       "\n",
       "    .dataframe thead th {\n",
       "        text-align: right;\n",
       "    }\n",
       "</style>\n",
       "<table border=\"1\" class=\"dataframe\">\n",
       "  <thead>\n",
       "    <tr style=\"text-align: right;\">\n",
       "      <th></th>\n",
       "      <th>SeniorCitizen</th>\n",
       "    </tr>\n",
       "  </thead>\n",
       "  <tbody>\n",
       "    <tr>\n",
       "      <th>SeniorCitizen</th>\n",
       "      <td>1.0</td>\n",
       "    </tr>\n",
       "  </tbody>\n",
       "</table>\n",
       "</div>"
      ],
      "text/plain": [
       "               SeniorCitizen\n",
       "SeniorCitizen            1.0"
      ]
     },
     "metadata": {},
     "output_type": "display_data"
    }
   ],
   "source": [
    "# Информация о таблице personal\n",
    "table_info(personal)"
   ]
  },
  {
   "cell_type": "code",
   "execution_count": 9,
   "id": "a0127c18",
   "metadata": {},
   "outputs": [
    {
     "data": {
      "text/html": [
       "<div>\n",
       "<style scoped>\n",
       "    .dataframe tbody tr th:only-of-type {\n",
       "        vertical-align: middle;\n",
       "    }\n",
       "\n",
       "    .dataframe tbody tr th {\n",
       "        vertical-align: top;\n",
       "    }\n",
       "\n",
       "    .dataframe thead th {\n",
       "        text-align: right;\n",
       "    }\n",
       "</style>\n",
       "<table border=\"1\" class=\"dataframe\">\n",
       "  <thead>\n",
       "    <tr style=\"text-align: right;\">\n",
       "      <th></th>\n",
       "      <th>MultipleLines</th>\n",
       "    </tr>\n",
       "    <tr>\n",
       "      <th>customerID</th>\n",
       "      <th></th>\n",
       "    </tr>\n",
       "  </thead>\n",
       "  <tbody>\n",
       "    <tr>\n",
       "      <th>5575-GNVDE</th>\n",
       "      <td>No</td>\n",
       "    </tr>\n",
       "    <tr>\n",
       "      <th>3668-QPYBK</th>\n",
       "      <td>No</td>\n",
       "    </tr>\n",
       "    <tr>\n",
       "      <th>9237-HQITU</th>\n",
       "      <td>No</td>\n",
       "    </tr>\n",
       "    <tr>\n",
       "      <th>9305-CDSKC</th>\n",
       "      <td>Yes</td>\n",
       "    </tr>\n",
       "    <tr>\n",
       "      <th>1452-KIOVK</th>\n",
       "      <td>Yes</td>\n",
       "    </tr>\n",
       "  </tbody>\n",
       "</table>\n",
       "</div>"
      ],
      "text/plain": [
       "           MultipleLines\n",
       "customerID              \n",
       "5575-GNVDE            No\n",
       "3668-QPYBK            No\n",
       "9237-HQITU            No\n",
       "9305-CDSKC           Yes\n",
       "1452-KIOVK           Yes"
      ]
     },
     "metadata": {},
     "output_type": "display_data"
    },
    {
     "name": "stdout",
     "output_type": "stream",
     "text": [
      "<class 'pandas.core.frame.DataFrame'>\n",
      "Index: 6361 entries, 5575-GNVDE to 3186-AJIEK\n",
      "Data columns (total 1 columns):\n",
      " #   Column         Non-Null Count  Dtype \n",
      "---  ------         --------------  ----- \n",
      " 0   MultipleLines  6361 non-null   object\n",
      "dtypes: object(1)\n",
      "memory usage: 99.4+ KB\n"
     ]
    },
    {
     "data": {
      "text/plain": [
       "None"
      ]
     },
     "metadata": {},
     "output_type": "display_data"
    },
    {
     "data": {
      "text/html": [
       "<div>\n",
       "<style scoped>\n",
       "    .dataframe tbody tr th:only-of-type {\n",
       "        vertical-align: middle;\n",
       "    }\n",
       "\n",
       "    .dataframe tbody tr th {\n",
       "        vertical-align: top;\n",
       "    }\n",
       "\n",
       "    .dataframe thead th {\n",
       "        text-align: right;\n",
       "    }\n",
       "</style>\n",
       "<table border=\"1\" class=\"dataframe\">\n",
       "  <thead>\n",
       "    <tr style=\"text-align: right;\">\n",
       "      <th></th>\n",
       "      <th>MultipleLines</th>\n",
       "    </tr>\n",
       "  </thead>\n",
       "  <tbody>\n",
       "    <tr>\n",
       "      <th>count</th>\n",
       "      <td>6361</td>\n",
       "    </tr>\n",
       "    <tr>\n",
       "      <th>unique</th>\n",
       "      <td>2</td>\n",
       "    </tr>\n",
       "    <tr>\n",
       "      <th>top</th>\n",
       "      <td>No</td>\n",
       "    </tr>\n",
       "    <tr>\n",
       "      <th>freq</th>\n",
       "      <td>3390</td>\n",
       "    </tr>\n",
       "  </tbody>\n",
       "</table>\n",
       "</div>"
      ],
      "text/plain": [
       "       MultipleLines\n",
       "count           6361\n",
       "unique             2\n",
       "top               No\n",
       "freq            3390"
      ]
     },
     "metadata": {},
     "output_type": "display_data"
    },
    {
     "data": {
      "text/html": [
       "<div>\n",
       "<style scoped>\n",
       "    .dataframe tbody tr th:only-of-type {\n",
       "        vertical-align: middle;\n",
       "    }\n",
       "\n",
       "    .dataframe tbody tr th {\n",
       "        vertical-align: top;\n",
       "    }\n",
       "\n",
       "    .dataframe thead th {\n",
       "        text-align: right;\n",
       "    }\n",
       "</style>\n",
       "<table border=\"1\" class=\"dataframe\">\n",
       "  <thead>\n",
       "    <tr style=\"text-align: right;\">\n",
       "      <th></th>\n",
       "    </tr>\n",
       "  </thead>\n",
       "  <tbody>\n",
       "  </tbody>\n",
       "</table>\n",
       "</div>"
      ],
      "text/plain": [
       "Empty DataFrame\n",
       "Columns: []\n",
       "Index: []"
      ]
     },
     "metadata": {},
     "output_type": "display_data"
    }
   ],
   "source": [
    "# Информация о таблице phone\n",
    "table_info(phone)"
   ]
  },
  {
   "cell_type": "code",
   "execution_count": 10,
   "id": "b73c2851",
   "metadata": {},
   "outputs": [
    {
     "data": {
      "text/html": [
       "<div>\n",
       "<style scoped>\n",
       "    .dataframe tbody tr th:only-of-type {\n",
       "        vertical-align: middle;\n",
       "    }\n",
       "\n",
       "    .dataframe tbody tr th {\n",
       "        vertical-align: top;\n",
       "    }\n",
       "\n",
       "    .dataframe thead th {\n",
       "        text-align: right;\n",
       "    }\n",
       "</style>\n",
       "<table border=\"1\" class=\"dataframe\">\n",
       "  <thead>\n",
       "    <tr style=\"text-align: right;\">\n",
       "      <th></th>\n",
       "      <th>InternetService</th>\n",
       "      <th>OnlineSecurity</th>\n",
       "      <th>OnlineBackup</th>\n",
       "      <th>DeviceProtection</th>\n",
       "      <th>TechSupport</th>\n",
       "      <th>StreamingTV</th>\n",
       "      <th>StreamingMovies</th>\n",
       "    </tr>\n",
       "    <tr>\n",
       "      <th>customerID</th>\n",
       "      <th></th>\n",
       "      <th></th>\n",
       "      <th></th>\n",
       "      <th></th>\n",
       "      <th></th>\n",
       "      <th></th>\n",
       "      <th></th>\n",
       "    </tr>\n",
       "  </thead>\n",
       "  <tbody>\n",
       "    <tr>\n",
       "      <th>7590-VHVEG</th>\n",
       "      <td>DSL</td>\n",
       "      <td>No</td>\n",
       "      <td>Yes</td>\n",
       "      <td>No</td>\n",
       "      <td>No</td>\n",
       "      <td>No</td>\n",
       "      <td>No</td>\n",
       "    </tr>\n",
       "    <tr>\n",
       "      <th>5575-GNVDE</th>\n",
       "      <td>DSL</td>\n",
       "      <td>Yes</td>\n",
       "      <td>No</td>\n",
       "      <td>Yes</td>\n",
       "      <td>No</td>\n",
       "      <td>No</td>\n",
       "      <td>No</td>\n",
       "    </tr>\n",
       "    <tr>\n",
       "      <th>3668-QPYBK</th>\n",
       "      <td>DSL</td>\n",
       "      <td>Yes</td>\n",
       "      <td>Yes</td>\n",
       "      <td>No</td>\n",
       "      <td>No</td>\n",
       "      <td>No</td>\n",
       "      <td>No</td>\n",
       "    </tr>\n",
       "    <tr>\n",
       "      <th>7795-CFOCW</th>\n",
       "      <td>DSL</td>\n",
       "      <td>Yes</td>\n",
       "      <td>No</td>\n",
       "      <td>Yes</td>\n",
       "      <td>Yes</td>\n",
       "      <td>No</td>\n",
       "      <td>No</td>\n",
       "    </tr>\n",
       "    <tr>\n",
       "      <th>9237-HQITU</th>\n",
       "      <td>Fiber optic</td>\n",
       "      <td>No</td>\n",
       "      <td>No</td>\n",
       "      <td>No</td>\n",
       "      <td>No</td>\n",
       "      <td>No</td>\n",
       "      <td>No</td>\n",
       "    </tr>\n",
       "  </tbody>\n",
       "</table>\n",
       "</div>"
      ],
      "text/plain": [
       "           InternetService OnlineSecurity OnlineBackup DeviceProtection  \\\n",
       "customerID                                                                \n",
       "7590-VHVEG             DSL             No          Yes               No   \n",
       "5575-GNVDE             DSL            Yes           No              Yes   \n",
       "3668-QPYBK             DSL            Yes          Yes               No   \n",
       "7795-CFOCW             DSL            Yes           No              Yes   \n",
       "9237-HQITU     Fiber optic             No           No               No   \n",
       "\n",
       "           TechSupport StreamingTV StreamingMovies  \n",
       "customerID                                          \n",
       "7590-VHVEG          No          No              No  \n",
       "5575-GNVDE          No          No              No  \n",
       "3668-QPYBK          No          No              No  \n",
       "7795-CFOCW         Yes          No              No  \n",
       "9237-HQITU          No          No              No  "
      ]
     },
     "metadata": {},
     "output_type": "display_data"
    },
    {
     "name": "stdout",
     "output_type": "stream",
     "text": [
      "<class 'pandas.core.frame.DataFrame'>\n",
      "Index: 5517 entries, 7590-VHVEG to 3186-AJIEK\n",
      "Data columns (total 7 columns):\n",
      " #   Column            Non-Null Count  Dtype \n",
      "---  ------            --------------  ----- \n",
      " 0   InternetService   5517 non-null   object\n",
      " 1   OnlineSecurity    5517 non-null   object\n",
      " 2   OnlineBackup      5517 non-null   object\n",
      " 3   DeviceProtection  5517 non-null   object\n",
      " 4   TechSupport       5517 non-null   object\n",
      " 5   StreamingTV       5517 non-null   object\n",
      " 6   StreamingMovies   5517 non-null   object\n",
      "dtypes: object(7)\n",
      "memory usage: 344.8+ KB\n"
     ]
    },
    {
     "data": {
      "text/plain": [
       "None"
      ]
     },
     "metadata": {},
     "output_type": "display_data"
    },
    {
     "data": {
      "text/html": [
       "<div>\n",
       "<style scoped>\n",
       "    .dataframe tbody tr th:only-of-type {\n",
       "        vertical-align: middle;\n",
       "    }\n",
       "\n",
       "    .dataframe tbody tr th {\n",
       "        vertical-align: top;\n",
       "    }\n",
       "\n",
       "    .dataframe thead th {\n",
       "        text-align: right;\n",
       "    }\n",
       "</style>\n",
       "<table border=\"1\" class=\"dataframe\">\n",
       "  <thead>\n",
       "    <tr style=\"text-align: right;\">\n",
       "      <th></th>\n",
       "      <th>InternetService</th>\n",
       "      <th>OnlineSecurity</th>\n",
       "      <th>OnlineBackup</th>\n",
       "      <th>DeviceProtection</th>\n",
       "      <th>TechSupport</th>\n",
       "      <th>StreamingTV</th>\n",
       "      <th>StreamingMovies</th>\n",
       "    </tr>\n",
       "  </thead>\n",
       "  <tbody>\n",
       "    <tr>\n",
       "      <th>count</th>\n",
       "      <td>5517</td>\n",
       "      <td>5517</td>\n",
       "      <td>5517</td>\n",
       "      <td>5517</td>\n",
       "      <td>5517</td>\n",
       "      <td>5517</td>\n",
       "      <td>5517</td>\n",
       "    </tr>\n",
       "    <tr>\n",
       "      <th>unique</th>\n",
       "      <td>2</td>\n",
       "      <td>2</td>\n",
       "      <td>2</td>\n",
       "      <td>2</td>\n",
       "      <td>2</td>\n",
       "      <td>2</td>\n",
       "      <td>2</td>\n",
       "    </tr>\n",
       "    <tr>\n",
       "      <th>top</th>\n",
       "      <td>Fiber optic</td>\n",
       "      <td>No</td>\n",
       "      <td>No</td>\n",
       "      <td>No</td>\n",
       "      <td>No</td>\n",
       "      <td>No</td>\n",
       "      <td>No</td>\n",
       "    </tr>\n",
       "    <tr>\n",
       "      <th>freq</th>\n",
       "      <td>3096</td>\n",
       "      <td>3498</td>\n",
       "      <td>3088</td>\n",
       "      <td>3095</td>\n",
       "      <td>3473</td>\n",
       "      <td>2810</td>\n",
       "      <td>2785</td>\n",
       "    </tr>\n",
       "  </tbody>\n",
       "</table>\n",
       "</div>"
      ],
      "text/plain": [
       "       InternetService OnlineSecurity OnlineBackup DeviceProtection  \\\n",
       "count             5517           5517         5517             5517   \n",
       "unique               2              2            2                2   \n",
       "top        Fiber optic             No           No               No   \n",
       "freq              3096           3498         3088             3095   \n",
       "\n",
       "       TechSupport StreamingTV StreamingMovies  \n",
       "count         5517        5517            5517  \n",
       "unique           2           2               2  \n",
       "top             No          No              No  \n",
       "freq          3473        2810            2785  "
      ]
     },
     "metadata": {},
     "output_type": "display_data"
    },
    {
     "data": {
      "text/html": [
       "<div>\n",
       "<style scoped>\n",
       "    .dataframe tbody tr th:only-of-type {\n",
       "        vertical-align: middle;\n",
       "    }\n",
       "\n",
       "    .dataframe tbody tr th {\n",
       "        vertical-align: top;\n",
       "    }\n",
       "\n",
       "    .dataframe thead th {\n",
       "        text-align: right;\n",
       "    }\n",
       "</style>\n",
       "<table border=\"1\" class=\"dataframe\">\n",
       "  <thead>\n",
       "    <tr style=\"text-align: right;\">\n",
       "      <th></th>\n",
       "    </tr>\n",
       "  </thead>\n",
       "  <tbody>\n",
       "  </tbody>\n",
       "</table>\n",
       "</div>"
      ],
      "text/plain": [
       "Empty DataFrame\n",
       "Columns: []\n",
       "Index: []"
      ]
     },
     "metadata": {},
     "output_type": "display_data"
    }
   ],
   "source": [
    "# Информация о таблице internet\n",
    "table_info(internet)"
   ]
  },
  {
   "cell_type": "markdown",
   "id": "259bbf4b",
   "metadata": {},
   "source": [
    "Рассмотрим каждую таблицу более подробно:"
   ]
  },
  {
   "cell_type": "markdown",
   "id": "a862e52c",
   "metadata": {},
   "source": [
    "### Таблица contract"
   ]
  },
  {
   "cell_type": "code",
   "execution_count": 1,
   "id": "22fab5db",
   "metadata": {},
   "outputs": [],
   "source": [
    "#for column in contract.columns:\n",
    "    #display(contract[column].value_counts())\n",
    "    #print()"
   ]
  },
  {
   "cell_type": "markdown",
   "id": "bc866849",
   "metadata": {},
   "source": [
    "Необходимо:\n",
    "* Заменить тип столбцов на столец с датой для: BeginDate, EndDate\n",
    "* Заменить тип на число с плавающей точкой для столбца TotalCharges\n",
    "* Столбцы Type, PaymentMethod - категориальные, будут закодированы OHE или LE \n",
    "* Столбец PaperlessBilling булев, будет заменены значения на 0 или 1 после объединения всех таблиц в одну"
   ]
  },
  {
   "cell_type": "code",
   "execution_count": 9,
   "id": "6bf9bcd0",
   "metadata": {},
   "outputs": [],
   "source": [
    "# Замена типа столбца BeginDate на дату\n",
    "contract['BeginDate'] = pd.to_datetime(contract['BeginDate'], format='%Y-%m-%d')"
   ]
  },
  {
   "cell_type": "code",
   "execution_count": 10,
   "id": "1e2c0162",
   "metadata": {},
   "outputs": [],
   "source": [
    "# Замена типа столбца EndDate на дату, No заменяется на NaT\n",
    "contract['EndDate'] = pd.to_datetime(contract['EndDate'], format='%Y-%m-%d', errors='coerce')"
   ]
  },
  {
   "cell_type": "code",
   "execution_count": 11,
   "id": "c8c32da6",
   "metadata": {},
   "outputs": [],
   "source": [
    "def contract_length(row):\n",
    "    \n",
    "    begin = row['BeginDate']\n",
    "    end = row['EndDate']\n",
    "\n",
    "    'Функция возвращает длительность контракта, если контракт действующий, возвращает NaT'\n",
    "    \n",
    "    if end != 'NaT':        \n",
    "        return end - begin"
   ]
  },
  {
   "cell_type": "code",
   "execution_count": 12,
   "id": "b13f639e",
   "metadata": {},
   "outputs": [],
   "source": [
    "# Подсчет длительности контракта\n",
    "contract['contract_length'] = contract.apply(contract_length, axis=1)"
   ]
  },
  {
   "cell_type": "code",
   "execution_count": 13,
   "id": "125fb7e4",
   "metadata": {},
   "outputs": [],
   "source": [
    "# Замена типа столбца TotalCharges на число с плавающей точкой, пропуски - Nan \n",
    "contract['TotalCharges'] = pd.to_numeric(contract['TotalCharges'], errors='coerce')"
   ]
  },
  {
   "cell_type": "code",
   "execution_count": 14,
   "id": "4a96f632",
   "metadata": {},
   "outputs": [],
   "source": [
    "# Заполним пропуски в столбце TotalCharges\n",
    "contract['TotalCharges'] = contract['TotalCharges'].fillna(0)"
   ]
  },
  {
   "cell_type": "code",
   "execution_count": 15,
   "id": "893bbfd6",
   "metadata": {},
   "outputs": [],
   "source": [
    "def total_charges_all(row):\n",
    "    \n",
    "    total = row['TotalCharges']\n",
    "    monthly = row['MonthlyCharges']\n",
    "\n",
    "    'Функция возвращает значение столбца MonthlyCharges, если значение TotalCharges равно 0'\n",
    "    \n",
    "    if total == 0:        \n",
    "        return monthly\n",
    "    else:\n",
    "        return total"
   ]
  },
  {
   "cell_type": "code",
   "execution_count": 16,
   "id": "eee55a0d",
   "metadata": {},
   "outputs": [],
   "source": [
    "contract['TotalCharges'] = contract.apply(total_charges_all, axis=1)"
   ]
  },
  {
   "cell_type": "code",
   "execution_count": 17,
   "id": "2922009a",
   "metadata": {},
   "outputs": [
    {
     "data": {
      "text/html": [
       "<div>\n",
       "<style scoped>\n",
       "    .dataframe tbody tr th:only-of-type {\n",
       "        vertical-align: middle;\n",
       "    }\n",
       "\n",
       "    .dataframe tbody tr th {\n",
       "        vertical-align: top;\n",
       "    }\n",
       "\n",
       "    .dataframe thead th {\n",
       "        text-align: right;\n",
       "    }\n",
       "</style>\n",
       "<table border=\"1\" class=\"dataframe\">\n",
       "  <thead>\n",
       "    <tr style=\"text-align: right;\">\n",
       "      <th></th>\n",
       "      <th>BeginDate</th>\n",
       "      <th>EndDate</th>\n",
       "      <th>Type</th>\n",
       "      <th>PaperlessBilling</th>\n",
       "      <th>PaymentMethod</th>\n",
       "      <th>MonthlyCharges</th>\n",
       "      <th>TotalCharges</th>\n",
       "      <th>contract_length</th>\n",
       "    </tr>\n",
       "    <tr>\n",
       "      <th>customerID</th>\n",
       "      <th></th>\n",
       "      <th></th>\n",
       "      <th></th>\n",
       "      <th></th>\n",
       "      <th></th>\n",
       "      <th></th>\n",
       "      <th></th>\n",
       "      <th></th>\n",
       "    </tr>\n",
       "  </thead>\n",
       "  <tbody>\n",
       "  </tbody>\n",
       "</table>\n",
       "</div>"
      ],
      "text/plain": [
       "Empty DataFrame\n",
       "Columns: [BeginDate, EndDate, Type, PaperlessBilling, PaymentMethod, MonthlyCharges, TotalCharges, contract_length]\n",
       "Index: []"
      ]
     },
     "metadata": {},
     "output_type": "display_data"
    }
   ],
   "source": [
    "# Проверяем, остались ли нулевые значения\n",
    "display(contract[contract['TotalCharges'] == 0])"
   ]
  },
  {
   "cell_type": "code",
   "execution_count": 18,
   "id": "3c684584",
   "metadata": {},
   "outputs": [],
   "source": [
    "# Изменяем тип столбца contract_length на число с плавающей точкой\n",
    "contract['contract_length'] = pd.to_numeric(contract['contract_length'].dt.days, downcast='integer')"
   ]
  },
  {
   "cell_type": "code",
   "execution_count": 19,
   "id": "a2a66687",
   "metadata": {},
   "outputs": [
    {
     "name": "stdout",
     "output_type": "stream",
     "text": [
      "<class 'pandas.core.frame.DataFrame'>\n",
      "Index: 7043 entries, 7590-VHVEG to 3186-AJIEK\n",
      "Data columns (total 8 columns):\n",
      " #   Column            Non-Null Count  Dtype         \n",
      "---  ------            --------------  -----         \n",
      " 0   BeginDate         7043 non-null   datetime64[ns]\n",
      " 1   EndDate           1869 non-null   datetime64[ns]\n",
      " 2   Type              7043 non-null   object        \n",
      " 3   PaperlessBilling  7043 non-null   object        \n",
      " 4   PaymentMethod     7043 non-null   object        \n",
      " 5   MonthlyCharges    7043 non-null   float64       \n",
      " 6   TotalCharges      7043 non-null   float64       \n",
      " 7   contract_length   1869 non-null   float64       \n",
      "dtypes: datetime64[ns](2), float64(3), object(3)\n",
      "memory usage: 495.2+ KB\n"
     ]
    }
   ],
   "source": [
    "contract.info()"
   ]
  },
  {
   "cell_type": "code",
   "execution_count": 20,
   "id": "695fae40",
   "metadata": {},
   "outputs": [
    {
     "data": {
      "text/html": [
       "<div>\n",
       "<style scoped>\n",
       "    .dataframe tbody tr th:only-of-type {\n",
       "        vertical-align: middle;\n",
       "    }\n",
       "\n",
       "    .dataframe tbody tr th {\n",
       "        vertical-align: top;\n",
       "    }\n",
       "\n",
       "    .dataframe thead th {\n",
       "        text-align: right;\n",
       "    }\n",
       "</style>\n",
       "<table border=\"1\" class=\"dataframe\">\n",
       "  <thead>\n",
       "    <tr style=\"text-align: right;\">\n",
       "      <th></th>\n",
       "      <th>BeginDate</th>\n",
       "      <th>EndDate</th>\n",
       "      <th>Type</th>\n",
       "      <th>PaperlessBilling</th>\n",
       "      <th>PaymentMethod</th>\n",
       "      <th>MonthlyCharges</th>\n",
       "      <th>TotalCharges</th>\n",
       "      <th>contract_length</th>\n",
       "    </tr>\n",
       "    <tr>\n",
       "      <th>customerID</th>\n",
       "      <th></th>\n",
       "      <th></th>\n",
       "      <th></th>\n",
       "      <th></th>\n",
       "      <th></th>\n",
       "      <th></th>\n",
       "      <th></th>\n",
       "      <th></th>\n",
       "    </tr>\n",
       "  </thead>\n",
       "  <tbody>\n",
       "    <tr>\n",
       "      <th>7590-VHVEG</th>\n",
       "      <td>2020-01-01</td>\n",
       "      <td>NaT</td>\n",
       "      <td>Month-to-month</td>\n",
       "      <td>Yes</td>\n",
       "      <td>Electronic check</td>\n",
       "      <td>29.85</td>\n",
       "      <td>29.85</td>\n",
       "      <td>NaN</td>\n",
       "    </tr>\n",
       "    <tr>\n",
       "      <th>5575-GNVDE</th>\n",
       "      <td>2017-04-01</td>\n",
       "      <td>NaT</td>\n",
       "      <td>One year</td>\n",
       "      <td>No</td>\n",
       "      <td>Mailed check</td>\n",
       "      <td>56.95</td>\n",
       "      <td>1889.50</td>\n",
       "      <td>NaN</td>\n",
       "    </tr>\n",
       "    <tr>\n",
       "      <th>3668-QPYBK</th>\n",
       "      <td>2019-10-01</td>\n",
       "      <td>2019-12-01</td>\n",
       "      <td>Month-to-month</td>\n",
       "      <td>Yes</td>\n",
       "      <td>Mailed check</td>\n",
       "      <td>53.85</td>\n",
       "      <td>108.15</td>\n",
       "      <td>61.0</td>\n",
       "    </tr>\n",
       "    <tr>\n",
       "      <th>7795-CFOCW</th>\n",
       "      <td>2016-05-01</td>\n",
       "      <td>NaT</td>\n",
       "      <td>One year</td>\n",
       "      <td>No</td>\n",
       "      <td>Bank transfer (automatic)</td>\n",
       "      <td>42.30</td>\n",
       "      <td>1840.75</td>\n",
       "      <td>NaN</td>\n",
       "    </tr>\n",
       "    <tr>\n",
       "      <th>9237-HQITU</th>\n",
       "      <td>2019-09-01</td>\n",
       "      <td>2019-11-01</td>\n",
       "      <td>Month-to-month</td>\n",
       "      <td>Yes</td>\n",
       "      <td>Electronic check</td>\n",
       "      <td>70.70</td>\n",
       "      <td>151.65</td>\n",
       "      <td>61.0</td>\n",
       "    </tr>\n",
       "  </tbody>\n",
       "</table>\n",
       "</div>"
      ],
      "text/plain": [
       "            BeginDate    EndDate            Type PaperlessBilling  \\\n",
       "customerID                                                          \n",
       "7590-VHVEG 2020-01-01        NaT  Month-to-month              Yes   \n",
       "5575-GNVDE 2017-04-01        NaT        One year               No   \n",
       "3668-QPYBK 2019-10-01 2019-12-01  Month-to-month              Yes   \n",
       "7795-CFOCW 2016-05-01        NaT        One year               No   \n",
       "9237-HQITU 2019-09-01 2019-11-01  Month-to-month              Yes   \n",
       "\n",
       "                        PaymentMethod  MonthlyCharges  TotalCharges  \\\n",
       "customerID                                                            \n",
       "7590-VHVEG           Electronic check           29.85         29.85   \n",
       "5575-GNVDE               Mailed check           56.95       1889.50   \n",
       "3668-QPYBK               Mailed check           53.85        108.15   \n",
       "7795-CFOCW  Bank transfer (automatic)           42.30       1840.75   \n",
       "9237-HQITU           Electronic check           70.70        151.65   \n",
       "\n",
       "            contract_length  \n",
       "customerID                   \n",
       "7590-VHVEG              NaN  \n",
       "5575-GNVDE              NaN  \n",
       "3668-QPYBK             61.0  \n",
       "7795-CFOCW              NaN  \n",
       "9237-HQITU             61.0  "
      ]
     },
     "execution_count": 20,
     "metadata": {},
     "output_type": "execute_result"
    }
   ],
   "source": [
    "contract.head()"
   ]
  },
  {
   "cell_type": "code",
   "execution_count": 21,
   "id": "bd8b51d7",
   "metadata": {},
   "outputs": [],
   "source": [
    "def serie_hist(serie, bins=0):\n",
    "    '''\n",
    "    Фунция получает столбец датафрейма, берет значения из метода .describe(),\n",
    "    левая граница графика - минимальное значение, правая - максимальное,\n",
    "    (рассчитывает по полученным значениям левую и правую границу графика),\n",
    "    рассчитывает количество bins, передает полученные значения .hist()\n",
    "    и строит график \n",
    "    '''\n",
    "    # Присваиваем имена параметрам из .describe()\n",
    "    serie_desc = serie.describe()\n",
    "    mean = serie_desc[1]\n",
    "    std = serie_desc[2]\n",
    "    min_desc = serie_desc[3]\n",
    "    q25 = serie_desc[4]\n",
    "    median = serie_desc[5]\n",
    "    q75 = serie_desc[6]\n",
    "    max_desc = serie_desc[7]\n",
    "        \n",
    "    # Рассчитываем левую и правую границу с учетом перцентилей \n",
    "    # и проверяем, не выходяит ли границы за минимальное и максимальное значения\n",
    "    left = min_desc\n",
    "    right = max_desc\n",
    "    \n",
    "    #left = q25 - (q75-q25)*1.5\n",
    "    #right = q75 + (q75-q25)*1.5\n",
    "    #if left < min_desc:\n",
    "        #left = min_desc\n",
    "    #if right > max_desc:\n",
    "        #right = max_desc\n",
    "     \n",
    "    # Рассчитываем параметр bins, заменяем в том случае, если параметр не был задан\n",
    "    # или он получился слишком большим\n",
    "    if bins == 0:\n",
    "        bins = right - left\n",
    "        if bins > 100:\n",
    "            bins = 100\n",
    "        elif bins < 1:\n",
    "            bins = abs(bins*10)\n",
    "        bins = int(bins)\n",
    "    else:\n",
    "        bins = bins\n",
    "    \n",
    "    # Строим график\n",
    "    serie.hist(bins=bins, range=(left, right))\n",
    "    \n",
    "    variance_serie = np.var(serie, ddof=1)\n",
    "    standart = np.std(serie, ddof=1)\n",
    "    print(serie_desc)\n",
    "    print(f'Среднее значение: {round(mean,2)}')\n",
    "    print(f'Дисперсия: {round(variance_serie,2)}')\n",
    "    print(f'Стандартное отклонение: {round(standart,2)}')\n",
    "    return (mean, variance_serie, standart)"
   ]
  },
  {
   "cell_type": "code",
   "execution_count": 24,
   "id": "d24f1216",
   "metadata": {},
   "outputs": [
    {
     "name": "stdout",
     "output_type": "stream",
     "text": [
      "count    1869.000000\n",
      "mean      547.352060\n",
      "std       594.389607\n",
      "min        30.000000\n",
      "25%        61.000000\n",
      "50%       304.000000\n",
      "75%       883.000000\n",
      "max      2191.000000\n",
      "Name: contract_length, dtype: float64\n",
      "Среднее значение: 547.35\n",
      "Дисперсия: 353299.0\n",
      "Стандартное отклонение: 594.39\n"
     ]
    },
    {
     "data": {
      "text/plain": [
       "Text(0.5, 1.0, 'Гистограмма длительности контрактов')"
      ]
     },
     "execution_count": 24,
     "metadata": {},
     "output_type": "execute_result"
    },
    {
     "data": {
      "image/png": "[encoded data removed]",
      "text/plain": [
       "<Figure size 720x504 with 1 Axes>"
      ]
     },
     "metadata": {
      "needs_background": "light"
     },
     "output_type": "display_data"
    }
   ],
   "source": [
    "plt.figure(figsize=(10,7))\n",
    "serie_hist(contract[contract['contract_length'].notnull()]['contract_length'])\n",
    "plt.title('Гистограмма длительности контрактов')"
   ]
  },
  {
   "cell_type": "markdown",
   "id": "ac61cf0b",
   "metadata": {},
   "source": [
    "На графике и подсчитанных значениях видно, что очень много данных имеют значение 30-61 день длительности контракта, значит клиенты уже в первый месяц пользования услугами понимают, что не хотят ими пользоваться."
   ]
  },
  {
   "cell_type": "code",
   "execution_count": 22,
   "id": "d82e4816",
   "metadata": {},
   "outputs": [
    {
     "data": {
      "text/html": [
       "<div>\n",
       "<style scoped>\n",
       "    .dataframe tbody tr th:only-of-type {\n",
       "        vertical-align: middle;\n",
       "    }\n",
       "\n",
       "    .dataframe tbody tr th {\n",
       "        vertical-align: top;\n",
       "    }\n",
       "\n",
       "    .dataframe thead th {\n",
       "        text-align: right;\n",
       "    }\n",
       "</style>\n",
       "<table border=\"1\" class=\"dataframe\">\n",
       "  <thead>\n",
       "    <tr style=\"text-align: right;\">\n",
       "      <th></th>\n",
       "      <th>MonthlyCharges</th>\n",
       "      <th>TotalCharges</th>\n",
       "      <th>contract_length</th>\n",
       "    </tr>\n",
       "  </thead>\n",
       "  <tbody>\n",
       "    <tr>\n",
       "      <th>MonthlyCharges</th>\n",
       "      <td>1.000000</td>\n",
       "      <td>0.651182</td>\n",
       "      <td>0.401331</td>\n",
       "    </tr>\n",
       "    <tr>\n",
       "      <th>TotalCharges</th>\n",
       "      <td>0.651182</td>\n",
       "      <td>1.000000</td>\n",
       "      <td>0.954027</td>\n",
       "    </tr>\n",
       "    <tr>\n",
       "      <th>contract_length</th>\n",
       "      <td>0.401331</td>\n",
       "      <td>0.954027</td>\n",
       "      <td>1.000000</td>\n",
       "    </tr>\n",
       "  </tbody>\n",
       "</table>\n",
       "</div>"
      ],
      "text/plain": [
       "                 MonthlyCharges  TotalCharges  contract_length\n",
       "MonthlyCharges         1.000000      0.651182         0.401331\n",
       "TotalCharges           0.651182      1.000000         0.954027\n",
       "contract_length        0.401331      0.954027         1.000000"
      ]
     },
     "execution_count": 22,
     "metadata": {},
     "output_type": "execute_result"
    }
   ],
   "source": [
    "# Корреляция столбцов с оплатой и длиной контракта\n",
    "contract.corr()"
   ]
  },
  {
   "cell_type": "code",
   "execution_count": 23,
   "id": "67ec1755",
   "metadata": {},
   "outputs": [],
   "source": [
    "contract_end = contract[contract['contract_length'].notnull()]"
   ]
  },
  {
   "cell_type": "code",
   "execution_count": 24,
   "id": "bd3f2327",
   "metadata": {},
   "outputs": [
    {
     "name": "stdout",
     "output_type": "stream",
     "text": [
      "count    1869.000000\n",
      "mean     2017.834671\n",
      "std         1.566498\n",
      "min      2013.000000\n",
      "25%      2017.000000\n",
      "50%      2019.000000\n",
      "75%      2019.000000\n",
      "max      2019.000000\n",
      "Name: BeginDate, dtype: float64\n",
      "Среднее значение: 2017.83\n",
      "Дисперсия: 2.45\n",
      "Стандартное отклонение: 1.57\n"
     ]
    },
    {
     "data": {
      "text/plain": [
       "Text(0.5, 1.0, 'Гистограмма начала контракта клиентов, которые его разорвали')"
      ]
     },
     "execution_count": 24,
     "metadata": {},
     "output_type": "execute_result"
    },
    {
     "data": {
      "image/png": "[encoded data removed]",
      "text/plain": [
       "<Figure size 720x504 with 1 Axes>"
      ]
     },
     "metadata": {
      "needs_background": "light"
     },
     "output_type": "display_data"
    }
   ],
   "source": [
    "plt.figure(figsize=(10,7))\n",
    "serie_hist(contract_end['BeginDate'].dt.year)\n",
    "plt.title('Гистограмма начала контракта клиентов, которые его разорвали')"
   ]
  },
  {
   "cell_type": "markdown",
   "id": "b5984e64",
   "metadata": {},
   "source": [
    "Так как длительность разорванных контрактов, в основном, 30-61 день, очевидно, что заключены они были в последний год, перед выгрузкой данных (01.02.2020)."
   ]
  },
  {
   "cell_type": "code",
   "execution_count": 25,
   "id": "4796a0b5",
   "metadata": {},
   "outputs": [
    {
     "data": {
      "text/html": [
       "<div>\n",
       "<style scoped>\n",
       "    .dataframe tbody tr th:only-of-type {\n",
       "        vertical-align: middle;\n",
       "    }\n",
       "\n",
       "    .dataframe tbody tr th {\n",
       "        vertical-align: top;\n",
       "    }\n",
       "\n",
       "    .dataframe thead th {\n",
       "        text-align: right;\n",
       "    }\n",
       "</style>\n",
       "<table border=\"1\" class=\"dataframe\">\n",
       "  <thead>\n",
       "    <tr style=\"text-align: right;\">\n",
       "      <th></th>\n",
       "      <th></th>\n",
       "      <th>Type</th>\n",
       "    </tr>\n",
       "    <tr>\n",
       "      <th>EndDate</th>\n",
       "      <th>EndDate</th>\n",
       "      <th></th>\n",
       "    </tr>\n",
       "  </thead>\n",
       "  <tbody>\n",
       "    <tr>\n",
       "      <th rowspan=\"3\" valign=\"top\">2019</th>\n",
       "      <th>10</th>\n",
       "      <td>458</td>\n",
       "    </tr>\n",
       "    <tr>\n",
       "      <th>11</th>\n",
       "      <td>485</td>\n",
       "    </tr>\n",
       "    <tr>\n",
       "      <th>12</th>\n",
       "      <td>466</td>\n",
       "    </tr>\n",
       "    <tr>\n",
       "      <th>2020</th>\n",
       "      <th>1</th>\n",
       "      <td>460</td>\n",
       "    </tr>\n",
       "  </tbody>\n",
       "</table>\n",
       "</div>"
      ],
      "text/plain": [
       "                 Type\n",
       "EndDate EndDate      \n",
       "2019    10        458\n",
       "        11        485\n",
       "        12        466\n",
       "2020    1         460"
      ]
     },
     "execution_count": 25,
     "metadata": {},
     "output_type": "execute_result"
    }
   ],
   "source": [
    "(contract_end.pivot_table(index=[contract_end['EndDate'].dt.year,\n",
    "                                 contract_end['EndDate'].dt.month],\n",
    "              values='Type', aggfunc='count'))"
   ]
  },
  {
   "cell_type": "code",
   "execution_count": 26,
   "id": "95657052",
   "metadata": {},
   "outputs": [
    {
     "data": {
      "text/plain": [
       "26.54"
      ]
     },
     "execution_count": 26,
     "metadata": {},
     "output_type": "execute_result"
    }
   ],
   "source": [
    "# Процент ушедших клиентов\n",
    "round(contract_end.shape[0]/contract.shape[0]*100,2)"
   ]
  },
  {
   "cell_type": "markdown",
   "id": "13077890",
   "metadata": {},
   "source": [
    "#### Вывод по таблице contract"
   ]
  },
  {
   "cell_type": "markdown",
   "id": "796e878c",
   "metadata": {},
   "source": [
    "26,54% ушедших клиентов (всего 7043 клиента), значит данные не сбалансированы. Но сам факт такого количества не очень хороший показатель компании. Также много клиентов, которые недолго пользовались услугами (месяц-два), значит проблемы, которые не позволили дальше пользоваться, появились сразу."
   ]
  },
  {
   "cell_type": "markdown",
   "id": "89d3addf",
   "metadata": {},
   "source": [
    "### Таблица personal"
   ]
  },
  {
   "cell_type": "code",
   "execution_count": 27,
   "id": "53ac7419",
   "metadata": {},
   "outputs": [
    {
     "data": {
      "text/plain": [
       "Male      3555\n",
       "Female    3488\n",
       "Name: gender, dtype: int64"
      ]
     },
     "metadata": {},
     "output_type": "display_data"
    },
    {
     "name": "stdout",
     "output_type": "stream",
     "text": [
      "\n"
     ]
    },
    {
     "data": {
      "text/plain": [
       "0    5901\n",
       "1    1142\n",
       "Name: SeniorCitizen, dtype: int64"
      ]
     },
     "metadata": {},
     "output_type": "display_data"
    },
    {
     "name": "stdout",
     "output_type": "stream",
     "text": [
      "\n"
     ]
    },
    {
     "data": {
      "text/plain": [
       "No     3641\n",
       "Yes    3402\n",
       "Name: Partner, dtype: int64"
      ]
     },
     "metadata": {},
     "output_type": "display_data"
    },
    {
     "name": "stdout",
     "output_type": "stream",
     "text": [
      "\n"
     ]
    },
    {
     "data": {
      "text/plain": [
       "No     4933\n",
       "Yes    2110\n",
       "Name: Dependents, dtype: int64"
      ]
     },
     "metadata": {},
     "output_type": "display_data"
    },
    {
     "name": "stdout",
     "output_type": "stream",
     "text": [
      "\n"
     ]
    }
   ],
   "source": [
    "for column in personal.columns:\n",
    "    display(personal[column].value_counts())\n",
    "    print()"
   ]
  },
  {
   "cell_type": "markdown",
   "id": "f6558e58",
   "metadata": {},
   "source": [
    "#### Вывод по таблице personal"
   ]
  },
  {
   "cell_type": "markdown",
   "id": "957ae40d",
   "metadata": {},
   "source": [
    "Все признаки бинарные, замену на 0/1 произведем, когда объединим все таблицы, пропусков нет."
   ]
  },
  {
   "cell_type": "markdown",
   "id": "726cf391",
   "metadata": {},
   "source": [
    "### Таблица phone"
   ]
  },
  {
   "cell_type": "code",
   "execution_count": 28,
   "id": "4fa01107",
   "metadata": {},
   "outputs": [
    {
     "data": {
      "text/plain": [
       "No     3390\n",
       "Yes    2971\n",
       "Name: MultipleLines, dtype: int64"
      ]
     },
     "metadata": {},
     "output_type": "display_data"
    }
   ],
   "source": [
    "for column in phone.columns:\n",
    "    display(phone[column].value_counts())"
   ]
  },
  {
   "cell_type": "markdown",
   "id": "bea292af",
   "metadata": {},
   "source": [
    "#### Вывод по таблице phone"
   ]
  },
  {
   "cell_type": "markdown",
   "id": "6f34fc7f",
   "metadata": {},
   "source": [
    "Признак бинарный, данные имеются о 6361 клиенте. Необходимо заменить на 0/1 и заполнить данные об 700 отсутствующих человек.\n",
    "Так как это наличие возможности ведения параллельных линий во время звонка, если данных нет, можно предположить, что у клиента нет этой возможности."
   ]
  },
  {
   "cell_type": "markdown",
   "id": "3fd27c33",
   "metadata": {},
   "source": [
    "### Таблица internet"
   ]
  },
  {
   "cell_type": "code",
   "execution_count": 29,
   "id": "adc23a88",
   "metadata": {},
   "outputs": [
    {
     "data": {
      "text/plain": [
       "Fiber optic    3096\n",
       "DSL            2421\n",
       "Name: InternetService, dtype: int64"
      ]
     },
     "metadata": {},
     "output_type": "display_data"
    },
    {
     "name": "stdout",
     "output_type": "stream",
     "text": [
      "\n"
     ]
    },
    {
     "data": {
      "text/plain": [
       "No     3498\n",
       "Yes    2019\n",
       "Name: OnlineSecurity, dtype: int64"
      ]
     },
     "metadata": {},
     "output_type": "display_data"
    },
    {
     "name": "stdout",
     "output_type": "stream",
     "text": [
      "\n"
     ]
    },
    {
     "data": {
      "text/plain": [
       "No     3088\n",
       "Yes    2429\n",
       "Name: OnlineBackup, dtype: int64"
      ]
     },
     "metadata": {},
     "output_type": "display_data"
    },
    {
     "name": "stdout",
     "output_type": "stream",
     "text": [
      "\n"
     ]
    },
    {
     "data": {
      "text/plain": [
       "No     3095\n",
       "Yes    2422\n",
       "Name: DeviceProtection, dtype: int64"
      ]
     },
     "metadata": {},
     "output_type": "display_data"
    },
    {
     "name": "stdout",
     "output_type": "stream",
     "text": [
      "\n"
     ]
    },
    {
     "data": {
      "text/plain": [
       "No     3473\n",
       "Yes    2044\n",
       "Name: TechSupport, dtype: int64"
      ]
     },
     "metadata": {},
     "output_type": "display_data"
    },
    {
     "name": "stdout",
     "output_type": "stream",
     "text": [
      "\n"
     ]
    },
    {
     "data": {
      "text/plain": [
       "No     2810\n",
       "Yes    2707\n",
       "Name: StreamingTV, dtype: int64"
      ]
     },
     "metadata": {},
     "output_type": "display_data"
    },
    {
     "name": "stdout",
     "output_type": "stream",
     "text": [
      "\n"
     ]
    },
    {
     "data": {
      "text/plain": [
       "No     2785\n",
       "Yes    2732\n",
       "Name: StreamingMovies, dtype: int64"
      ]
     },
     "metadata": {},
     "output_type": "display_data"
    },
    {
     "name": "stdout",
     "output_type": "stream",
     "text": [
      "\n"
     ]
    }
   ],
   "source": [
    "for column in internet.columns:\n",
    "    display(internet[column].value_counts())\n",
    "    print()"
   ]
  },
  {
   "cell_type": "markdown",
   "id": "aeb36f18",
   "metadata": {},
   "source": [
    "#### Вывод по таблице internet"
   ]
  },
  {
   "cell_type": "markdown",
   "id": "3bdd9efe",
   "metadata": {},
   "source": [
    "Все признаки бинарные, опять данные не по всем клиентам (видимо, не используют интернет). Замену на 0/1 произведем после объединения таблиц."
   ]
  },
  {
   "cell_type": "markdown",
   "id": "d4ef5b78",
   "metadata": {},
   "source": [
    "### Вывод"
   ]
  },
  {
   "cell_type": "markdown",
   "id": "165183da",
   "metadata": {},
   "source": [
    "Было загружено и проанализировано 4 таблицы с информацией о клиентах и услугах, которыми они пользуются. Также исходя из данных, можно сделать вывод о том, что очень много клиентов ушло в последние месяц-два."
   ]
  },
  {
   "cell_type": "markdown",
   "id": "0b1733bf",
   "metadata": {},
   "source": [
    "## Подготовка данных"
   ]
  },
  {
   "cell_type": "markdown",
   "id": "39543960",
   "metadata": {},
   "source": [
    "### Объединение таблиц, заполнение пропусков"
   ]
  },
  {
   "cell_type": "markdown",
   "id": "7bf595f3",
   "metadata": {},
   "source": [
    "Объединим все таблицы в одну:"
   ]
  },
  {
   "cell_type": "code",
   "execution_count": 30,
   "id": "e07d5ccf",
   "metadata": {},
   "outputs": [],
   "source": [
    "df = pd.concat(objs=[contract, personal,phone,internet], axis=1)"
   ]
  },
  {
   "cell_type": "code",
   "execution_count": 31,
   "id": "1de7157a",
   "metadata": {},
   "outputs": [
    {
     "data": {
      "text/html": [
       "<div>\n",
       "<style scoped>\n",
       "    .dataframe tbody tr th:only-of-type {\n",
       "        vertical-align: middle;\n",
       "    }\n",
       "\n",
       "    .dataframe tbody tr th {\n",
       "        vertical-align: top;\n",
       "    }\n",
       "\n",
       "    .dataframe thead th {\n",
       "        text-align: right;\n",
       "    }\n",
       "</style>\n",
       "<table border=\"1\" class=\"dataframe\">\n",
       "  <thead>\n",
       "    <tr style=\"text-align: right;\">\n",
       "      <th></th>\n",
       "      <th>BeginDate</th>\n",
       "      <th>EndDate</th>\n",
       "      <th>Type</th>\n",
       "      <th>PaperlessBilling</th>\n",
       "      <th>PaymentMethod</th>\n",
       "      <th>MonthlyCharges</th>\n",
       "      <th>TotalCharges</th>\n",
       "      <th>contract_length</th>\n",
       "      <th>gender</th>\n",
       "      <th>SeniorCitizen</th>\n",
       "      <th>Partner</th>\n",
       "      <th>Dependents</th>\n",
       "      <th>MultipleLines</th>\n",
       "      <th>InternetService</th>\n",
       "      <th>OnlineSecurity</th>\n",
       "      <th>OnlineBackup</th>\n",
       "      <th>DeviceProtection</th>\n",
       "      <th>TechSupport</th>\n",
       "      <th>StreamingTV</th>\n",
       "      <th>StreamingMovies</th>\n",
       "    </tr>\n",
       "    <tr>\n",
       "      <th>customerID</th>\n",
       "      <th></th>\n",
       "      <th></th>\n",
       "      <th></th>\n",
       "      <th></th>\n",
       "      <th></th>\n",
       "      <th></th>\n",
       "      <th></th>\n",
       "      <th></th>\n",
       "      <th></th>\n",
       "      <th></th>\n",
       "      <th></th>\n",
       "      <th></th>\n",
       "      <th></th>\n",
       "      <th></th>\n",
       "      <th></th>\n",
       "      <th></th>\n",
       "      <th></th>\n",
       "      <th></th>\n",
       "      <th></th>\n",
       "      <th></th>\n",
       "    </tr>\n",
       "  </thead>\n",
       "  <tbody>\n",
       "    <tr>\n",
       "      <th>7590-VHVEG</th>\n",
       "      <td>2020-01-01</td>\n",
       "      <td>NaT</td>\n",
       "      <td>Month-to-month</td>\n",
       "      <td>Yes</td>\n",
       "      <td>Electronic check</td>\n",
       "      <td>29.85</td>\n",
       "      <td>29.85</td>\n",
       "      <td>NaN</td>\n",
       "      <td>Female</td>\n",
       "      <td>0</td>\n",
       "      <td>Yes</td>\n",
       "      <td>No</td>\n",
       "      <td>NaN</td>\n",
       "      <td>DSL</td>\n",
       "      <td>No</td>\n",
       "      <td>Yes</td>\n",
       "      <td>No</td>\n",
       "      <td>No</td>\n",
       "      <td>No</td>\n",
       "      <td>No</td>\n",
       "    </tr>\n",
       "    <tr>\n",
       "      <th>5575-GNVDE</th>\n",
       "      <td>2017-04-01</td>\n",
       "      <td>NaT</td>\n",
       "      <td>One year</td>\n",
       "      <td>No</td>\n",
       "      <td>Mailed check</td>\n",
       "      <td>56.95</td>\n",
       "      <td>1889.50</td>\n",
       "      <td>NaN</td>\n",
       "      <td>Male</td>\n",
       "      <td>0</td>\n",
       "      <td>No</td>\n",
       "      <td>No</td>\n",
       "      <td>No</td>\n",
       "      <td>DSL</td>\n",
       "      <td>Yes</td>\n",
       "      <td>No</td>\n",
       "      <td>Yes</td>\n",
       "      <td>No</td>\n",
       "      <td>No</td>\n",
       "      <td>No</td>\n",
       "    </tr>\n",
       "    <tr>\n",
       "      <th>3668-QPYBK</th>\n",
       "      <td>2019-10-01</td>\n",
       "      <td>2019-12-01</td>\n",
       "      <td>Month-to-month</td>\n",
       "      <td>Yes</td>\n",
       "      <td>Mailed check</td>\n",
       "      <td>53.85</td>\n",
       "      <td>108.15</td>\n",
       "      <td>61.0</td>\n",
       "      <td>Male</td>\n",
       "      <td>0</td>\n",
       "      <td>No</td>\n",
       "      <td>No</td>\n",
       "      <td>No</td>\n",
       "      <td>DSL</td>\n",
       "      <td>Yes</td>\n",
       "      <td>Yes</td>\n",
       "      <td>No</td>\n",
       "      <td>No</td>\n",
       "      <td>No</td>\n",
       "      <td>No</td>\n",
       "    </tr>\n",
       "    <tr>\n",
       "      <th>7795-CFOCW</th>\n",
       "      <td>2016-05-01</td>\n",
       "      <td>NaT</td>\n",
       "      <td>One year</td>\n",
       "      <td>No</td>\n",
       "      <td>Bank transfer (automatic)</td>\n",
       "      <td>42.30</td>\n",
       "      <td>1840.75</td>\n",
       "      <td>NaN</td>\n",
       "      <td>Male</td>\n",
       "      <td>0</td>\n",
       "      <td>No</td>\n",
       "      <td>No</td>\n",
       "      <td>NaN</td>\n",
       "      <td>DSL</td>\n",
       "      <td>Yes</td>\n",
       "      <td>No</td>\n",
       "      <td>Yes</td>\n",
       "      <td>Yes</td>\n",
       "      <td>No</td>\n",
       "      <td>No</td>\n",
       "    </tr>\n",
       "    <tr>\n",
       "      <th>9237-HQITU</th>\n",
       "      <td>2019-09-01</td>\n",
       "      <td>2019-11-01</td>\n",
       "      <td>Month-to-month</td>\n",
       "      <td>Yes</td>\n",
       "      <td>Electronic check</td>\n",
       "      <td>70.70</td>\n",
       "      <td>151.65</td>\n",
       "      <td>61.0</td>\n",
       "      <td>Female</td>\n",
       "      <td>0</td>\n",
       "      <td>No</td>\n",
       "      <td>No</td>\n",
       "      <td>No</td>\n",
       "      <td>Fiber optic</td>\n",
       "      <td>No</td>\n",
       "      <td>No</td>\n",
       "      <td>No</td>\n",
       "      <td>No</td>\n",
       "      <td>No</td>\n",
       "      <td>No</td>\n",
       "    </tr>\n",
       "  </tbody>\n",
       "</table>\n",
       "</div>"
      ],
      "text/plain": [
       "            BeginDate    EndDate            Type PaperlessBilling  \\\n",
       "customerID                                                          \n",
       "7590-VHVEG 2020-01-01        NaT  Month-to-month              Yes   \n",
       "5575-GNVDE 2017-04-01        NaT        One year               No   \n",
       "3668-QPYBK 2019-10-01 2019-12-01  Month-to-month              Yes   \n",
       "7795-CFOCW 2016-05-01        NaT        One year               No   \n",
       "9237-HQITU 2019-09-01 2019-11-01  Month-to-month              Yes   \n",
       "\n",
       "                        PaymentMethod  MonthlyCharges  TotalCharges  \\\n",
       "customerID                                                            \n",
       "7590-VHVEG           Electronic check           29.85         29.85   \n",
       "5575-GNVDE               Mailed check           56.95       1889.50   \n",
       "3668-QPYBK               Mailed check           53.85        108.15   \n",
       "7795-CFOCW  Bank transfer (automatic)           42.30       1840.75   \n",
       "9237-HQITU           Electronic check           70.70        151.65   \n",
       "\n",
       "            contract_length  gender  SeniorCitizen Partner Dependents  \\\n",
       "customerID                                                              \n",
       "7590-VHVEG              NaN  Female              0     Yes         No   \n",
       "5575-GNVDE              NaN    Male              0      No         No   \n",
       "3668-QPYBK             61.0    Male              0      No         No   \n",
       "7795-CFOCW              NaN    Male              0      No         No   \n",
       "9237-HQITU             61.0  Female              0      No         No   \n",
       "\n",
       "           MultipleLines InternetService OnlineSecurity OnlineBackup  \\\n",
       "customerID                                                             \n",
       "7590-VHVEG           NaN             DSL             No          Yes   \n",
       "5575-GNVDE            No             DSL            Yes           No   \n",
       "3668-QPYBK            No             DSL            Yes          Yes   \n",
       "7795-CFOCW           NaN             DSL            Yes           No   \n",
       "9237-HQITU            No     Fiber optic             No           No   \n",
       "\n",
       "           DeviceProtection TechSupport StreamingTV StreamingMovies  \n",
       "customerID                                                           \n",
       "7590-VHVEG               No          No          No              No  \n",
       "5575-GNVDE              Yes          No          No              No  \n",
       "3668-QPYBK               No          No          No              No  \n",
       "7795-CFOCW              Yes         Yes          No              No  \n",
       "9237-HQITU               No          No          No              No  "
      ]
     },
     "execution_count": 31,
     "metadata": {},
     "output_type": "execute_result"
    }
   ],
   "source": [
    "df.head()"
   ]
  },
  {
   "cell_type": "code",
   "execution_count": 32,
   "id": "f4d5aa82",
   "metadata": {},
   "outputs": [
    {
     "name": "stdout",
     "output_type": "stream",
     "text": [
      "<class 'pandas.core.frame.DataFrame'>\n",
      "Index: 7043 entries, 7590-VHVEG to 3186-AJIEK\n",
      "Data columns (total 20 columns):\n",
      " #   Column            Non-Null Count  Dtype         \n",
      "---  ------            --------------  -----         \n",
      " 0   BeginDate         7043 non-null   datetime64[ns]\n",
      " 1   EndDate           1869 non-null   datetime64[ns]\n",
      " 2   Type              7043 non-null   object        \n",
      " 3   PaperlessBilling  7043 non-null   object        \n",
      " 4   PaymentMethod     7043 non-null   object        \n",
      " 5   MonthlyCharges    7043 non-null   float64       \n",
      " 6   TotalCharges      7043 non-null   float64       \n",
      " 7   contract_length   1869 non-null   float64       \n",
      " 8   gender            7043 non-null   object        \n",
      " 9   SeniorCitizen     7043 non-null   int64         \n",
      " 10  Partner           7043 non-null   object        \n",
      " 11  Dependents        7043 non-null   object        \n",
      " 12  MultipleLines     6361 non-null   object        \n",
      " 13  InternetService   5517 non-null   object        \n",
      " 14  OnlineSecurity    5517 non-null   object        \n",
      " 15  OnlineBackup      5517 non-null   object        \n",
      " 16  DeviceProtection  5517 non-null   object        \n",
      " 17  TechSupport       5517 non-null   object        \n",
      " 18  StreamingTV       5517 non-null   object        \n",
      " 19  StreamingMovies   5517 non-null   object        \n",
      "dtypes: datetime64[ns](2), float64(3), int64(1), object(14)\n",
      "memory usage: 1.1+ MB\n"
     ]
    }
   ],
   "source": [
    "df.info()"
   ]
  },
  {
   "cell_type": "code",
   "execution_count": 33,
   "id": "2e0e427a",
   "metadata": {},
   "outputs": [
    {
     "data": {
      "text/plain": [
       "BeginDate              0\n",
       "EndDate             5174\n",
       "Type                   0\n",
       "PaperlessBilling       0\n",
       "PaymentMethod          0\n",
       "MonthlyCharges         0\n",
       "TotalCharges           0\n",
       "contract_length     5174\n",
       "gender                 0\n",
       "SeniorCitizen          0\n",
       "Partner                0\n",
       "Dependents             0\n",
       "MultipleLines        682\n",
       "InternetService     1526\n",
       "OnlineSecurity      1526\n",
       "OnlineBackup        1526\n",
       "DeviceProtection    1526\n",
       "TechSupport         1526\n",
       "StreamingTV         1526\n",
       "StreamingMovies     1526\n",
       "dtype: int64"
      ]
     },
     "execution_count": 33,
     "metadata": {},
     "output_type": "execute_result"
    }
   ],
   "source": [
    "# Всего пропусков\n",
    "df.isna().sum()"
   ]
  },
  {
   "cell_type": "code",
   "execution_count": 34,
   "id": "99c916ef",
   "metadata": {},
   "outputs": [],
   "source": [
    "df['MultipleLines'] = df['MultipleLines'].fillna('No')"
   ]
  },
  {
   "cell_type": "code",
   "execution_count": 35,
   "id": "a464f3bd",
   "metadata": {},
   "outputs": [],
   "source": [
    "df['InternetService'] = df['InternetService'].fillna('No internet')\n",
    "\n",
    "# По скорости написания кода было быстрее сделать 6 строчек, чем цикл\n",
    "df['OnlineSecurity'] = df['OnlineSecurity'].fillna('No')\n",
    "df['OnlineBackup'] = df['OnlineBackup'].fillna('No')\n",
    "df['DeviceProtection'] = df['DeviceProtection'].fillna('No')\n",
    "df['TechSupport'] = df['TechSupport'].fillna('No')\n",
    "df['StreamingTV'] = df['StreamingTV'].fillna('No')\n",
    "df['StreamingMovies'] = df['StreamingMovies'].fillna('No')"
   ]
  },
  {
   "cell_type": "code",
   "execution_count": 36,
   "id": "ad124702",
   "metadata": {},
   "outputs": [
    {
     "data": {
      "text/plain": [
       "BeginDate              0\n",
       "EndDate             5174\n",
       "Type                   0\n",
       "PaperlessBilling       0\n",
       "PaymentMethod          0\n",
       "MonthlyCharges         0\n",
       "TotalCharges           0\n",
       "contract_length     5174\n",
       "gender                 0\n",
       "SeniorCitizen          0\n",
       "Partner                0\n",
       "Dependents             0\n",
       "MultipleLines          0\n",
       "InternetService        0\n",
       "OnlineSecurity         0\n",
       "OnlineBackup           0\n",
       "DeviceProtection       0\n",
       "TechSupport            0\n",
       "StreamingTV            0\n",
       "StreamingMovies        0\n",
       "dtype: int64"
      ]
     },
     "execution_count": 36,
     "metadata": {},
     "output_type": "execute_result"
    }
   ],
   "source": [
    "# Всего пропусков\n",
    "df.isna().sum()"
   ]
  },
  {
   "cell_type": "code",
   "execution_count": 37,
   "id": "03573e4d",
   "metadata": {},
   "outputs": [
    {
     "data": {
      "text/html": [
       "<div>\n",
       "<style scoped>\n",
       "    .dataframe tbody tr th:only-of-type {\n",
       "        vertical-align: middle;\n",
       "    }\n",
       "\n",
       "    .dataframe tbody tr th {\n",
       "        vertical-align: top;\n",
       "    }\n",
       "\n",
       "    .dataframe thead th {\n",
       "        text-align: right;\n",
       "    }\n",
       "</style>\n",
       "<table border=\"1\" class=\"dataframe\">\n",
       "  <thead>\n",
       "    <tr style=\"text-align: right;\">\n",
       "      <th></th>\n",
       "      <th>BeginDate</th>\n",
       "      <th>EndDate</th>\n",
       "      <th>Type</th>\n",
       "      <th>PaperlessBilling</th>\n",
       "      <th>PaymentMethod</th>\n",
       "      <th>MonthlyCharges</th>\n",
       "      <th>TotalCharges</th>\n",
       "      <th>contract_length</th>\n",
       "      <th>gender</th>\n",
       "      <th>SeniorCitizen</th>\n",
       "      <th>Partner</th>\n",
       "      <th>Dependents</th>\n",
       "      <th>MultipleLines</th>\n",
       "      <th>InternetService</th>\n",
       "      <th>OnlineSecurity</th>\n",
       "      <th>OnlineBackup</th>\n",
       "      <th>DeviceProtection</th>\n",
       "      <th>TechSupport</th>\n",
       "      <th>StreamingTV</th>\n",
       "      <th>StreamingMovies</th>\n",
       "    </tr>\n",
       "    <tr>\n",
       "      <th>customerID</th>\n",
       "      <th></th>\n",
       "      <th></th>\n",
       "      <th></th>\n",
       "      <th></th>\n",
       "      <th></th>\n",
       "      <th></th>\n",
       "      <th></th>\n",
       "      <th></th>\n",
       "      <th></th>\n",
       "      <th></th>\n",
       "      <th></th>\n",
       "      <th></th>\n",
       "      <th></th>\n",
       "      <th></th>\n",
       "      <th></th>\n",
       "      <th></th>\n",
       "      <th></th>\n",
       "      <th></th>\n",
       "      <th></th>\n",
       "      <th></th>\n",
       "    </tr>\n",
       "  </thead>\n",
       "  <tbody>\n",
       "    <tr>\n",
       "      <th>7577-SWIFR</th>\n",
       "      <td>2020-01-01</td>\n",
       "      <td>NaT</td>\n",
       "      <td>Month-to-month</td>\n",
       "      <td>Yes</td>\n",
       "      <td>Electronic check</td>\n",
       "      <td>89.25</td>\n",
       "      <td>89.25</td>\n",
       "      <td>NaN</td>\n",
       "      <td>Male</td>\n",
       "      <td>0</td>\n",
       "      <td>No</td>\n",
       "      <td>No</td>\n",
       "      <td>No</td>\n",
       "      <td>Fiber optic</td>\n",
       "      <td>No</td>\n",
       "      <td>No</td>\n",
       "      <td>No</td>\n",
       "      <td>No</td>\n",
       "      <td>Yes</td>\n",
       "      <td>Yes</td>\n",
       "    </tr>\n",
       "    <tr>\n",
       "      <th>5788-YPOEG</th>\n",
       "      <td>2017-04-01</td>\n",
       "      <td>NaT</td>\n",
       "      <td>Two year</td>\n",
       "      <td>No</td>\n",
       "      <td>Mailed check</td>\n",
       "      <td>84.75</td>\n",
       "      <td>2839.45</td>\n",
       "      <td>NaN</td>\n",
       "      <td>Female</td>\n",
       "      <td>0</td>\n",
       "      <td>Yes</td>\n",
       "      <td>Yes</td>\n",
       "      <td>No</td>\n",
       "      <td>DSL</td>\n",
       "      <td>Yes</td>\n",
       "      <td>Yes</td>\n",
       "      <td>Yes</td>\n",
       "      <td>Yes</td>\n",
       "      <td>Yes</td>\n",
       "      <td>Yes</td>\n",
       "    </tr>\n",
       "    <tr>\n",
       "      <th>9571-EDEBV</th>\n",
       "      <td>2014-03-01</td>\n",
       "      <td>NaT</td>\n",
       "      <td>One year</td>\n",
       "      <td>Yes</td>\n",
       "      <td>Credit card (automatic)</td>\n",
       "      <td>98.65</td>\n",
       "      <td>6962.85</td>\n",
       "      <td>NaN</td>\n",
       "      <td>Male</td>\n",
       "      <td>0</td>\n",
       "      <td>Yes</td>\n",
       "      <td>No</td>\n",
       "      <td>Yes</td>\n",
       "      <td>Fiber optic</td>\n",
       "      <td>No</td>\n",
       "      <td>No</td>\n",
       "      <td>Yes</td>\n",
       "      <td>No</td>\n",
       "      <td>Yes</td>\n",
       "      <td>Yes</td>\n",
       "    </tr>\n",
       "    <tr>\n",
       "      <th>7781-HVGMK</th>\n",
       "      <td>2014-02-01</td>\n",
       "      <td>NaT</td>\n",
       "      <td>Two year</td>\n",
       "      <td>Yes</td>\n",
       "      <td>Credit card (automatic)</td>\n",
       "      <td>65.20</td>\n",
       "      <td>4784.45</td>\n",
       "      <td>NaN</td>\n",
       "      <td>Female</td>\n",
       "      <td>0</td>\n",
       "      <td>Yes</td>\n",
       "      <td>Yes</td>\n",
       "      <td>No</td>\n",
       "      <td>DSL</td>\n",
       "      <td>Yes</td>\n",
       "      <td>Yes</td>\n",
       "      <td>Yes</td>\n",
       "      <td>Yes</td>\n",
       "      <td>Yes</td>\n",
       "      <td>Yes</td>\n",
       "    </tr>\n",
       "    <tr>\n",
       "      <th>4824-GUCBY</th>\n",
       "      <td>2018-04-01</td>\n",
       "      <td>NaT</td>\n",
       "      <td>Month-to-month</td>\n",
       "      <td>No</td>\n",
       "      <td>Electronic check</td>\n",
       "      <td>81.70</td>\n",
       "      <td>1820.90</td>\n",
       "      <td>NaN</td>\n",
       "      <td>Female</td>\n",
       "      <td>1</td>\n",
       "      <td>No</td>\n",
       "      <td>No</td>\n",
       "      <td>No</td>\n",
       "      <td>Fiber optic</td>\n",
       "      <td>Yes</td>\n",
       "      <td>Yes</td>\n",
       "      <td>No</td>\n",
       "      <td>No</td>\n",
       "      <td>No</td>\n",
       "      <td>No</td>\n",
       "    </tr>\n",
       "  </tbody>\n",
       "</table>\n",
       "</div>"
      ],
      "text/plain": [
       "            BeginDate EndDate            Type PaperlessBilling  \\\n",
       "customerID                                                       \n",
       "7577-SWIFR 2020-01-01     NaT  Month-to-month              Yes   \n",
       "5788-YPOEG 2017-04-01     NaT        Two year               No   \n",
       "9571-EDEBV 2014-03-01     NaT        One year              Yes   \n",
       "7781-HVGMK 2014-02-01     NaT        Two year              Yes   \n",
       "4824-GUCBY 2018-04-01     NaT  Month-to-month               No   \n",
       "\n",
       "                      PaymentMethod  MonthlyCharges  TotalCharges  \\\n",
       "customerID                                                          \n",
       "7577-SWIFR         Electronic check           89.25         89.25   \n",
       "5788-YPOEG             Mailed check           84.75       2839.45   \n",
       "9571-EDEBV  Credit card (automatic)           98.65       6962.85   \n",
       "7781-HVGMK  Credit card (automatic)           65.20       4784.45   \n",
       "4824-GUCBY         Electronic check           81.70       1820.90   \n",
       "\n",
       "            contract_length  gender  SeniorCitizen Partner Dependents  \\\n",
       "customerID                                                              \n",
       "7577-SWIFR              NaN    Male              0      No         No   \n",
       "5788-YPOEG              NaN  Female              0     Yes        Yes   \n",
       "9571-EDEBV              NaN    Male              0     Yes         No   \n",
       "7781-HVGMK              NaN  Female              0     Yes        Yes   \n",
       "4824-GUCBY              NaN  Female              1      No         No   \n",
       "\n",
       "           MultipleLines InternetService OnlineSecurity OnlineBackup  \\\n",
       "customerID                                                             \n",
       "7577-SWIFR            No     Fiber optic             No           No   \n",
       "5788-YPOEG            No             DSL            Yes          Yes   \n",
       "9571-EDEBV           Yes     Fiber optic             No           No   \n",
       "7781-HVGMK            No             DSL            Yes          Yes   \n",
       "4824-GUCBY            No     Fiber optic            Yes          Yes   \n",
       "\n",
       "           DeviceProtection TechSupport StreamingTV StreamingMovies  \n",
       "customerID                                                           \n",
       "7577-SWIFR               No          No         Yes             Yes  \n",
       "5788-YPOEG              Yes         Yes         Yes             Yes  \n",
       "9571-EDEBV              Yes          No         Yes             Yes  \n",
       "7781-HVGMK              Yes         Yes         Yes             Yes  \n",
       "4824-GUCBY               No          No          No              No  "
      ]
     },
     "execution_count": 37,
     "metadata": {},
     "output_type": "execute_result"
    }
   ],
   "source": [
    "df.sample(5)"
   ]
  },
  {
   "cell_type": "code",
   "execution_count": 2,
   "id": "4b0e476a",
   "metadata": {},
   "outputs": [],
   "source": [
    "#for column in df.columns:\n",
    "    #print(column)\n",
    "    #display(df[column].value_counts())\n",
    "    #print()"
   ]
  },
  {
   "cell_type": "markdown",
   "id": "922946f5",
   "metadata": {},
   "source": [
    "### Создание целевого столбца"
   ]
  },
  {
   "cell_type": "markdown",
   "id": "62a0e8f3",
   "metadata": {},
   "source": [
    "Создадим целевой столбец, где 1 - это те клиенты, у которых есть дата окончания пользования услугами:"
   ]
  },
  {
   "cell_type": "code",
   "execution_count": 38,
   "id": "a1dff805",
   "metadata": {},
   "outputs": [],
   "source": [
    "df['EndDate'] = df['EndDate'].fillna(0)"
   ]
  },
  {
   "cell_type": "code",
   "execution_count": 39,
   "id": "56a5679d",
   "metadata": {},
   "outputs": [],
   "source": [
    "df['not_client'] = 0\n",
    "df['not_client'] = df['EndDate'].where(df['EndDate'] == 0, 1)"
   ]
  },
  {
   "cell_type": "markdown",
   "id": "d8d30f18",
   "metadata": {},
   "source": [
    "Проверим правильность заполнения, 5174 клиента не имеют даты окончания договора:"
   ]
  },
  {
   "cell_type": "code",
   "execution_count": 40,
   "id": "3c4f5173",
   "metadata": {},
   "outputs": [
    {
     "data": {
      "text/plain": [
       "0    5174\n",
       "1    1869\n",
       "Name: not_client, dtype: int64"
      ]
     },
     "execution_count": 40,
     "metadata": {},
     "output_type": "execute_result"
    }
   ],
   "source": [
    "df['not_client'].value_counts()"
   ]
  },
  {
   "cell_type": "markdown",
   "id": "c53659d1",
   "metadata": {},
   "source": [
    "### Создание столбца длительности контракта"
   ]
  },
  {
   "cell_type": "code",
   "execution_count": 41,
   "id": "99d5e914",
   "metadata": {},
   "outputs": [
    {
     "data": {
      "text/plain": [
       "count    1869.000000\n",
       "mean      547.352060\n",
       "std       594.389607\n",
       "min        30.000000\n",
       "25%        61.000000\n",
       "50%       304.000000\n",
       "75%       883.000000\n",
       "max      2191.000000\n",
       "Name: contract_length, dtype: float64"
      ]
     },
     "execution_count": 41,
     "metadata": {},
     "output_type": "execute_result"
    }
   ],
   "source": [
    "df['contract_length'].describe()"
   ]
  },
  {
   "cell_type": "code",
   "execution_count": 42,
   "id": "0ba0b23c",
   "metadata": {},
   "outputs": [
    {
     "name": "stdout",
     "output_type": "stream",
     "text": [
      "2020-02-01 00:00:00\n"
     ]
    }
   ],
   "source": [
    "print(df['BeginDate'].max())"
   ]
  },
  {
   "cell_type": "markdown",
   "id": "3d6e4151",
   "metadata": {},
   "source": [
    "Столбец `contract_length` имеет пропуски у оставшихся клиентов, заполним его разницей между 1 февраля 2020 и датой начала пользования услугами :"
   ]
  },
  {
   "cell_type": "code",
   "execution_count": 43,
   "id": "51b4b9ca",
   "metadata": {},
   "outputs": [],
   "source": [
    "def contract_length_all(row):\n",
    "    \n",
    "    begin = df['BeginDate'].max()\n",
    "    start = row['BeginDate']\n",
    "    length = row['contract_length']\n",
    "\n",
    "    'Функция возвращает длительность контракта, если контракт действующий, возвращает NaT'\n",
    "    \n",
    "    if length > 0: \n",
    "        return length\n",
    "    else:\n",
    "        length = begin - start\n",
    "        return pd.to_numeric(length.days, downcast='integer')"
   ]
  },
  {
   "cell_type": "code",
   "execution_count": 44,
   "id": "b3c31f00",
   "metadata": {},
   "outputs": [],
   "source": [
    "# Подсчет длительности контракта\n",
    "df['contract_length'] = df['contract_length'].fillna(0)\n",
    "df['contract_length'] = df.apply(contract_length_all, axis=1)"
   ]
  },
  {
   "cell_type": "code",
   "execution_count": 45,
   "id": "8606c916",
   "metadata": {},
   "outputs": [
    {
     "data": {
      "text/html": [
       "<div>\n",
       "<style scoped>\n",
       "    .dataframe tbody tr th:only-of-type {\n",
       "        vertical-align: middle;\n",
       "    }\n",
       "\n",
       "    .dataframe tbody tr th {\n",
       "        vertical-align: top;\n",
       "    }\n",
       "\n",
       "    .dataframe thead th {\n",
       "        text-align: right;\n",
       "    }\n",
       "</style>\n",
       "<table border=\"1\" class=\"dataframe\">\n",
       "  <thead>\n",
       "    <tr style=\"text-align: right;\">\n",
       "      <th></th>\n",
       "      <th>BeginDate</th>\n",
       "      <th>EndDate</th>\n",
       "      <th>Type</th>\n",
       "      <th>PaperlessBilling</th>\n",
       "      <th>PaymentMethod</th>\n",
       "      <th>MonthlyCharges</th>\n",
       "      <th>TotalCharges</th>\n",
       "      <th>contract_length</th>\n",
       "      <th>gender</th>\n",
       "      <th>SeniorCitizen</th>\n",
       "      <th>Partner</th>\n",
       "      <th>Dependents</th>\n",
       "      <th>MultipleLines</th>\n",
       "      <th>InternetService</th>\n",
       "      <th>OnlineSecurity</th>\n",
       "      <th>OnlineBackup</th>\n",
       "      <th>DeviceProtection</th>\n",
       "      <th>TechSupport</th>\n",
       "      <th>StreamingTV</th>\n",
       "      <th>StreamingMovies</th>\n",
       "      <th>not_client</th>\n",
       "    </tr>\n",
       "    <tr>\n",
       "      <th>customerID</th>\n",
       "      <th></th>\n",
       "      <th></th>\n",
       "      <th></th>\n",
       "      <th></th>\n",
       "      <th></th>\n",
       "      <th></th>\n",
       "      <th></th>\n",
       "      <th></th>\n",
       "      <th></th>\n",
       "      <th></th>\n",
       "      <th></th>\n",
       "      <th></th>\n",
       "      <th></th>\n",
       "      <th></th>\n",
       "      <th></th>\n",
       "      <th></th>\n",
       "      <th></th>\n",
       "      <th></th>\n",
       "      <th></th>\n",
       "      <th></th>\n",
       "      <th></th>\n",
       "    </tr>\n",
       "  </thead>\n",
       "  <tbody>\n",
       "    <tr>\n",
       "      <th>7590-VHVEG</th>\n",
       "      <td>2020-01-01</td>\n",
       "      <td>0</td>\n",
       "      <td>Month-to-month</td>\n",
       "      <td>Yes</td>\n",
       "      <td>Electronic check</td>\n",
       "      <td>29.85</td>\n",
       "      <td>29.85</td>\n",
       "      <td>31.0</td>\n",
       "      <td>Female</td>\n",
       "      <td>0</td>\n",
       "      <td>Yes</td>\n",
       "      <td>No</td>\n",
       "      <td>No</td>\n",
       "      <td>DSL</td>\n",
       "      <td>No</td>\n",
       "      <td>Yes</td>\n",
       "      <td>No</td>\n",
       "      <td>No</td>\n",
       "      <td>No</td>\n",
       "      <td>No</td>\n",
       "      <td>0</td>\n",
       "    </tr>\n",
       "    <tr>\n",
       "      <th>5575-GNVDE</th>\n",
       "      <td>2017-04-01</td>\n",
       "      <td>0</td>\n",
       "      <td>One year</td>\n",
       "      <td>No</td>\n",
       "      <td>Mailed check</td>\n",
       "      <td>56.95</td>\n",
       "      <td>1889.50</td>\n",
       "      <td>1036.0</td>\n",
       "      <td>Male</td>\n",
       "      <td>0</td>\n",
       "      <td>No</td>\n",
       "      <td>No</td>\n",
       "      <td>No</td>\n",
       "      <td>DSL</td>\n",
       "      <td>Yes</td>\n",
       "      <td>No</td>\n",
       "      <td>Yes</td>\n",
       "      <td>No</td>\n",
       "      <td>No</td>\n",
       "      <td>No</td>\n",
       "      <td>0</td>\n",
       "    </tr>\n",
       "    <tr>\n",
       "      <th>3668-QPYBK</th>\n",
       "      <td>2019-10-01</td>\n",
       "      <td>2019-12-01 00:00:00</td>\n",
       "      <td>Month-to-month</td>\n",
       "      <td>Yes</td>\n",
       "      <td>Mailed check</td>\n",
       "      <td>53.85</td>\n",
       "      <td>108.15</td>\n",
       "      <td>61.0</td>\n",
       "      <td>Male</td>\n",
       "      <td>0</td>\n",
       "      <td>No</td>\n",
       "      <td>No</td>\n",
       "      <td>No</td>\n",
       "      <td>DSL</td>\n",
       "      <td>Yes</td>\n",
       "      <td>Yes</td>\n",
       "      <td>No</td>\n",
       "      <td>No</td>\n",
       "      <td>No</td>\n",
       "      <td>No</td>\n",
       "      <td>1</td>\n",
       "    </tr>\n",
       "    <tr>\n",
       "      <th>7795-CFOCW</th>\n",
       "      <td>2016-05-01</td>\n",
       "      <td>0</td>\n",
       "      <td>One year</td>\n",
       "      <td>No</td>\n",
       "      <td>Bank transfer (automatic)</td>\n",
       "      <td>42.30</td>\n",
       "      <td>1840.75</td>\n",
       "      <td>1371.0</td>\n",
       "      <td>Male</td>\n",
       "      <td>0</td>\n",
       "      <td>No</td>\n",
       "      <td>No</td>\n",
       "      <td>No</td>\n",
       "      <td>DSL</td>\n",
       "      <td>Yes</td>\n",
       "      <td>No</td>\n",
       "      <td>Yes</td>\n",
       "      <td>Yes</td>\n",
       "      <td>No</td>\n",
       "      <td>No</td>\n",
       "      <td>0</td>\n",
       "    </tr>\n",
       "    <tr>\n",
       "      <th>9237-HQITU</th>\n",
       "      <td>2019-09-01</td>\n",
       "      <td>2019-11-01 00:00:00</td>\n",
       "      <td>Month-to-month</td>\n",
       "      <td>Yes</td>\n",
       "      <td>Electronic check</td>\n",
       "      <td>70.70</td>\n",
       "      <td>151.65</td>\n",
       "      <td>61.0</td>\n",
       "      <td>Female</td>\n",
       "      <td>0</td>\n",
       "      <td>No</td>\n",
       "      <td>No</td>\n",
       "      <td>No</td>\n",
       "      <td>Fiber optic</td>\n",
       "      <td>No</td>\n",
       "      <td>No</td>\n",
       "      <td>No</td>\n",
       "      <td>No</td>\n",
       "      <td>No</td>\n",
       "      <td>No</td>\n",
       "      <td>1</td>\n",
       "    </tr>\n",
       "  </tbody>\n",
       "</table>\n",
       "</div>"
      ],
      "text/plain": [
       "            BeginDate              EndDate            Type PaperlessBilling  \\\n",
       "customerID                                                                    \n",
       "7590-VHVEG 2020-01-01                    0  Month-to-month              Yes   \n",
       "5575-GNVDE 2017-04-01                    0        One year               No   \n",
       "3668-QPYBK 2019-10-01  2019-12-01 00:00:00  Month-to-month              Yes   \n",
       "7795-CFOCW 2016-05-01                    0        One year               No   \n",
       "9237-HQITU 2019-09-01  2019-11-01 00:00:00  Month-to-month              Yes   \n",
       "\n",
       "                        PaymentMethod  MonthlyCharges  TotalCharges  \\\n",
       "customerID                                                            \n",
       "7590-VHVEG           Electronic check           29.85         29.85   \n",
       "5575-GNVDE               Mailed check           56.95       1889.50   \n",
       "3668-QPYBK               Mailed check           53.85        108.15   \n",
       "7795-CFOCW  Bank transfer (automatic)           42.30       1840.75   \n",
       "9237-HQITU           Electronic check           70.70        151.65   \n",
       "\n",
       "            contract_length  gender  SeniorCitizen Partner Dependents  \\\n",
       "customerID                                                              \n",
       "7590-VHVEG             31.0  Female              0     Yes         No   \n",
       "5575-GNVDE           1036.0    Male              0      No         No   \n",
       "3668-QPYBK             61.0    Male              0      No         No   \n",
       "7795-CFOCW           1371.0    Male              0      No         No   \n",
       "9237-HQITU             61.0  Female              0      No         No   \n",
       "\n",
       "           MultipleLines InternetService OnlineSecurity OnlineBackup  \\\n",
       "customerID                                                             \n",
       "7590-VHVEG            No             DSL             No          Yes   \n",
       "5575-GNVDE            No             DSL            Yes           No   \n",
       "3668-QPYBK            No             DSL            Yes          Yes   \n",
       "7795-CFOCW            No             DSL            Yes           No   \n",
       "9237-HQITU            No     Fiber optic             No           No   \n",
       "\n",
       "           DeviceProtection TechSupport StreamingTV StreamingMovies not_client  \n",
       "customerID                                                                      \n",
       "7590-VHVEG               No          No          No              No          0  \n",
       "5575-GNVDE              Yes          No          No              No          0  \n",
       "3668-QPYBK               No          No          No              No          1  \n",
       "7795-CFOCW              Yes         Yes          No              No          0  \n",
       "9237-HQITU               No          No          No              No          1  "
      ]
     },
     "execution_count": 45,
     "metadata": {},
     "output_type": "execute_result"
    }
   ],
   "source": [
    "df.head()"
   ]
  },
  {
   "cell_type": "code",
   "execution_count": 46,
   "id": "fdbbc8f7",
   "metadata": {},
   "outputs": [
    {
     "data": {
      "text/plain": [
       "count    7043.000000\n",
       "mean      985.996166\n",
       "std       747.587844\n",
       "min         0.000000\n",
       "25%       273.000000\n",
       "50%       883.000000\n",
       "75%      1676.000000\n",
       "max      2191.000000\n",
       "Name: contract_length, dtype: float64"
      ]
     },
     "execution_count": 46,
     "metadata": {},
     "output_type": "execute_result"
    }
   ],
   "source": [
    "df['contract_length'].describe()"
   ]
  },
  {
   "cell_type": "markdown",
   "id": "7cd3598f",
   "metadata": {},
   "source": [
    "### Вывод"
   ]
  },
  {
   "cell_type": "markdown",
   "id": "6a3d5708",
   "metadata": {},
   "source": [
    "Таблицы с данными клиентов и услугами были объединены в одну, также была создана фича с длительностью контракта на момент 01.02.2020 (если он не был разорван ранее), а также была создана целевая переменная."
   ]
  },
  {
   "cell_type": "markdown",
   "id": "1f0bb03a",
   "metadata": {},
   "source": [
    "## Подготовка данных для моделей"
   ]
  },
  {
   "cell_type": "markdown",
   "id": "5626f26e",
   "metadata": {},
   "source": [
    "### Удаление столбцов и OHE"
   ]
  },
  {
   "cell_type": "code",
   "execution_count": 47,
   "id": "ff0844d0",
   "metadata": {},
   "outputs": [
    {
     "name": "stdout",
     "output_type": "stream",
     "text": [
      "<class 'pandas.core.frame.DataFrame'>\n",
      "Index: 7043 entries, 7590-VHVEG to 3186-AJIEK\n",
      "Data columns (total 21 columns):\n",
      " #   Column            Non-Null Count  Dtype         \n",
      "---  ------            --------------  -----         \n",
      " 0   BeginDate         7043 non-null   datetime64[ns]\n",
      " 1   EndDate           7043 non-null   object        \n",
      " 2   Type              7043 non-null   object        \n",
      " 3   PaperlessBilling  7043 non-null   object        \n",
      " 4   PaymentMethod     7043 non-null   object        \n",
      " 5   MonthlyCharges    7043 non-null   float64       \n",
      " 6   TotalCharges      7043 non-null   float64       \n",
      " 7   contract_length   7043 non-null   float64       \n",
      " 8   gender            7043 non-null   object        \n",
      " 9   SeniorCitizen     7043 non-null   int64         \n",
      " 10  Partner           7043 non-null   object        \n",
      " 11  Dependents        7043 non-null   object        \n",
      " 12  MultipleLines     7043 non-null   object        \n",
      " 13  InternetService   7043 non-null   object        \n",
      " 14  OnlineSecurity    7043 non-null   object        \n",
      " 15  OnlineBackup      7043 non-null   object        \n",
      " 16  DeviceProtection  7043 non-null   object        \n",
      " 17  TechSupport       7043 non-null   object        \n",
      " 18  StreamingTV       7043 non-null   object        \n",
      " 19  StreamingMovies   7043 non-null   object        \n",
      " 20  not_client        7043 non-null   object        \n",
      "dtypes: datetime64[ns](1), float64(3), int64(1), object(16)\n",
      "memory usage: 1.2+ MB\n"
     ]
    }
   ],
   "source": [
    "df.info()"
   ]
  },
  {
   "cell_type": "code",
   "execution_count": 48,
   "id": "d10a9592",
   "metadata": {},
   "outputs": [
    {
     "data": {
      "text/html": [
       "<div>\n",
       "<style scoped>\n",
       "    .dataframe tbody tr th:only-of-type {\n",
       "        vertical-align: middle;\n",
       "    }\n",
       "\n",
       "    .dataframe tbody tr th {\n",
       "        vertical-align: top;\n",
       "    }\n",
       "\n",
       "    .dataframe thead th {\n",
       "        text-align: right;\n",
       "    }\n",
       "</style>\n",
       "<table border=\"1\" class=\"dataframe\">\n",
       "  <thead>\n",
       "    <tr style=\"text-align: right;\">\n",
       "      <th></th>\n",
       "      <th>BeginDate</th>\n",
       "      <th>EndDate</th>\n",
       "      <th>Type</th>\n",
       "      <th>PaperlessBilling</th>\n",
       "      <th>PaymentMethod</th>\n",
       "      <th>MonthlyCharges</th>\n",
       "      <th>TotalCharges</th>\n",
       "      <th>contract_length</th>\n",
       "      <th>gender</th>\n",
       "      <th>SeniorCitizen</th>\n",
       "      <th>Partner</th>\n",
       "      <th>Dependents</th>\n",
       "      <th>MultipleLines</th>\n",
       "      <th>InternetService</th>\n",
       "      <th>OnlineSecurity</th>\n",
       "      <th>OnlineBackup</th>\n",
       "      <th>DeviceProtection</th>\n",
       "      <th>TechSupport</th>\n",
       "      <th>StreamingTV</th>\n",
       "      <th>StreamingMovies</th>\n",
       "      <th>not_client</th>\n",
       "    </tr>\n",
       "    <tr>\n",
       "      <th>customerID</th>\n",
       "      <th></th>\n",
       "      <th></th>\n",
       "      <th></th>\n",
       "      <th></th>\n",
       "      <th></th>\n",
       "      <th></th>\n",
       "      <th></th>\n",
       "      <th></th>\n",
       "      <th></th>\n",
       "      <th></th>\n",
       "      <th></th>\n",
       "      <th></th>\n",
       "      <th></th>\n",
       "      <th></th>\n",
       "      <th></th>\n",
       "      <th></th>\n",
       "      <th></th>\n",
       "      <th></th>\n",
       "      <th></th>\n",
       "      <th></th>\n",
       "      <th></th>\n",
       "    </tr>\n",
       "  </thead>\n",
       "  <tbody>\n",
       "    <tr>\n",
       "      <th>7590-VHVEG</th>\n",
       "      <td>2020-01-01</td>\n",
       "      <td>0</td>\n",
       "      <td>Month-to-month</td>\n",
       "      <td>Yes</td>\n",
       "      <td>Electronic check</td>\n",
       "      <td>29.85</td>\n",
       "      <td>29.85</td>\n",
       "      <td>31.0</td>\n",
       "      <td>Female</td>\n",
       "      <td>0</td>\n",
       "      <td>Yes</td>\n",
       "      <td>No</td>\n",
       "      <td>No</td>\n",
       "      <td>DSL</td>\n",
       "      <td>No</td>\n",
       "      <td>Yes</td>\n",
       "      <td>No</td>\n",
       "      <td>No</td>\n",
       "      <td>No</td>\n",
       "      <td>No</td>\n",
       "      <td>0</td>\n",
       "    </tr>\n",
       "    <tr>\n",
       "      <th>5575-GNVDE</th>\n",
       "      <td>2017-04-01</td>\n",
       "      <td>0</td>\n",
       "      <td>One year</td>\n",
       "      <td>No</td>\n",
       "      <td>Mailed check</td>\n",
       "      <td>56.95</td>\n",
       "      <td>1889.50</td>\n",
       "      <td>1036.0</td>\n",
       "      <td>Male</td>\n",
       "      <td>0</td>\n",
       "      <td>No</td>\n",
       "      <td>No</td>\n",
       "      <td>No</td>\n",
       "      <td>DSL</td>\n",
       "      <td>Yes</td>\n",
       "      <td>No</td>\n",
       "      <td>Yes</td>\n",
       "      <td>No</td>\n",
       "      <td>No</td>\n",
       "      <td>No</td>\n",
       "      <td>0</td>\n",
       "    </tr>\n",
       "    <tr>\n",
       "      <th>3668-QPYBK</th>\n",
       "      <td>2019-10-01</td>\n",
       "      <td>2019-12-01 00:00:00</td>\n",
       "      <td>Month-to-month</td>\n",
       "      <td>Yes</td>\n",
       "      <td>Mailed check</td>\n",
       "      <td>53.85</td>\n",
       "      <td>108.15</td>\n",
       "      <td>61.0</td>\n",
       "      <td>Male</td>\n",
       "      <td>0</td>\n",
       "      <td>No</td>\n",
       "      <td>No</td>\n",
       "      <td>No</td>\n",
       "      <td>DSL</td>\n",
       "      <td>Yes</td>\n",
       "      <td>Yes</td>\n",
       "      <td>No</td>\n",
       "      <td>No</td>\n",
       "      <td>No</td>\n",
       "      <td>No</td>\n",
       "      <td>1</td>\n",
       "    </tr>\n",
       "    <tr>\n",
       "      <th>7795-CFOCW</th>\n",
       "      <td>2016-05-01</td>\n",
       "      <td>0</td>\n",
       "      <td>One year</td>\n",
       "      <td>No</td>\n",
       "      <td>Bank transfer (automatic)</td>\n",
       "      <td>42.30</td>\n",
       "      <td>1840.75</td>\n",
       "      <td>1371.0</td>\n",
       "      <td>Male</td>\n",
       "      <td>0</td>\n",
       "      <td>No</td>\n",
       "      <td>No</td>\n",
       "      <td>No</td>\n",
       "      <td>DSL</td>\n",
       "      <td>Yes</td>\n",
       "      <td>No</td>\n",
       "      <td>Yes</td>\n",
       "      <td>Yes</td>\n",
       "      <td>No</td>\n",
       "      <td>No</td>\n",
       "      <td>0</td>\n",
       "    </tr>\n",
       "    <tr>\n",
       "      <th>9237-HQITU</th>\n",
       "      <td>2019-09-01</td>\n",
       "      <td>2019-11-01 00:00:00</td>\n",
       "      <td>Month-to-month</td>\n",
       "      <td>Yes</td>\n",
       "      <td>Electronic check</td>\n",
       "      <td>70.70</td>\n",
       "      <td>151.65</td>\n",
       "      <td>61.0</td>\n",
       "      <td>Female</td>\n",
       "      <td>0</td>\n",
       "      <td>No</td>\n",
       "      <td>No</td>\n",
       "      <td>No</td>\n",
       "      <td>Fiber optic</td>\n",
       "      <td>No</td>\n",
       "      <td>No</td>\n",
       "      <td>No</td>\n",
       "      <td>No</td>\n",
       "      <td>No</td>\n",
       "      <td>No</td>\n",
       "      <td>1</td>\n",
       "    </tr>\n",
       "  </tbody>\n",
       "</table>\n",
       "</div>"
      ],
      "text/plain": [
       "            BeginDate              EndDate            Type PaperlessBilling  \\\n",
       "customerID                                                                    \n",
       "7590-VHVEG 2020-01-01                    0  Month-to-month              Yes   \n",
       "5575-GNVDE 2017-04-01                    0        One year               No   \n",
       "3668-QPYBK 2019-10-01  2019-12-01 00:00:00  Month-to-month              Yes   \n",
       "7795-CFOCW 2016-05-01                    0        One year               No   \n",
       "9237-HQITU 2019-09-01  2019-11-01 00:00:00  Month-to-month              Yes   \n",
       "\n",
       "                        PaymentMethod  MonthlyCharges  TotalCharges  \\\n",
       "customerID                                                            \n",
       "7590-VHVEG           Electronic check           29.85         29.85   \n",
       "5575-GNVDE               Mailed check           56.95       1889.50   \n",
       "3668-QPYBK               Mailed check           53.85        108.15   \n",
       "7795-CFOCW  Bank transfer (automatic)           42.30       1840.75   \n",
       "9237-HQITU           Electronic check           70.70        151.65   \n",
       "\n",
       "            contract_length  gender  SeniorCitizen Partner Dependents  \\\n",
       "customerID                                                              \n",
       "7590-VHVEG             31.0  Female              0     Yes         No   \n",
       "5575-GNVDE           1036.0    Male              0      No         No   \n",
       "3668-QPYBK             61.0    Male              0      No         No   \n",
       "7795-CFOCW           1371.0    Male              0      No         No   \n",
       "9237-HQITU             61.0  Female              0      No         No   \n",
       "\n",
       "           MultipleLines InternetService OnlineSecurity OnlineBackup  \\\n",
       "customerID                                                             \n",
       "7590-VHVEG            No             DSL             No          Yes   \n",
       "5575-GNVDE            No             DSL            Yes           No   \n",
       "3668-QPYBK            No             DSL            Yes          Yes   \n",
       "7795-CFOCW            No             DSL            Yes           No   \n",
       "9237-HQITU            No     Fiber optic             No           No   \n",
       "\n",
       "           DeviceProtection TechSupport StreamingTV StreamingMovies not_client  \n",
       "customerID                                                                      \n",
       "7590-VHVEG               No          No          No              No          0  \n",
       "5575-GNVDE              Yes          No          No              No          0  \n",
       "3668-QPYBK               No          No          No              No          1  \n",
       "7795-CFOCW              Yes         Yes          No              No          0  \n",
       "9237-HQITU               No          No          No              No          1  "
      ]
     },
     "execution_count": 48,
     "metadata": {},
     "output_type": "execute_result"
    }
   ],
   "source": [
    "df.head()"
   ]
  },
  {
   "cell_type": "markdown",
   "id": "28a228e7",
   "metadata": {},
   "source": [
    "1. Необходимо удалить столбцы `BeginDate` и `EndDate`, так как они содержат данные, влияющие на целевую переменную (утечка данных).\n",
    "2. Закодировать категориальные переменные (столбцы `Type`, `PaymentMethod`, `InternetService`) OHE.\n",
    "3. Заменить Yes на 1, а No на 0.\n",
    "4. В столбце `gender` - Male на 1, а Female на 0."
   ]
  },
  {
   "cell_type": "code",
   "execution_count": 49,
   "id": "ca2ec22d",
   "metadata": {},
   "outputs": [],
   "source": [
    "# Удаление столбцов\n",
    "df = df.drop(columns=['BeginDate', 'EndDate'])\n",
    "\n",
    "# Замена бинарных признаков на 0/1\n",
    "df = df.replace('Yes', 1)\n",
    "df = df.replace('No', 0)\n",
    "df = df.replace('Male', 1)\n",
    "df = df.replace('Female', 0)"
   ]
  },
  {
   "cell_type": "code",
   "execution_count": 50,
   "id": "807bf06b",
   "metadata": {},
   "outputs": [
    {
     "data": {
      "text/html": [
       "<div>\n",
       "<style scoped>\n",
       "    .dataframe tbody tr th:only-of-type {\n",
       "        vertical-align: middle;\n",
       "    }\n",
       "\n",
       "    .dataframe tbody tr th {\n",
       "        vertical-align: top;\n",
       "    }\n",
       "\n",
       "    .dataframe thead th {\n",
       "        text-align: right;\n",
       "    }\n",
       "</style>\n",
       "<table border=\"1\" class=\"dataframe\">\n",
       "  <thead>\n",
       "    <tr style=\"text-align: right;\">\n",
       "      <th></th>\n",
       "      <th>PaperlessBilling</th>\n",
       "      <th>MonthlyCharges</th>\n",
       "      <th>TotalCharges</th>\n",
       "      <th>contract_length</th>\n",
       "      <th>gender</th>\n",
       "      <th>SeniorCitizen</th>\n",
       "      <th>Partner</th>\n",
       "      <th>Dependents</th>\n",
       "      <th>MultipleLines</th>\n",
       "      <th>OnlineSecurity</th>\n",
       "      <th>OnlineBackup</th>\n",
       "      <th>DeviceProtection</th>\n",
       "      <th>TechSupport</th>\n",
       "      <th>StreamingTV</th>\n",
       "      <th>StreamingMovies</th>\n",
       "      <th>not_client</th>\n",
       "      <th>Type_One year</th>\n",
       "      <th>Type_Two year</th>\n",
       "      <th>PaymentMethod_Credit card (automatic)</th>\n",
       "      <th>PaymentMethod_Electronic check</th>\n",
       "      <th>PaymentMethod_Mailed check</th>\n",
       "      <th>InternetService_Fiber optic</th>\n",
       "      <th>InternetService_No internet</th>\n",
       "    </tr>\n",
       "    <tr>\n",
       "      <th>customerID</th>\n",
       "      <th></th>\n",
       "      <th></th>\n",
       "      <th></th>\n",
       "      <th></th>\n",
       "      <th></th>\n",
       "      <th></th>\n",
       "      <th></th>\n",
       "      <th></th>\n",
       "      <th></th>\n",
       "      <th></th>\n",
       "      <th></th>\n",
       "      <th></th>\n",
       "      <th></th>\n",
       "      <th></th>\n",
       "      <th></th>\n",
       "      <th></th>\n",
       "      <th></th>\n",
       "      <th></th>\n",
       "      <th></th>\n",
       "      <th></th>\n",
       "      <th></th>\n",
       "      <th></th>\n",
       "      <th></th>\n",
       "    </tr>\n",
       "  </thead>\n",
       "  <tbody>\n",
       "    <tr>\n",
       "      <th>7590-VHVEG</th>\n",
       "      <td>1</td>\n",
       "      <td>29.85</td>\n",
       "      <td>29.85</td>\n",
       "      <td>31.0</td>\n",
       "      <td>0</td>\n",
       "      <td>0</td>\n",
       "      <td>1</td>\n",
       "      <td>0</td>\n",
       "      <td>0</td>\n",
       "      <td>0</td>\n",
       "      <td>1</td>\n",
       "      <td>0</td>\n",
       "      <td>0</td>\n",
       "      <td>0</td>\n",
       "      <td>0</td>\n",
       "      <td>0</td>\n",
       "      <td>0</td>\n",
       "      <td>0</td>\n",
       "      <td>0</td>\n",
       "      <td>1</td>\n",
       "      <td>0</td>\n",
       "      <td>0</td>\n",
       "      <td>0</td>\n",
       "    </tr>\n",
       "    <tr>\n",
       "      <th>5575-GNVDE</th>\n",
       "      <td>0</td>\n",
       "      <td>56.95</td>\n",
       "      <td>1889.50</td>\n",
       "      <td>1036.0</td>\n",
       "      <td>1</td>\n",
       "      <td>0</td>\n",
       "      <td>0</td>\n",
       "      <td>0</td>\n",
       "      <td>0</td>\n",
       "      <td>1</td>\n",
       "      <td>0</td>\n",
       "      <td>1</td>\n",
       "      <td>0</td>\n",
       "      <td>0</td>\n",
       "      <td>0</td>\n",
       "      <td>0</td>\n",
       "      <td>1</td>\n",
       "      <td>0</td>\n",
       "      <td>0</td>\n",
       "      <td>0</td>\n",
       "      <td>1</td>\n",
       "      <td>0</td>\n",
       "      <td>0</td>\n",
       "    </tr>\n",
       "    <tr>\n",
       "      <th>3668-QPYBK</th>\n",
       "      <td>1</td>\n",
       "      <td>53.85</td>\n",
       "      <td>108.15</td>\n",
       "      <td>61.0</td>\n",
       "      <td>1</td>\n",
       "      <td>0</td>\n",
       "      <td>0</td>\n",
       "      <td>0</td>\n",
       "      <td>0</td>\n",
       "      <td>1</td>\n",
       "      <td>1</td>\n",
       "      <td>0</td>\n",
       "      <td>0</td>\n",
       "      <td>0</td>\n",
       "      <td>0</td>\n",
       "      <td>1</td>\n",
       "      <td>0</td>\n",
       "      <td>0</td>\n",
       "      <td>0</td>\n",
       "      <td>0</td>\n",
       "      <td>1</td>\n",
       "      <td>0</td>\n",
       "      <td>0</td>\n",
       "    </tr>\n",
       "    <tr>\n",
       "      <th>7795-CFOCW</th>\n",
       "      <td>0</td>\n",
       "      <td>42.30</td>\n",
       "      <td>1840.75</td>\n",
       "      <td>1371.0</td>\n",
       "      <td>1</td>\n",
       "      <td>0</td>\n",
       "      <td>0</td>\n",
       "      <td>0</td>\n",
       "      <td>0</td>\n",
       "      <td>1</td>\n",
       "      <td>0</td>\n",
       "      <td>1</td>\n",
       "      <td>1</td>\n",
       "      <td>0</td>\n",
       "      <td>0</td>\n",
       "      <td>0</td>\n",
       "      <td>1</td>\n",
       "      <td>0</td>\n",
       "      <td>0</td>\n",
       "      <td>0</td>\n",
       "      <td>0</td>\n",
       "      <td>0</td>\n",
       "      <td>0</td>\n",
       "    </tr>\n",
       "    <tr>\n",
       "      <th>9237-HQITU</th>\n",
       "      <td>1</td>\n",
       "      <td>70.70</td>\n",
       "      <td>151.65</td>\n",
       "      <td>61.0</td>\n",
       "      <td>0</td>\n",
       "      <td>0</td>\n",
       "      <td>0</td>\n",
       "      <td>0</td>\n",
       "      <td>0</td>\n",
       "      <td>0</td>\n",
       "      <td>0</td>\n",
       "      <td>0</td>\n",
       "      <td>0</td>\n",
       "      <td>0</td>\n",
       "      <td>0</td>\n",
       "      <td>1</td>\n",
       "      <td>0</td>\n",
       "      <td>0</td>\n",
       "      <td>0</td>\n",
       "      <td>1</td>\n",
       "      <td>0</td>\n",
       "      <td>1</td>\n",
       "      <td>0</td>\n",
       "    </tr>\n",
       "  </tbody>\n",
       "</table>\n",
       "</div>"
      ],
      "text/plain": [
       "            PaperlessBilling  MonthlyCharges  TotalCharges  contract_length  \\\n",
       "customerID                                                                    \n",
       "7590-VHVEG                 1           29.85         29.85             31.0   \n",
       "5575-GNVDE                 0           56.95       1889.50           1036.0   \n",
       "3668-QPYBK                 1           53.85        108.15             61.0   \n",
       "7795-CFOCW                 0           42.30       1840.75           1371.0   \n",
       "9237-HQITU                 1           70.70        151.65             61.0   \n",
       "\n",
       "            gender  SeniorCitizen  Partner  Dependents  MultipleLines  \\\n",
       "customerID                                                              \n",
       "7590-VHVEG       0              0        1           0              0   \n",
       "5575-GNVDE       1              0        0           0              0   \n",
       "3668-QPYBK       1              0        0           0              0   \n",
       "7795-CFOCW       1              0        0           0              0   \n",
       "9237-HQITU       0              0        0           0              0   \n",
       "\n",
       "            OnlineSecurity  OnlineBackup  DeviceProtection  TechSupport  \\\n",
       "customerID                                                                \n",
       "7590-VHVEG               0             1                 0            0   \n",
       "5575-GNVDE               1             0                 1            0   \n",
       "3668-QPYBK               1             1                 0            0   \n",
       "7795-CFOCW               1             0                 1            1   \n",
       "9237-HQITU               0             0                 0            0   \n",
       "\n",
       "            StreamingTV  StreamingMovies  not_client  Type_One year  \\\n",
       "customerID                                                            \n",
       "7590-VHVEG            0                0           0              0   \n",
       "5575-GNVDE            0                0           0              1   \n",
       "3668-QPYBK            0                0           1              0   \n",
       "7795-CFOCW            0                0           0              1   \n",
       "9237-HQITU            0                0           1              0   \n",
       "\n",
       "            Type_Two year  PaymentMethod_Credit card (automatic)  \\\n",
       "customerID                                                         \n",
       "7590-VHVEG              0                                      0   \n",
       "5575-GNVDE              0                                      0   \n",
       "3668-QPYBK              0                                      0   \n",
       "7795-CFOCW              0                                      0   \n",
       "9237-HQITU              0                                      0   \n",
       "\n",
       "            PaymentMethod_Electronic check  PaymentMethod_Mailed check  \\\n",
       "customerID                                                               \n",
       "7590-VHVEG                               1                           0   \n",
       "5575-GNVDE                               0                           1   \n",
       "3668-QPYBK                               0                           1   \n",
       "7795-CFOCW                               0                           0   \n",
       "9237-HQITU                               1                           0   \n",
       "\n",
       "            InternetService_Fiber optic  InternetService_No internet  \n",
       "customerID                                                            \n",
       "7590-VHVEG                            0                            0  \n",
       "5575-GNVDE                            0                            0  \n",
       "3668-QPYBK                            0                            0  \n",
       "7795-CFOCW                            0                            0  \n",
       "9237-HQITU                            1                            0  "
      ]
     },
     "execution_count": 50,
     "metadata": {},
     "output_type": "execute_result"
    }
   ],
   "source": [
    "# Кодировка OHE\n",
    "df = pd.get_dummies(df, drop_first = True)\n",
    "df.head()"
   ]
  },
  {
   "cell_type": "code",
   "execution_count": 51,
   "id": "52ecfc99",
   "metadata": {},
   "outputs": [],
   "source": [
    "binary_column = ['PaperlessBilling','gender','SeniorCitizen','Partner','Dependents','OnlineSecurity',\\\n",
    "                 'OnlineBackup','DeviceProtection','TechSupport','StreamingTV','StreamingMovies',\\\n",
    "                 'MultipleLines', 'not_client']\n",
    "\n",
    "df[binary_column] = df[binary_column].astype('uint8')"
   ]
  },
  {
   "cell_type": "code",
   "execution_count": 52,
   "id": "8c0c65cb",
   "metadata": {},
   "outputs": [
    {
     "name": "stdout",
     "output_type": "stream",
     "text": [
      "<class 'pandas.core.frame.DataFrame'>\n",
      "Index: 7043 entries, 7590-VHVEG to 3186-AJIEK\n",
      "Data columns (total 23 columns):\n",
      " #   Column                                 Non-Null Count  Dtype  \n",
      "---  ------                                 --------------  -----  \n",
      " 0   PaperlessBilling                       7043 non-null   uint8  \n",
      " 1   MonthlyCharges                         7043 non-null   float64\n",
      " 2   TotalCharges                           7043 non-null   float64\n",
      " 3   contract_length                        7043 non-null   float64\n",
      " 4   gender                                 7043 non-null   uint8  \n",
      " 5   SeniorCitizen                          7043 non-null   uint8  \n",
      " 6   Partner                                7043 non-null   uint8  \n",
      " 7   Dependents                             7043 non-null   uint8  \n",
      " 8   MultipleLines                          7043 non-null   uint8  \n",
      " 9   OnlineSecurity                         7043 non-null   uint8  \n",
      " 10  OnlineBackup                           7043 non-null   uint8  \n",
      " 11  DeviceProtection                       7043 non-null   uint8  \n",
      " 12  TechSupport                            7043 non-null   uint8  \n",
      " 13  StreamingTV                            7043 non-null   uint8  \n",
      " 14  StreamingMovies                        7043 non-null   uint8  \n",
      " 15  not_client                             7043 non-null   uint8  \n",
      " 16  Type_One year                          7043 non-null   uint8  \n",
      " 17  Type_Two year                          7043 non-null   uint8  \n",
      " 18  PaymentMethod_Credit card (automatic)  7043 non-null   uint8  \n",
      " 19  PaymentMethod_Electronic check         7043 non-null   uint8  \n",
      " 20  PaymentMethod_Mailed check             7043 non-null   uint8  \n",
      " 21  InternetService_Fiber optic            7043 non-null   uint8  \n",
      " 22  InternetService_No internet            7043 non-null   uint8  \n",
      "dtypes: float64(3), uint8(20)\n",
      "memory usage: 357.7+ KB\n"
     ]
    }
   ],
   "source": [
    "df.info()"
   ]
  },
  {
   "cell_type": "markdown",
   "id": "f5973d7b",
   "metadata": {},
   "source": [
    "### Разделение на выборки"
   ]
  },
  {
   "cell_type": "markdown",
   "id": "bd99710f",
   "metadata": {},
   "source": [
    "Теперь нужно разделить выборки на обучающую и тестовую и отмасштабировать признаки:"
   ]
  },
  {
   "cell_type": "code",
   "execution_count": 53,
   "id": "4b58dfef",
   "metadata": {},
   "outputs": [],
   "source": [
    "features = df.drop('not_client', axis=1).reset_index(drop=True)\n",
    "target = df['not_client'].reset_index(drop=True)"
   ]
  },
  {
   "cell_type": "code",
   "execution_count": 54,
   "id": "abe5598c",
   "metadata": {},
   "outputs": [],
   "source": [
    "X_train, X_test, Y_train, Y_test = train_test_split(features, target, test_size=.25, stratify=target, random_state=12345)\n",
    "\n",
    "X_train.reset_index(drop=True, inplace=True)\n",
    "X_test.reset_index(drop=True, inplace=True)"
   ]
  },
  {
   "cell_type": "code",
   "execution_count": 55,
   "id": "2eedb577",
   "metadata": {},
   "outputs": [
    {
     "name": "stdout",
     "output_type": "stream",
     "text": [
      "Размер выборок:\n",
      "X_train (5282, 22)\n",
      "X_test (1761, 22)\n",
      "Y_train (5282,)\n",
      "Y_test (1761,)\n"
     ]
    }
   ],
   "source": [
    "print('Размер выборок:')\n",
    "print('X_train', X_train.shape)\n",
    "print('X_test', X_test.shape)\n",
    "print('Y_train', Y_train.shape)\n",
    "print('Y_test', Y_test.shape)"
   ]
  },
  {
   "cell_type": "code",
   "execution_count": 56,
   "id": "8f3c2038",
   "metadata": {},
   "outputs": [
    {
     "data": {
      "text/plain": [
       "0    1294\n",
       "1     467\n",
       "Name: not_client, dtype: int64"
      ]
     },
     "execution_count": 56,
     "metadata": {},
     "output_type": "execute_result"
    }
   ],
   "source": [
    "Y_test.value_counts()"
   ]
  },
  {
   "cell_type": "code",
   "execution_count": 57,
   "id": "e07b0807",
   "metadata": {},
   "outputs": [
    {
     "data": {
      "text/plain": [
       "0    3880\n",
       "1    1402\n",
       "Name: not_client, dtype: int64"
      ]
     },
     "execution_count": 57,
     "metadata": {},
     "output_type": "execute_result"
    }
   ],
   "source": [
    "Y_train.value_counts()"
   ]
  },
  {
   "cell_type": "markdown",
   "id": "a4e1d043",
   "metadata": {},
   "source": [
    "Целевая переменная в обучающей и тестовой выборках составляет 36,1% от размера выборки.\n",
    "\n",
    "Масштабирование признаков:"
   ]
  },
  {
   "cell_type": "code",
   "execution_count": 58,
   "id": "660bf58b",
   "metadata": {},
   "outputs": [],
   "source": [
    "scaler = StandardScaler()\n",
    "\n",
    "columns_for_scaled = ['MonthlyCharges', 'TotalCharges', 'contract_length']\n",
    "\n",
    "X_train_for_scaled = X_train.loc[:,columns_for_scaled]\n",
    "X_test_for_scaled = X_test.loc[:,columns_for_scaled]\n",
    "\n",
    "scaler.fit(X_train_for_scaled)\n",
    "scaler_train_data = pd.DataFrame(scaler.transform(X_train_for_scaled), columns=columns_for_scaled)\n",
    "scaler_test_data = pd.DataFrame(scaler.transform(X_test_for_scaled), columns=columns_for_scaled)\n",
    "\n",
    "X_train[columns_for_scaled] = scaler_train_data[columns_for_scaled]\n",
    "X_test[columns_for_scaled] = scaler_test_data[columns_for_scaled]"
   ]
  },
  {
   "cell_type": "code",
   "execution_count": 59,
   "id": "1ac7b551",
   "metadata": {},
   "outputs": [
    {
     "name": "stdout",
     "output_type": "stream",
     "text": [
      "<class 'pandas.core.frame.DataFrame'>\n",
      "RangeIndex: 5282 entries, 0 to 5281\n",
      "Data columns (total 22 columns):\n",
      " #   Column                                 Non-Null Count  Dtype  \n",
      "---  ------                                 --------------  -----  \n",
      " 0   PaperlessBilling                       5282 non-null   uint8  \n",
      " 1   MonthlyCharges                         5282 non-null   float64\n",
      " 2   TotalCharges                           5282 non-null   float64\n",
      " 3   contract_length                        5282 non-null   float64\n",
      " 4   gender                                 5282 non-null   uint8  \n",
      " 5   SeniorCitizen                          5282 non-null   uint8  \n",
      " 6   Partner                                5282 non-null   uint8  \n",
      " 7   Dependents                             5282 non-null   uint8  \n",
      " 8   MultipleLines                          5282 non-null   uint8  \n",
      " 9   OnlineSecurity                         5282 non-null   uint8  \n",
      " 10  OnlineBackup                           5282 non-null   uint8  \n",
      " 11  DeviceProtection                       5282 non-null   uint8  \n",
      " 12  TechSupport                            5282 non-null   uint8  \n",
      " 13  StreamingTV                            5282 non-null   uint8  \n",
      " 14  StreamingMovies                        5282 non-null   uint8  \n",
      " 15  Type_One year                          5282 non-null   uint8  \n",
      " 16  Type_Two year                          5282 non-null   uint8  \n",
      " 17  PaymentMethod_Credit card (automatic)  5282 non-null   uint8  \n",
      " 18  PaymentMethod_Electronic check         5282 non-null   uint8  \n",
      " 19  PaymentMethod_Mailed check             5282 non-null   uint8  \n",
      " 20  InternetService_Fiber optic            5282 non-null   uint8  \n",
      " 21  InternetService_No internet            5282 non-null   uint8  \n",
      "dtypes: float64(3), uint8(19)\n",
      "memory usage: 221.9 KB\n"
     ]
    }
   ],
   "source": [
    "X_train.info()"
   ]
  },
  {
   "cell_type": "markdown",
   "id": "5865a088",
   "metadata": {},
   "source": [
    "Создадим еще одну выборку без 2 фичей (`MonthlyCharges` и `contract_length`): "
   ]
  },
  {
   "cell_type": "code",
   "execution_count": 60,
   "id": "1c41bcfb",
   "metadata": {},
   "outputs": [],
   "source": [
    "X_train_2 = X_train.drop(columns=['MonthlyCharges', 'contract_length'])\n",
    "X_test_2 = X_test.drop(columns=['MonthlyCharges', 'contract_length'])"
   ]
  },
  {
   "cell_type": "code",
   "execution_count": 61,
   "id": "f2013a5c",
   "metadata": {},
   "outputs": [
    {
     "name": "stdout",
     "output_type": "stream",
     "text": [
      "<class 'pandas.core.frame.DataFrame'>\n",
      "RangeIndex: 5282 entries, 0 to 5281\n",
      "Data columns (total 20 columns):\n",
      " #   Column                                 Non-Null Count  Dtype  \n",
      "---  ------                                 --------------  -----  \n",
      " 0   PaperlessBilling                       5282 non-null   uint8  \n",
      " 1   TotalCharges                           5282 non-null   float64\n",
      " 2   gender                                 5282 non-null   uint8  \n",
      " 3   SeniorCitizen                          5282 non-null   uint8  \n",
      " 4   Partner                                5282 non-null   uint8  \n",
      " 5   Dependents                             5282 non-null   uint8  \n",
      " 6   MultipleLines                          5282 non-null   uint8  \n",
      " 7   OnlineSecurity                         5282 non-null   uint8  \n",
      " 8   OnlineBackup                           5282 non-null   uint8  \n",
      " 9   DeviceProtection                       5282 non-null   uint8  \n",
      " 10  TechSupport                            5282 non-null   uint8  \n",
      " 11  StreamingTV                            5282 non-null   uint8  \n",
      " 12  StreamingMovies                        5282 non-null   uint8  \n",
      " 13  Type_One year                          5282 non-null   uint8  \n",
      " 14  Type_Two year                          5282 non-null   uint8  \n",
      " 15  PaymentMethod_Credit card (automatic)  5282 non-null   uint8  \n",
      " 16  PaymentMethod_Electronic check         5282 non-null   uint8  \n",
      " 17  PaymentMethod_Mailed check             5282 non-null   uint8  \n",
      " 18  InternetService_Fiber optic            5282 non-null   uint8  \n",
      " 19  InternetService_No internet            5282 non-null   uint8  \n",
      "dtypes: float64(1), uint8(19)\n",
      "memory usage: 139.4 KB\n"
     ]
    }
   ],
   "source": [
    "X_train_2.info()"
   ]
  },
  {
   "cell_type": "markdown",
   "id": "61e9cf8d",
   "metadata": {},
   "source": [
    "## Построение моделей"
   ]
  },
  {
   "cell_type": "markdown",
   "id": "ecd1b0a8",
   "metadata": {},
   "source": [
    "### Baseline модель"
   ]
  },
  {
   "cell_type": "markdown",
   "id": "6c85db40",
   "metadata": {},
   "source": [
    "В качестве первоначальной модели возьмем Логистическую регрессию, зафиксируем параметр random_state и укажем, что классы необходимо сбалансировать (целевая метрика 36,1% от общего количества)."
   ]
  },
  {
   "cell_type": "code",
   "execution_count": 63,
   "id": "77a94008",
   "metadata": {},
   "outputs": [
    {
     "name": "stdout",
     "output_type": "stream",
     "text": [
      "Логистическая регрессия без подбора гиперпараметров\n",
      "Accuracy 0.7353776263486655\n",
      "F-1 модели логистической регрессии: 0.6148760330578512\n",
      "AUC-ROC 0.8392523225296129\n",
      "Wall time: 46.6 ms\n"
     ]
    }
   ],
   "source": [
    "%%time\n",
    "\n",
    "baseline_model = LogisticRegression(class_weight='balanced', random_state=12345)\n",
    "baseline_model.fit(X_train, Y_train)\n",
    "baseline_model_predict = baseline_model.predict(X_test)\n",
    "\n",
    "print('Логистическая регрессия без подбора гиперпараметров')\n",
    "print('Accuracy', accuracy_score(Y_test, baseline_model_predict))\n",
    "\n",
    "baseline_model_f1 = f1_score(Y_test, baseline_model_predict)\n",
    "print(\"F-1 модели логистической регрессии:\", baseline_model_f1)\n",
    "\n",
    "baseline_model_probabilities = baseline_model.predict_proba(X_test)[:, 1]\n",
    "print(\"AUC-ROC\", roc_auc_score(Y_test, baseline_model_probabilities))"
   ]
  },
  {
   "cell_type": "code",
   "execution_count": 73,
   "id": "4defbddc",
   "metadata": {},
   "outputs": [],
   "source": [
    "def fig(fpr,tpr, labels):\n",
    "    plt.figure(figsize=(8, 7))\n",
    "    plt.step(fpr, tpr, where='post')\n",
    "    plt.xlabel('FPR')\n",
    "    plt.ylabel('TPR')\n",
    "    plt.ylim([0.0, 1.05])\n",
    "    plt.xlim([0.0, 1.0])\n",
    "    plt.title(labels)\n",
    "    plt.show()"
   ]
  },
  {
   "cell_type": "code",
   "execution_count": 69,
   "id": "a0c6e936",
   "metadata": {},
   "outputs": [
    {
     "data": {
      "image/png": "[encoded data removed]",
      "text/plain": [
       "<Figure size 576x504 with 1 Axes>"
      ]
     },
     "metadata": {
      "needs_background": "light"
     },
     "output_type": "display_data"
    }
   ],
   "source": [
    "fpr, tpr, thresholds = roc_curve(Y_test, baseline_model_probabilities)\n",
    "fig(fpr,tpr, labels = 'Кривая ROC - AUC Baseline LogisticRegression')"
   ]
  },
  {
   "cell_type": "markdown",
   "id": "45c44503",
   "metadata": {},
   "source": [
    "Посмотрим на веса модели для разных фичей:"
   ]
  },
  {
   "cell_type": "code",
   "execution_count": 81,
   "id": "9852e339",
   "metadata": {},
   "outputs": [
    {
     "name": "stdout",
     "output_type": "stream",
     "text": [
      "PaperlessBilling 0.26820493717166727\n",
      "MonthlyCharges 0.7685539956508988\n",
      "TotalCharges 0.6082737967141529\n",
      "contract_length 1.3782298740338605\n",
      "gender 0.03450605389641513\n",
      "SeniorCitizen 0.2254997030059013\n",
      "Partner 0.03712951054742644\n",
      "Dependents 0.17162314282922378\n",
      "MultipleLines 0.363231229814564\n",
      "OnlineSecurity 0.2971466769622764\n",
      "OnlineBackup 0.03226588224041292\n",
      "DeviceProtection 0.03870553372083707\n",
      "TechSupport 0.14379686280055426\n",
      "StreamingTV 0.4783892043930094\n",
      "StreamingMovies 0.5650780411061673\n",
      "Type_One year 0.5380899504221861\n",
      "Type_Two year 1.3736649475048168\n",
      "PaymentMethod_Credit card (automatic) 0.020197595657498183\n",
      "PaymentMethod_Electronic check 0.3390853846720538\n",
      "PaymentMethod_Mailed check 0.14298983783963476\n",
      "InternetService_Fiber optic 1.3869581070867598\n",
      "InternetService_No internet 1.3839600166333847\n"
     ]
    }
   ],
   "source": [
    "weights = baseline_model.coef_\n",
    "abs_weights = np.abs(weights)\n",
    "\n",
    "for i in abs_weights:\n",
    "    for j in range(len(i)):\n",
    "        print(X_train.columns[j], i[j])"
   ]
  },
  {
   "cell_type": "markdown",
   "id": "29841022",
   "metadata": {},
   "source": [
    "#### Вывод\n",
    "\n",
    "Логистическая регрессия без подбора гиперпараметров показала результат ROC-AUC 0.8393 на тестовой выборке со всеми подготовленными фичами. \n",
    "\n",
    "Самыми важными оказались:\n",
    "* `contract_length` \n",
    "* `Type_Two year`\n",
    "* `InternetService_Fiber optic`\n",
    "* `InternetService_No internet`\n",
    "\n",
    "Наличие мужа/жены и некоторые сервисы совсем не влияют на возможность ухода клиента."
   ]
  },
  {
   "cell_type": "markdown",
   "id": "d5476a78",
   "metadata": {},
   "source": [
    "### RandomForestClassifier"
   ]
  },
  {
   "cell_type": "markdown",
   "id": "c84de526",
   "metadata": {},
   "source": [
    "Теперь попробуем подобрать параметры с помощью Optuna для модели Random Forest:"
   ]
  },
  {
   "cell_type": "code",
   "execution_count": 63,
   "id": "e6052975",
   "metadata": {},
   "outputs": [],
   "source": [
    "# Функция для получения модели с наилучшими гиперпараметрами с помощью optuna\n",
    "# На вход подаётся модель и признаки тренировочной выборки\n",
    "# На выходе получаем модель с найденными гиперпараметрами\n",
    "\n",
    "def tuning_optuna_cv(model, X, y, params, cv=5, timeseries_cv=0, n_trials=10, scoring=None, random_state=1, get_time=False):\n",
    "\n",
    "    \"\"\"model - модель на вход\n",
    "    X - признаки\n",
    "    y - целевой признак\n",
    "    params - словарь параметров (должен быть заточен под оптюновский интерфейс)\n",
    "    cv_num - количество подвыборок для кросс-валидации\n",
    "    timeseries_cv - для временных рядов, количество подвыборок для кросс-валидации\n",
    "    n_trials - количество проводимых экспериментов для поиска гиперпараметров\n",
    "    scoring - метрика, на основе которой будут подбираться гиперпараметры модели; если не указана, используется встроенная\n",
    "    в модель метрика (см. https://scikit-learn.org/stable/modules/model_evaluation.html)\n",
    "    get_time - получение затраченного времени на подбор гипепараметров в минутах\"\"\"\n",
    "\n",
    "    if timeseries_cv >= 2:\n",
    "        cv = TimeSeriesSplit(n_splits=timeseries_cv)\n",
    "\n",
    "    if get_time == True:\n",
    "        start_time = time.time()\n",
    "\n",
    "    optuna_search = OptunaSearchCV(model, params, cv=cv, n_trials=n_trials, scoring=scoring, random_state=random_state, n_jobs=-1)\n",
    "    optuna_search.fit(X, y)\n",
    "\n",
    "    best_model = optuna_search.best_estimator_\n",
    "\n",
    "    print(f'Подобранные параметры модели: {optuna_search.best_params_}\\n')\n",
    "    print(f'Полученная метрика: {optuna_search.best_score_}\\n')\n",
    "\n",
    "    if get_time == True:\n",
    "        end_time = time.time() - start_time\n",
    "        print(f'Затраченное время на подбор: {end_time/60:.2f} мин')\n",
    "\n",
    "    return best_model"
   ]
  },
  {
   "cell_type": "code",
   "execution_count": 90,
   "id": "4ef0ec54",
   "metadata": {},
   "outputs": [
    {
     "name": "stderr",
     "output_type": "stream",
     "text": [
      "\u001b[32m[I 2022-07-14 17:18:52,257]\u001b[0m A new study created in memory with name: no-name-78853fa4-6665-4c25-9419-cda943bf57f9\u001b[0m\n",
      "\u001b[32m[I 2022-07-14 17:19:06,286]\u001b[0m Trial 3 finished with value: 0.8553291896839083 and parameters: {'n_estimators': 100, 'max_depth': 15, 'min_samples_split': 11, 'min_samples_leaf': 14, 'criterion': 'entropy'}. Best is trial 3 with value: 0.8553291896839083.\u001b[0m\n",
      "\u001b[32m[I 2022-07-14 17:19:37,061]\u001b[0m Trial 1 finished with value: 0.854439293772504 and parameters: {'n_estimators': 1200, 'max_depth': 30, 'min_samples_split': 11, 'min_samples_leaf': 23, 'criterion': 'gini'}. Best is trial 3 with value: 0.8553291896839083.\u001b[0m\n",
      "\u001b[32m[I 2022-07-14 17:19:43,164]\u001b[0m Trial 6 finished with value: 0.8541768775648719 and parameters: {'n_estimators': 800, 'max_depth': 15, 'min_samples_split': 14, 'min_samples_leaf': 29, 'criterion': 'entropy'}. Best is trial 3 with value: 0.8553291896839083.\u001b[0m\n",
      "\u001b[32m[I 2022-07-14 17:19:43,756]\u001b[0m Trial 2 finished with value: 0.8582140220205556 and parameters: {'n_estimators': 1600, 'max_depth': 20, 'min_samples_split': 14, 'min_samples_leaf': 8, 'criterion': 'entropy'}. Best is trial 2 with value: 0.8582140220205556.\u001b[0m\n",
      "\u001b[32m[I 2022-07-14 17:19:45,118]\u001b[0m Trial 4 finished with value: 0.8568046429095542 and parameters: {'n_estimators': 2000, 'max_depth': 25, 'min_samples_split': 2, 'min_samples_leaf': 14, 'criterion': 'entropy'}. Best is trial 2 with value: 0.8582140220205556.\u001b[0m\n",
      "\u001b[32m[I 2022-07-14 17:19:45,462]\u001b[0m Trial 5 finished with value: 0.8570446467879812 and parameters: {'n_estimators': 2000, 'max_depth': 10, 'min_samples_split': 14, 'min_samples_leaf': 14, 'criterion': 'entropy'}. Best is trial 2 with value: 0.8582140220205556.\u001b[0m\n",
      "\u001b[32m[I 2022-07-14 17:19:45,964]\u001b[0m Trial 0 finished with value: 0.8531192396841704 and parameters: {'n_estimators': 2000, 'max_depth': 5, 'min_samples_split': 5, 'min_samples_leaf': 17, 'criterion': 'gini'}. Best is trial 2 with value: 0.8582140220205556.\u001b[0m\n",
      "\u001b[32m[I 2022-07-14 17:19:52,047]\u001b[0m Trial 8 finished with value: 0.8543838591266202 and parameters: {'n_estimators': 400, 'max_depth': 10, 'min_samples_split': 8, 'min_samples_leaf': 26, 'criterion': 'entropy'}. Best is trial 2 with value: 0.8582140220205556.\u001b[0m\n",
      "\u001b[32m[I 2022-07-14 17:19:54,094]\u001b[0m Trial 7 finished with value: 0.8541338610920393 and parameters: {'n_estimators': 800, 'max_depth': 10, 'min_samples_split': 5, 'min_samples_leaf': 29, 'criterion': 'entropy'}. Best is trial 2 with value: 0.8582140220205556.\u001b[0m\n",
      "\u001b[32m[I 2022-07-14 17:19:54,688]\u001b[0m Trial 9 finished with value: 0.8546170298979554 and parameters: {'n_estimators': 800, 'max_depth': 30, 'min_samples_split': 2, 'min_samples_leaf': 26, 'criterion': 'entropy'}. Best is trial 2 with value: 0.8582140220205556.\u001b[0m\n"
     ]
    },
    {
     "name": "stdout",
     "output_type": "stream",
     "text": [
      "Подобранные параметры модели: {'n_estimators': 1600, 'max_depth': 20, 'min_samples_split': 14, 'min_samples_leaf': 8, 'criterion': 'entropy'}\n",
      "\n",
      "Полученная метрика: 0.8582140220205556\n",
      "\n",
      "Затраченное время на подбор: 1.10 мин\n"
     ]
    },
    {
     "data": {
      "text/plain": [
       "RandomForestClassifier(class_weight='balanced', criterion='entropy',\n",
       "                       max_depth=20, min_samples_leaf=8, min_samples_split=14,\n",
       "                       n_estimators=1600, n_jobs=-1, random_state=12345)"
      ]
     },
     "execution_count": 90,
     "metadata": {},
     "output_type": "execute_result"
    }
   ],
   "source": [
    "model_rf = RandomForestClassifier(random_state=12345, n_jobs=-1, class_weight='balanced')\n",
    "\n",
    "dict_optuna = {\n",
    "               'n_estimators': optuna.distributions.IntUniformDistribution(100, 2000, 100),\n",
    "               'max_depth': optuna.distributions.IntUniformDistribution(5, 30, 5), \n",
    "               'min_samples_split': optuna.distributions.IntUniformDistribution(2, 15, 3), \n",
    "               'min_samples_leaf': optuna.distributions.IntUniformDistribution(5, 30, 3),\n",
    "               'criterion': optuna.distributions.CategoricalDistribution(['gini', 'entropy'])}\n",
    "\n",
    "tuning_optuna_cv(model_rf, X_train, Y_train, dict_optuna, cv=5, timeseries_cv=0, n_trials=10, scoring='roc_auc', random_state=1, get_time=True)"
   ]
  },
  {
   "cell_type": "code",
   "execution_count": 92,
   "id": "d4af4222",
   "metadata": {},
   "outputs": [
    {
     "name": "stdout",
     "output_type": "stream",
     "text": [
      "RandomForestClassifier c подбором гиперпараметров с помощью optuna\n",
      "Accuracy 0.7739920499716071\n",
      "F-1 модели логистической регрессии: 0.632841328413284\n",
      "AUC-ROC 0.8512828107986457\n",
      "Wall time: 6.43 s\n"
     ]
    }
   ],
   "source": [
    "%%time\n",
    "model_rf = RandomForestClassifier(n_estimators=1600,\n",
    "                                  max_depth=20,\n",
    "                                  min_samples_split=14,\n",
    "                                  min_samples_leaf=8,\n",
    "                                  criterion='entropy',\n",
    "                                  random_state=12345, \n",
    "                                  n_jobs=-1, \n",
    "                                  class_weight='balanced')\n",
    "\n",
    "\n",
    "model_rf.fit(X_train, Y_train)\n",
    "model_rf_predict = model_rf.predict(X_test)\n",
    "\n",
    "print('RandomForestClassifier c подбором гиперпараметров с помощью optuna')\n",
    "print('Accuracy', accuracy_score(Y_test, model_rf_predict))\n",
    "\n",
    "model_rf_f1 = f1_score(Y_test, model_rf_predict)\n",
    "print(\"F-1 RandomForest модели:\", model_rf_f1)\n",
    "\n",
    "model_rf_probabilities = model_rf.predict_proba(X_test)[:, 1]\n",
    "print(\"AUC-ROC\", roc_auc_score(Y_test, model_rf_probabilities))"
   ]
  },
  {
   "cell_type": "code",
   "execution_count": 105,
   "id": "085030c2",
   "metadata": {},
   "outputs": [
    {
     "data": {
      "image/png": "[encoded data removed]",
      "text/plain": [
       "<Figure size 576x504 with 1 Axes>"
      ]
     },
     "metadata": {
      "needs_background": "light"
     },
     "output_type": "display_data"
    }
   ],
   "source": [
    "fpr_rf, tpr_rf, thresholds_rf = roc_curve(Y_test, model_rf_probabilities)\n",
    "fig(fpr_rf, tpr_rf, labels = 'Кривая ROC - AUC RandomForestClassifier')"
   ]
  },
  {
   "cell_type": "code",
   "execution_count": 95,
   "id": "297967be",
   "metadata": {},
   "outputs": [
    {
     "data": {
      "image/png": "[encoded data removed]",
      "text/plain": [
       "<Figure size 648x648 with 1 Axes>"
      ]
     },
     "metadata": {
      "needs_background": "light"
     },
     "output_type": "display_data"
    }
   ],
   "source": [
    "plt.figure(figsize=(9, 9))\n",
    "feature_importance = model_rf.feature_importances_\n",
    "feature_imp = pd.DataFrame(sorted(zip(feature_importance, features.columns)), columns=['Value','Feature'])\n",
    "sns.barplot(x=\"Value\", y=\"Feature\", data=feature_imp.sort_values(by=\"Value\", ascending=False))\n",
    "plt.title('Feature importance')\n",
    "plt.tight_layout()\n",
    "plt.show();"
   ]
  },
  {
   "cell_type": "markdown",
   "id": "c041852e",
   "metadata": {},
   "source": [
    "#### Вывод\n",
    "\n",
    "RandomForest с подбором гиперпараметров (criterion='entropy', max_depth=20, min_samples_leaf=8, min_samples_split=14,        n_estimators=1600) показал результат ROC-AUC 0.8513 на тестовой выборке со всеми подготовленными фичами. \n",
    "\n",
    "Самыми важными оказались:\n",
    "* `contract_length` \n",
    "* `TotalCharges`\n",
    "* `MonthlyCharges`\n",
    "* `Type_Two year`\n",
    "\n",
    "Некоторые доп.услуги и метод оплаты оказались самыми неважными."
   ]
  },
  {
   "cell_type": "markdown",
   "id": "914abeee",
   "metadata": {},
   "source": [
    "### XGBClassifier"
   ]
  },
  {
   "cell_type": "markdown",
   "id": "a3efae0b",
   "metadata": {},
   "source": [
    "Попробуем более продвинутую модель градиентного бустинга XGBClassifier:"
   ]
  },
  {
   "cell_type": "code",
   "execution_count": 99,
   "id": "c9685396",
   "metadata": {},
   "outputs": [
    {
     "name": "stderr",
     "output_type": "stream",
     "text": [
      "\u001b[32m[I 2022-07-15 00:56:58,449]\u001b[0m A new study created in memory with name: no-name-8d5f1452-7b6f-42ae-bb01-b3fbaa3b5908\u001b[0m\n",
      "\u001b[32m[I 2022-07-15 00:57:14,257]\u001b[0m Trial 2 finished with value: 0.8597123314325547 and parameters: {'learning_rate': 0.005778880716242229, 'max_depth': 14, 'n_estimators': 241, 'min_child_weight': 12}. Best is trial 2 with value: 0.8597123314325547.\u001b[0m\n",
      "\u001b[32m[I 2022-07-15 00:57:17,327]\u001b[0m Trial 3 finished with value: 0.8883708804815539 and parameters: {'learning_rate': 0.1416687702179585, 'max_depth': 11, 'n_estimators': 366, 'min_child_weight': 11}. Best is trial 3 with value: 0.8883708804815539.\u001b[0m\n",
      "\u001b[32m[I 2022-07-15 00:57:18,405]\u001b[0m Trial 6 finished with value: 0.8801864986189656 and parameters: {'learning_rate': 0.7048759466341278, 'max_depth': 6, 'n_estimators': 122, 'min_child_weight': 17}. Best is trial 3 with value: 0.8883708804815539.\u001b[0m\n",
      "\u001b[32m[I 2022-07-15 00:57:18,989]\u001b[0m Trial 1 finished with value: 0.8598043327009052 and parameters: {'learning_rate': 0.004615825798780266, 'max_depth': 14, 'n_estimators': 330, 'min_child_weight': 14}. Best is trial 3 with value: 0.8883708804815539.\u001b[0m\n",
      "\u001b[32m[I 2022-07-15 00:57:19,213]\u001b[0m Trial 4 finished with value: 0.844937928788935 and parameters: {'learning_rate': 0.00012938001223026762, 'max_depth': 9, 'n_estimators': 337, 'min_child_weight': 10}. Best is trial 3 with value: 0.8883708804815539.\u001b[0m\n",
      "\u001b[32m[I 2022-07-15 00:57:20,478]\u001b[0m Trial 5 finished with value: 0.8848250989916091 and parameters: {'learning_rate': 0.22556486034052795, 'max_depth': 14, 'n_estimators': 406, 'min_child_weight': 17}. Best is trial 3 with value: 0.8883708804815539.\u001b[0m\n",
      "\u001b[32m[I 2022-07-15 00:57:22,665]\u001b[0m Trial 0 finished with value: 0.8776423749600365 and parameters: {'learning_rate': 0.03374403076648999, 'max_depth': 11, 'n_estimators': 500, 'min_child_weight': 18}. Best is trial 3 with value: 0.8883708804815539.\u001b[0m\n",
      "\u001b[32m[I 2022-07-15 00:57:23,969]\u001b[0m Trial 9 finished with value: 0.840839181547073 and parameters: {'learning_rate': 0.0004334949394603141, 'max_depth': 5, 'n_estimators': 230, 'min_child_weight': 19}. Best is trial 3 with value: 0.8883708804815539.\u001b[0m\n",
      "\u001b[32m[I 2022-07-15 00:57:28,349]\u001b[0m Trial 8 finished with value: 0.8597528878558064 and parameters: {'learning_rate': 0.005178953770888042, 'max_depth': 10, 'n_estimators': 394, 'min_child_weight': 19}. Best is trial 3 with value: 0.8883708804815539.\u001b[0m\n",
      "\u001b[32m[I 2022-07-15 00:57:29,457]\u001b[0m Trial 7 finished with value: 0.8508771419792556 and parameters: {'learning_rate': 0.0006020768935321772, 'max_depth': 11, 'n_estimators': 426, 'min_child_weight': 11}. Best is trial 3 with value: 0.8883708804815539.\u001b[0m\n"
     ]
    },
    {
     "name": "stdout",
     "output_type": "stream",
     "text": [
      "[00:57:29] WARNING: C:/Users/Administrator/workspace/xgboost-win64_release_1.5.1/src/learner.cc:1115: Starting in XGBoost 1.3.0, the default evaluation metric used with the objective 'binary:logistic' was changed from 'error' to 'logloss'. Explicitly set eval_metric if you'd like to restore the old behavior.\n",
      "Подобранные параметры модели: {'learning_rate': 0.1416687702179585, 'max_depth': 11, 'n_estimators': 366, 'min_child_weight': 11}\n",
      "\n",
      "Полученная метрика: 0.8883708804815539\n",
      "\n",
      "Затраченное время на подбор: 0.54 мин\n"
     ]
    },
    {
     "data": {
      "text/plain": [
       "XGBClassifier(base_score=0.5, booster='gbtree', colsample_bylevel=1,\n",
       "              colsample_bynode=1, colsample_bytree=1, enable_categorical=False,\n",
       "              gamma=0, gpu_id=-1, importance_type=None,\n",
       "              interaction_constraints='', learning_rate=0.1416687702179585,\n",
       "              max_delta_step=0, max_depth=11, min_child_weight=11, missing=nan,\n",
       "              monotone_constraints='()', n_estimators=366, n_jobs=6,\n",
       "              num_parallel_tree=1, predictor='auto', random_state=12345,\n",
       "              reg_alpha=0, reg_lambda=1, scale_pos_weight=1, seed=12345,\n",
       "              subsample=1, tree_method='exact', validate_parameters=1,\n",
       "              verbosity=None)"
      ]
     },
     "execution_count": 99,
     "metadata": {},
     "output_type": "execute_result"
    }
   ],
   "source": [
    "xgb_model = XGBClassifier(seed=12345)\n",
    "dict_optuna_xgb = {\n",
    "        'learning_rate': optuna.distributions.LogUniformDistribution(1e-4, 1),\n",
    "        'max_depth': optuna.distributions.IntUniformDistribution(4, 15),\n",
    "        'n_estimators': optuna.distributions.IntUniformDistribution(100, 600),\n",
    "        'min_child_weight': optuna.distributions.IntUniformDistribution(10, 20)\n",
    "}\n",
    "tuning_optuna_cv(xgb_model, X_train, Y_train, dict_optuna_xgb, cv=5, timeseries_cv=0, n_trials=10, scoring='roc_auc', random_state=1, get_time=True)"
   ]
  },
  {
   "cell_type": "code",
   "execution_count": 101,
   "id": "4e604ad2",
   "metadata": {},
   "outputs": [
    {
     "name": "stdout",
     "output_type": "stream",
     "text": [
      "[01:00:57] WARNING: C:/Users/Administrator/workspace/xgboost-win64_release_1.5.1/src/learner.cc:1115: Starting in XGBoost 1.3.0, the default evaluation metric used with the objective 'binary:logistic' was changed from 'error' to 'logloss'. Explicitly set eval_metric if you'd like to restore the old behavior.\n",
      "XGBClassifier c подбором гиперпараметров с помощью optuna\n",
      "Accuracy 0.8512208972174901\n",
      "F-1 модели логистической регрессии: 0.6924882629107981\n",
      "AUC-ROC 0.8892698635441454\n",
      "Wall time: 1.87 s\n"
     ]
    }
   ],
   "source": [
    "# Гиперпараметры с другого подбора с помощью Optuna \n",
    "#Подобранные параметры модели: {'learning_rate': 0.09173419617293031, \n",
    "#                               'max_depth': 11, 'n_estimators': 570, 'min_child_weight': 10}\n",
    "\n",
    "# Полученная метрика: 0.89018017979654\n",
    "%%time\n",
    "\n",
    "xgb_model = XGBClassifier(base_score=0.5, booster='gbtree', colsample_bylevel=1,\n",
    "              colsample_bynode=1, colsample_bytree=1, enable_categorical=False,\n",
    "              gamma=0, gpu_id=-1, importance_type=None,\n",
    "              interaction_constraints='', learning_rate=0.09173419617293031,\n",
    "              max_delta_step=0, max_depth=11, min_child_weight=10, \n",
    "              monotone_constraints='()', n_estimators=570, n_jobs=6,\n",
    "              num_parallel_tree=1, predictor='auto', random_state=12345,\n",
    "              reg_alpha=0, reg_lambda=1, scale_pos_weight=1, seed=12345,\n",
    "              subsample=1, tree_method='exact', validate_parameters=1,\n",
    "              verbosity=None)\n",
    "\n",
    "xgb_model.fit(X_train, Y_train)\n",
    "model_xgb_predict = xgb_model.predict(X_test)\n",
    "\n",
    "print('XGBClassifier c подбором гиперпараметров с помощью optuna')\n",
    "print('Accuracy', accuracy_score(Y_test, model_xgb_predict))\n",
    "\n",
    "model_xgb_f1 = f1_score(Y_test, model_xgb_predict)\n",
    "print(\"F-1 XGB модели:\", model_xgb_f1)\n",
    "\n",
    "model_xgb_probabilities = xgb_model.predict_proba(X_test)[:, 1]\n",
    "print(\"AUC-ROC\", roc_auc_score(Y_test, model_xgb_probabilities))"
   ]
  },
  {
   "cell_type": "code",
   "execution_count": 104,
   "id": "df227dea",
   "metadata": {},
   "outputs": [
    {
     "data": {
      "image/png": "[encoded data removed]",
      "text/plain": [
       "<Figure size 576x504 with 1 Axes>"
      ]
     },
     "metadata": {
      "needs_background": "light"
     },
     "output_type": "display_data"
    }
   ],
   "source": [
    "fpr_xgb, tpr_xgb, thresholds_xgb = roc_curve(Y_test, model_xgb_probabilities)\n",
    "fig(fpr_xgb, tpr_xgb, labels = 'Кривая ROC - AUC XGBClassifier')"
   ]
  },
  {
   "cell_type": "code",
   "execution_count": 72,
   "id": "ffe7d55d",
   "metadata": {},
   "outputs": [],
   "source": [
    "# Визуализация важности фичей модели\n",
    "def feat_importance_plot(model, feature_names=None, figsize=(16,6)):\n",
    "    feature_importances = pd.Series(model.feature_importances_, index=feature_names).sort_values()\n",
    "    feature_importances.plot(kind='bar', grid=True, figsize=figsize)\n",
    "    plt.title(f'Важность признаков на модели {type(model).__name__}')\n",
    "    plt.ylabel('Importance')\n",
    "    plt.show()"
   ]
  },
  {
   "cell_type": "code",
   "execution_count": 103,
   "id": "a266ac75",
   "metadata": {},
   "outputs": [
    {
     "data": {
      "image/png": "[encoded data removed]",
      "text/plain": [
       "<Figure size 1152x432 with 1 Axes>"
      ]
     },
     "metadata": {
      "needs_background": "light"
     },
     "output_type": "display_data"
    }
   ],
   "source": [
    "feat_importance_plot(xgb_model, feature_names=X_train.columns)"
   ]
  },
  {
   "cell_type": "markdown",
   "id": "9705a2cf",
   "metadata": {},
   "source": [
    "#### Вывод\n",
    "\n",
    "XGBClassifier с подбором гиперпараметров ('learning_rate': 0.09173419617293031, 'max_depth': 11, 'n_estimators': 570, 'min_child_weight': 10) показал результат ROC-AUC 0.8893 на тестовой выборке со всеми подготовленными фичами. \n",
    "\n",
    "Самыми важными оказались:\n",
    "* `InternetService_Fiber optic` \n",
    "* `Type_Two year`\n",
    "* `Type_One year`\n",
    "* `InternetService_No internet`\n",
    "\n",
    "Фичи, которые были важны для других моделей в этот раз оказались не самыми важными."
   ]
  },
  {
   "cell_type": "markdown",
   "id": "32e46a96",
   "metadata": {},
   "source": [
    "### XGBClassifier 2"
   ]
  },
  {
   "cell_type": "markdown",
   "id": "adcb8573",
   "metadata": {},
   "source": [
    "Попробуем бустинговую модель без 2-х столбцов:"
   ]
  },
  {
   "cell_type": "code",
   "execution_count": 66,
   "id": "fe7231de",
   "metadata": {},
   "outputs": [
    {
     "name": "stderr",
     "output_type": "stream",
     "text": [
      "\u001b[32m[I 2022-07-16 15:54:03,079]\u001b[0m A new study created in memory with name: no-name-d931128b-d656-4ddd-ba16-8d8a52287191\u001b[0m\n",
      "\u001b[32m[I 2022-07-16 15:54:11,910]\u001b[0m Trial 1 finished with value: 0.834041437258581 and parameters: {'learning_rate': 0.00026679019202300913, 'max_depth': 4, 'n_estimators': 427, 'min_child_weight': 16}. Best is trial 1 with value: 0.834041437258581.\u001b[0m\n",
      "\u001b[32m[I 2022-07-16 15:54:14,717]\u001b[0m Trial 0 finished with value: 0.8364657538823579 and parameters: {'learning_rate': 0.00031475393185227343, 'max_depth': 5, 'n_estimators': 431, 'min_child_weight': 16}. Best is trial 0 with value: 0.8364657538823579.\u001b[0m\n",
      "\u001b[32m[I 2022-07-16 15:54:16,785]\u001b[0m Trial 5 finished with value: 0.8478471290467979 and parameters: {'learning_rate': 0.006184336657862646, 'max_depth': 6, 'n_estimators': 457, 'min_child_weight': 20}. Best is trial 5 with value: 0.8478471290467979.\u001b[0m\n",
      "\u001b[32m[I 2022-07-16 15:54:21,506]\u001b[0m Trial 2 finished with value: 0.837785938998632 and parameters: {'learning_rate': 0.00029622604296406646, 'max_depth': 5, 'n_estimators': 699, 'min_child_weight': 15}. Best is trial 5 with value: 0.8478471290467979.\u001b[0m\n",
      "\u001b[32m[I 2022-07-16 15:54:22,431]\u001b[0m Trial 3 finished with value: 0.8373752925198769 and parameters: {'learning_rate': 0.0002775737365228517, 'max_depth': 5, 'n_estimators': 739, 'min_child_weight': 19}. Best is trial 5 with value: 0.8478471290467979.\u001b[0m\n",
      "\u001b[32m[I 2022-07-16 15:54:34,951]\u001b[0m Trial 4 finished with value: 0.8406045219707652 and parameters: {'learning_rate': 0.0075313403668238535, 'max_depth': 10, 'n_estimators': 720, 'min_child_weight': 11}. Best is trial 5 with value: 0.8478471290467979.\u001b[0m\n",
      "\u001b[32m[I 2022-07-16 15:54:40,800]\u001b[0m Trial 9 finished with value: 0.8393783379367816 and parameters: {'learning_rate': 0.00043225331458849133, 'max_depth': 13, 'n_estimators': 600, 'min_child_weight': 19}. Best is trial 5 with value: 0.8478471290467979.\u001b[0m\n",
      "\u001b[32m[I 2022-07-16 15:54:43,714]\u001b[0m Trial 7 finished with value: 0.8369611312166206 and parameters: {'learning_rate': 0.00013651621207557793, 'max_depth': 6, 'n_estimators': 1071, 'min_child_weight': 10}. Best is trial 5 with value: 0.8478471290467979.\u001b[0m\n",
      "\u001b[32m[I 2022-07-16 15:54:45,782]\u001b[0m Trial 6 finished with value: 0.844524155655952 and parameters: {'learning_rate': 0.0008742332354440469, 'max_depth': 14, 'n_estimators': 1038, 'min_child_weight': 17}. Best is trial 5 with value: 0.8478471290467979.\u001b[0m\n",
      "\u001b[32m[I 2022-07-16 15:54:45,829]\u001b[0m Trial 8 finished with value: 0.8381019751151735 and parameters: {'learning_rate': 0.00036058093961879634, 'max_depth': 15, 'n_estimators': 760, 'min_child_weight': 10}. Best is trial 5 with value: 0.8478471290467979.\u001b[0m\n"
     ]
    },
    {
     "name": "stdout",
     "output_type": "stream",
     "text": [
      "[15:54:45] WARNING: C:/Users/Administrator/workspace/xgboost-win64_release_1.5.1/src/learner.cc:1115: Starting in XGBoost 1.3.0, the default evaluation metric used with the objective 'binary:logistic' was changed from 'error' to 'logloss'. Explicitly set eval_metric if you'd like to restore the old behavior.\n",
      "Подобранные параметры модели: {'learning_rate': 0.006184336657862646, 'max_depth': 6, 'n_estimators': 457, 'min_child_weight': 20}\n",
      "\n",
      "Полученная метрика: 0.8478471290467979\n",
      "\n",
      "Затраченное время на подбор: 0.73 мин\n"
     ]
    },
    {
     "data": {
      "text/plain": [
       "XGBClassifier(base_score=0.5, booster='gbtree', colsample_bylevel=1,\n",
       "              colsample_bynode=1, colsample_bytree=1, enable_categorical=False,\n",
       "              gamma=0, gpu_id=-1, importance_type=None,\n",
       "              interaction_constraints='', learning_rate=0.006184336657862646,\n",
       "              max_delta_step=0, max_depth=6, min_child_weight=20, missing=nan,\n",
       "              monotone_constraints='()', n_estimators=457, n_jobs=6,\n",
       "              num_parallel_tree=1, predictor='auto', random_state=12345,\n",
       "              reg_alpha=0, reg_lambda=1, scale_pos_weight=1, seed=12345,\n",
       "              subsample=1, tree_method='exact', validate_parameters=1,\n",
       "              verbosity=None)"
      ]
     },
     "execution_count": 66,
     "metadata": {},
     "output_type": "execute_result"
    }
   ],
   "source": [
    "xgb_model = XGBClassifier(seed=12345)\n",
    "dict_optuna_xgb = {\n",
    "        'learning_rate': optuna.distributions.LogUniformDistribution(1e-4, 1),\n",
    "        'max_depth': optuna.distributions.IntUniformDistribution(4, 15),\n",
    "        'n_estimators': optuna.distributions.IntUniformDistribution(100, 1300),\n",
    "        'min_child_weight': optuna.distributions.IntUniformDistribution(10, 20)\n",
    "}\n",
    "tuning_optuna_cv(xgb_model, X_train_2, Y_train, dict_optuna_xgb, cv=5, timeseries_cv=0, n_trials=10, scoring='roc_auc', random_state=1, get_time=True)"
   ]
  },
  {
   "cell_type": "code",
   "execution_count": 70,
   "id": "c95e3e79",
   "metadata": {},
   "outputs": [
    {
     "name": "stdout",
     "output_type": "stream",
     "text": [
      "[15:57:18] WARNING: C:/Users/Administrator/workspace/xgboost-win64_release_1.5.1/src/learner.cc:1115: Starting in XGBoost 1.3.0, the default evaluation metric used with the objective 'binary:logistic' was changed from 'error' to 'logloss'. Explicitly set eval_metric if you'd like to restore the old behavior.\n",
      "XGBClassifier c подбором гиперпараметров с помощью optuna\n",
      "Accuracy 0.8029528676888131\n",
      "F-1 XGB модели: 0.5873959571938169\n",
      "AUC-ROC 0.8412447170104814\n",
      "Wall time: 863 ms\n"
     ]
    }
   ],
   "source": [
    "%%time\n",
    "\n",
    "xgb_model_2 = XGBClassifier(base_score=0.5, booster='gbtree', colsample_bylevel=1,\n",
    "              colsample_bynode=1, colsample_bytree=1, enable_categorical=False,\n",
    "              gamma=0, gpu_id=-1, importance_type=None,\n",
    "              interaction_constraints='', learning_rate=0.006184336657862646,\n",
    "              max_delta_step=0, max_depth=6, min_child_weight=20, \n",
    "              monotone_constraints='()', n_estimators=457, n_jobs=6,\n",
    "              num_parallel_tree=1, predictor='auto', random_state=12345,\n",
    "              reg_alpha=0, reg_lambda=1, scale_pos_weight=1, seed=12345,\n",
    "              subsample=1, tree_method='exact', validate_parameters=1,\n",
    "              verbosity=None)\n",
    "\n",
    "xgb_model_2.fit(X_train_2, Y_train)\n",
    "model_xgb_predict_2 = xgb_model_2.predict(X_test_2)\n",
    "\n",
    "print('XGBClassifier c подбором гиперпараметров с помощью optuna')\n",
    "print('Accuracy', accuracy_score(Y_test, model_xgb_predict_2))\n",
    "\n",
    "model_xgb_f1_2 = f1_score(Y_test, model_xgb_predict_2)\n",
    "print(\"F-1 XGB модели:\", model_xgb_f1_2)\n",
    "\n",
    "model_xgb_probabilities_2 = xgb_model_2.predict_proba(X_test_2)[:, 1]\n",
    "print(\"AUC-ROC\", roc_auc_score(Y_test, model_xgb_probabilities_2))"
   ]
  },
  {
   "cell_type": "code",
   "execution_count": 74,
   "id": "335dc09f",
   "metadata": {},
   "outputs": [
    {
     "data": {
      "image/png": "[encoded data removed]",
      "text/plain": [
       "<Figure size 576x504 with 1 Axes>"
      ]
     },
     "metadata": {
      "needs_background": "light"
     },
     "output_type": "display_data"
    }
   ],
   "source": [
    "fpr_xgb, tpr_xgb, thresholds_xgb = roc_curve(Y_test, model_xgb_probabilities_2)\n",
    "fig(fpr_xgb, tpr_xgb, labels = 'Кривая ROC - AUC XGBClassifier 2')"
   ]
  },
  {
   "cell_type": "code",
   "execution_count": 75,
   "id": "1c3959fe",
   "metadata": {},
   "outputs": [
    {
     "data": {
      "image/png": "[encoded data removed]",
      "text/plain": [
       "<Figure size 1152x432 with 1 Axes>"
      ]
     },
     "metadata": {
      "needs_background": "light"
     },
     "output_type": "display_data"
    }
   ],
   "source": [
    "feat_importance_plot(xgb_model_2, feature_names=X_train_2.columns)"
   ]
  },
  {
   "cell_type": "markdown",
   "id": "37b5cdd7",
   "metadata": {},
   "source": [
    "#### Вывод\n",
    "\n",
    "XGBClassifier с подбором гиперпараметров ('learning_rate':0.006184336657862646, 'max_depth': 6, 'n_estimators': 457, 'min_child_weight': 20) показал результат ROC-AUC 0.8412 на тестовой выборке без 2 стообцов: `MonthlyCharges` и `contract_length`. \n",
    "\n",
    "Самыми важными оказались:\n",
    "* `InternetService_Fiber optic` \n",
    "* `Type_Two year`\n",
    "* `Type_One year`\n",
    "* `PaymentMethod_Electronic Check`\n",
    "\n",
    "Без 2 фичей модель показала результат намного хуже предыдущей, но все же чуть лучше логистической регрессии."
   ]
  },
  {
   "cell_type": "markdown",
   "id": "c06e216b",
   "metadata": {},
   "source": [
    "### Вывод"
   ]
  },
  {
   "cell_type": "code",
   "execution_count": 77,
   "id": "22c56056",
   "metadata": {},
   "outputs": [
    {
     "data": {
      "text/html": [
       "<div>\n",
       "<style scoped>\n",
       "    .dataframe tbody tr th:only-of-type {\n",
       "        vertical-align: middle;\n",
       "    }\n",
       "\n",
       "    .dataframe tbody tr th {\n",
       "        vertical-align: top;\n",
       "    }\n",
       "\n",
       "    .dataframe thead th {\n",
       "        text-align: right;\n",
       "    }\n",
       "</style>\n",
       "<table border=\"1\" class=\"dataframe\">\n",
       "  <thead>\n",
       "    <tr style=\"text-align: right;\">\n",
       "      <th></th>\n",
       "      <th>name</th>\n",
       "      <th>accuracy</th>\n",
       "      <th>f1_score</th>\n",
       "      <th>AUC-ROC</th>\n",
       "      <th>total_time_in_seconds</th>\n",
       "      <th>comment</th>\n",
       "    </tr>\n",
       "  </thead>\n",
       "  <tbody>\n",
       "    <tr>\n",
       "      <th>0</th>\n",
       "      <td>Logistic Regression</td>\n",
       "      <td>0.7354</td>\n",
       "      <td>0.6149</td>\n",
       "      <td>0.8392</td>\n",
       "      <td>0.470</td>\n",
       "      <td>all features</td>\n",
       "    </tr>\n",
       "    <tr>\n",
       "      <th>1</th>\n",
       "      <td>RandomForestClassifier</td>\n",
       "      <td>0.7740</td>\n",
       "      <td>0.6328</td>\n",
       "      <td>0.8513</td>\n",
       "      <td>6.430</td>\n",
       "      <td>all features</td>\n",
       "    </tr>\n",
       "    <tr>\n",
       "      <th>2</th>\n",
       "      <td>XGBClassifier</td>\n",
       "      <td>0.8512</td>\n",
       "      <td>0.6925</td>\n",
       "      <td>0.8893</td>\n",
       "      <td>1.870</td>\n",
       "      <td>all features</td>\n",
       "    </tr>\n",
       "    <tr>\n",
       "      <th>3</th>\n",
       "      <td>XGBClassifier</td>\n",
       "      <td>0.8030</td>\n",
       "      <td>0.5874</td>\n",
       "      <td>0.8412</td>\n",
       "      <td>0.863</td>\n",
       "      <td>without features MonthlyCharges и contract_length</td>\n",
       "    </tr>\n",
       "  </tbody>\n",
       "</table>\n",
       "</div>"
      ],
      "text/plain": [
       "                     name  accuracy  f1_score  AUC-ROC  total_time_in_seconds  \\\n",
       "0     Logistic Regression    0.7354    0.6149   0.8392                  0.470   \n",
       "1  RandomForestClassifier    0.7740    0.6328   0.8513                  6.430   \n",
       "2           XGBClassifier    0.8512    0.6925   0.8893                  1.870   \n",
       "3           XGBClassifier    0.8030    0.5874   0.8412                  0.863   \n",
       "\n",
       "                                             comment  \n",
       "0                                       all features  \n",
       "1                                       all features  \n",
       "2                                       all features  \n",
       "3  without features MonthlyCharges и contract_length  "
      ]
     },
     "execution_count": 77,
     "metadata": {},
     "output_type": "execute_result"
    }
   ],
   "source": [
    "result = pd.DataFrame(columns=['name','accuracy','f1_score','AUC-ROC', 'total_time_in_seconds', 'comment'])\n",
    "\n",
    "result.loc[0] = ['Logistic Regression', 0.7354, 0.6149, 0.8392, 0.47 , 'all features']\n",
    "result.loc[1] = ['RandomForestClassifier', 0.774, 0.6328, 0.8513, 6.43 , 'all features'] \n",
    "result.loc[2] = ['XGBClassifier', 0.8512, 0.6925, 0.8893, 1.87 , 'all features']\n",
    "result.loc[3] = ['XGBClassifier', 0.803, 0.5874, 0.8412, 0.863 , 'without features MonthlyCharges и contract_length']\n",
    "result"
   ]
  },
  {
   "cell_type": "markdown",
   "id": "4acef36d",
   "metadata": {},
   "source": [
    "По полученным результатам можно сделать вывод, что градиентный бустинг над решающими деревьями со всеми подготовленными фичами показывает отличный результат по выбранным метриками: AUC-ROC = 0.89 и accuracy = 0.85."
   ]
  },
  {
   "cell_type": "markdown",
   "id": "921895da",
   "metadata": {},
   "source": [
    "## Вывод"
   ]
  },
  {
   "cell_type": "markdown",
   "id": "fe707d0c",
   "metadata": {},
   "source": [
    "Лучшая модель показала значение метрики AUC-ROC 0.8893 (модель XGBClassifier).\n",
    "\n",
    "Так как за последние 4 месяца каждый месяц от услуг отказывалось более 450 клиентов, что составляет более 25% от общего количества клиентов. К сожалению нет информации о том, что произошло, поэтому модели были построены на основе данных об услугах, которыми пользовались клиенты и на основе данных о платежах и длительности контракта. И без машинного обучения можно сделать вывод о том, что услуги, предоставляемые компанией не удовлетворяют новых клиентов. Если не узменить ситуацию, оставшиеся тоже уйдут."
   ]
  }
 ],
 "metadata": {
  "ExecuteTimeLog": [
   {
    "duration": 1770,
    "start_time": "2022-07-17T06:03:23.312Z"
   },
   {
    "duration": 0,
    "start_time": "2022-07-17T06:03:25.084Z"
   },
   {
    "duration": 11,
    "start_time": "2022-07-17T06:03:35.222Z"
   },
   {
    "duration": 182,
    "start_time": "2022-07-17T06:03:40.822Z"
   },
   {
    "duration": 4,
    "start_time": "2022-07-17T06:03:48.618Z"
   },
   {
    "duration": 316,
    "start_time": "2022-07-17T06:03:59.679Z"
   },
   {
    "duration": 3,
    "start_time": "2022-07-17T06:04:01.891Z"
   },
   {
    "duration": 34,
    "start_time": "2022-07-17T06:04:02.687Z"
   },
   {
    "duration": 28,
    "start_time": "2022-07-17T06:04:03.558Z"
   },
   {
    "duration": 27,
    "start_time": "2022-07-17T06:04:04.300Z"
   },
   {
    "duration": 40,
    "start_time": "2022-07-17T06:04:05.103Z"
   },
   {
    "duration": 120,
    "start_time": "2022-07-17T06:11:48.341Z"
   }
  ],
  "kernelspec": {
   "display_name": "Python 3 (ipykernel)",
   "language": "python",
   "name": "python3"
  },
  "language_info": {
   "codemirror_mode": {
    "name": "ipython",
    "version": 3
   },
   "file_extension": ".py",
   "mimetype": "text/x-python",
   "name": "python",
   "nbconvert_exporter": "python",
   "pygments_lexer": "ipython3",
   "version": "3.9.7"
  },
  "toc": {
   "base_numbering": 1,
   "nav_menu": {},
   "number_sections": true,
   "sideBar": true,
   "skip_h1_title": true,
   "title_cell": "Table of Contents",
   "title_sidebar": "Contents",
   "toc_cell": true,
   "toc_position": {
    "height": "calc(100% - 180px)",
    "left": "10px",
    "top": "150px",
    "width": "384px"
   },
   "toc_section_display": true,
   "toc_window_display": true
  }
 },
 "nbformat": 4,
 "nbformat_minor": 5
}
