{
 "cells": [
  {
   "cell_type": "markdown",
   "metadata": {},
   "source": [
    "# Исследование надёжности заёмщиков <a id='intro'></a>\n",
    "\n",
    "Заказчик — кредитный отдел банка. Нужно разобраться, влияет ли семейное положение и количество детей клиента на факт погашения кредита в срок. Входные данные от банка — статистика о платёжеспособности клиентов.\n",
    "\n",
    "Результаты исследования будут учтены при построении модели **кредитного скоринга** — специальной системы, которая оценивает способность потенциального заёмщика вернуть кредит банку."
   ]
  },
  {
   "cell_type": "markdown",
   "metadata": {},
   "source": [
    "## Шаг 1. Файл с данными и общая информация \n",
    "<a id='step_1'></a>"
   ]
  },
  {
   "cell_type": "markdown",
   "metadata": {},
   "source": [
    "Импортируем библиотеку pandas:"
   ]
  },
  {
   "cell_type": "code",
   "execution_count": 1,
   "metadata": {},
   "outputs": [],
   "source": [
    "import pandas as pd"
   ]
  },
  {
   "cell_type": "markdown",
   "metadata": {},
   "source": [
    "Прочитаем файл с данными и сохраним его в переменной `df`:"
   ]
  },
  {
   "cell_type": "code",
   "execution_count": 2,
   "metadata": {},
   "outputs": [],
   "source": [
    "df = pd.read_csv('/datasets/data.csv')"
   ]
  },
  {
   "cell_type": "markdown",
   "metadata": {},
   "source": [
    "Выведем `20` строк, чтобы посмотреть данные:"
   ]
  },
  {
   "cell_type": "code",
   "execution_count": 3,
   "metadata": {},
   "outputs": [
    {
     "data": {
      "text/html": [
       "<div>\n",
       "<style scoped>\n",
       "    .dataframe tbody tr th:only-of-type {\n",
       "        vertical-align: middle;\n",
       "    }\n",
       "\n",
       "    .dataframe tbody tr th {\n",
       "        vertical-align: top;\n",
       "    }\n",
       "\n",
       "    .dataframe thead th {\n",
       "        text-align: right;\n",
       "    }\n",
       "</style>\n",
       "<table border=\"1\" class=\"dataframe\">\n",
       "  <thead>\n",
       "    <tr style=\"text-align: right;\">\n",
       "      <th></th>\n",
       "      <th>children</th>\n",
       "      <th>days_employed</th>\n",
       "      <th>dob_years</th>\n",
       "      <th>education</th>\n",
       "      <th>education_id</th>\n",
       "      <th>family_status</th>\n",
       "      <th>family_status_id</th>\n",
       "      <th>gender</th>\n",
       "      <th>income_type</th>\n",
       "      <th>debt</th>\n",
       "      <th>total_income</th>\n",
       "      <th>purpose</th>\n",
       "    </tr>\n",
       "  </thead>\n",
       "  <tbody>\n",
       "    <tr>\n",
       "      <td>0</td>\n",
       "      <td>1</td>\n",
       "      <td>-8437.673028</td>\n",
       "      <td>42</td>\n",
       "      <td>высшее</td>\n",
       "      <td>0</td>\n",
       "      <td>женат / замужем</td>\n",
       "      <td>0</td>\n",
       "      <td>F</td>\n",
       "      <td>сотрудник</td>\n",
       "      <td>0</td>\n",
       "      <td>253875.639453</td>\n",
       "      <td>покупка жилья</td>\n",
       "    </tr>\n",
       "    <tr>\n",
       "      <td>1</td>\n",
       "      <td>1</td>\n",
       "      <td>-4024.803754</td>\n",
       "      <td>36</td>\n",
       "      <td>среднее</td>\n",
       "      <td>1</td>\n",
       "      <td>женат / замужем</td>\n",
       "      <td>0</td>\n",
       "      <td>F</td>\n",
       "      <td>сотрудник</td>\n",
       "      <td>0</td>\n",
       "      <td>112080.014102</td>\n",
       "      <td>приобретение автомобиля</td>\n",
       "    </tr>\n",
       "    <tr>\n",
       "      <td>2</td>\n",
       "      <td>0</td>\n",
       "      <td>-5623.422610</td>\n",
       "      <td>33</td>\n",
       "      <td>Среднее</td>\n",
       "      <td>1</td>\n",
       "      <td>женат / замужем</td>\n",
       "      <td>0</td>\n",
       "      <td>M</td>\n",
       "      <td>сотрудник</td>\n",
       "      <td>0</td>\n",
       "      <td>145885.952297</td>\n",
       "      <td>покупка жилья</td>\n",
       "    </tr>\n",
       "    <tr>\n",
       "      <td>3</td>\n",
       "      <td>3</td>\n",
       "      <td>-4124.747207</td>\n",
       "      <td>32</td>\n",
       "      <td>среднее</td>\n",
       "      <td>1</td>\n",
       "      <td>женат / замужем</td>\n",
       "      <td>0</td>\n",
       "      <td>M</td>\n",
       "      <td>сотрудник</td>\n",
       "      <td>0</td>\n",
       "      <td>267628.550329</td>\n",
       "      <td>дополнительное образование</td>\n",
       "    </tr>\n",
       "    <tr>\n",
       "      <td>4</td>\n",
       "      <td>0</td>\n",
       "      <td>340266.072047</td>\n",
       "      <td>53</td>\n",
       "      <td>среднее</td>\n",
       "      <td>1</td>\n",
       "      <td>гражданский брак</td>\n",
       "      <td>1</td>\n",
       "      <td>F</td>\n",
       "      <td>пенсионер</td>\n",
       "      <td>0</td>\n",
       "      <td>158616.077870</td>\n",
       "      <td>сыграть свадьбу</td>\n",
       "    </tr>\n",
       "    <tr>\n",
       "      <td>5</td>\n",
       "      <td>0</td>\n",
       "      <td>-926.185831</td>\n",
       "      <td>27</td>\n",
       "      <td>высшее</td>\n",
       "      <td>0</td>\n",
       "      <td>гражданский брак</td>\n",
       "      <td>1</td>\n",
       "      <td>M</td>\n",
       "      <td>компаньон</td>\n",
       "      <td>0</td>\n",
       "      <td>255763.565419</td>\n",
       "      <td>покупка жилья</td>\n",
       "    </tr>\n",
       "    <tr>\n",
       "      <td>6</td>\n",
       "      <td>0</td>\n",
       "      <td>-2879.202052</td>\n",
       "      <td>43</td>\n",
       "      <td>высшее</td>\n",
       "      <td>0</td>\n",
       "      <td>женат / замужем</td>\n",
       "      <td>0</td>\n",
       "      <td>F</td>\n",
       "      <td>компаньон</td>\n",
       "      <td>0</td>\n",
       "      <td>240525.971920</td>\n",
       "      <td>операции с жильем</td>\n",
       "    </tr>\n",
       "    <tr>\n",
       "      <td>7</td>\n",
       "      <td>0</td>\n",
       "      <td>-152.779569</td>\n",
       "      <td>50</td>\n",
       "      <td>СРЕДНЕЕ</td>\n",
       "      <td>1</td>\n",
       "      <td>женат / замужем</td>\n",
       "      <td>0</td>\n",
       "      <td>M</td>\n",
       "      <td>сотрудник</td>\n",
       "      <td>0</td>\n",
       "      <td>135823.934197</td>\n",
       "      <td>образование</td>\n",
       "    </tr>\n",
       "    <tr>\n",
       "      <td>8</td>\n",
       "      <td>2</td>\n",
       "      <td>-6929.865299</td>\n",
       "      <td>35</td>\n",
       "      <td>ВЫСШЕЕ</td>\n",
       "      <td>0</td>\n",
       "      <td>гражданский брак</td>\n",
       "      <td>1</td>\n",
       "      <td>F</td>\n",
       "      <td>сотрудник</td>\n",
       "      <td>0</td>\n",
       "      <td>95856.832424</td>\n",
       "      <td>на проведение свадьбы</td>\n",
       "    </tr>\n",
       "    <tr>\n",
       "      <td>9</td>\n",
       "      <td>0</td>\n",
       "      <td>-2188.756445</td>\n",
       "      <td>41</td>\n",
       "      <td>среднее</td>\n",
       "      <td>1</td>\n",
       "      <td>женат / замужем</td>\n",
       "      <td>0</td>\n",
       "      <td>M</td>\n",
       "      <td>сотрудник</td>\n",
       "      <td>0</td>\n",
       "      <td>144425.938277</td>\n",
       "      <td>покупка жилья для семьи</td>\n",
       "    </tr>\n",
       "    <tr>\n",
       "      <td>10</td>\n",
       "      <td>2</td>\n",
       "      <td>-4171.483647</td>\n",
       "      <td>36</td>\n",
       "      <td>высшее</td>\n",
       "      <td>0</td>\n",
       "      <td>женат / замужем</td>\n",
       "      <td>0</td>\n",
       "      <td>M</td>\n",
       "      <td>компаньон</td>\n",
       "      <td>0</td>\n",
       "      <td>113943.491460</td>\n",
       "      <td>покупка недвижимости</td>\n",
       "    </tr>\n",
       "    <tr>\n",
       "      <td>11</td>\n",
       "      <td>0</td>\n",
       "      <td>-792.701887</td>\n",
       "      <td>40</td>\n",
       "      <td>среднее</td>\n",
       "      <td>1</td>\n",
       "      <td>женат / замужем</td>\n",
       "      <td>0</td>\n",
       "      <td>F</td>\n",
       "      <td>сотрудник</td>\n",
       "      <td>0</td>\n",
       "      <td>77069.234271</td>\n",
       "      <td>покупка коммерческой недвижимости</td>\n",
       "    </tr>\n",
       "    <tr>\n",
       "      <td>12</td>\n",
       "      <td>0</td>\n",
       "      <td>NaN</td>\n",
       "      <td>65</td>\n",
       "      <td>среднее</td>\n",
       "      <td>1</td>\n",
       "      <td>гражданский брак</td>\n",
       "      <td>1</td>\n",
       "      <td>M</td>\n",
       "      <td>пенсионер</td>\n",
       "      <td>0</td>\n",
       "      <td>NaN</td>\n",
       "      <td>сыграть свадьбу</td>\n",
       "    </tr>\n",
       "    <tr>\n",
       "      <td>13</td>\n",
       "      <td>0</td>\n",
       "      <td>-1846.641941</td>\n",
       "      <td>54</td>\n",
       "      <td>неоконченное высшее</td>\n",
       "      <td>2</td>\n",
       "      <td>женат / замужем</td>\n",
       "      <td>0</td>\n",
       "      <td>F</td>\n",
       "      <td>сотрудник</td>\n",
       "      <td>0</td>\n",
       "      <td>130458.228857</td>\n",
       "      <td>приобретение автомобиля</td>\n",
       "    </tr>\n",
       "    <tr>\n",
       "      <td>14</td>\n",
       "      <td>0</td>\n",
       "      <td>-1844.956182</td>\n",
       "      <td>56</td>\n",
       "      <td>высшее</td>\n",
       "      <td>0</td>\n",
       "      <td>гражданский брак</td>\n",
       "      <td>1</td>\n",
       "      <td>F</td>\n",
       "      <td>компаньон</td>\n",
       "      <td>1</td>\n",
       "      <td>165127.911772</td>\n",
       "      <td>покупка жилой недвижимости</td>\n",
       "    </tr>\n",
       "    <tr>\n",
       "      <td>15</td>\n",
       "      <td>1</td>\n",
       "      <td>-972.364419</td>\n",
       "      <td>26</td>\n",
       "      <td>среднее</td>\n",
       "      <td>1</td>\n",
       "      <td>женат / замужем</td>\n",
       "      <td>0</td>\n",
       "      <td>F</td>\n",
       "      <td>сотрудник</td>\n",
       "      <td>0</td>\n",
       "      <td>116820.904450</td>\n",
       "      <td>строительство собственной недвижимости</td>\n",
       "    </tr>\n",
       "    <tr>\n",
       "      <td>16</td>\n",
       "      <td>0</td>\n",
       "      <td>-1719.934226</td>\n",
       "      <td>35</td>\n",
       "      <td>среднее</td>\n",
       "      <td>1</td>\n",
       "      <td>женат / замужем</td>\n",
       "      <td>0</td>\n",
       "      <td>F</td>\n",
       "      <td>сотрудник</td>\n",
       "      <td>0</td>\n",
       "      <td>289202.704229</td>\n",
       "      <td>недвижимость</td>\n",
       "    </tr>\n",
       "    <tr>\n",
       "      <td>17</td>\n",
       "      <td>0</td>\n",
       "      <td>-2369.999720</td>\n",
       "      <td>33</td>\n",
       "      <td>высшее</td>\n",
       "      <td>0</td>\n",
       "      <td>гражданский брак</td>\n",
       "      <td>1</td>\n",
       "      <td>M</td>\n",
       "      <td>сотрудник</td>\n",
       "      <td>0</td>\n",
       "      <td>90410.586745</td>\n",
       "      <td>строительство недвижимости</td>\n",
       "    </tr>\n",
       "    <tr>\n",
       "      <td>18</td>\n",
       "      <td>0</td>\n",
       "      <td>400281.136913</td>\n",
       "      <td>53</td>\n",
       "      <td>среднее</td>\n",
       "      <td>1</td>\n",
       "      <td>вдовец / вдова</td>\n",
       "      <td>2</td>\n",
       "      <td>F</td>\n",
       "      <td>пенсионер</td>\n",
       "      <td>0</td>\n",
       "      <td>56823.777243</td>\n",
       "      <td>на покупку подержанного автомобиля</td>\n",
       "    </tr>\n",
       "    <tr>\n",
       "      <td>19</td>\n",
       "      <td>0</td>\n",
       "      <td>-10038.818549</td>\n",
       "      <td>48</td>\n",
       "      <td>СРЕДНЕЕ</td>\n",
       "      <td>1</td>\n",
       "      <td>в разводе</td>\n",
       "      <td>3</td>\n",
       "      <td>F</td>\n",
       "      <td>сотрудник</td>\n",
       "      <td>0</td>\n",
       "      <td>242831.107982</td>\n",
       "      <td>на покупку своего автомобиля</td>\n",
       "    </tr>\n",
       "  </tbody>\n",
       "</table>\n",
       "</div>"
      ],
      "text/plain": [
       "    children  days_employed  dob_years            education  education_id  \\\n",
       "0          1   -8437.673028         42               высшее             0   \n",
       "1          1   -4024.803754         36              среднее             1   \n",
       "2          0   -5623.422610         33              Среднее             1   \n",
       "3          3   -4124.747207         32              среднее             1   \n",
       "4          0  340266.072047         53              среднее             1   \n",
       "5          0    -926.185831         27               высшее             0   \n",
       "6          0   -2879.202052         43               высшее             0   \n",
       "7          0    -152.779569         50              СРЕДНЕЕ             1   \n",
       "8          2   -6929.865299         35               ВЫСШЕЕ             0   \n",
       "9          0   -2188.756445         41              среднее             1   \n",
       "10         2   -4171.483647         36               высшее             0   \n",
       "11         0    -792.701887         40              среднее             1   \n",
       "12         0            NaN         65              среднее             1   \n",
       "13         0   -1846.641941         54  неоконченное высшее             2   \n",
       "14         0   -1844.956182         56               высшее             0   \n",
       "15         1    -972.364419         26              среднее             1   \n",
       "16         0   -1719.934226         35              среднее             1   \n",
       "17         0   -2369.999720         33               высшее             0   \n",
       "18         0  400281.136913         53              среднее             1   \n",
       "19         0  -10038.818549         48              СРЕДНЕЕ             1   \n",
       "\n",
       "       family_status  family_status_id gender income_type  debt  \\\n",
       "0    женат / замужем                 0      F   сотрудник     0   \n",
       "1    женат / замужем                 0      F   сотрудник     0   \n",
       "2    женат / замужем                 0      M   сотрудник     0   \n",
       "3    женат / замужем                 0      M   сотрудник     0   \n",
       "4   гражданский брак                 1      F   пенсионер     0   \n",
       "5   гражданский брак                 1      M   компаньон     0   \n",
       "6    женат / замужем                 0      F   компаньон     0   \n",
       "7    женат / замужем                 0      M   сотрудник     0   \n",
       "8   гражданский брак                 1      F   сотрудник     0   \n",
       "9    женат / замужем                 0      M   сотрудник     0   \n",
       "10   женат / замужем                 0      M   компаньон     0   \n",
       "11   женат / замужем                 0      F   сотрудник     0   \n",
       "12  гражданский брак                 1      M   пенсионер     0   \n",
       "13   женат / замужем                 0      F   сотрудник     0   \n",
       "14  гражданский брак                 1      F   компаньон     1   \n",
       "15   женат / замужем                 0      F   сотрудник     0   \n",
       "16   женат / замужем                 0      F   сотрудник     0   \n",
       "17  гражданский брак                 1      M   сотрудник     0   \n",
       "18    вдовец / вдова                 2      F   пенсионер     0   \n",
       "19         в разводе                 3      F   сотрудник     0   \n",
       "\n",
       "     total_income                                 purpose  \n",
       "0   253875.639453                           покупка жилья  \n",
       "1   112080.014102                 приобретение автомобиля  \n",
       "2   145885.952297                           покупка жилья  \n",
       "3   267628.550329              дополнительное образование  \n",
       "4   158616.077870                         сыграть свадьбу  \n",
       "5   255763.565419                           покупка жилья  \n",
       "6   240525.971920                       операции с жильем  \n",
       "7   135823.934197                             образование  \n",
       "8    95856.832424                   на проведение свадьбы  \n",
       "9   144425.938277                 покупка жилья для семьи  \n",
       "10  113943.491460                    покупка недвижимости  \n",
       "11   77069.234271       покупка коммерческой недвижимости  \n",
       "12            NaN                         сыграть свадьбу  \n",
       "13  130458.228857                 приобретение автомобиля  \n",
       "14  165127.911772              покупка жилой недвижимости  \n",
       "15  116820.904450  строительство собственной недвижимости  \n",
       "16  289202.704229                            недвижимость  \n",
       "17   90410.586745              строительство недвижимости  \n",
       "18   56823.777243      на покупку подержанного автомобиля  \n",
       "19  242831.107982            на покупку своего автомобиля  "
      ]
     },
     "metadata": {},
     "output_type": "display_data"
    }
   ],
   "source": [
    "display(df.head(20))"
   ]
  },
  {
   "cell_type": "markdown",
   "metadata": {},
   "source": [
    "Просмотрим информацию о таблице:"
   ]
  },
  {
   "cell_type": "code",
   "execution_count": 4,
   "metadata": {},
   "outputs": [
    {
     "name": "stdout",
     "output_type": "stream",
     "text": [
      "<class 'pandas.core.frame.DataFrame'>\n",
      "RangeIndex: 21525 entries, 0 to 21524\n",
      "Data columns (total 12 columns):\n",
      "children            21525 non-null int64\n",
      "days_employed       19351 non-null float64\n",
      "dob_years           21525 non-null int64\n",
      "education           21525 non-null object\n",
      "education_id        21525 non-null int64\n",
      "family_status       21525 non-null object\n",
      "family_status_id    21525 non-null int64\n",
      "gender              21525 non-null object\n",
      "income_type         21525 non-null object\n",
      "debt                21525 non-null int64\n",
      "total_income        19351 non-null float64\n",
      "purpose             21525 non-null object\n",
      "dtypes: float64(2), int64(5), object(5)\n",
      "memory usage: 2.0+ MB\n",
      "None\n"
     ]
    }
   ],
   "source": [
    "print(df.info())"
   ]
  },
  {
   "cell_type": "markdown",
   "metadata": {},
   "source": [
    "В таблице 12 столбцов.\n",
    "\n",
    "Информация о столбцах (из описания к проекту):\n",
    "* `'children'` — количество детей в семье;\n",
    "* `'days_employed'` — общий трудовой стаж в днях;\n",
    "* `'dob_years'` — возраст клиента в годах;\n",
    "* `'education'` — уровень образования клиента;\n",
    "* `'education_id'` — идентификатор уровня образования;\n",
    "* `'family_status'` — семейное положение;\n",
    "* `'family_status_id'` — идентификатор семейного положения;\n",
    "* `'gender'` — пол клиента;\n",
    "* `'income_type'` — тип занятости;\n",
    "* `'debt'` — имел ли задолженность по возврату кредитов;\n",
    "* `'total_income'` — ежемесячный доход;\n",
    "* `'purpose'` — цель получения кредита;"
   ]
  },
  {
   "cell_type": "markdown",
   "metadata": {},
   "source": [
    "Рассмотрим каждый столбец на уникальные значения, чтобы можно было сделать выводы, опираясь на все найденные аномалии, а не только те, что в первых `20` строках и в таблице `info`."
   ]
  },
  {
   "cell_type": "code",
   "execution_count": 5,
   "metadata": {},
   "outputs": [
    {
     "name": "stdout",
     "output_type": "stream",
     "text": [
      "Уникальные значения столбца children: [ 1  0  3  2 -1  4 20  5]\n"
     ]
    }
   ],
   "source": [
    "print(f\"Уникальные значения столбца children: {df['children'].unique()}\")"
   ]
  },
  {
   "cell_type": "code",
   "execution_count": 6,
   "metadata": {},
   "outputs": [
    {
     "name": "stdout",
     "output_type": "stream",
     "text": [
      "Уникальные значения столбца days_employed: [-8437.67302776 -4024.80375385 -5623.42261023 ... -2113.3468877\n",
      " -3112.4817052  -1984.50758853]\n"
     ]
    }
   ],
   "source": [
    "print(f\"Уникальные значения столбца days_employed: {df['days_employed'].unique()}\")\n",
    "# Что-то не поняла, почему не все показывает (или хотя бы 50 значений)?"
   ]
  },
  {
   "cell_type": "code",
   "execution_count": 7,
   "metadata": {},
   "outputs": [
    {
     "name": "stdout",
     "output_type": "stream",
     "text": [
      "Уникальные значения столбца dob_years: [42 36 33 32 53 27 43 50 35 41 40 65 54 56 26 48 24 21 57 67 28 63 62 47\n",
      " 34 68 25 31 30 20 49 37 45 61 64 44 52 46 23 38 39 51  0 59 29 60 55 58\n",
      " 71 22 73 66 69 19 72 70 74 75]\n"
     ]
    }
   ],
   "source": [
    "print(f\"Уникальные значения столбца dob_years: {df['dob_years'].unique()}\")"
   ]
  },
  {
   "cell_type": "code",
   "execution_count": 8,
   "metadata": {},
   "outputs": [
    {
     "name": "stdout",
     "output_type": "stream",
     "text": [
      "Уникальные значения столбца education: ['высшее' 'среднее' 'Среднее' 'СРЕДНЕЕ' 'ВЫСШЕЕ' 'неоконченное высшее'\n",
      " 'начальное' 'Высшее' 'НЕОКОНЧЕННОЕ ВЫСШЕЕ' 'Неоконченное высшее'\n",
      " 'НАЧАЛЬНОЕ' 'Начальное' 'Ученая степень' 'УЧЕНАЯ СТЕПЕНЬ'\n",
      " 'ученая степень']\n"
     ]
    }
   ],
   "source": [
    "print(f\"Уникальные значения столбца education: {df['education'].unique()}\")"
   ]
  },
  {
   "cell_type": "code",
   "execution_count": 9,
   "metadata": {},
   "outputs": [
    {
     "name": "stdout",
     "output_type": "stream",
     "text": [
      "Уникальные значения столбца education_id: [0 1 2 3 4]\n"
     ]
    }
   ],
   "source": [
    "print(f\"Уникальные значения столбца education_id: {df['education_id'].unique()}\")"
   ]
  },
  {
   "cell_type": "code",
   "execution_count": 10,
   "metadata": {},
   "outputs": [
    {
     "name": "stdout",
     "output_type": "stream",
     "text": [
      "Уникальные значения столбца family_status: ['женат / замужем' 'гражданский брак' 'вдовец / вдова' 'в разводе'\n",
      " 'Не женат / не замужем']\n"
     ]
    }
   ],
   "source": [
    "print(f\"Уникальные значения столбца family_status: {df['family_status'].unique()}\")"
   ]
  },
  {
   "cell_type": "code",
   "execution_count": 11,
   "metadata": {},
   "outputs": [
    {
     "name": "stdout",
     "output_type": "stream",
     "text": [
      "Уникальные значения столбца family_status_id: [0 1 2 3 4]\n"
     ]
    }
   ],
   "source": [
    "print(f\"Уникальные значения столбца family_status_id: {df['family_status_id'].unique()}\")"
   ]
  },
  {
   "cell_type": "code",
   "execution_count": 12,
   "metadata": {},
   "outputs": [
    {
     "name": "stdout",
     "output_type": "stream",
     "text": [
      "Уникальные значения столбца gender: ['F' 'M' 'XNA']\n"
     ]
    }
   ],
   "source": [
    "print(f\"Уникальные значения столбца gender: {df['gender'].unique()}\")"
   ]
  },
  {
   "cell_type": "code",
   "execution_count": 13,
   "metadata": {},
   "outputs": [
    {
     "name": "stdout",
     "output_type": "stream",
     "text": [
      "Уникальные значения столбца income_type: ['сотрудник' 'пенсионер' 'компаньон' 'госслужащий' 'безработный'\n",
      " 'предприниматель' 'студент' 'в декрете']\n"
     ]
    }
   ],
   "source": [
    "print(f\"Уникальные значения столбца income_type: {df['income_type'].unique()}\")"
   ]
  },
  {
   "cell_type": "code",
   "execution_count": 14,
   "metadata": {},
   "outputs": [
    {
     "name": "stdout",
     "output_type": "stream",
     "text": [
      "Уникальные значения столбца debt: [0 1]\n"
     ]
    }
   ],
   "source": [
    "print(f\"Уникальные значения столбца debt: {df['debt'].unique()}\")"
   ]
  },
  {
   "cell_type": "code",
   "execution_count": 15,
   "metadata": {},
   "outputs": [
    {
     "name": "stdout",
     "output_type": "stream",
     "text": [
      "Уникальные значения столбца total_income: [253875.6394526  112080.01410244 145885.95229686 ...  89672.56115303\n",
      " 244093.05050043  82047.41889948]\n"
     ]
    }
   ],
   "source": [
    "print(f\"Уникальные значения столбца total_income: {df['total_income'].unique()}\")"
   ]
  },
  {
   "cell_type": "code",
   "execution_count": 16,
   "metadata": {},
   "outputs": [
    {
     "name": "stdout",
     "output_type": "stream",
     "text": [
      "Уникальные значения столбца purpose: ['автомобили' 'автомобиль' 'высшее образование'\n",
      " 'дополнительное образование' 'жилье' 'заняться высшим образованием'\n",
      " 'заняться образованием' 'на покупку автомобиля'\n",
      " 'на покупку подержанного автомобиля' 'на покупку своего автомобиля'\n",
      " 'на проведение свадьбы' 'недвижимость' 'образование' 'операции с жильем'\n",
      " 'операции с коммерческой недвижимостью' 'операции с недвижимостью'\n",
      " 'операции со своей недвижимостью' 'покупка жилой недвижимости'\n",
      " 'покупка жилья' 'покупка жилья для сдачи' 'покупка жилья для семьи'\n",
      " 'покупка коммерческой недвижимости' 'покупка недвижимости'\n",
      " 'покупка своего жилья' 'получение высшего образования'\n",
      " 'получение дополнительного образования' 'получение образования'\n",
      " 'приобретение автомобиля' 'профильное образование' 'ремонт жилью'\n",
      " 'свадьба' 'свой автомобиль' 'сделка с автомобилем'\n",
      " 'сделка с подержанным автомобилем' 'строительство жилой недвижимости'\n",
      " 'строительство недвижимости' 'строительство собственной недвижимости'\n",
      " 'сыграть свадьбу']\n"
     ]
    }
   ],
   "source": [
    "print(f\"Уникальные значения столбца purpose: {df['purpose'].sort_values().unique()}\")"
   ]
  },
  {
   "cell_type": "code",
   "execution_count": 20,
   "metadata": {},
   "outputs": [],
   "source": [
    "# Использовала для вывода большого количества строк таблицы\n",
    "# Сброс ограничений на количество выводимых рядов\n",
    "#pd.set_option('display.max_rows', None)\n",
    "# Сброс ограничений на число столбцов\n",
    "#pd.set_option('display.max_columns', None)\n",
    "# Сброс ограничений на количество символов в записи\n",
    "#pd.set_option('display.max_colwidth', None)"
   ]
  },
  {
   "cell_type": "markdown",
   "metadata": {},
   "source": [
    "**Вывод**"
   ]
  },
  {
   "cell_type": "markdown",
   "metadata": {},
   "source": [
    "При первом осмотре данных можно сделать следующие выводы:\n",
    "\n",
    "1. В столбце `children` есть отрицательное значение, а также значение, увеличенное в 10 раз (или это супер-многодетная семья?).\n",
    "2. В столбце `days_employed` стаж имеет отрицательные, аномально-большие значения, пропуски и тип float (обычно стаж это целое число, обозначающее количество лет (может быть еще месяц и день). \n",
    "3. В столбце `dob_years` есть нулевое значение возраста клиента.\n",
    "4. В столбце `education` используется и верхний и нижний регистр, нужно привести к единому оформлению (нижнему регистру).\n",
    "5. В столбце `education_id` аномалий не замечено.\n",
    "6. В столбце `family_status` у одного значения есть верхний регистр. (и не понятно, почему статус женат/замужем и гражданский брак разделены, ведь юридически это одно и тоже).\n",
    "7. В столбце `family_status_id` аномалий не замечено.\n",
    "8. В столбце `gender` есть непонятное значение, нужно понять сколько таких строк и что с ними делать.\n",
    "9. В столбце `income_type` аномалий не замечено. (кто такой компаньон?)\n",
    "10. В столбце `debt` аномалий не замечено.\n",
    "11. В столбце `total_income` есть пропуски, а таже значения имеют тип float, его нужно перевести в int, чтобы было удобнее работать с данными.\n",
    "12. В столбце `purpose` цель кредита имеет слишком длинное название, необходимо выделить категории для этого столюца, чтобы было удобнее работать с данными. "
   ]
  },
  {
   "cell_type": "markdown",
   "metadata": {},
   "source": [
    "## Шаг 2. Предобработка данных\n",
    "<a id='step_2'></a>"
   ]
  },
  {
   "cell_type": "markdown",
   "metadata": {},
   "source": [
    "### Обработка пропусков\n",
    "<a id='step_2_1'></a>"
   ]
  },
  {
   "cell_type": "markdown",
   "metadata": {},
   "source": [
    "Посмотрим количество пропусков в столбцах `'days_employed'` и `'total_income'`:"
   ]
  },
  {
   "cell_type": "code",
   "execution_count": 6,
   "metadata": {},
   "outputs": [
    {
     "name": "stdout",
     "output_type": "stream",
     "text": [
      "children               0\n",
      "days_employed       2174\n",
      "dob_years              0\n",
      "education              0\n",
      "education_id           0\n",
      "family_status          0\n",
      "family_status_id       0\n",
      "gender                 0\n",
      "income_type            0\n",
      "debt                   0\n",
      "total_income        2174\n",
      "purpose                0\n",
      "dtype: int64\n"
     ]
    }
   ],
   "source": [
    "print(df.isna().sum())"
   ]
  },
  {
   "cell_type": "code",
   "execution_count": 19,
   "metadata": {},
   "outputs": [
    {
     "data": {
      "text/html": [
       "<div>\n",
       "<style scoped>\n",
       "    .dataframe tbody tr th:only-of-type {\n",
       "        vertical-align: middle;\n",
       "    }\n",
       "\n",
       "    .dataframe tbody tr th {\n",
       "        vertical-align: top;\n",
       "    }\n",
       "\n",
       "    .dataframe thead th {\n",
       "        text-align: right;\n",
       "    }\n",
       "</style>\n",
       "<table border=\"1\" class=\"dataframe\">\n",
       "  <thead>\n",
       "    <tr style=\"text-align: right;\">\n",
       "      <th></th>\n",
       "      <th>children</th>\n",
       "      <th>days_employed</th>\n",
       "      <th>dob_years</th>\n",
       "      <th>education</th>\n",
       "      <th>education_id</th>\n",
       "      <th>family_status</th>\n",
       "      <th>family_status_id</th>\n",
       "      <th>gender</th>\n",
       "      <th>income_type</th>\n",
       "      <th>debt</th>\n",
       "      <th>total_income</th>\n",
       "      <th>purpose</th>\n",
       "    </tr>\n",
       "  </thead>\n",
       "  <tbody>\n",
       "    <tr>\n",
       "      <td>12</td>\n",
       "      <td>0</td>\n",
       "      <td>NaN</td>\n",
       "      <td>65</td>\n",
       "      <td>среднее</td>\n",
       "      <td>1</td>\n",
       "      <td>гражданский брак</td>\n",
       "      <td>1</td>\n",
       "      <td>M</td>\n",
       "      <td>пенсионер</td>\n",
       "      <td>0</td>\n",
       "      <td>NaN</td>\n",
       "      <td>сыграть свадьбу</td>\n",
       "    </tr>\n",
       "    <tr>\n",
       "      <td>26</td>\n",
       "      <td>0</td>\n",
       "      <td>NaN</td>\n",
       "      <td>41</td>\n",
       "      <td>среднее</td>\n",
       "      <td>1</td>\n",
       "      <td>женат / замужем</td>\n",
       "      <td>0</td>\n",
       "      <td>M</td>\n",
       "      <td>госслужащий</td>\n",
       "      <td>0</td>\n",
       "      <td>NaN</td>\n",
       "      <td>образование</td>\n",
       "    </tr>\n",
       "    <tr>\n",
       "      <td>29</td>\n",
       "      <td>0</td>\n",
       "      <td>NaN</td>\n",
       "      <td>63</td>\n",
       "      <td>среднее</td>\n",
       "      <td>1</td>\n",
       "      <td>Не женат / не замужем</td>\n",
       "      <td>4</td>\n",
       "      <td>F</td>\n",
       "      <td>пенсионер</td>\n",
       "      <td>0</td>\n",
       "      <td>NaN</td>\n",
       "      <td>строительство жилой недвижимости</td>\n",
       "    </tr>\n",
       "    <tr>\n",
       "      <td>41</td>\n",
       "      <td>0</td>\n",
       "      <td>NaN</td>\n",
       "      <td>50</td>\n",
       "      <td>среднее</td>\n",
       "      <td>1</td>\n",
       "      <td>женат / замужем</td>\n",
       "      <td>0</td>\n",
       "      <td>F</td>\n",
       "      <td>госслужащий</td>\n",
       "      <td>0</td>\n",
       "      <td>NaN</td>\n",
       "      <td>сделка с подержанным автомобилем</td>\n",
       "    </tr>\n",
       "    <tr>\n",
       "      <td>55</td>\n",
       "      <td>0</td>\n",
       "      <td>NaN</td>\n",
       "      <td>54</td>\n",
       "      <td>среднее</td>\n",
       "      <td>1</td>\n",
       "      <td>гражданский брак</td>\n",
       "      <td>1</td>\n",
       "      <td>F</td>\n",
       "      <td>пенсионер</td>\n",
       "      <td>1</td>\n",
       "      <td>NaN</td>\n",
       "      <td>сыграть свадьбу</td>\n",
       "    </tr>\n",
       "  </tbody>\n",
       "</table>\n",
       "</div>"
      ],
      "text/plain": [
       "    children  days_employed  dob_years education  education_id  \\\n",
       "12         0            NaN         65   среднее             1   \n",
       "26         0            NaN         41   среднее             1   \n",
       "29         0            NaN         63   среднее             1   \n",
       "41         0            NaN         50   среднее             1   \n",
       "55         0            NaN         54   среднее             1   \n",
       "\n",
       "            family_status  family_status_id gender  income_type  debt  \\\n",
       "12       гражданский брак                 1      M    пенсионер     0   \n",
       "26        женат / замужем                 0      M  госслужащий     0   \n",
       "29  Не женат / не замужем                 4      F    пенсионер     0   \n",
       "41        женат / замужем                 0      F  госслужащий     0   \n",
       "55       гражданский брак                 1      F    пенсионер     1   \n",
       "\n",
       "    total_income                           purpose  \n",
       "12           NaN                   сыграть свадьбу  \n",
       "26           NaN                       образование  \n",
       "29           NaN  строительство жилой недвижимости  \n",
       "41           NaN  сделка с подержанным автомобилем  \n",
       "55           NaN                   сыграть свадьбу  "
      ]
     },
     "execution_count": 19,
     "metadata": {},
     "output_type": "execute_result"
    }
   ],
   "source": [
    "df[df['days_employed'].isna()].head()"
   ]
  },
  {
   "cell_type": "markdown",
   "metadata": {},
   "source": [
    "Эти 2 столбца имеют больше всего проблем (пропуски, тип данных), также в столбце `days_employed` нужно обработать отрицательные и аномально-большие значения (так как в столбце должен быть стаж указан в днях, большие значения, скорее всего, указаны в часах, их нужно поделить на 24 (может и в секундах, но тогда бы они были еще больше).\n",
    "\n",
    "Эти пропуски могут быть связаны с тем, что человек официально не имеет стажа или не указал данные или данные были некорректно введены (например, отрицательные значения все же указаны в днях).\n",
    "\n",
    "Так как таких строк много, мы не можем их просто удалить, нужно заполнить ежемесячный доход медианным или средним значением по каждому типу занятости, а стаж в соответствии с возрастом (или среднее значение стажа)."
   ]
  },
  {
   "cell_type": "markdown",
   "metadata": {},
   "source": [
    "**Начнем с `'days_employed'`:**\n",
    "\n",
    "Напишем программу, которая отрицательное число сделает положительным и переведет большие значения из часов в дни:"
   ]
  },
  {
   "cell_type": "code",
   "execution_count": 21,
   "metadata": {},
   "outputs": [],
   "source": [
    "def days_employed_time(row):\n",
    "    \"\"\"\n",
    "    Переводит отрицательные значения строки в положительные\n",
    "    Большие значения делит на 24 часа\n",
    "    \"\"\"\n",
    "    days_employed = row['days_employed']\n",
    "    try:\n",
    "        if days_employed < 0:\n",
    "            return days_employed*(-1)\n",
    "        elif days_employed > 0:\n",
    "            return days_employed/24\n",
    "    except:\n",
    "        return days_employed"
   ]
  },
  {
   "cell_type": "code",
   "execution_count": 22,
   "metadata": {},
   "outputs": [],
   "source": [
    "df['days_employed'] = df.apply(days_employed_time, axis=1)"
   ]
  },
  {
   "cell_type": "markdown",
   "metadata": {},
   "source": [
    "Проверим, изменились ли отрицательные значения на положительные и уменьшились ли большие значения:"
   ]
  },
  {
   "cell_type": "code",
   "execution_count": 23,
   "metadata": {
    "scrolled": false
   },
   "outputs": [
    {
     "data": {
      "text/html": [
       "<div>\n",
       "<style scoped>\n",
       "    .dataframe tbody tr th:only-of-type {\n",
       "        vertical-align: middle;\n",
       "    }\n",
       "\n",
       "    .dataframe tbody tr th {\n",
       "        vertical-align: top;\n",
       "    }\n",
       "\n",
       "    .dataframe thead th {\n",
       "        text-align: right;\n",
       "    }\n",
       "</style>\n",
       "<table border=\"1\" class=\"dataframe\">\n",
       "  <thead>\n",
       "    <tr style=\"text-align: right;\">\n",
       "      <th></th>\n",
       "      <th>children</th>\n",
       "      <th>days_employed</th>\n",
       "      <th>dob_years</th>\n",
       "      <th>education</th>\n",
       "      <th>education_id</th>\n",
       "      <th>family_status</th>\n",
       "      <th>family_status_id</th>\n",
       "      <th>gender</th>\n",
       "      <th>income_type</th>\n",
       "      <th>debt</th>\n",
       "      <th>total_income</th>\n",
       "      <th>purpose</th>\n",
       "    </tr>\n",
       "  </thead>\n",
       "  <tbody>\n",
       "    <tr>\n",
       "      <td>0</td>\n",
       "      <td>1</td>\n",
       "      <td>8437.673028</td>\n",
       "      <td>42</td>\n",
       "      <td>высшее</td>\n",
       "      <td>0</td>\n",
       "      <td>женат / замужем</td>\n",
       "      <td>0</td>\n",
       "      <td>F</td>\n",
       "      <td>сотрудник</td>\n",
       "      <td>0</td>\n",
       "      <td>253875.639453</td>\n",
       "      <td>покупка жилья</td>\n",
       "    </tr>\n",
       "    <tr>\n",
       "      <td>1</td>\n",
       "      <td>1</td>\n",
       "      <td>4024.803754</td>\n",
       "      <td>36</td>\n",
       "      <td>среднее</td>\n",
       "      <td>1</td>\n",
       "      <td>женат / замужем</td>\n",
       "      <td>0</td>\n",
       "      <td>F</td>\n",
       "      <td>сотрудник</td>\n",
       "      <td>0</td>\n",
       "      <td>112080.014102</td>\n",
       "      <td>приобретение автомобиля</td>\n",
       "    </tr>\n",
       "    <tr>\n",
       "      <td>2</td>\n",
       "      <td>0</td>\n",
       "      <td>5623.422610</td>\n",
       "      <td>33</td>\n",
       "      <td>Среднее</td>\n",
       "      <td>1</td>\n",
       "      <td>женат / замужем</td>\n",
       "      <td>0</td>\n",
       "      <td>M</td>\n",
       "      <td>сотрудник</td>\n",
       "      <td>0</td>\n",
       "      <td>145885.952297</td>\n",
       "      <td>покупка жилья</td>\n",
       "    </tr>\n",
       "    <tr>\n",
       "      <td>3</td>\n",
       "      <td>3</td>\n",
       "      <td>4124.747207</td>\n",
       "      <td>32</td>\n",
       "      <td>среднее</td>\n",
       "      <td>1</td>\n",
       "      <td>женат / замужем</td>\n",
       "      <td>0</td>\n",
       "      <td>M</td>\n",
       "      <td>сотрудник</td>\n",
       "      <td>0</td>\n",
       "      <td>267628.550329</td>\n",
       "      <td>дополнительное образование</td>\n",
       "    </tr>\n",
       "    <tr>\n",
       "      <td>4</td>\n",
       "      <td>0</td>\n",
       "      <td>14177.753002</td>\n",
       "      <td>53</td>\n",
       "      <td>среднее</td>\n",
       "      <td>1</td>\n",
       "      <td>гражданский брак</td>\n",
       "      <td>1</td>\n",
       "      <td>F</td>\n",
       "      <td>пенсионер</td>\n",
       "      <td>0</td>\n",
       "      <td>158616.077870</td>\n",
       "      <td>сыграть свадьбу</td>\n",
       "    </tr>\n",
       "    <tr>\n",
       "      <td>5</td>\n",
       "      <td>0</td>\n",
       "      <td>926.185831</td>\n",
       "      <td>27</td>\n",
       "      <td>высшее</td>\n",
       "      <td>0</td>\n",
       "      <td>гражданский брак</td>\n",
       "      <td>1</td>\n",
       "      <td>M</td>\n",
       "      <td>компаньон</td>\n",
       "      <td>0</td>\n",
       "      <td>255763.565419</td>\n",
       "      <td>покупка жилья</td>\n",
       "    </tr>\n",
       "    <tr>\n",
       "      <td>6</td>\n",
       "      <td>0</td>\n",
       "      <td>2879.202052</td>\n",
       "      <td>43</td>\n",
       "      <td>высшее</td>\n",
       "      <td>0</td>\n",
       "      <td>женат / замужем</td>\n",
       "      <td>0</td>\n",
       "      <td>F</td>\n",
       "      <td>компаньон</td>\n",
       "      <td>0</td>\n",
       "      <td>240525.971920</td>\n",
       "      <td>операции с жильем</td>\n",
       "    </tr>\n",
       "    <tr>\n",
       "      <td>7</td>\n",
       "      <td>0</td>\n",
       "      <td>152.779569</td>\n",
       "      <td>50</td>\n",
       "      <td>СРЕДНЕЕ</td>\n",
       "      <td>1</td>\n",
       "      <td>женат / замужем</td>\n",
       "      <td>0</td>\n",
       "      <td>M</td>\n",
       "      <td>сотрудник</td>\n",
       "      <td>0</td>\n",
       "      <td>135823.934197</td>\n",
       "      <td>образование</td>\n",
       "    </tr>\n",
       "    <tr>\n",
       "      <td>8</td>\n",
       "      <td>2</td>\n",
       "      <td>6929.865299</td>\n",
       "      <td>35</td>\n",
       "      <td>ВЫСШЕЕ</td>\n",
       "      <td>0</td>\n",
       "      <td>гражданский брак</td>\n",
       "      <td>1</td>\n",
       "      <td>F</td>\n",
       "      <td>сотрудник</td>\n",
       "      <td>0</td>\n",
       "      <td>95856.832424</td>\n",
       "      <td>на проведение свадьбы</td>\n",
       "    </tr>\n",
       "    <tr>\n",
       "      <td>9</td>\n",
       "      <td>0</td>\n",
       "      <td>2188.756445</td>\n",
       "      <td>41</td>\n",
       "      <td>среднее</td>\n",
       "      <td>1</td>\n",
       "      <td>женат / замужем</td>\n",
       "      <td>0</td>\n",
       "      <td>M</td>\n",
       "      <td>сотрудник</td>\n",
       "      <td>0</td>\n",
       "      <td>144425.938277</td>\n",
       "      <td>покупка жилья для семьи</td>\n",
       "    </tr>\n",
       "  </tbody>\n",
       "</table>\n",
       "</div>"
      ],
      "text/plain": [
       "   children  days_employed  dob_years education  education_id  \\\n",
       "0         1    8437.673028         42    высшее             0   \n",
       "1         1    4024.803754         36   среднее             1   \n",
       "2         0    5623.422610         33   Среднее             1   \n",
       "3         3    4124.747207         32   среднее             1   \n",
       "4         0   14177.753002         53   среднее             1   \n",
       "5         0     926.185831         27    высшее             0   \n",
       "6         0    2879.202052         43    высшее             0   \n",
       "7         0     152.779569         50   СРЕДНЕЕ             1   \n",
       "8         2    6929.865299         35    ВЫСШЕЕ             0   \n",
       "9         0    2188.756445         41   среднее             1   \n",
       "\n",
       "      family_status  family_status_id gender income_type  debt   total_income  \\\n",
       "0   женат / замужем                 0      F   сотрудник     0  253875.639453   \n",
       "1   женат / замужем                 0      F   сотрудник     0  112080.014102   \n",
       "2   женат / замужем                 0      M   сотрудник     0  145885.952297   \n",
       "3   женат / замужем                 0      M   сотрудник     0  267628.550329   \n",
       "4  гражданский брак                 1      F   пенсионер     0  158616.077870   \n",
       "5  гражданский брак                 1      M   компаньон     0  255763.565419   \n",
       "6   женат / замужем                 0      F   компаньон     0  240525.971920   \n",
       "7   женат / замужем                 0      M   сотрудник     0  135823.934197   \n",
       "8  гражданский брак                 1      F   сотрудник     0   95856.832424   \n",
       "9   женат / замужем                 0      M   сотрудник     0  144425.938277   \n",
       "\n",
       "                      purpose  \n",
       "0               покупка жилья  \n",
       "1     приобретение автомобиля  \n",
       "2               покупка жилья  \n",
       "3  дополнительное образование  \n",
       "4             сыграть свадьбу  \n",
       "5               покупка жилья  \n",
       "6           операции с жильем  \n",
       "7                 образование  \n",
       "8       на проведение свадьбы  \n",
       "9     покупка жилья для семьи  "
      ]
     },
     "metadata": {},
     "output_type": "display_data"
    }
   ],
   "source": [
    "display(df.head(10))"
   ]
  },
  {
   "cell_type": "code",
   "execution_count": 24,
   "metadata": {},
   "outputs": [],
   "source": [
    "#display(df.sort_values(by='days_employed',ascending = False).head(30))"
   ]
  },
  {
   "cell_type": "markdown",
   "metadata": {},
   "source": [
    "Пустые значения в `'days_employed'` заполним после после обработки нулевых значений в столбце `'dob_years'`, чтобы можно было опираться на среднее значение возраста в зависимости от типа занятости."
   ]
  },
  {
   "cell_type": "markdown",
   "metadata": {},
   "source": [
    "**Удалим нули в `'dob_years'`:**"
   ]
  },
  {
   "cell_type": "markdown",
   "metadata": {},
   "source": [
    "Напишем цикл, который в зависимости от типа занятости подставляет медианное значение возраста вместо нулевого значения:\n",
    "Можно и удалить эти строки или заполнить значением 'unknown', так как нам не важен возраст, но я решила, чтобы весь столбец был одного типа заполнить его медианным значением в зависимости от типа занятости:"
   ]
  },
  {
   "cell_type": "code",
   "execution_count": 25,
   "metadata": {},
   "outputs": [
    {
     "name": "stdout",
     "output_type": "stream",
     "text": [
      "['сотрудник', 'пенсионер', 'компаньон', 'госслужащий', 'безработный', 'предприниматель', 'студент', 'в декрете']\n"
     ]
    }
   ],
   "source": [
    "# print(list(df['income_type'].unique()))"
   ]
  },
  {
   "cell_type": "code",
   "execution_count": 25,
   "metadata": {},
   "outputs": [],
   "source": [
    "# Как сделать функцию, если мы обращаемся к нескольким столбцам? И есть ли более короткая запись? \n",
    "#(потратила на эти 3 строчки два часа, но они мне так и не нравятся)\n",
    "for type_i in list(df['income_type'].unique()):\n",
    "    type_i_med = int(df['dob_years'][(df['income_type'] == type_i) & (df['dob_years'] != 0)].median())\n",
    "    df.loc[(df['income_type'] == type_i) & (df['dob_years'] == 0), 'dob_years'] = type_i_med"
   ]
  },
  {
   "cell_type": "markdown",
   "metadata": {},
   "source": [
    "Проверяем, остались ли строки в столбце `'dob_years'` со значением 0:"
   ]
  },
  {
   "cell_type": "code",
   "execution_count": 26,
   "metadata": {},
   "outputs": [
    {
     "name": "stdout",
     "output_type": "stream",
     "text": [
      "0\n"
     ]
    }
   ],
   "source": [
    "print(df[df['dob_years'] == 0]['dob_years'].count())"
   ]
  },
  {
   "cell_type": "markdown",
   "metadata": {},
   "source": [
    "**Заменим пустые значения в `'days_employed'` и `'total_income'`:**"
   ]
  },
  {
   "cell_type": "markdown",
   "metadata": {},
   "source": [
    "Пустые значения заменим медианой, т.к. среднее значение может быть нерепрезентативным \n",
    "(у Маши 10 яблок, а у Кати 0, а в среднем 5)"
   ]
  },
  {
   "cell_type": "code",
   "execution_count": 27,
   "metadata": {},
   "outputs": [
    {
     "name": "stdout",
     "output_type": "stream",
     "text": [
      "Медиана по доходам: income_type\n",
      "безработный        131339.751676\n",
      "в декрете           53829.130729\n",
      "госслужащий        150447.935283\n",
      "компаньон          172357.950966\n",
      "пенсионер          118514.486412\n",
      "предприниматель    499163.144947\n",
      "сотрудник          142594.396847\n",
      "студент             98201.625314\n",
      "Name: total_income, dtype: float64\n",
      "Медиана по количеству дней трудового стажа: income_type\n",
      "безработный        15267.235531\n",
      "в декрете           3296.759962\n",
      "госслужащий         2689.368353\n",
      "компаньон           1547.382223\n",
      "пенсионер          15217.221094\n",
      "предприниматель      520.848083\n",
      "сотрудник           1574.202821\n",
      "студент              578.751554\n",
      "Name: days_employed, dtype: float64\n"
     ]
    }
   ],
   "source": [
    "print('Медиана по доходам:', df.groupby('income_type')['total_income'].median())\n",
    "print('Медиана по количеству дней трудового стажа:',df.groupby('income_type')['days_employed'].median())"
   ]
  },
  {
   "cell_type": "markdown",
   "metadata": {},
   "source": [
    "Воспользуемся методом `transform`, который по значению `'income_type'` заменит пустые значения в в столбце `'total_income'` и `'days_employed'`"
   ]
  },
  {
   "cell_type": "code",
   "execution_count": 28,
   "metadata": {},
   "outputs": [],
   "source": [
    "df['total_income'] = df['total_income'].fillna(df.groupby('income_type')['total_income'].transform('median'))"
   ]
  },
  {
   "cell_type": "code",
   "execution_count": 29,
   "metadata": {},
   "outputs": [],
   "source": [
    "df['days_employed'] = df['days_employed'].fillna(df.groupby('income_type')['days_employed'].transform('median'))"
   ]
  },
  {
   "cell_type": "markdown",
   "metadata": {},
   "source": [
    "Посмотрим, изменилось ли медианное значение:"
   ]
  },
  {
   "cell_type": "code",
   "execution_count": 30,
   "metadata": {},
   "outputs": [
    {
     "name": "stdout",
     "output_type": "stream",
     "text": [
      "Медиана по доходам: income_type\n",
      "безработный        131339.751676\n",
      "в декрете           53829.130729\n",
      "госслужащий        150447.935283\n",
      "компаньон          172357.950966\n",
      "пенсионер          118514.486412\n",
      "предприниматель    499163.144947\n",
      "сотрудник          142594.396847\n",
      "студент             98201.625314\n",
      "Name: total_income, dtype: float64\n",
      "Медиана по количеству дней трудового стажа: income_type\n",
      "безработный        15267.235531\n",
      "в декрете           3296.759962\n",
      "госслужащий         2689.368353\n",
      "компаньон           1547.382223\n",
      "пенсионер          15217.221094\n",
      "предприниматель      520.848083\n",
      "сотрудник           1574.202821\n",
      "студент              578.751554\n",
      "Name: days_employed, dtype: float64\n"
     ]
    }
   ],
   "source": [
    "print('Медиана по доходам:', df.groupby('income_type')['total_income'].median())\n",
    "print('Медиана по количеству дней трудового стажа:',df.groupby('income_type')['days_employed'].median())"
   ]
  },
  {
   "cell_type": "markdown",
   "metadata": {},
   "source": [
    "Проверим, сколько осталось пустых значений:"
   ]
  },
  {
   "cell_type": "code",
   "execution_count": 32,
   "metadata": {},
   "outputs": [
    {
     "name": "stdout",
     "output_type": "stream",
     "text": [
      "children            0\n",
      "days_employed       0\n",
      "dob_years           0\n",
      "education           0\n",
      "education_id        0\n",
      "family_status       0\n",
      "family_status_id    0\n",
      "gender              0\n",
      "income_type         0\n",
      "debt                0\n",
      "total_income        0\n",
      "purpose             0\n",
      "dtype: int64\n"
     ]
    }
   ],
   "source": [
    "print(df.isna().sum())"
   ]
  },
  {
   "cell_type": "markdown",
   "metadata": {},
   "source": [
    "**Остались столбцы с аномальными значениями (`'children'`, `'gender'`), а также столбцы со значениями в разном регистре (`'education'`, `'family_status'`)**\n",
    "\n",
    "Воспользуемся методом replace()\n",
    "\n",
    "Значения, равные 20 детям заменим на 2 (так как значения в столбце варьируются от 0 до 5), а значение -1 заменим на 1, так как, возможно, это была просто опечатка)\n",
    "\n",
    "Также неуказанное значение пола заменим на \"стандартное\" М, так как в данном исследовании пол нам не важен, а вот значения дохода, статус и количество детей важны."
   ]
  },
  {
   "cell_type": "code",
   "execution_count": 33,
   "metadata": {},
   "outputs": [],
   "source": [
    "df['children'] = df['children'].replace(-1, 1)\n",
    "df['children'] = df['children'].replace(20, 2)\n",
    "\n",
    "df['gender'] = df['gender'].replace('XNA', 'M')"
   ]
  },
  {
   "cell_type": "markdown",
   "metadata": {},
   "source": [
    "Проверим уникальные значения в столбцах, в которых мы поменяли данные:"
   ]
  },
  {
   "cell_type": "code",
   "execution_count": 34,
   "metadata": {},
   "outputs": [
    {
     "name": "stdout",
     "output_type": "stream",
     "text": [
      "Уникальные значения столбца children: [1 0 3 2 4 5]\n"
     ]
    }
   ],
   "source": [
    "print(f\"Уникальные значения столбца children: {df['children'].unique()}\")"
   ]
  },
  {
   "cell_type": "code",
   "execution_count": 35,
   "metadata": {},
   "outputs": [
    {
     "name": "stdout",
     "output_type": "stream",
     "text": [
      "Уникальные значения столбца gender: ['F' 'M']\n"
     ]
    }
   ],
   "source": [
    "print(f\"Уникальные значения столбца gender: {df['gender'].unique()}\")"
   ]
  },
  {
   "cell_type": "markdown",
   "metadata": {},
   "source": [
    "Приведем к нижнему регистру с помощью метода lower()"
   ]
  },
  {
   "cell_type": "code",
   "execution_count": 36,
   "metadata": {},
   "outputs": [],
   "source": [
    "df['education']= df['education'].str.lower()\n",
    "df['family_status']= df['family_status'].str.lower()"
   ]
  },
  {
   "cell_type": "markdown",
   "metadata": {},
   "source": [
    "Проверим уникальные значения в столбцах, в которых мы поменяли данные:"
   ]
  },
  {
   "cell_type": "code",
   "execution_count": 37,
   "metadata": {},
   "outputs": [
    {
     "name": "stdout",
     "output_type": "stream",
     "text": [
      "Уникальные значения столбца education: ['высшее' 'среднее' 'неоконченное высшее' 'начальное' 'ученая степень']\n"
     ]
    }
   ],
   "source": [
    "print(f\"Уникальные значения столбца education: {df['education'].unique()}\")"
   ]
  },
  {
   "cell_type": "code",
   "execution_count": 38,
   "metadata": {},
   "outputs": [
    {
     "name": "stdout",
     "output_type": "stream",
     "text": [
      "Уникальные значения столбца family_status: ['женат / замужем' 'гражданский брак' 'вдовец / вдова' 'в разводе'\n",
      " 'не женат / не замужем']\n"
     ]
    }
   ],
   "source": [
    "print(f\"Уникальные значения столбца family_status: {df['family_status'].unique()}\")"
   ]
  },
  {
   "cell_type": "markdown",
   "metadata": {},
   "source": [
    "**Вывод**"
   ]
  },
  {
   "cell_type": "markdown",
   "metadata": {},
   "source": [
    "* Были исправлены аномальные значения в столбце `'days_employed'`, заполнены пропуски в столбцах `'total_income'` и `'dob_years'`\n",
    "\n",
    "* Замены аномалии и пропуски в столбцах `'children'` и `'gender'`\n",
    "\n",
    "* А также привели значения в столбцах `'education'` и `'family_status'` к нижнему регистру "
   ]
  },
  {
   "cell_type": "markdown",
   "metadata": {},
   "source": [
    "### Замена типа данных\n",
    "<a id='step_2_2'></a>"
   ]
  },
  {
   "cell_type": "markdown",
   "metadata": {},
   "source": [
    "Необходимо заменить тип данных в столбцах `'days_employed'` и `'total_income'` с float на int, так как нам не нужны настолько точные значения (да и количество дней обычно целое число, скорее всего ошибка при переводе из двоичной сс или в системе хранятся данные с учетом часов и минут, а доход был указан после вычета налогов) и не нужно лишнее использование памяти для хранения остатка после запятой.\n",
    "\n",
    "Для этого воспользуемся методом astype():"
   ]
  },
  {
   "cell_type": "code",
   "execution_count": 39,
   "metadata": {},
   "outputs": [],
   "source": [
    "df['days_employed'] = df['days_employed'].astype('int')\n",
    "df['total_income'] = df['total_income'].astype('int')"
   ]
  },
  {
   "cell_type": "code",
   "execution_count": 40,
   "metadata": {},
   "outputs": [
    {
     "name": "stdout",
     "output_type": "stream",
     "text": [
      "<class 'pandas.core.frame.DataFrame'>\n",
      "RangeIndex: 21525 entries, 0 to 21524\n",
      "Data columns (total 12 columns):\n",
      "children            21525 non-null int64\n",
      "days_employed       21525 non-null int64\n",
      "dob_years           21525 non-null int64\n",
      "education           21525 non-null object\n",
      "education_id        21525 non-null int64\n",
      "family_status       21525 non-null object\n",
      "family_status_id    21525 non-null int64\n",
      "gender              21525 non-null object\n",
      "income_type         21525 non-null object\n",
      "debt                21525 non-null int64\n",
      "total_income        21525 non-null int64\n",
      "purpose             21525 non-null object\n",
      "dtypes: int64(7), object(5)\n",
      "memory usage: 2.0+ MB\n"
     ]
    }
   ],
   "source": [
    "df.info()"
   ]
  },
  {
   "cell_type": "markdown",
   "metadata": {},
   "source": [
    "**Вывод**"
   ]
  },
  {
   "cell_type": "markdown",
   "metadata": {},
   "source": [
    "Данные изменены на тип int, теперь с ними удобнее работать."
   ]
  },
  {
   "cell_type": "markdown",
   "metadata": {},
   "source": [
    "### Обработка дубликатов\n",
    "<a id='step_2_3'></a>"
   ]
  },
  {
   "cell_type": "markdown",
   "metadata": {},
   "source": [
    "Посмотрим, сколько явных дубликатов находится в таблице:"
   ]
  },
  {
   "cell_type": "code",
   "execution_count": 41,
   "metadata": {},
   "outputs": [
    {
     "name": "stdout",
     "output_type": "stream",
     "text": [
      "71\n"
     ]
    }
   ],
   "source": [
    "print(df.duplicated().sum())"
   ]
  },
  {
   "cell_type": "markdown",
   "metadata": {},
   "source": [
    "Удалим дубликаты методом drop_duplicates(), а также обновим индексы:"
   ]
  },
  {
   "cell_type": "code",
   "execution_count": 42,
   "metadata": {},
   "outputs": [],
   "source": [
    "df = df.drop_duplicates().reset_index(drop=True)"
   ]
  },
  {
   "cell_type": "markdown",
   "metadata": {},
   "source": [
    "Проверим, удалены ли все дублиаты:"
   ]
  },
  {
   "cell_type": "code",
   "execution_count": 43,
   "metadata": {},
   "outputs": [
    {
     "name": "stdout",
     "output_type": "stream",
     "text": [
      "0\n"
     ]
    }
   ],
   "source": [
    "print(df.duplicated().sum())"
   ]
  },
  {
   "cell_type": "markdown",
   "metadata": {},
   "source": [
    "**Вывод**"
   ]
  },
  {
   "cell_type": "markdown",
   "metadata": {},
   "source": [
    "Явные дубликаты удалены, возможно иноформация о заемщиках была занесена дважды, либо было задвоение при соединении таблиц (если их изначально было несколько).\n",
    "\n",
    "Теперь данные готовы для анализа и ответов на поставленные вопросы."
   ]
  },
  {
   "cell_type": "markdown",
   "metadata": {},
   "source": [
    "### Лемматизация\n",
    "<a id='step_2_4'></a>"
   ]
  },
  {
   "cell_type": "markdown",
   "metadata": {},
   "source": [
    "Подключим библиотеку с функцией лемматизации:"
   ]
  },
  {
   "cell_type": "code",
   "execution_count": 44,
   "metadata": {},
   "outputs": [],
   "source": [
    "from pymystem3 import Mystem\n",
    "m = Mystem()"
   ]
  },
  {
   "cell_type": "markdown",
   "metadata": {},
   "source": [
    "Просмотрим уникальные значения столбца `'purpose'`, сделаем список, а потом выделим леммы с помощью метода lemmatize():"
   ]
  },
  {
   "cell_type": "code",
   "execution_count": 45,
   "metadata": {},
   "outputs": [
    {
     "name": "stdout",
     "output_type": "stream",
     "text": [
      "Уникальные значения столбца purpose: ['автомобили' 'автомобиль' 'высшее образование'\n",
      " 'дополнительное образование' 'жилье' 'заняться высшим образованием'\n",
      " 'заняться образованием' 'на покупку автомобиля'\n",
      " 'на покупку подержанного автомобиля' 'на покупку своего автомобиля'\n",
      " 'на проведение свадьбы' 'недвижимость' 'образование' 'операции с жильем'\n",
      " 'операции с коммерческой недвижимостью' 'операции с недвижимостью'\n",
      " 'операции со своей недвижимостью' 'покупка жилой недвижимости'\n",
      " 'покупка жилья' 'покупка жилья для сдачи' 'покупка жилья для семьи'\n",
      " 'покупка коммерческой недвижимости' 'покупка недвижимости'\n",
      " 'покупка своего жилья' 'получение высшего образования'\n",
      " 'получение дополнительного образования' 'получение образования'\n",
      " 'приобретение автомобиля' 'профильное образование' 'ремонт жилью'\n",
      " 'свадьба' 'свой автомобиль' 'сделка с автомобилем'\n",
      " 'сделка с подержанным автомобилем' 'строительство жилой недвижимости'\n",
      " 'строительство недвижимости' 'строительство собственной недвижимости'\n",
      " 'сыграть свадьбу']\n"
     ]
    }
   ],
   "source": [
    "print(f\"Уникальные значения столбца purpose: {df['purpose'].sort_values().unique()}\")"
   ]
  },
  {
   "cell_type": "code",
   "execution_count": 46,
   "metadata": {},
   "outputs": [
    {
     "name": "stdout",
     "output_type": "stream",
     "text": [
      "['автомобили', 'автомобиль', 'высшее образование', 'дополнительное образование', 'жилье', 'заняться высшим образованием', 'заняться образованием', 'на покупку автомобиля', 'на покупку подержанного автомобиля', 'на покупку своего автомобиля', 'на проведение свадьбы', 'недвижимость', 'образование', 'операции с жильем', 'операции с коммерческой недвижимостью', 'операции с недвижимостью', 'операции со своей недвижимостью', 'покупка жилой недвижимости', 'покупка жилья', 'покупка жилья для сдачи', 'покупка жилья для семьи', 'покупка коммерческой недвижимости', 'покупка недвижимости', 'покупка своего жилья', 'получение высшего образования', 'получение дополнительного образования', 'получение образования', 'приобретение автомобиля', 'профильное образование', 'ремонт жилью', 'свадьба', 'свой автомобиль', 'сделка с автомобилем', 'сделка с подержанным автомобилем', 'строительство жилой недвижимости', 'строительство недвижимости', 'строительство собственной недвижимости', 'сыграть свадьбу']\n"
     ]
    }
   ],
   "source": [
    "purpose = list(df['purpose'].sort_values().unique())\n",
    "print(purpose)"
   ]
  },
  {
   "cell_type": "code",
   "execution_count": 47,
   "metadata": {},
   "outputs": [
    {
     "name": "stdout",
     "output_type": "stream",
     "text": [
      "['автомобиль', ',', 'автомобиль', ',', 'высокий', ' ', 'образование', ',', 'дополнительный', ' ', 'образование', ',', 'жилье', ',', 'заниматься', ' ', 'высокий', ' ', 'образование', ',', 'заниматься', ' ', 'образование', ',', 'на', ' ', 'покупка', ' ', 'автомобиль', ',', 'на', ' ', 'покупка', ' ', 'подержать', ' ', 'автомобиль', ',', 'на', ' ', 'покупка', ' ', 'свой', ' ', 'автомобиль', ',', 'на', ' ', 'проведение', ' ', 'свадьба', ',', 'недвижимость', ',', 'образование', ',', 'операция', ' ', 'с', ' ', 'жилье', ',', 'операция', ' ', 'с', ' ', 'коммерческий', ' ', 'недвижимость', ',', 'операция', ' ', 'с', ' ', 'недвижимость', ',', 'операция', ' ', 'со', ' ', 'свой', ' ', 'недвижимость', ',', 'покупка', ' ', 'жилой', ' ', 'недвижимость', ',', 'покупка', ' ', 'жилье', ',', 'покупка', ' ', 'жилье', ' ', 'для', ' ', 'сдача', ',', 'покупка', ' ', 'жилье', ' ', 'для', ' ', 'семья', ',', 'покупка', ' ', 'коммерческий', ' ', 'недвижимость', ',', 'покупка', ' ', 'недвижимость', ',', 'покупка', ' ', 'свой', ' ', 'жилье', ',', 'получение', ' ', 'высокий', ' ', 'образование', ',', 'получение', ' ', 'дополнительный', ' ', 'образование', ',', 'получение', ' ', 'образование', ',', 'приобретение', ' ', 'автомобиль', ',', 'профильный', ' ', 'образование', ',', 'ремонт', ' ', 'жилье', ',', 'свадьба', ',', 'свой', ' ', 'автомобиль', ',', 'сделка', ' ', 'с', ' ', 'автомобиль', ',', 'сделка', ' ', 'с', ' ', 'подержать', ' ', 'автомобиль', ',', 'строительство', ' ', 'жилой', ' ', 'недвижимость', ',', 'строительство', ' ', 'недвижимость', ',', 'строительство', ' ', 'собственный', ' ', 'недвижимость', ',', 'сыграть', ' ', 'свадьба', '\\n']\n"
     ]
    }
   ],
   "source": [
    "text = ','.join(purpose)\n",
    "lemmas = m.lemmatize(text)\n",
    "print(lemmas)"
   ]
  },
  {
   "cell_type": "markdown",
   "metadata": {},
   "source": [
    "Вызовем специальный контейнер Counter из модуля collections для подсчёта числа упоминаний слов в тексте:"
   ]
  },
  {
   "cell_type": "code",
   "execution_count": 48,
   "metadata": {},
   "outputs": [
    {
     "name": "stdout",
     "output_type": "stream",
     "text": [
      "Counter({' ': 59, ',': 37, 'покупка': 10, 'недвижимость': 10, 'автомобиль': 9, 'образование': 9, 'жилье': 7, 'с': 5, 'на': 4, 'свой': 4, 'операция': 4, 'высокий': 3, 'свадьба': 3, 'получение': 3, 'строительство': 3, 'дополнительный': 2, 'заниматься': 2, 'подержать': 2, 'коммерческий': 2, 'жилой': 2, 'для': 2, 'сделка': 2, 'проведение': 1, 'со': 1, 'сдача': 1, 'семья': 1, 'приобретение': 1, 'профильный': 1, 'ремонт': 1, 'собственный': 1, 'сыграть': 1, '\\n': 1})\n"
     ]
    }
   ],
   "source": [
    "from collections import Counter\n",
    "print(Counter(lemmas))"
   ]
  },
  {
   "cell_type": "markdown",
   "metadata": {},
   "source": [
    "**Вывод**"
   ]
  },
  {
   "cell_type": "markdown",
   "metadata": {},
   "source": [
    "Проанализировав леммы (самые популярные - это покупка, недвижимость, автомобиль и образование), выделим несколько категорий по целям кредита:\n",
    "\n",
    "1. 'недвижимость' - Можно выделить также подгруппы по жилой/коммерческой недвижимости, но не везде указан тип, также обычно ипотеки это целевой кредит на жилье, а на коммерческую недвижимость можно оформить и потребительский кредит\n",
    "\n",
    "2. 'автомобиль' - Также можно выделить подкатегории на покупку поддержанного или нового автомобиля, но это также не важно, т.к. на поддержанный автомобиль можно взять потребительский кредит, а целевой обычно берут но новый.\n",
    "\n",
    "3. 'образование' - Есть уточнения, высшее ли это образование или дополнительное, но это все можно объединить одним словом - 'образование'.\n",
    "\n",
    "4. 'свадьба' - Кредит на проведение свадьбы, никто не указывает, какая это свадьба(много ли кредитов бурет на вторые свадьбы, интересно?), да и это не важно, указывают только, что это на проведение свадьбы."
   ]
  },
  {
   "cell_type": "markdown",
   "metadata": {},
   "source": [
    "### Категоризация данных\n",
    "<a id='step_2_5'></a>"
   ]
  },
  {
   "cell_type": "markdown",
   "metadata": {},
   "source": [
    "Для ответов на вопросы, необходимо подготовить категории по цели кредита, по уровню дохода и по типу семьи (количество детей)."
   ]
  },
  {
   "cell_type": "markdown",
   "metadata": {},
   "source": [
    "Для каждого из этих столбцов создадим еще один столбец категории, выделив группы (по кол-ву детей, по уровню дохода, по типу цели).\n",
    "\n",
    "Для удобного анализа все категории будут объектами, а не числами ."
   ]
  },
  {
   "cell_type": "markdown",
   "metadata": {},
   "source": [
    "После лемматизации можно выделить 4 группы, для этого создадим функцию, которой будем передавать строку, найдем в ней лемму и добавим в новый столбец группу, в зависимости от леммы:"
   ]
  },
  {
   "cell_type": "code",
   "execution_count": 49,
   "metadata": {},
   "outputs": [],
   "source": [
    "def purpose_category(row):\n",
    "    \"\"\"\n",
    "    Объединяет в 4 категории по главному слову в цели кредита\n",
    "    \"\"\"\n",
    "    purpose = row['purpose'] \n",
    "    \n",
    "    if 'жиль' in purpose:\n",
    "        return 'недвижимость'\n",
    "    \n",
    "    elif 'недвижимост' in purpose:\n",
    "        return 'недвижимость'\n",
    "    \n",
    "    elif 'автомоб' in purpose:\n",
    "        return 'автомобиль'\n",
    "    \n",
    "    elif 'образован' in purpose:\n",
    "        return 'образование'\n",
    "    \n",
    "    elif 'свадьб' in purpose:\n",
    "        return 'свадьба'"
   ]
  },
  {
   "cell_type": "code",
   "execution_count": 50,
   "metadata": {},
   "outputs": [],
   "source": [
    "df['purpose_category'] = df.apply(purpose_category, axis=1)"
   ]
  },
  {
   "cell_type": "markdown",
   "metadata": {},
   "source": [
    "Проверим, что все строки получили свою категорию и уникальные значения нового столбца:"
   ]
  },
  {
   "cell_type": "code",
   "execution_count": 51,
   "metadata": {},
   "outputs": [
    {
     "name": "stdout",
     "output_type": "stream",
     "text": [
      "<class 'pandas.core.frame.DataFrame'>\n",
      "RangeIndex: 21454 entries, 0 to 21453\n",
      "Data columns (total 13 columns):\n",
      "children            21454 non-null int64\n",
      "days_employed       21454 non-null int64\n",
      "dob_years           21454 non-null int64\n",
      "education           21454 non-null object\n",
      "education_id        21454 non-null int64\n",
      "family_status       21454 non-null object\n",
      "family_status_id    21454 non-null int64\n",
      "gender              21454 non-null object\n",
      "income_type         21454 non-null object\n",
      "debt                21454 non-null int64\n",
      "total_income        21454 non-null int64\n",
      "purpose             21454 non-null object\n",
      "purpose_category    21454 non-null object\n",
      "dtypes: int64(7), object(6)\n",
      "memory usage: 2.1+ MB\n"
     ]
    }
   ],
   "source": [
    "df.info()"
   ]
  },
  {
   "cell_type": "code",
   "execution_count": 52,
   "metadata": {},
   "outputs": [
    {
     "name": "stdout",
     "output_type": "stream",
     "text": [
      "Уникальные значения столбца purpose_category: недвижимость    10811\n",
      "автомобиль       4306\n",
      "образование      4013\n",
      "свадьба          2324\n",
      "Name: purpose_category, dtype: int64\n"
     ]
    }
   ],
   "source": [
    "print(f\"Уникальные значения столбца purpose_category: {df['purpose_category'].sort_values().value_counts()}\")"
   ]
  },
  {
   "cell_type": "markdown",
   "metadata": {},
   "source": [
    "По количеству детей можно создать 3 категории: \"нет детей\", \"малодетная семья\" (1 или 2 ребенка, в России многодетными считаются семьи, где 3 и более детей) и \"многодетная семья\".\n",
    "Создадив функцию, которой будем передавать строку и по количеству детей определим категорию:"
   ]
  },
  {
   "cell_type": "code",
   "execution_count": 53,
   "metadata": {},
   "outputs": [],
   "source": [
    "def children_category(row):\n",
    "    \"\"\"\n",
    "    Разделяет по 3 категориям в зависимости от количества детей\n",
    "    \"\"\"\n",
    "    children = row['children'] \n",
    "    \n",
    "    if children == 0:\n",
    "        return 'нет детей'\n",
    "    \n",
    "    elif children < 3:\n",
    "        return 'малодетная семья'\n",
    "    \n",
    "    else: \n",
    "        return 'многодетная семья'"
   ]
  },
  {
   "cell_type": "code",
   "execution_count": 54,
   "metadata": {},
   "outputs": [],
   "source": [
    "df['children_category'] = df.apply(children_category, axis=1)"
   ]
  },
  {
   "cell_type": "markdown",
   "metadata": {},
   "source": [
    "Проверим, что все строки получили свою категорию и уникальные значения нового столбца:"
   ]
  },
  {
   "cell_type": "code",
   "execution_count": 55,
   "metadata": {},
   "outputs": [
    {
     "name": "stdout",
     "output_type": "stream",
     "text": [
      "<class 'pandas.core.frame.DataFrame'>\n",
      "RangeIndex: 21454 entries, 0 to 21453\n",
      "Data columns (total 14 columns):\n",
      "children             21454 non-null int64\n",
      "days_employed        21454 non-null int64\n",
      "dob_years            21454 non-null int64\n",
      "education            21454 non-null object\n",
      "education_id         21454 non-null int64\n",
      "family_status        21454 non-null object\n",
      "family_status_id     21454 non-null int64\n",
      "gender               21454 non-null object\n",
      "income_type          21454 non-null object\n",
      "debt                 21454 non-null int64\n",
      "total_income         21454 non-null int64\n",
      "purpose              21454 non-null object\n",
      "purpose_category     21454 non-null object\n",
      "children_category    21454 non-null object\n",
      "dtypes: int64(7), object(7)\n",
      "memory usage: 2.3+ MB\n"
     ]
    }
   ],
   "source": [
    "df.info()"
   ]
  },
  {
   "cell_type": "code",
   "execution_count": 56,
   "metadata": {},
   "outputs": [
    {
     "data": {
      "text/plain": [
       "нет детей            14091\n",
       "малодетная семья      6983\n",
       "многодетная семья      380\n",
       "Name: children_category, dtype: int64"
      ]
     },
     "execution_count": 56,
     "metadata": {},
     "output_type": "execute_result"
    }
   ],
   "source": [
    "df['children_category'].value_counts()"
   ]
  },
  {
   "cell_type": "markdown",
   "metadata": {},
   "source": [
    "Для определения категорий по доходам, еще раз посмотрим на медиану по категориям занятости:"
   ]
  },
  {
   "cell_type": "code",
   "execution_count": 57,
   "metadata": {},
   "outputs": [
    {
     "name": "stdout",
     "output_type": "stream",
     "text": [
      "Медиана по доходам: income_type\n",
      "безработный        131339\n",
      "в декрете           53829\n",
      "госслужащий        150447\n",
      "компаньон          172357\n",
      "пенсионер          118514\n",
      "предприниматель    499163\n",
      "сотрудник          142594\n",
      "студент             98201\n",
      "Name: total_income, dtype: int64\n"
     ]
    }
   ],
   "source": [
    "print('Медиана по доходам:', df.groupby('income_type')['total_income'].median())"
   ]
  },
  {
   "cell_type": "code",
   "execution_count": 58,
   "metadata": {},
   "outputs": [
    {
     "data": {
      "text/plain": [
       "142594.0"
      ]
     },
     "execution_count": 58,
     "metadata": {},
     "output_type": "execute_result"
    }
   ],
   "source": [
    "df['total_income'].median()"
   ]
  },
  {
   "cell_type": "markdown",
   "metadata": {},
   "source": [
    "Примем за медиану 145.000, тогда можно создать 4 группы:\n",
    "1. 0,75 от медианы, то есть 110.000\n",
    "2. от 0,75 до 1,25 медианы, то есть от 110.000 до 180.000\n",
    "3. от 1.25 медианы до 2 медиан, то есть от 180.000 до 290.000\n",
    "4. выше 2 медиан, то есть от 290.000\n",
    "\n",
    "(видимо, все живут в Москве, раз такая медиана)\n",
    "\n",
    "Создадив функцию, которой будем передавать строку и по достатку определим категорию:"
   ]
  },
  {
   "cell_type": "code",
   "execution_count": 59,
   "metadata": {},
   "outputs": [],
   "source": [
    "def income_category(row):\n",
    "    \"\"\"\n",
    "    Разделяет по 4 категориям по уровню дохода\n",
    "    \"\"\"\n",
    "    income = row['total_income'] \n",
    "    \n",
    "    if income < 110000:\n",
    "        return 'доход до 110 тысяч'\n",
    "    \n",
    "    elif income < 180000:\n",
    "        return 'доход от 110 до 180 тысяч'\n",
    "    \n",
    "    elif income < 290000:\n",
    "        return 'доход от 180 до 290 тысяч'\n",
    "    \n",
    "    else: \n",
    "        return 'доход от 290 тысяч'"
   ]
  },
  {
   "cell_type": "code",
   "execution_count": 60,
   "metadata": {},
   "outputs": [],
   "source": [
    "df['income_category'] = df.apply(income_category, axis=1)"
   ]
  },
  {
   "cell_type": "markdown",
   "metadata": {},
   "source": [
    "Проверим, что все строки получили свою категорию и уникальные значения нового столбца:"
   ]
  },
  {
   "cell_type": "code",
   "execution_count": 61,
   "metadata": {},
   "outputs": [
    {
     "name": "stdout",
     "output_type": "stream",
     "text": [
      "<class 'pandas.core.frame.DataFrame'>\n",
      "RangeIndex: 21454 entries, 0 to 21453\n",
      "Data columns (total 15 columns):\n",
      "children             21454 non-null int64\n",
      "days_employed        21454 non-null int64\n",
      "dob_years            21454 non-null int64\n",
      "education            21454 non-null object\n",
      "education_id         21454 non-null int64\n",
      "family_status        21454 non-null object\n",
      "family_status_id     21454 non-null int64\n",
      "gender               21454 non-null object\n",
      "income_type          21454 non-null object\n",
      "debt                 21454 non-null int64\n",
      "total_income         21454 non-null int64\n",
      "purpose              21454 non-null object\n",
      "purpose_category     21454 non-null object\n",
      "children_category    21454 non-null object\n",
      "income_category      21454 non-null object\n",
      "dtypes: int64(7), object(8)\n",
      "memory usage: 2.5+ MB\n"
     ]
    }
   ],
   "source": [
    "df.info()"
   ]
  },
  {
   "cell_type": "code",
   "execution_count": 62,
   "metadata": {},
   "outputs": [
    {
     "data": {
      "text/plain": [
       "доход от 110 до 180 тысяч    9389\n",
       "доход до 110 тысяч           5642\n",
       "доход от 180 до 290 тысяч    4767\n",
       "доход от 290 тысяч           1656\n",
       "Name: income_category, dtype: int64"
      ]
     },
     "execution_count": 62,
     "metadata": {},
     "output_type": "execute_result"
    }
   ],
   "source": [
    "df['income_category'].value_counts()"
   ]
  },
  {
   "cell_type": "markdown",
   "metadata": {},
   "source": [
    "**Вывод**"
   ]
  },
  {
   "cell_type": "markdown",
   "metadata": {},
   "source": [
    "Данные с категориями подготовлены к ответам на вопросы.\n",
    "\n",
    "\n",
    "Теперь есть категории:\n",
    "* по цели кредита\n",
    "* по уровню дохода \n",
    "* по типу семьи (количество детей)\n",
    "\n",
    "\n",
    "Были категории:\n",
    "* по семейному положению\n",
    "* по наличию задолженностей"
   ]
  },
  {
   "cell_type": "markdown",
   "metadata": {},
   "source": [
    "## Шаг 3. Ответьте на вопросы\n",
    "<a id='step_3'></a>"
   ]
  },
  {
   "cell_type": "markdown",
   "metadata": {},
   "source": [
    "- **Есть ли зависимость между наличием детей и возвратом кредита в срок?**"
   ]
  },
  {
   "cell_type": "markdown",
   "metadata": {},
   "source": [
    "Для ответа на этот вопрос необходимо создать таблицу по категориям количества детей, а также добавим столбцы с количеством возвратов кредита, невозвратом и рассчитаем соотношение возврата к общему числу:"
   ]
  },
  {
   "cell_type": "code",
   "execution_count": 63,
   "metadata": {},
   "outputs": [
    {
     "data": {
      "text/html": [
       "<div>\n",
       "<style scoped>\n",
       "    .dataframe tbody tr th:only-of-type {\n",
       "        vertical-align: middle;\n",
       "    }\n",
       "\n",
       "    .dataframe tbody tr th {\n",
       "        vertical-align: top;\n",
       "    }\n",
       "\n",
       "    .dataframe thead tr th {\n",
       "        text-align: left;\n",
       "    }\n",
       "\n",
       "    .dataframe thead tr:last-of-type th {\n",
       "        text-align: right;\n",
       "    }\n",
       "</style>\n",
       "<table border=\"1\" class=\"dataframe\">\n",
       "  <thead>\n",
       "    <tr>\n",
       "      <th></th>\n",
       "      <th colspan=\"2\" halign=\"left\">debt</th>\n",
       "      <th>returned_debt</th>\n",
       "      <th>ratio_debt</th>\n",
       "    </tr>\n",
       "    <tr>\n",
       "      <th></th>\n",
       "      <th>count</th>\n",
       "      <th>sum</th>\n",
       "      <th></th>\n",
       "      <th></th>\n",
       "    </tr>\n",
       "    <tr>\n",
       "      <th>children_category</th>\n",
       "      <th></th>\n",
       "      <th></th>\n",
       "      <th></th>\n",
       "      <th></th>\n",
       "    </tr>\n",
       "  </thead>\n",
       "  <tbody>\n",
       "    <tr>\n",
       "      <td>малодетная семья</td>\n",
       "      <td>6983</td>\n",
       "      <td>647</td>\n",
       "      <td>6336</td>\n",
       "      <td>0.907346</td>\n",
       "    </tr>\n",
       "    <tr>\n",
       "      <td>многодетная семья</td>\n",
       "      <td>380</td>\n",
       "      <td>31</td>\n",
       "      <td>349</td>\n",
       "      <td>0.918421</td>\n",
       "    </tr>\n",
       "    <tr>\n",
       "      <td>нет детей</td>\n",
       "      <td>14091</td>\n",
       "      <td>1063</td>\n",
       "      <td>13028</td>\n",
       "      <td>0.924562</td>\n",
       "    </tr>\n",
       "  </tbody>\n",
       "</table>\n",
       "</div>"
      ],
      "text/plain": [
       "                    debt       returned_debt ratio_debt\n",
       "                   count   sum                         \n",
       "children_category                                      \n",
       "малодетная семья    6983   647          6336   0.907346\n",
       "многодетная семья    380    31           349   0.918421\n",
       "нет детей          14091  1063         13028   0.924562"
      ]
     },
     "metadata": {},
     "output_type": "display_data"
    }
   ],
   "source": [
    "#df_1 = df.pivot_table(index='children_category', values='debt', aggfunc=['count', 'sum']).reset_index()\n",
    "#df_1['returned_debt'] = df['count']['debt'] - df['sum']['debt']\n",
    "\n",
    "df_1 = df.groupby(['children_category']).agg({'debt':['count','sum']})\n",
    "df_1['returned_debt'] = df_1['debt']['count'] - df_1['debt']['sum']\n",
    "df_1['ratio_debt'] = df_1['returned_debt']/df_1['debt']['count']\n",
    "display(df_1)"
   ]
  },
  {
   "cell_type": "markdown",
   "metadata": {},
   "source": [
    "**Вывод**"
   ]
  },
  {
   "cell_type": "markdown",
   "metadata": {},
   "source": [
    "Зависимость между наличием детей и возвратом кредита в срок действительно есть:\n",
    "\n",
    "1. Семьи без детей возвращают 92,45% кредитов, это самое высокое значение\n",
    "2. На втором месте многодетные семьи, они возвращают 91,84% кредитов\n",
    "3. Семьи с 1 или 2 детьми возвращают только 90,73% кредитов.\n",
    "\n",
    "\n",
    "Это можно объяснить так:\n",
    "* Семьям без детей легче всего возвращать долг банку, так как их траты ограничены 2 людьми.\n",
    "* Многодетные семьи тщательнее контролируют свои расходы, они имеют опыт в распределении доходов и знают, сколько нужно на каждого члена семьи.\n",
    "* Семьи с 1 или 2 детьми пока еще не знают, сколько точно нужно бюджета на ребенка/детей и часто неправильно рассчитывают бюджет, отсюда появляются просрочки по кредиту."
   ]
  },
  {
   "cell_type": "markdown",
   "metadata": {},
   "source": [
    "- **Есть ли зависимость между семейным положением и возвратом кредита в срок?**"
   ]
  },
  {
   "cell_type": "markdown",
   "metadata": {},
   "source": [
    "Для ответа на этот вопрос необходимо создать таблицу по семейному положению, а также добавим столбцы с количеством возвратов кредита, невозвратов и рассчитаем соотношение возврата к общему числу:"
   ]
  },
  {
   "cell_type": "code",
   "execution_count": 94,
   "metadata": {},
   "outputs": [
    {
     "data": {
      "text/html": [
       "<div>\n",
       "<style scoped>\n",
       "    .dataframe tbody tr th:only-of-type {\n",
       "        vertical-align: middle;\n",
       "    }\n",
       "\n",
       "    .dataframe tbody tr th {\n",
       "        vertical-align: top;\n",
       "    }\n",
       "\n",
       "    .dataframe thead tr th {\n",
       "        text-align: left;\n",
       "    }\n",
       "\n",
       "    .dataframe thead tr:last-of-type th {\n",
       "        text-align: right;\n",
       "    }\n",
       "</style>\n",
       "<table border=\"1\" class=\"dataframe\">\n",
       "  <thead>\n",
       "    <tr>\n",
       "      <th></th>\n",
       "      <th colspan=\"2\" halign=\"left\">debt</th>\n",
       "      <th>returned_debt</th>\n",
       "      <th>ratio_debt</th>\n",
       "    </tr>\n",
       "    <tr>\n",
       "      <th></th>\n",
       "      <th>count</th>\n",
       "      <th>sum</th>\n",
       "      <th></th>\n",
       "      <th></th>\n",
       "    </tr>\n",
       "    <tr>\n",
       "      <th>family_status</th>\n",
       "      <th></th>\n",
       "      <th></th>\n",
       "      <th></th>\n",
       "      <th></th>\n",
       "    </tr>\n",
       "  </thead>\n",
       "  <tbody>\n",
       "    <tr>\n",
       "      <td>в разводе</td>\n",
       "      <td>1195</td>\n",
       "      <td>85</td>\n",
       "      <td>1110</td>\n",
       "      <td>0.928870</td>\n",
       "    </tr>\n",
       "    <tr>\n",
       "      <td>вдовец / вдова</td>\n",
       "      <td>959</td>\n",
       "      <td>63</td>\n",
       "      <td>896</td>\n",
       "      <td>0.934307</td>\n",
       "    </tr>\n",
       "    <tr>\n",
       "      <td>гражданский брак</td>\n",
       "      <td>4151</td>\n",
       "      <td>388</td>\n",
       "      <td>3763</td>\n",
       "      <td>0.906529</td>\n",
       "    </tr>\n",
       "    <tr>\n",
       "      <td>женат / замужем</td>\n",
       "      <td>12339</td>\n",
       "      <td>931</td>\n",
       "      <td>11408</td>\n",
       "      <td>0.924548</td>\n",
       "    </tr>\n",
       "    <tr>\n",
       "      <td>не женат / не замужем</td>\n",
       "      <td>2810</td>\n",
       "      <td>274</td>\n",
       "      <td>2536</td>\n",
       "      <td>0.902491</td>\n",
       "    </tr>\n",
       "  </tbody>\n",
       "</table>\n",
       "</div>"
      ],
      "text/plain": [
       "                        debt      returned_debt ratio_debt\n",
       "                       count  sum                         \n",
       "family_status                                             \n",
       "в разводе               1195   85          1110   0.928870\n",
       "вдовец / вдова           959   63           896   0.934307\n",
       "гражданский брак        4151  388          3763   0.906529\n",
       "женат / замужем        12339  931         11408   0.924548\n",
       "не женат / не замужем   2810  274          2536   0.902491"
      ]
     },
     "metadata": {},
     "output_type": "display_data"
    }
   ],
   "source": [
    "df_2 = df.groupby(['family_status']).agg({'debt':['count','sum']})\n",
    "df_2['returned_debt'] = df_2['debt']['count'] - df_2['debt']['sum']\n",
    "df_2['ratio_debt'] = df_2['returned_debt']/df_2['debt']['count']\n",
    "display(df_2)"
   ]
  },
  {
   "cell_type": "markdown",
   "metadata": {},
   "source": [
    "**Вывод**"
   ]
  },
  {
   "cell_type": "markdown",
   "metadata": {},
   "source": [
    "Зависимость между семейным положением и возвратом кредита в срок есть:\n",
    "1. Самый высокий процент возврата показали \"вдовец / вдова\": 93,43%\n",
    "2. Потом идет категория \"в разводе\": 92,89%\n",
    "3. Чуть меньше предыдущей категории \"женат / замужем\", они возвращают 92,46% кредитов\n",
    "4. Намного меньше процент возврата у людей в гражданском браке (чтобы это ни значило): 90,65%\n",
    "5. И чуть меньше, чем в предыдщей категории у людей \"не женат / не замужем\": 90,25%\n",
    "\n",
    "\n",
    "Можно объяснить такой результат так:\n",
    "* Вдовцы/вдовы, а также \"в разводе\" - это люди, которые остались одни по разным причинам, но, находясь в официальных отношениях осознали свою ответственность за финансы (так как теперь нельзя положиться на супруга) и умеют распределять доходы и расходы.\n",
    "* Женатые и замужние имеют поддержку в лице супруга, поэтому их процент возвратов кредита также высок.\n",
    "* Одинокие люди и люди в гражданском браке, возможно, еще не осознали как им правильно распоряжаться финансами или нет помощи с долгами, поэтому их процент невозврата самый высокий."
   ]
  },
  {
   "cell_type": "markdown",
   "metadata": {},
   "source": [
    "- **Есть ли зависимость между уровнем дохода и возвратом кредита в срок?**"
   ]
  },
  {
   "cell_type": "markdown",
   "metadata": {},
   "source": [
    "Для ответа на этот вопрос необходимо создать таблицу по категории доходов, а также добавим столбцы с количеством возвратов кредита, невозвратов и рассчитаем соотношение возврата к общему числу:"
   ]
  },
  {
   "cell_type": "code",
   "execution_count": 95,
   "metadata": {},
   "outputs": [
    {
     "data": {
      "text/html": [
       "<div>\n",
       "<style scoped>\n",
       "    .dataframe tbody tr th:only-of-type {\n",
       "        vertical-align: middle;\n",
       "    }\n",
       "\n",
       "    .dataframe tbody tr th {\n",
       "        vertical-align: top;\n",
       "    }\n",
       "\n",
       "    .dataframe thead tr th {\n",
       "        text-align: left;\n",
       "    }\n",
       "\n",
       "    .dataframe thead tr:last-of-type th {\n",
       "        text-align: right;\n",
       "    }\n",
       "</style>\n",
       "<table border=\"1\" class=\"dataframe\">\n",
       "  <thead>\n",
       "    <tr>\n",
       "      <th></th>\n",
       "      <th colspan=\"2\" halign=\"left\">debt</th>\n",
       "      <th>returned_debt</th>\n",
       "      <th>ratio_debt</th>\n",
       "    </tr>\n",
       "    <tr>\n",
       "      <th></th>\n",
       "      <th>count</th>\n",
       "      <th>sum</th>\n",
       "      <th></th>\n",
       "      <th></th>\n",
       "    </tr>\n",
       "    <tr>\n",
       "      <th>income_category</th>\n",
       "      <th></th>\n",
       "      <th></th>\n",
       "      <th></th>\n",
       "      <th></th>\n",
       "    </tr>\n",
       "  </thead>\n",
       "  <tbody>\n",
       "    <tr>\n",
       "      <td>доход до 110 тысяч</td>\n",
       "      <td>5642</td>\n",
       "      <td>455</td>\n",
       "      <td>5187</td>\n",
       "      <td>0.919355</td>\n",
       "    </tr>\n",
       "    <tr>\n",
       "      <td>доход от 110 до 180 тысяч</td>\n",
       "      <td>9389</td>\n",
       "      <td>808</td>\n",
       "      <td>8581</td>\n",
       "      <td>0.913942</td>\n",
       "    </tr>\n",
       "    <tr>\n",
       "      <td>доход от 180 до 290 тысяч</td>\n",
       "      <td>4767</td>\n",
       "      <td>358</td>\n",
       "      <td>4409</td>\n",
       "      <td>0.924900</td>\n",
       "    </tr>\n",
       "    <tr>\n",
       "      <td>доход от 290 тысяч</td>\n",
       "      <td>1656</td>\n",
       "      <td>120</td>\n",
       "      <td>1536</td>\n",
       "      <td>0.927536</td>\n",
       "    </tr>\n",
       "  </tbody>\n",
       "</table>\n",
       "</div>"
      ],
      "text/plain": [
       "                           debt      returned_debt ratio_debt\n",
       "                          count  sum                         \n",
       "income_category                                              \n",
       "доход до 110 тысяч         5642  455          5187   0.919355\n",
       "доход от 110 до 180 тысяч  9389  808          8581   0.913942\n",
       "доход от 180 до 290 тысяч  4767  358          4409   0.924900\n",
       "доход от 290 тысяч         1656  120          1536   0.927536"
      ]
     },
     "metadata": {},
     "output_type": "display_data"
    }
   ],
   "source": [
    "df_3 = df.groupby(['income_category']).agg({'debt':['count','sum']})\n",
    "df_3['returned_debt'] = df_3['debt']['count'] - df_3['debt']['sum']\n",
    "df_3['ratio_debt'] = df_3['returned_debt']/df_3['debt']['count']\n",
    "display(df_3)"
   ]
  },
  {
   "cell_type": "markdown",
   "metadata": {},
   "source": [
    "**Вывод**"
   ]
  },
  {
   "cell_type": "markdown",
   "metadata": {},
   "source": [
    "Зависимость между уровнем дохода и возвратом кредита в срок также имеется:\n",
    "1. Всех больше кредиты возвращают те, у кого доход больше 290 тысяч - 92,75%\n",
    "2. Далее идут те, чей дохо находится в диапазоне от 180 до 290 тысяч - 92,49%\n",
    "3. Меньше возвращают кредитов люди с доходом до 110 тысяч - 91,94%\n",
    "4. Самый большой долг у тех, чей достаток варьируется от 110 до 180 тысяч - 91,39%\n",
    "\n",
    "Можно объяснить это так:\n",
    "* Те, чей доход превышает 180 тысяч рублей в месяц понимают риски взятия денег в кредит и это не влияет на их уровень жизни, просрочки связаны скорее всего с наличием нескольких крупных кредитов\n",
    "* Также те, чей доход меньше 110 тысяч имеют меньше пророчек, потому что планируют расходы, при взятии долга расчитывают, какую часть дохода им нужно будет возвращать, чем те, у кого доход находится в диапазоне от 110 до 180 тысяч, потому что они могут взять долг,не расчитав отношение долга к уровню дохода, пытаясь сохранить свой уровень жизни без долгов"
   ]
  },
  {
   "cell_type": "markdown",
   "metadata": {},
   "source": [
    "- **Как разные цели кредита влияют на его возврат в срок?**"
   ]
  },
  {
   "cell_type": "markdown",
   "metadata": {},
   "source": [
    "Для ответа на этот вопрос необходимо создать таблицу по категории целей, а также добавим столбцы с количеством возвратов кредита, невозвратом и рассчитаем соотношение возврата к общему числу:"
   ]
  },
  {
   "cell_type": "code",
   "execution_count": 96,
   "metadata": {},
   "outputs": [
    {
     "data": {
      "text/html": [
       "<div>\n",
       "<style scoped>\n",
       "    .dataframe tbody tr th:only-of-type {\n",
       "        vertical-align: middle;\n",
       "    }\n",
       "\n",
       "    .dataframe tbody tr th {\n",
       "        vertical-align: top;\n",
       "    }\n",
       "\n",
       "    .dataframe thead tr th {\n",
       "        text-align: left;\n",
       "    }\n",
       "\n",
       "    .dataframe thead tr:last-of-type th {\n",
       "        text-align: right;\n",
       "    }\n",
       "</style>\n",
       "<table border=\"1\" class=\"dataframe\">\n",
       "  <thead>\n",
       "    <tr>\n",
       "      <th></th>\n",
       "      <th colspan=\"2\" halign=\"left\">debt</th>\n",
       "      <th>returned_debt</th>\n",
       "      <th>ratio_debt</th>\n",
       "    </tr>\n",
       "    <tr>\n",
       "      <th></th>\n",
       "      <th>count</th>\n",
       "      <th>sum</th>\n",
       "      <th></th>\n",
       "      <th></th>\n",
       "    </tr>\n",
       "    <tr>\n",
       "      <th>purpose_category</th>\n",
       "      <th></th>\n",
       "      <th></th>\n",
       "      <th></th>\n",
       "      <th></th>\n",
       "    </tr>\n",
       "  </thead>\n",
       "  <tbody>\n",
       "    <tr>\n",
       "      <td>автомобиль</td>\n",
       "      <td>4306</td>\n",
       "      <td>403</td>\n",
       "      <td>3903</td>\n",
       "      <td>0.906410</td>\n",
       "    </tr>\n",
       "    <tr>\n",
       "      <td>недвижимость</td>\n",
       "      <td>10811</td>\n",
       "      <td>782</td>\n",
       "      <td>10029</td>\n",
       "      <td>0.927666</td>\n",
       "    </tr>\n",
       "    <tr>\n",
       "      <td>образование</td>\n",
       "      <td>4013</td>\n",
       "      <td>370</td>\n",
       "      <td>3643</td>\n",
       "      <td>0.907800</td>\n",
       "    </tr>\n",
       "    <tr>\n",
       "      <td>свадьба</td>\n",
       "      <td>2324</td>\n",
       "      <td>186</td>\n",
       "      <td>2138</td>\n",
       "      <td>0.919966</td>\n",
       "    </tr>\n",
       "  </tbody>\n",
       "</table>\n",
       "</div>"
      ],
      "text/plain": [
       "                   debt      returned_debt ratio_debt\n",
       "                  count  sum                         \n",
       "purpose_category                                     \n",
       "автомобиль         4306  403          3903   0.906410\n",
       "недвижимость      10811  782         10029   0.927666\n",
       "образование        4013  370          3643   0.907800\n",
       "свадьба            2324  186          2138   0.919966"
      ]
     },
     "metadata": {},
     "output_type": "display_data"
    }
   ],
   "source": [
    "df_4 = df.groupby(['purpose_category']).agg({'debt':['count','sum']})\n",
    "df_4['returned_debt'] = df_4['debt']['count'] - df_4['debt']['sum']\n",
    "df_4['ratio_debt'] = df_4['returned_debt']/df_4['debt']['count']\n",
    "display(df_4)"
   ]
  },
  {
   "cell_type": "markdown",
   "metadata": {},
   "source": [
    "**Вывод**"
   ]
  },
  {
   "cell_type": "markdown",
   "metadata": {},
   "source": [
    "Разные цели кредита влияют на его возврат в срок:\n",
    "1. Самый возвращаемый кредит (после проведения лемматизации мы также увидели, что и самый популярный) это категория недвижимости - 92,77%\n",
    "2. Далее идет свадьба - 92%\n",
    "3. На третьем месте образование с 90,78%\n",
    "4. Чуть меньше предыдущей категории автомобили - 90,64%\n",
    "\n",
    "Можно объснить следующими причинами:\n",
    "* Покупка недвижимости очень важный вопрос в жизни людей, чаще всего это ипотека на 25-30 лет, люди берут ее, понимая ответственноть и волнуясь за свое жилье, ведь при невыплате банк может выставить квартиру на торги, никто не хочет потерять (часто) свое единственное жилье.\n",
    "* Хороший процент возврата кредита на свадьбу связан с тем, что обычно это не очень большая сумма, также многие молодожены, возможно, гасят кредит после проведения мероприятия и получения денежных сумм в качестве подарка от родных и друзей.\n",
    "* Кредит на образование довольно тяжело выплатить, так как тяжело совмещать работу и учебу, поэтому много просрочек\n",
    "* Кредит на автомобиль предполагает повышения ежемесячных расходов помимо выплаты по кредиту (нужно сразу офомрить ОСАГО, возможно купить резину), траты на бензин, ремонт (если поддержанный автомобиль), поэтому эта категория с самым большим количеством задолженностей."
   ]
  },
  {
   "cell_type": "markdown",
   "metadata": {},
   "source": [
    "## Шаг 4. Общий вывод\n",
    "<a id='step_4'></a>"
   ]
  },
  {
   "cell_type": "markdown",
   "metadata": {},
   "source": [
    "Исходя из проанализированных данных, можно сделать вывод об идеальном заемщике:\n",
    "Это человек, не обремененный детьми, который потерял супруга, имеющий доход более 290 тысяч и который берет в кредит недвижимость.\n",
    "\n",
    "И также можно сформулировать критерии для заемщика, который, возможно, будет иметь просрочки по выданному кредиту: \n",
    "Человек не замужем/не женат, с доходом от 110 до 180 тысяч, берущий в кредит автомобиль (и, возможно, с 1 или 2 детьми).\n",
    "\n",
    "Общий вывод по категориям:\n",
    "1. Наличие 1-2 детей является фактором, который может препятствовать регулярной выплате кредита, так как в первую очередь нужно обеспечить всем необходимым именно детей.\n",
    "2. Люди, не состоящие в официальном браке или одинокие часто имеют просрочки из-за того, что у них либо меньше ответсвенность перед банком, либо нет опоры, кто бы мог им помочь.\n",
    "3. Если доход выше медианного, то выплачивать кредит намного проще, чем тем, кто имеет медианный доход (правда, там и количество кредитов выше), но и те, чей доход ниже медианного имеет меньше просрочек.\n",
    "4. Кредит на автомобиль самая рискованная категория (для банка), так как люди часто покупают его на \"последние\" деньги, не заботясь о сопутствующих расходах."
   ]
  }
 ],
 "metadata": {
  "ExecuteTimeLog": [
   {
    "duration": 80,
    "start_time": "2021-12-10T09:27:06.523Z"
   },
   {
    "duration": 640,
    "start_time": "2021-12-10T09:47:01.252Z"
   },
   {
    "duration": 55,
    "start_time": "2021-12-10T09:49:56.320Z"
   },
   {
    "duration": 21,
    "start_time": "2021-12-10T09:50:06.872Z"
   },
   {
    "duration": 76,
    "start_time": "2021-12-10T09:50:40.848Z"
   },
   {
    "duration": 11,
    "start_time": "2021-12-10T09:51:06.560Z"
   },
   {
    "duration": 19,
    "start_time": "2021-12-10T10:35:41.002Z"
   },
   {
    "duration": 17,
    "start_time": "2021-12-10T10:35:47.827Z"
   },
   {
    "duration": 99,
    "start_time": "2021-12-10T10:36:57.620Z"
   },
   {
    "duration": 711,
    "start_time": "2021-12-10T10:37:17.852Z"
   },
   {
    "duration": 83,
    "start_time": "2021-12-10T10:37:52.693Z"
   },
   {
    "duration": 4,
    "start_time": "2021-12-10T10:38:11.356Z"
   },
   {
    "duration": 4,
    "start_time": "2021-12-10T10:38:32.204Z"
   },
   {
    "duration": 5,
    "start_time": "2021-12-10T10:38:54.293Z"
   },
   {
    "duration": 4,
    "start_time": "2021-12-10T10:40:19.093Z"
   },
   {
    "duration": 5,
    "start_time": "2021-12-10T10:42:42.468Z"
   },
   {
    "duration": 440,
    "start_time": "2021-12-10T10:44:01.223Z"
   },
   {
    "duration": 5,
    "start_time": "2021-12-10T10:44:13.118Z"
   },
   {
    "duration": 5,
    "start_time": "2021-12-10T10:44:52.383Z"
   },
   {
    "duration": 277,
    "start_time": "2021-12-10T10:45:04.199Z"
   },
   {
    "duration": 5,
    "start_time": "2021-12-10T10:45:08.687Z"
   },
   {
    "duration": 4,
    "start_time": "2021-12-10T10:51:12.570Z"
   },
   {
    "duration": 4,
    "start_time": "2021-12-10T10:58:14.445Z"
   },
   {
    "duration": 5,
    "start_time": "2021-12-10T10:58:49.277Z"
   },
   {
    "duration": 5,
    "start_time": "2021-12-10T10:59:44.637Z"
   },
   {
    "duration": 4,
    "start_time": "2021-12-10T11:00:04.078Z"
   },
   {
    "duration": 5,
    "start_time": "2021-12-10T11:01:13.065Z"
   },
   {
    "duration": 4,
    "start_time": "2021-12-10T11:10:57.409Z"
   },
   {
    "duration": 5,
    "start_time": "2021-12-10T11:11:21.666Z"
   },
   {
    "duration": 6,
    "start_time": "2021-12-10T11:12:42.802Z"
   },
   {
    "duration": 12,
    "start_time": "2021-12-10T11:38:58.429Z"
   },
   {
    "duration": 92,
    "start_time": "2021-12-10T12:13:30.346Z"
   },
   {
    "duration": 4,
    "start_time": "2021-12-10T12:13:38.298Z"
   },
   {
    "duration": 237,
    "start_time": "2021-12-10T12:13:39.627Z"
   },
   {
    "duration": 227,
    "start_time": "2021-12-10T12:15:51.499Z"
   },
   {
    "duration": 621,
    "start_time": "2021-12-10T12:16:00.107Z"
   },
   {
    "duration": 80,
    "start_time": "2021-12-10T12:17:02.755Z"
   },
   {
    "duration": 4,
    "start_time": "2021-12-10T12:17:13.132Z"
   },
   {
    "duration": 496,
    "start_time": "2021-12-10T12:17:14.964Z"
   },
   {
    "duration": 253,
    "start_time": "2021-12-10T12:17:20.547Z"
   },
   {
    "duration": 248,
    "start_time": "2021-12-10T12:17:31.117Z"
   },
   {
    "duration": 15,
    "start_time": "2021-12-10T12:17:32.395Z"
   },
   {
    "duration": 646,
    "start_time": "2021-12-10T12:17:58.158Z"
   },
   {
    "duration": 55,
    "start_time": "2021-12-10T12:17:59.428Z"
   },
   {
    "duration": 22,
    "start_time": "2021-12-10T12:18:00.716Z"
   },
   {
    "duration": 12,
    "start_time": "2021-12-10T12:18:04.051Z"
   },
   {
    "duration": 4,
    "start_time": "2021-12-10T12:18:08.004Z"
   },
   {
    "duration": 5,
    "start_time": "2021-12-10T12:18:09.612Z"
   },
   {
    "duration": 5,
    "start_time": "2021-12-10T12:18:10.635Z"
   },
   {
    "duration": 5,
    "start_time": "2021-12-10T12:18:11.483Z"
   },
   {
    "duration": 4,
    "start_time": "2021-12-10T12:18:12.284Z"
   },
   {
    "duration": 5,
    "start_time": "2021-12-10T12:18:13.188Z"
   },
   {
    "duration": 5,
    "start_time": "2021-12-10T12:18:15.027Z"
   },
   {
    "duration": 5,
    "start_time": "2021-12-10T12:18:15.892Z"
   },
   {
    "duration": 5,
    "start_time": "2021-12-10T12:18:16.955Z"
   },
   {
    "duration": 4,
    "start_time": "2021-12-10T12:18:17.828Z"
   },
   {
    "duration": 5,
    "start_time": "2021-12-10T12:18:18.868Z"
   },
   {
    "duration": 6,
    "start_time": "2021-12-10T12:18:20.764Z"
   },
   {
    "duration": 9,
    "start_time": "2021-12-10T12:18:23.948Z"
   },
   {
    "duration": 4,
    "start_time": "2021-12-10T12:18:26.700Z"
   },
   {
    "duration": 226,
    "start_time": "2021-12-10T12:18:28.435Z"
   },
   {
    "duration": 13,
    "start_time": "2021-12-10T12:18:29.396Z"
   },
   {
    "duration": 21,
    "start_time": "2021-12-10T12:18:54.332Z"
   },
   {
    "duration": 13,
    "start_time": "2021-12-10T12:19:05.133Z"
   },
   {
    "duration": 12,
    "start_time": "2021-12-10T12:19:15.052Z"
   },
   {
    "duration": 22,
    "start_time": "2021-12-10T12:19:22.492Z"
   },
   {
    "duration": 7,
    "start_time": "2021-12-10T12:21:56.302Z"
   },
   {
    "duration": 7,
    "start_time": "2021-12-10T12:22:27.805Z"
   },
   {
    "duration": 8,
    "start_time": "2021-12-10T12:23:02.368Z"
   },
   {
    "duration": 8,
    "start_time": "2021-12-10T12:23:21.822Z"
   },
   {
    "duration": 302,
    "start_time": "2021-12-10T12:24:31.326Z"
   },
   {
    "duration": 57,
    "start_time": "2021-12-10T12:24:39.503Z"
   },
   {
    "duration": 193,
    "start_time": "2021-12-10T12:24:59.670Z"
   },
   {
    "duration": 7,
    "start_time": "2021-12-10T12:25:24.823Z"
   },
   {
    "duration": 122,
    "start_time": "2021-12-10T12:25:37.703Z"
   },
   {
    "duration": 4,
    "start_time": "2021-12-10T12:54:07.427Z"
   },
   {
    "duration": 5,
    "start_time": "2021-12-10T12:54:29.122Z"
   },
   {
    "duration": 5,
    "start_time": "2021-12-10T12:54:38.196Z"
   },
   {
    "duration": 19,
    "start_time": "2021-12-10T13:09:18.538Z"
   },
   {
    "duration": 1168,
    "start_time": "2021-12-10T13:45:54.807Z"
   },
   {
    "duration": 554,
    "start_time": "2021-12-10T13:47:39.112Z"
   },
   {
    "duration": 263,
    "start_time": "2021-12-10T13:50:13.969Z"
   },
   {
    "duration": 11,
    "start_time": "2021-12-10T13:52:16.835Z"
   },
   {
    "duration": 52,
    "start_time": "2021-12-10T13:52:26.892Z"
   },
   {
    "duration": 591,
    "start_time": "2021-12-10T13:53:06.516Z"
   },
   {
    "duration": 53,
    "start_time": "2021-12-10T13:53:07.451Z"
   },
   {
    "duration": 21,
    "start_time": "2021-12-10T13:53:08.235Z"
   },
   {
    "duration": 13,
    "start_time": "2021-12-10T13:53:11.805Z"
   },
   {
    "duration": 4,
    "start_time": "2021-12-10T13:53:15.645Z"
   },
   {
    "duration": 5,
    "start_time": "2021-12-10T13:53:16.884Z"
   },
   {
    "duration": 4,
    "start_time": "2021-12-10T13:53:18.636Z"
   },
   {
    "duration": 4,
    "start_time": "2021-12-10T13:53:19.551Z"
   },
   {
    "duration": 4,
    "start_time": "2021-12-10T13:53:20.483Z"
   },
   {
    "duration": 5,
    "start_time": "2021-12-10T13:53:22.508Z"
   },
   {
    "duration": 4,
    "start_time": "2021-12-10T13:53:23.652Z"
   },
   {
    "duration": 4,
    "start_time": "2021-12-10T13:53:24.828Z"
   },
   {
    "duration": 5,
    "start_time": "2021-12-10T13:53:25.541Z"
   },
   {
    "duration": 4,
    "start_time": "2021-12-10T13:53:26.084Z"
   },
   {
    "duration": 4,
    "start_time": "2021-12-10T13:53:26.573Z"
   },
   {
    "duration": 24,
    "start_time": "2021-12-10T13:53:28.427Z"
   },
   {
    "duration": 8,
    "start_time": "2021-12-10T13:53:33.862Z"
   },
   {
    "duration": 668,
    "start_time": "2021-12-10T13:53:38.293Z"
   },
   {
    "duration": 142,
    "start_time": "2021-12-10T13:53:49.205Z"
   },
   {
    "duration": 150,
    "start_time": "2021-12-10T13:54:23.430Z"
   },
   {
    "duration": 139,
    "start_time": "2021-12-10T13:54:36.609Z"
   },
   {
    "duration": 10,
    "start_time": "2021-12-10T13:54:44.032Z"
   },
   {
    "duration": 3,
    "start_time": "2021-12-10T13:54:48.892Z"
   },
   {
    "duration": 218,
    "start_time": "2021-12-10T13:54:50.086Z"
   },
   {
    "duration": 13,
    "start_time": "2021-12-10T13:54:51.124Z"
   },
   {
    "duration": 50,
    "start_time": "2021-12-10T13:55:04.153Z"
   },
   {
    "duration": 4,
    "start_time": "2021-12-10T13:55:07.725Z"
   },
   {
    "duration": 11,
    "start_time": "2021-12-10T13:55:12.909Z"
   },
   {
    "duration": 50,
    "start_time": "2021-12-10T13:55:13.960Z"
   },
   {
    "duration": 6,
    "start_time": "2021-12-10T13:55:55.914Z"
   },
   {
    "duration": 6,
    "start_time": "2021-12-10T13:56:07.669Z"
   },
   {
    "duration": 54,
    "start_time": "2021-12-10T13:56:36.791Z"
   },
   {
    "duration": 11,
    "start_time": "2021-12-10T13:56:47.822Z"
   },
   {
    "duration": 52,
    "start_time": "2021-12-10T13:56:49.097Z"
   },
   {
    "duration": 50508,
    "start_time": "2021-12-10T13:57:46.039Z"
   },
   {
    "duration": 689,
    "start_time": "2021-12-10T13:58:35.862Z"
   },
   {
    "duration": 687,
    "start_time": "2021-12-10T13:58:35.864Z"
   },
   {
    "duration": 3,
    "start_time": "2021-12-10T13:59:16.104Z"
   },
   {
    "duration": 54833,
    "start_time": "2021-12-10T13:59:20.176Z"
   },
   {
    "duration": 702,
    "start_time": "2021-12-10T14:00:14.310Z"
   },
   {
    "duration": 55,
    "start_time": "2021-12-10T14:01:50.212Z"
   },
   {
    "duration": 33,
    "start_time": "2021-12-10T14:06:50.132Z"
   },
   {
    "duration": 279,
    "start_time": "2021-12-10T14:07:01.044Z"
   },
   {
    "duration": 32,
    "start_time": "2021-12-10T14:07:10.452Z"
   },
   {
    "duration": 7,
    "start_time": "2021-12-10T14:09:23.229Z"
   },
   {
    "duration": 8,
    "start_time": "2021-12-10T14:09:40.237Z"
   },
   {
    "duration": 1214,
    "start_time": "2021-12-10T14:12:53.974Z"
   },
   {
    "duration": 53,
    "start_time": "2021-12-10T14:12:58.205Z"
   },
   {
    "duration": 6,
    "start_time": "2021-12-10T14:22:52.451Z"
   },
   {
    "duration": 53,
    "start_time": "2021-12-10T14:36:06.621Z"
   },
   {
    "duration": 89,
    "start_time": "2021-12-10T14:36:51.006Z"
   },
   {
    "duration": 5932,
    "start_time": "2021-12-10T14:38:15.250Z"
   },
   {
    "duration": 5,
    "start_time": "2021-12-10T14:39:13.071Z"
   },
   {
    "duration": 5,
    "start_time": "2021-12-10T14:40:56.919Z"
   },
   {
    "duration": 122,
    "start_time": "2021-12-10T14:47:39.842Z"
   },
   {
    "duration": 5,
    "start_time": "2021-12-10T14:48:35.986Z"
   },
   {
    "duration": 466,
    "start_time": "2021-12-10T14:49:39.570Z"
   },
   {
    "duration": 5,
    "start_time": "2021-12-10T14:49:52.554Z"
   },
   {
    "duration": 14,
    "start_time": "2021-12-10T14:50:42.955Z"
   },
   {
    "duration": 20,
    "start_time": "2021-12-10T14:51:03.195Z"
   },
   {
    "duration": 20,
    "start_time": "2021-12-10T14:52:12.506Z"
   },
   {
    "duration": 537,
    "start_time": "2021-12-10T14:55:27.005Z"
   },
   {
    "duration": 54,
    "start_time": "2021-12-10T14:55:28.389Z"
   },
   {
    "duration": 21,
    "start_time": "2021-12-10T14:55:29.582Z"
   },
   {
    "duration": 12,
    "start_time": "2021-12-10T14:55:38.205Z"
   },
   {
    "duration": 4,
    "start_time": "2021-12-10T14:55:41.229Z"
   },
   {
    "duration": 5,
    "start_time": "2021-12-10T14:55:42.533Z"
   },
   {
    "duration": 4,
    "start_time": "2021-12-10T14:55:43.669Z"
   },
   {
    "duration": 4,
    "start_time": "2021-12-10T14:55:44.925Z"
   },
   {
    "duration": 4,
    "start_time": "2021-12-10T14:55:47.614Z"
   },
   {
    "duration": 5,
    "start_time": "2021-12-10T14:55:48.869Z"
   },
   {
    "duration": 4,
    "start_time": "2021-12-10T14:55:50.462Z"
   },
   {
    "duration": 5,
    "start_time": "2021-12-10T14:55:51.381Z"
   },
   {
    "duration": 5,
    "start_time": "2021-12-10T14:55:52.509Z"
   },
   {
    "duration": 4,
    "start_time": "2021-12-10T14:55:54.205Z"
   },
   {
    "duration": 5,
    "start_time": "2021-12-10T14:55:55.358Z"
   },
   {
    "duration": 18,
    "start_time": "2021-12-10T14:55:56.893Z"
   },
   {
    "duration": 301,
    "start_time": "2021-12-10T14:56:00.814Z"
   },
   {
    "duration": 153,
    "start_time": "2021-12-10T14:56:13.685Z"
   },
   {
    "duration": 22,
    "start_time": "2021-12-10T14:56:20.837Z"
   },
   {
    "duration": 22,
    "start_time": "2021-12-10T14:57:04.071Z"
   },
   {
    "duration": 9,
    "start_time": "2021-12-10T14:57:41.558Z"
   },
   {
    "duration": 4,
    "start_time": "2021-12-10T14:57:44.126Z"
   },
   {
    "duration": 226,
    "start_time": "2021-12-10T14:57:47.462Z"
   },
   {
    "duration": 14,
    "start_time": "2021-12-10T14:57:49.079Z"
   },
   {
    "duration": 4,
    "start_time": "2021-12-10T14:57:52.935Z"
   },
   {
    "duration": 5,
    "start_time": "2021-12-10T14:57:57.166Z"
   },
   {
    "duration": 21,
    "start_time": "2021-12-10T14:58:20.072Z"
   },
   {
    "duration": 23,
    "start_time": "2021-12-10T14:58:27.112Z"
   },
   {
    "duration": 1233,
    "start_time": "2021-12-10T15:02:21.048Z"
   },
   {
    "duration": 5,
    "start_time": "2021-12-10T15:02:22.640Z"
   },
   {
    "duration": 8,
    "start_time": "2021-12-10T15:09:18.379Z"
   },
   {
    "duration": 51,
    "start_time": "2021-12-10T15:09:33.244Z"
   },
   {
    "duration": 9,
    "start_time": "2021-12-10T15:10:27.348Z"
   },
   {
    "duration": 10,
    "start_time": "2021-12-10T15:10:46.667Z"
   },
   {
    "duration": 7,
    "start_time": "2021-12-10T15:11:31.148Z"
   },
   {
    "duration": 53,
    "start_time": "2021-12-10T15:11:32.294Z"
   },
   {
    "duration": 9,
    "start_time": "2021-12-10T15:11:40.869Z"
   },
   {
    "duration": 12,
    "start_time": "2021-12-10T15:13:14.069Z"
   },
   {
    "duration": 8,
    "start_time": "2021-12-10T15:13:45.805Z"
   },
   {
    "duration": 55,
    "start_time": "2021-12-10T15:13:47.032Z"
   },
   {
    "duration": 9,
    "start_time": "2021-12-10T15:13:49.356Z"
   },
   {
    "duration": 11,
    "start_time": "2021-12-10T15:13:51.237Z"
   },
   {
    "duration": 704,
    "start_time": "2021-12-10T15:15:30.238Z"
   },
   {
    "duration": 53,
    "start_time": "2021-12-10T15:15:31.301Z"
   },
   {
    "duration": 22,
    "start_time": "2021-12-10T15:15:32.629Z"
   },
   {
    "duration": 12,
    "start_time": "2021-12-10T15:15:36.477Z"
   },
   {
    "duration": 332,
    "start_time": "2021-12-10T15:15:46.213Z"
   },
   {
    "duration": 142,
    "start_time": "2021-12-10T15:15:48.525Z"
   },
   {
    "duration": 11,
    "start_time": "2021-12-10T15:18:07.461Z"
   },
   {
    "duration": 23,
    "start_time": "2021-12-10T15:18:17.567Z"
   },
   {
    "duration": 9,
    "start_time": "2021-12-10T15:18:31.166Z"
   },
   {
    "duration": 4,
    "start_time": "2021-12-10T15:18:33.054Z"
   },
   {
    "duration": 218,
    "start_time": "2021-12-10T15:18:34.382Z"
   },
   {
    "duration": 13,
    "start_time": "2021-12-10T15:18:35.742Z"
   },
   {
    "duration": 22,
    "start_time": "2021-12-10T15:18:43.045Z"
   },
   {
    "duration": 24,
    "start_time": "2021-12-10T15:18:50.190Z"
   },
   {
    "duration": 1213,
    "start_time": "2021-12-10T15:19:20.054Z"
   },
   {
    "duration": 5,
    "start_time": "2021-12-10T15:19:21.382Z"
   },
   {
    "duration": 8,
    "start_time": "2021-12-10T15:19:24.703Z"
   },
   {
    "duration": 109,
    "start_time": "2021-12-10T15:19:32.473Z"
   },
   {
    "duration": 7,
    "start_time": "2021-12-10T15:19:52.263Z"
   },
   {
    "duration": 121,
    "start_time": "2021-12-10T15:19:53.742Z"
   },
   {
    "duration": 9,
    "start_time": "2021-12-10T15:19:58.999Z"
   },
   {
    "duration": 11,
    "start_time": "2021-12-10T15:20:09.638Z"
   },
   {
    "duration": 4,
    "start_time": "2021-12-10T15:33:06.235Z"
   },
   {
    "duration": 5,
    "start_time": "2021-12-10T15:33:10.699Z"
   },
   {
    "duration": 6,
    "start_time": "2021-12-10T15:34:17.971Z"
   },
   {
    "duration": 4,
    "start_time": "2021-12-10T15:34:42.508Z"
   },
   {
    "duration": 178,
    "start_time": "2021-12-10T15:37:24.596Z"
   },
   {
    "duration": 10,
    "start_time": "2021-12-10T15:37:48.063Z"
   },
   {
    "duration": 10,
    "start_time": "2021-12-10T15:38:43.093Z"
   },
   {
    "duration": 10,
    "start_time": "2021-12-10T15:39:10.886Z"
   },
   {
    "duration": 11,
    "start_time": "2021-12-10T15:40:02.172Z"
   },
   {
    "duration": 4,
    "start_time": "2021-12-10T15:43:05.399Z"
   },
   {
    "duration": 9,
    "start_time": "2021-12-10T15:44:07.928Z"
   },
   {
    "duration": 9,
    "start_time": "2021-12-10T15:44:27.479Z"
   },
   {
    "duration": 5,
    "start_time": "2021-12-10T15:45:15.838Z"
   },
   {
    "duration": 6,
    "start_time": "2021-12-10T15:45:46.904Z"
   },
   {
    "duration": 5,
    "start_time": "2021-12-10T15:45:57.280Z"
   },
   {
    "duration": 5,
    "start_time": "2021-12-10T15:46:17.200Z"
   },
   {
    "duration": 17,
    "start_time": "2021-12-10T15:46:51.072Z"
   },
   {
    "duration": 19,
    "start_time": "2021-12-10T15:47:08.672Z"
   },
   {
    "duration": 6,
    "start_time": "2021-12-10T16:32:00.352Z"
   },
   {
    "duration": 4,
    "start_time": "2021-12-10T16:32:45.769Z"
   },
   {
    "duration": 4,
    "start_time": "2021-12-10T16:33:12.746Z"
   },
   {
    "duration": 80,
    "start_time": "2021-12-10T16:40:36.789Z"
   },
   {
    "duration": 21,
    "start_time": "2021-12-10T16:40:45.796Z"
   },
   {
    "duration": 72,
    "start_time": "2021-12-10T16:41:15.661Z"
   },
   {
    "duration": 6,
    "start_time": "2021-12-10T16:41:55.912Z"
   },
   {
    "duration": 7,
    "start_time": "2021-12-10T16:42:36.749Z"
   },
   {
    "duration": 234,
    "start_time": "2021-12-10T16:56:25.155Z"
   },
   {
    "duration": 5,
    "start_time": "2021-12-10T16:56:36.595Z"
   },
   {
    "duration": 115,
    "start_time": "2021-12-10T16:56:38.467Z"
   },
   {
    "duration": 12,
    "start_time": "2021-12-10T16:57:12.866Z"
   },
   {
    "duration": 17,
    "start_time": "2021-12-10T17:05:04.798Z"
   },
   {
    "duration": 23,
    "start_time": "2021-12-10T17:06:25.184Z"
   },
   {
    "duration": 34,
    "start_time": "2021-12-10T17:06:30.768Z"
   },
   {
    "duration": 15,
    "start_time": "2021-12-10T17:08:48.128Z"
   },
   {
    "duration": 20,
    "start_time": "2021-12-10T17:08:49.568Z"
   },
   {
    "duration": 18,
    "start_time": "2021-12-10T17:08:53.946Z"
   },
   {
    "duration": 233,
    "start_time": "2021-12-10T17:21:32.421Z"
   },
   {
    "duration": 7,
    "start_time": "2021-12-10T17:21:35.213Z"
   },
   {
    "duration": 237,
    "start_time": "2021-12-10T17:21:35.957Z"
   },
   {
    "duration": 19,
    "start_time": "2021-12-10T17:24:51.711Z"
   },
   {
    "duration": 285,
    "start_time": "2021-12-10T17:25:34.656Z"
   },
   {
    "duration": 18,
    "start_time": "2021-12-10T17:27:05.201Z"
   },
   {
    "duration": 17,
    "start_time": "2021-12-10T17:27:20.329Z"
   },
   {
    "duration": 16,
    "start_time": "2021-12-10T17:27:26.192Z"
   },
   {
    "duration": 715,
    "start_time": "2021-12-10T17:28:51.994Z"
   },
   {
    "duration": 4,
    "start_time": "2021-12-10T17:29:07.330Z"
   },
   {
    "duration": 4,
    "start_time": "2021-12-10T18:47:49.932Z"
   },
   {
    "duration": 359,
    "start_time": "2021-12-10T18:47:51.060Z"
   },
   {
    "duration": 23,
    "start_time": "2021-12-10T18:47:51.764Z"
   },
   {
    "duration": 17,
    "start_time": "2021-12-10T18:48:14.277Z"
   },
   {
    "duration": 16,
    "start_time": "2021-12-10T18:48:55.197Z"
   },
   {
    "duration": 4,
    "start_time": "2021-12-10T19:06:37.042Z"
   },
   {
    "duration": 217,
    "start_time": "2021-12-10T19:06:38.146Z"
   },
   {
    "duration": 5,
    "start_time": "2021-12-10T19:06:40.161Z"
   },
   {
    "duration": 23,
    "start_time": "2021-12-10T19:06:47.738Z"
   },
   {
    "duration": 60,
    "start_time": "2021-12-10T19:07:13.986Z"
   },
   {
    "duration": 4,
    "start_time": "2021-12-10T19:07:30.305Z"
   },
   {
    "duration": 231,
    "start_time": "2021-12-10T19:07:31.483Z"
   },
   {
    "duration": 14,
    "start_time": "2021-12-10T19:07:32.588Z"
   },
   {
    "duration": 5,
    "start_time": "2021-12-10T19:07:38.194Z"
   },
   {
    "duration": 61,
    "start_time": "2021-12-10T19:07:40.652Z"
   },
   {
    "duration": 562,
    "start_time": "2021-12-10T19:08:39.085Z"
   },
   {
    "duration": 69,
    "start_time": "2021-12-10T19:08:40.261Z"
   },
   {
    "duration": 21,
    "start_time": "2021-12-10T19:08:41.305Z"
   },
   {
    "duration": 17,
    "start_time": "2021-12-10T19:08:45.550Z"
   },
   {
    "duration": 1023,
    "start_time": "2021-12-10T19:08:54.102Z"
   },
   {
    "duration": 10,
    "start_time": "2021-12-10T19:09:06.685Z"
   },
   {
    "duration": 5,
    "start_time": "2021-12-10T19:09:09.045Z"
   },
   {
    "duration": 349,
    "start_time": "2021-12-10T19:09:10.005Z"
   },
   {
    "duration": 12,
    "start_time": "2021-12-10T19:09:11.701Z"
   },
   {
    "duration": 22,
    "start_time": "2021-12-10T19:09:15.101Z"
   },
   {
    "duration": 1249,
    "start_time": "2021-12-10T19:09:21.933Z"
   },
   {
    "duration": 5,
    "start_time": "2021-12-10T19:09:23.184Z"
   },
   {
    "duration": 11,
    "start_time": "2021-12-10T19:09:26.132Z"
   },
   {
    "duration": 7,
    "start_time": "2021-12-10T19:09:28.581Z"
   },
   {
    "duration": 7,
    "start_time": "2021-12-10T19:09:29.757Z"
   },
   {
    "duration": 11,
    "start_time": "2021-12-10T19:09:30.829Z"
   },
   {
    "duration": 14,
    "start_time": "2021-12-10T19:09:37.989Z"
   },
   {
    "duration": 6,
    "start_time": "2021-12-10T19:09:46.302Z"
   },
   {
    "duration": 5,
    "start_time": "2021-12-10T19:09:47.877Z"
   },
   {
    "duration": 5,
    "start_time": "2021-12-10T19:09:49.133Z"
   },
   {
    "duration": 22,
    "start_time": "2021-12-10T19:09:50.885Z"
   },
   {
    "duration": 6,
    "start_time": "2021-12-10T19:09:51.949Z"
   },
   {
    "duration": 10,
    "start_time": "2021-12-10T19:09:52.950Z"
   },
   {
    "duration": 5,
    "start_time": "2021-12-10T19:09:59.494Z"
   },
   {
    "duration": 13,
    "start_time": "2021-12-10T19:10:00.830Z"
   },
   {
    "duration": 16,
    "start_time": "2021-12-10T19:10:04.326Z"
   },
   {
    "duration": 20,
    "start_time": "2021-12-10T19:10:05.509Z"
   },
   {
    "duration": 16,
    "start_time": "2021-12-10T19:10:06.541Z"
   },
   {
    "duration": 15,
    "start_time": "2021-12-10T19:10:09.125Z"
   },
   {
    "duration": 17,
    "start_time": "2021-12-10T19:10:11.454Z"
   },
   {
    "duration": 17,
    "start_time": "2021-12-10T19:10:13.333Z"
   },
   {
    "duration": 640,
    "start_time": "2021-12-10T19:10:14.772Z"
   },
   {
    "duration": 3,
    "start_time": "2021-12-10T19:10:17.325Z"
   },
   {
    "duration": 3,
    "start_time": "2021-12-10T19:10:20.270Z"
   },
   {
    "duration": 214,
    "start_time": "2021-12-10T19:10:21.277Z"
   },
   {
    "duration": 21,
    "start_time": "2021-12-10T19:10:23.365Z"
   },
   {
    "duration": 16,
    "start_time": "2021-12-10T19:10:26.510Z"
   },
   {
    "duration": 3,
    "start_time": "2021-12-10T19:10:28.597Z"
   },
   {
    "duration": 209,
    "start_time": "2021-12-10T19:10:29.884Z"
   },
   {
    "duration": 15,
    "start_time": "2021-12-10T19:10:31.229Z"
   },
   {
    "duration": 6,
    "start_time": "2021-12-10T19:10:34.837Z"
   },
   {
    "duration": 61,
    "start_time": "2021-12-10T19:10:35.953Z"
   },
   {
    "duration": 4,
    "start_time": "2021-12-10T19:11:22.438Z"
   },
   {
    "duration": 347,
    "start_time": "2021-12-10T19:11:23.502Z"
   },
   {
    "duration": 19,
    "start_time": "2021-12-10T19:11:24.382Z"
   },
   {
    "duration": 5,
    "start_time": "2021-12-10T19:11:26.341Z"
   },
   {
    "duration": 59,
    "start_time": "2021-12-10T19:11:31.769Z"
   },
   {
    "duration": 96,
    "start_time": "2021-12-10T19:11:54.513Z"
   },
   {
    "duration": 9,
    "start_time": "2021-12-10T19:33:13.544Z"
   },
   {
    "duration": 3,
    "start_time": "2021-12-10T19:41:01.188Z"
   },
   {
    "duration": 207,
    "start_time": "2021-12-10T19:41:02.516Z"
   },
   {
    "duration": 15,
    "start_time": "2021-12-10T19:41:03.676Z"
   },
   {
    "duration": 6,
    "start_time": "2021-12-10T19:41:08.931Z"
   },
   {
    "duration": 63,
    "start_time": "2021-12-10T19:41:19.005Z"
   },
   {
    "duration": 11,
    "start_time": "2021-12-10T19:44:59.561Z"
   },
   {
    "duration": 8,
    "start_time": "2021-12-10T19:45:54.241Z"
   },
   {
    "duration": 17,
    "start_time": "2021-12-10T19:46:22.954Z"
   },
   {
    "duration": 3,
    "start_time": "2021-12-10T19:46:55.290Z"
   },
   {
    "duration": 219,
    "start_time": "2021-12-10T19:46:56.818Z"
   },
   {
    "duration": 13,
    "start_time": "2021-12-10T19:46:58.018Z"
   },
   {
    "duration": 7,
    "start_time": "2021-12-10T19:47:01.299Z"
   },
   {
    "duration": 3,
    "start_time": "2021-12-10T19:47:40.724Z"
   },
   {
    "duration": 210,
    "start_time": "2021-12-10T19:47:41.603Z"
   },
   {
    "duration": 14,
    "start_time": "2021-12-10T19:47:42.506Z"
   },
   {
    "duration": 9,
    "start_time": "2021-12-10T19:47:44.939Z"
   },
   {
    "duration": 65,
    "start_time": "2021-12-10T19:47:51.743Z"
   },
   {
    "duration": 4,
    "start_time": "2021-12-10T19:48:44.211Z"
   },
   {
    "duration": 208,
    "start_time": "2021-12-10T19:48:45.627Z"
   },
   {
    "duration": 13,
    "start_time": "2021-12-10T19:48:46.522Z"
   },
   {
    "duration": 7,
    "start_time": "2021-12-10T19:48:48.051Z"
   },
   {
    "duration": 5,
    "start_time": "2021-12-10T19:49:53.348Z"
   },
   {
    "duration": 3,
    "start_time": "2021-12-10T19:55:48.034Z"
   },
   {
    "duration": 206,
    "start_time": "2021-12-10T19:55:49.019Z"
   },
   {
    "duration": 13,
    "start_time": "2021-12-10T19:55:50.154Z"
   },
   {
    "duration": 8,
    "start_time": "2021-12-10T19:55:52.193Z"
   },
   {
    "duration": 14,
    "start_time": "2021-12-10T20:09:49.674Z"
   },
   {
    "duration": 77,
    "start_time": "2021-12-10T20:13:23.714Z"
   },
   {
    "duration": 274,
    "start_time": "2021-12-10T20:13:32.339Z"
   },
   {
    "duration": 14,
    "start_time": "2021-12-10T20:13:41.554Z"
   },
   {
    "duration": 18,
    "start_time": "2021-12-10T20:15:12.707Z"
   },
   {
    "duration": 23,
    "start_time": "2021-12-10T20:21:22.110Z"
   },
   {
    "duration": 6007,
    "start_time": "2021-12-10T20:22:38.119Z"
   },
   {
    "duration": 6958,
    "start_time": "2021-12-10T20:23:09.176Z"
   },
   {
    "duration": 23,
    "start_time": "2021-12-10T20:23:23.904Z"
   },
   {
    "duration": 11,
    "start_time": "2021-12-10T20:26:14.038Z"
   },
   {
    "duration": 9,
    "start_time": "2021-12-10T20:26:43.705Z"
   },
   {
    "duration": 10,
    "start_time": "2021-12-10T20:26:49.952Z"
   },
   {
    "duration": 13,
    "start_time": "2021-12-10T20:27:48.546Z"
   },
   {
    "duration": 6846,
    "start_time": "2021-12-10T20:28:55.842Z"
   },
   {
    "duration": 12,
    "start_time": "2021-12-10T20:29:09.307Z"
   },
   {
    "duration": 19,
    "start_time": "2021-12-10T20:29:25.794Z"
   },
   {
    "duration": 15,
    "start_time": "2021-12-10T20:29:52.098Z"
   },
   {
    "duration": 19,
    "start_time": "2021-12-10T20:31:18.794Z"
   },
   {
    "duration": 18,
    "start_time": "2021-12-10T20:40:18.718Z"
   },
   {
    "duration": 17,
    "start_time": "2021-12-10T20:54:54.230Z"
   },
   {
    "duration": 17,
    "start_time": "2021-12-10T20:58:36.905Z"
   },
   {
    "duration": 659,
    "start_time": "2021-12-11T09:32:48.676Z"
   },
   {
    "duration": 50,
    "start_time": "2021-12-11T09:32:49.837Z"
   },
   {
    "duration": 21,
    "start_time": "2021-12-11T09:32:50.926Z"
   },
   {
    "duration": 11,
    "start_time": "2021-12-11T09:35:49.366Z"
   },
   {
    "duration": 4,
    "start_time": "2021-12-11T09:36:58.070Z"
   },
   {
    "duration": 4,
    "start_time": "2021-12-11T09:37:02.903Z"
   },
   {
    "duration": 5,
    "start_time": "2021-12-11T09:37:13.231Z"
   },
   {
    "duration": 4,
    "start_time": "2021-12-11T09:37:15.815Z"
   },
   {
    "duration": 3,
    "start_time": "2021-12-11T09:37:18.782Z"
   },
   {
    "duration": 5,
    "start_time": "2021-12-11T09:37:21.519Z"
   },
   {
    "duration": 4,
    "start_time": "2021-12-11T09:37:24.014Z"
   },
   {
    "duration": 5,
    "start_time": "2021-12-11T09:37:27.654Z"
   },
   {
    "duration": 4,
    "start_time": "2021-12-11T09:37:36.943Z"
   },
   {
    "duration": 4,
    "start_time": "2021-12-11T09:37:40.430Z"
   },
   {
    "duration": 4,
    "start_time": "2021-12-11T09:37:41.655Z"
   },
   {
    "duration": 23,
    "start_time": "2021-12-11T09:37:43.215Z"
   },
   {
    "duration": 461,
    "start_time": "2021-12-11T09:40:42.649Z"
   },
   {
    "duration": 16,
    "start_time": "2021-12-11T09:42:54.034Z"
   },
   {
    "duration": 14,
    "start_time": "2021-12-11T09:43:21.930Z"
   },
   {
    "duration": 3,
    "start_time": "2021-12-11T09:43:34.543Z"
   },
   {
    "duration": 4,
    "start_time": "2021-12-11T09:55:39.093Z"
   },
   {
    "duration": 247,
    "start_time": "2021-12-11T09:55:46.429Z"
   },
   {
    "duration": 13,
    "start_time": "2021-12-11T09:55:48.220Z"
   },
   {
    "duration": 3,
    "start_time": "2021-12-11T09:57:47.159Z"
   },
   {
    "duration": 1245,
    "start_time": "2021-12-11T10:00:51.719Z"
   },
   {
    "duration": 5,
    "start_time": "2021-12-11T10:00:53.624Z"
   },
   {
    "duration": 11,
    "start_time": "2021-12-11T10:01:07.816Z"
   },
   {
    "duration": 7,
    "start_time": "2021-12-11T10:01:14.368Z"
   },
   {
    "duration": 7,
    "start_time": "2021-12-11T10:01:15.824Z"
   },
   {
    "duration": 11,
    "start_time": "2021-12-11T10:01:17.160Z"
   },
   {
    "duration": 9,
    "start_time": "2021-12-11T10:01:23.279Z"
   },
   {
    "duration": 9,
    "start_time": "2021-12-11T10:03:58.535Z"
   },
   {
    "duration": 7,
    "start_time": "2021-12-11T10:04:00.264Z"
   },
   {
    "duration": 5,
    "start_time": "2021-12-11T10:04:01.312Z"
   },
   {
    "duration": 4,
    "start_time": "2021-12-11T10:04:02.401Z"
   },
   {
    "duration": 24,
    "start_time": "2021-12-11T10:04:06.737Z"
   },
   {
    "duration": 6,
    "start_time": "2021-12-11T10:04:08.097Z"
   },
   {
    "duration": 8,
    "start_time": "2021-12-11T10:04:09.016Z"
   },
   {
    "duration": 6,
    "start_time": "2021-12-11T10:06:24.114Z"
   },
   {
    "duration": 14,
    "start_time": "2021-12-11T10:06:25.345Z"
   },
   {
    "duration": 15,
    "start_time": "2021-12-11T10:07:47.595Z"
   },
   {
    "duration": 21,
    "start_time": "2021-12-11T10:07:49.450Z"
   },
   {
    "duration": 17,
    "start_time": "2021-12-11T10:07:50.474Z"
   },
   {
    "duration": 7,
    "start_time": "2021-12-11T10:09:48.634Z"
   },
   {
    "duration": 23,
    "start_time": "2021-12-11T10:09:51.035Z"
   },
   {
    "duration": 19,
    "start_time": "2021-12-11T10:09:53.923Z"
   },
   {
    "duration": 665,
    "start_time": "2021-12-11T10:09:57.027Z"
   },
   {
    "duration": 4,
    "start_time": "2021-12-11T10:10:05.803Z"
   },
   {
    "duration": 4,
    "start_time": "2021-12-11T10:26:15.264Z"
   },
   {
    "duration": 234,
    "start_time": "2021-12-11T10:26:16.889Z"
   },
   {
    "duration": 16,
    "start_time": "2021-12-11T10:26:18.656Z"
   },
   {
    "duration": 19,
    "start_time": "2021-12-11T10:26:23.512Z"
   },
   {
    "duration": 3,
    "start_time": "2021-12-11T10:26:34.201Z"
   },
   {
    "duration": 232,
    "start_time": "2021-12-11T10:26:35.328Z"
   },
   {
    "duration": 15,
    "start_time": "2021-12-11T10:26:36.960Z"
   },
   {
    "duration": 7,
    "start_time": "2021-12-11T10:26:39.481Z"
   },
   {
    "duration": 7,
    "start_time": "2021-12-11T10:26:43.568Z"
   },
   {
    "duration": 6,
    "start_time": "2021-12-11T10:26:45.384Z"
   },
   {
    "duration": 4,
    "start_time": "2021-12-11T10:26:56.056Z"
   },
   {
    "duration": 230,
    "start_time": "2021-12-11T10:26:57.193Z"
   },
   {
    "duration": 15,
    "start_time": "2021-12-11T10:26:58.809Z"
   },
   {
    "duration": 7,
    "start_time": "2021-12-11T10:27:00.993Z"
   },
   {
    "duration": 22,
    "start_time": "2021-12-11T10:27:45.144Z"
   }
  ],
  "kernelspec": {
   "display_name": "Python 3 (ipykernel)",
   "language": "python",
   "name": "python3"
  },
  "language_info": {
   "codemirror_mode": {
    "name": "ipython",
    "version": 3
   },
   "file_extension": ".py",
   "mimetype": "text/x-python",
   "name": "python",
   "nbconvert_exporter": "python",
   "pygments_lexer": "ipython3",
   "version": "3.9.7"
  },
  "toc": {
   "base_numbering": 1,
   "nav_menu": {},
   "number_sections": true,
   "sideBar": true,
   "skip_h1_title": true,
   "title_cell": "Table of Contents",
   "title_sidebar": "Contents",
   "toc_cell": false,
   "toc_position": {},
   "toc_section_display": true,
   "toc_window_display": true
  }
 },
 "nbformat": 4,
 "nbformat_minor": 2
}
